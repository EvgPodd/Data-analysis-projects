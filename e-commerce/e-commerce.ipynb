{
 "cells": [
  {
   "cell_type": "markdown",
   "metadata": {},
   "source": [
    "# E-commerce — Выявление профилей потребления"
   ]
  },
  {
   "cell_type": "markdown",
   "metadata": {},
   "source": [
    "Интернет-магазин товаров для дома «Пока все ещё тут» ищет новые точки для роста своего бизнеса. Его главная цель - стать лучше и помочь клиентам обустроить дом своей мечты. Для этого необходимо выявить потребности покупателей, а также тщательно проанализировать товарный ассортимент.\n",
    "«Пока все ещё тут» — мы создаём уют!"
   ]
  },
  {
   "cell_type": "markdown",
   "metadata": {
    "toc": true
   },
   "source": [
    "<h1>Содержание<span class=\"tocSkip\"></span></h1>\n",
    "<div class=\"toc\"><ul class=\"toc-item\"><li><span><a href=\"#Цели-и-задачи\" data-toc-modified-id=\"Цели-и-задачи-1\"><span class=\"toc-item-num\">1&nbsp;&nbsp;</span>Цели и задачи</a></span></li><li><span><a href=\"#Исходные-данные\" data-toc-modified-id=\"Исходные-данные-2\"><span class=\"toc-item-num\">2&nbsp;&nbsp;</span>Исходные данные</a></span></li><li><span><a href=\"#Предобработка-данных\" data-toc-modified-id=\"Предобработка-данных-3\"><span class=\"toc-item-num\">3&nbsp;&nbsp;</span>Предобработка данных</a></span></li><li><span><a href=\"#Исследовательский-анализ-данных-(EDA)\" data-toc-modified-id=\"Исследовательский-анализ-данных-(EDA)-4\"><span class=\"toc-item-num\">4&nbsp;&nbsp;</span>Исследовательский анализ данных (EDA)</a></span><ul class=\"toc-item\"><li><span><a href=\"#Оценка-общих-показателей-за-весь-период\" data-toc-modified-id=\"Оценка-общих-показателей-за-весь-период-4.1\"><span class=\"toc-item-num\">4.1&nbsp;&nbsp;</span>Оценка общих показателей за весь период</a></span></li><li><span><a href=\"#Оценка-показателей-по-месяцам\" data-toc-modified-id=\"Оценка-показателей-по-месяцам-4.2\"><span class=\"toc-item-num\">4.2&nbsp;&nbsp;</span>Оценка показателей по месяцам</a></span></li><li><span><a href=\"#Категоризация-товаров-в-таблице\" data-toc-modified-id=\"Категоризация-товаров-в-таблице-4.3\"><span class=\"toc-item-num\">4.3&nbsp;&nbsp;</span>Категоризация товаров в таблице</a></span></li><li><span><a href=\"#Выявление-сезонных-товаров\" data-toc-modified-id=\"Выявление-сезонных-товаров-4.4\"><span class=\"toc-item-num\">4.4&nbsp;&nbsp;</span>Выявление сезонных товаров</a></span></li></ul></li><li><span><a href=\"#Сегментация-покупателей-на-основе-истории-их-покупок\" data-toc-modified-id=\"Сегментация-покупателей-на-основе-истории-их-покупок-5\"><span class=\"toc-item-num\">5&nbsp;&nbsp;</span>Сегментация покупателей на основе истории их покупок</a></span><ul class=\"toc-item\"><li><span><a href=\"#1.-Сегментация-по-общим-параметрам-покупок\" data-toc-modified-id=\"1.-Сегментация-по-общим-параметрам-покупок-5.1\"><span class=\"toc-item-num\">5.1&nbsp;&nbsp;</span>1. Сегментация по общим параметрам покупок</a></span></li><li><span><a href=\"#2.-Сегментация-по-товарным-категориям\" data-toc-modified-id=\"2.-Сегментация-по-товарным-категориям-5.2\"><span class=\"toc-item-num\">5.2&nbsp;&nbsp;</span>2. Сегментация по товарным категориям</a></span></li></ul></li><li><span><a href=\"#Проверка-статистических-гипотез\" data-toc-modified-id=\"Проверка-статистических-гипотез-6\"><span class=\"toc-item-num\">6&nbsp;&nbsp;</span>Проверка статистических гипотез</a></span><ul class=\"toc-item\"><li><span><a href=\"#1.-Гипотеза-о-различии-в-среднем-чеке-для-разных-кластеров\" data-toc-modified-id=\"1.-Гипотеза-о-различии-в-среднем-чеке-для-разных-кластеров-6.1\"><span class=\"toc-item-num\">6.1&nbsp;&nbsp;</span>1. Гипотеза о различии в среднем чеке для разных кластеров</a></span></li><li><span><a href=\"#2.-Гипотеза-о-средней-сумме-заказов-в-октябре\" data-toc-modified-id=\"2.-Гипотеза-о-средней-сумме-заказов-в-октябре-6.2\"><span class=\"toc-item-num\">6.2&nbsp;&nbsp;</span>2. Гипотеза о средней сумме заказов в октябре</a></span></li></ul></li><li><span><a href=\"#Выводы-и-рекомендации\" data-toc-modified-id=\"Выводы-и-рекомендации-7\"><span class=\"toc-item-num\">7&nbsp;&nbsp;</span>Выводы и рекомендации</a></span></li></ul></div>"
   ]
  },
  {
   "cell_type": "markdown",
   "metadata": {},
   "source": [
    "## Цели и задачи"
   ]
  },
  {
   "cell_type": "markdown",
   "metadata": {},
   "source": [
    "Цель: Повышение эффективности бизнеса и увеличение продаж, за счет разработки более персонализированных предложений для покупателей\n",
    "\n",
    "Задачи:\n",
    "\n",
    "    • Исследовательский анализ данных\n",
    "    • Сегментация покупателей по профилю потребления"
   ]
  },
  {
   "cell_type": "markdown",
   "metadata": {},
   "source": [
    "## Исходные данные"
   ]
  },
  {
   "cell_type": "markdown",
   "metadata": {},
   "source": [
    "Датасет описывает транзакции интернет-магазина товаров для дома. Согласно описанию данных мы имеем следующие поля:\n",
    "\n",
    "- `date` — дата заказа;\n",
    "- `customer_id` — идентификатор покупателя;\n",
    "- `order_id` — идентификатор заказа;\n",
    "- `product` — наименование товара;\n",
    "- `quantity` — количество товара в заказе;\n",
    "- `price` — цена товара."
   ]
  },
  {
   "cell_type": "markdown",
   "metadata": {},
   "source": [
    "## Предобработка данных\n"
   ]
  },
  {
   "cell_type": "markdown",
   "metadata": {},
   "source": [
    "Импортируем все необходимые библиотеки. Загрузим имеющийся файл и откроем его\n"
   ]
  },
  {
   "cell_type": "code",
   "execution_count": 1,
   "metadata": {},
   "outputs": [],
   "source": [
    "import pandas as pd\n",
    "import seaborn as sns\n",
    "import matplotlib.pyplot as plt\n",
    "import numpy as np\n",
    "from scipy import stats as st\n",
    "\n",
    "from sklearn.preprocessing import StandardScaler\n",
    "from scipy.cluster.hierarchy import dendrogram, linkage\n",
    "from sklearn.cluster import KMeans\n"
   ]
  },
  {
   "cell_type": "code",
   "execution_count": 2,
   "metadata": {
    "scrolled": true
   },
   "outputs": [],
   "source": [
    "try:\n",
    "    data = pd.read_csv('ecommerce_dataset.csv')\n",
    "except FileNotFoundError:\n",
    "    data = pd.read_csv('https://code.s3.yandex.net/datasets/ecommerce_dataset.csv')\n"
   ]
  },
  {
   "cell_type": "code",
   "execution_count": 3,
   "metadata": {
    "scrolled": true
   },
   "outputs": [
    {
     "name": "stdout",
     "output_type": "stream",
     "text": [
      "<class 'pandas.core.frame.DataFrame'>\n",
      "RangeIndex: 6737 entries, 0 to 6736\n",
      "Data columns (total 6 columns):\n",
      " #   Column       Non-Null Count  Dtype  \n",
      "---  ------       --------------  -----  \n",
      " 0   date         6737 non-null   int64  \n",
      " 1   customer_id  6737 non-null   object \n",
      " 2   order_id     6737 non-null   int64  \n",
      " 3   product      6737 non-null   object \n",
      " 4   quantity     6737 non-null   int64  \n",
      " 5   price        6737 non-null   float64\n",
      "dtypes: float64(1), int64(3), object(2)\n",
      "memory usage: 315.9+ KB\n"
     ]
    }
   ],
   "source": [
    "data.info()"
   ]
  },
  {
   "cell_type": "code",
   "execution_count": 4,
   "metadata": {},
   "outputs": [
    {
     "data": {
      "text/plain": [
       "0"
      ]
     },
     "execution_count": 4,
     "metadata": {},
     "output_type": "execute_result"
    }
   ],
   "source": [
    "data.duplicated().sum()"
   ]
  },
  {
   "cell_type": "code",
   "execution_count": 5,
   "metadata": {
    "scrolled": false
   },
   "outputs": [
    {
     "data": {
      "text/html": [
       "<div>\n",
       "<style scoped>\n",
       "    .dataframe tbody tr th:only-of-type {\n",
       "        vertical-align: middle;\n",
       "    }\n",
       "\n",
       "    .dataframe tbody tr th {\n",
       "        vertical-align: top;\n",
       "    }\n",
       "\n",
       "    .dataframe thead th {\n",
       "        text-align: right;\n",
       "    }\n",
       "</style>\n",
       "<table border=\"1\" class=\"dataframe\">\n",
       "  <thead>\n",
       "    <tr style=\"text-align: right;\">\n",
       "      <th></th>\n",
       "      <th>date</th>\n",
       "      <th>customer_id</th>\n",
       "      <th>order_id</th>\n",
       "      <th>product</th>\n",
       "      <th>quantity</th>\n",
       "      <th>price</th>\n",
       "    </tr>\n",
       "  </thead>\n",
       "  <tbody>\n",
       "    <tr>\n",
       "      <th>0</th>\n",
       "      <td>2018100100</td>\n",
       "      <td>ee47d746-6d2f-4d3c-9622-c31412542920</td>\n",
       "      <td>68477</td>\n",
       "      <td>Комнатное растение в горшке Алое Вера, d12, h30</td>\n",
       "      <td>1</td>\n",
       "      <td>142.0</td>\n",
       "    </tr>\n",
       "    <tr>\n",
       "      <th>1</th>\n",
       "      <td>2018100100</td>\n",
       "      <td>ee47d746-6d2f-4d3c-9622-c31412542920</td>\n",
       "      <td>68477</td>\n",
       "      <td>Комнатное растение в горшке Кофе Арабика, d12,...</td>\n",
       "      <td>1</td>\n",
       "      <td>194.0</td>\n",
       "    </tr>\n",
       "    <tr>\n",
       "      <th>2</th>\n",
       "      <td>2018100100</td>\n",
       "      <td>ee47d746-6d2f-4d3c-9622-c31412542920</td>\n",
       "      <td>68477</td>\n",
       "      <td>Радермахера d-12 см h-20 см</td>\n",
       "      <td>1</td>\n",
       "      <td>112.0</td>\n",
       "    </tr>\n",
       "    <tr>\n",
       "      <th>3</th>\n",
       "      <td>2018100100</td>\n",
       "      <td>ee47d746-6d2f-4d3c-9622-c31412542920</td>\n",
       "      <td>68477</td>\n",
       "      <td>Хризолидокарпус Лутесценс d-9 см</td>\n",
       "      <td>1</td>\n",
       "      <td>179.0</td>\n",
       "    </tr>\n",
       "    <tr>\n",
       "      <th>4</th>\n",
       "      <td>2018100100</td>\n",
       "      <td>ee47d746-6d2f-4d3c-9622-c31412542920</td>\n",
       "      <td>68477</td>\n",
       "      <td>Циперус Зумула d-12 см h-25 см</td>\n",
       "      <td>1</td>\n",
       "      <td>112.0</td>\n",
       "    </tr>\n",
       "  </tbody>\n",
       "</table>\n",
       "</div>"
      ],
      "text/plain": [
       "         date                           customer_id  order_id  \\\n",
       "0  2018100100  ee47d746-6d2f-4d3c-9622-c31412542920     68477   \n",
       "1  2018100100  ee47d746-6d2f-4d3c-9622-c31412542920     68477   \n",
       "2  2018100100  ee47d746-6d2f-4d3c-9622-c31412542920     68477   \n",
       "3  2018100100  ee47d746-6d2f-4d3c-9622-c31412542920     68477   \n",
       "4  2018100100  ee47d746-6d2f-4d3c-9622-c31412542920     68477   \n",
       "\n",
       "                                             product  quantity  price  \n",
       "0    Комнатное растение в горшке Алое Вера, d12, h30         1  142.0  \n",
       "1  Комнатное растение в горшке Кофе Арабика, d12,...         1  194.0  \n",
       "2                        Радермахера d-12 см h-20 см         1  112.0  \n",
       "3                   Хризолидокарпус Лутесценс d-9 см         1  179.0  \n",
       "4                     Циперус Зумула d-12 см h-25 см         1  112.0  "
      ]
     },
     "execution_count": 5,
     "metadata": {},
     "output_type": "execute_result"
    }
   ],
   "source": [
    "data.head()"
   ]
  },
  {
   "cell_type": "markdown",
   "metadata": {},
   "source": [
    "Мы имеем датасет, в котором 6737 записей, явных пропусков и дубликатов в нем нет. Столбцы названы понятно и оформлены в snake_case. \n",
    "\n",
    "Рассмотрим таблицу повнимательнее. Поле date выглядит странно. Оно представлен в формате int - его явно необходимо перевести в datetime. Помимо даты в нем указаны в конце две цифры. Чтобы разобраться, что они означают, вытащим их в отдельный столбец и переведем в int, а оставшуюся часть даты выделим атрибутом date."
   ]
  },
  {
   "cell_type": "code",
   "execution_count": 6,
   "metadata": {},
   "outputs": [
    {
     "data": {
      "text/plain": [
       "0      82\n",
       "1      44\n",
       "2      21\n",
       "3      10\n",
       "4      28\n",
       "5      40\n",
       "6      73\n",
       "7     162\n",
       "8     416\n",
       "9     517\n",
       "10    487\n",
       "11    475\n",
       "12    394\n",
       "13    569\n",
       "14    457\n",
       "15    378\n",
       "16    455\n",
       "17    396\n",
       "18    276\n",
       "19    374\n",
       "20    305\n",
       "21    287\n",
       "22    376\n",
       "23    115\n",
       "Name: num, dtype: int64"
      ]
     },
     "execution_count": 6,
     "metadata": {},
     "output_type": "execute_result"
    }
   ],
   "source": [
    "data['num'] = data['date'].apply(lambda x: str(x)[-2:]).astype('int')\n",
    "data['date'] = pd.to_datetime(data['date'], format='%Y%m%d%H').dt.date\n",
    "data['num'].value_counts().sort_index()"
   ]
  },
  {
   "cell_type": "markdown",
   "metadata": {},
   "source": [
    "Посмотрим на гистограмму распределения значений в стобце с неизвестными цифрами."
   ]
  },
  {
   "cell_type": "code",
   "execution_count": 7,
   "metadata": {},
   "outputs": [
    {
     "data": {
      "image/png": "[encoded data removed]",
      "text/plain": [
       "<Figure size 432x288 with 1 Axes>"
      ]
     },
     "metadata": {
      "needs_background": "light"
     },
     "output_type": "display_data"
    }
   ],
   "source": [
    "data['num'].value_counts().sort_index().plot(kind='bar')\n",
    "plt.show()"
   ]
  },
  {
   "cell_type": "markdown",
   "metadata": {},
   "source": [
    "Значения от 00 до 23, при этом с 23 до 07 встречаются редко - похоже эта цифра обозначает час совершения заказа. Переименуем столбец. "
   ]
  },
  {
   "cell_type": "code",
   "execution_count": 8,
   "metadata": {},
   "outputs": [],
   "source": [
    "data = data.rename(columns={'num': 'hour'})\n"
   ]
  },
  {
   "cell_type": "markdown",
   "metadata": {},
   "source": [
    "Возникает вопрос, зачем в таблицу была добавлена эта информация. Вряд ли это было сделано просто так. Если бы хотели зафиксировать точное время заказа - система бы запоминала не только час, но еще и минуты и секунды. Логично предположить, что человек совершает один заказ лишь однажды - т.е. возможно всего одно значение для поля \"час\". Зачем он тогда нужен? Попробуем исключить это поле и снова поискать дубликаты."
   ]
  },
  {
   "cell_type": "code",
   "execution_count": 9,
   "metadata": {},
   "outputs": [
    {
     "data": {
      "text/plain": [
       "966"
      ]
     },
     "execution_count": 9,
     "metadata": {},
     "output_type": "execute_result"
    }
   ],
   "source": [
    "data[[x for x in data.columns if x not in ['hour']]].duplicated().sum()"
   ]
  },
  {
   "cell_type": "markdown",
   "metadata": {},
   "source": [
    "Рассмотрим эти записи повнимательнее."
   ]
  },
  {
   "cell_type": "code",
   "execution_count": 10,
   "metadata": {
    "scrolled": false
   },
   "outputs": [
    {
     "data": {
      "text/html": [
       "<div>\n",
       "<style scoped>\n",
       "    .dataframe tbody tr th:only-of-type {\n",
       "        vertical-align: middle;\n",
       "    }\n",
       "\n",
       "    .dataframe tbody tr th {\n",
       "        vertical-align: top;\n",
       "    }\n",
       "\n",
       "    .dataframe thead th {\n",
       "        text-align: right;\n",
       "    }\n",
       "</style>\n",
       "<table border=\"1\" class=\"dataframe\">\n",
       "  <thead>\n",
       "    <tr style=\"text-align: right;\">\n",
       "      <th></th>\n",
       "      <th>date</th>\n",
       "      <th>customer_id</th>\n",
       "      <th>order_id</th>\n",
       "      <th>product</th>\n",
       "      <th>quantity</th>\n",
       "      <th>price</th>\n",
       "      <th>hour</th>\n",
       "    </tr>\n",
       "  </thead>\n",
       "  <tbody>\n",
       "    <tr>\n",
       "      <th>59</th>\n",
       "      <td>2018-10-02</td>\n",
       "      <td>b731df05-98fa-4610-8496-716ec530a02c</td>\n",
       "      <td>68474</td>\n",
       "      <td>Доска гладильная Eurogold Professional 130х48 ...</td>\n",
       "      <td>1</td>\n",
       "      <td>3299.0</td>\n",
       "      <td>19</td>\n",
       "    </tr>\n",
       "    <tr>\n",
       "      <th>60</th>\n",
       "      <td>2018-10-02</td>\n",
       "      <td>b731df05-98fa-4610-8496-716ec530a02c</td>\n",
       "      <td>68474</td>\n",
       "      <td>Доска гладильная Eurogold Professional 130х48 ...</td>\n",
       "      <td>1</td>\n",
       "      <td>3299.0</td>\n",
       "      <td>20</td>\n",
       "    </tr>\n",
       "    <tr>\n",
       "      <th>94</th>\n",
       "      <td>2018-10-04</td>\n",
       "      <td>32de7df8-8d4f-4c84-a7b9-c41d00dd83ba</td>\n",
       "      <td>68522</td>\n",
       "      <td>Эвкалипт Гунни d-17 см h-60 см</td>\n",
       "      <td>1</td>\n",
       "      <td>1409.0</td>\n",
       "      <td>13</td>\n",
       "    </tr>\n",
       "    <tr>\n",
       "      <th>126</th>\n",
       "      <td>2018-10-07</td>\n",
       "      <td>ce0e0c29-8c8b-4714-84bd-80957224d4cf</td>\n",
       "      <td>68557</td>\n",
       "      <td>Сумка-тележка хозяйственная Gimi Market синяя</td>\n",
       "      <td>1</td>\n",
       "      <td>1874.0</td>\n",
       "      <td>17</td>\n",
       "    </tr>\n",
       "    <tr>\n",
       "      <th>147</th>\n",
       "      <td>2018-10-08</td>\n",
       "      <td>3de09660-90bc-4a28-aaf1-34c8435fe59c</td>\n",
       "      <td>68574</td>\n",
       "      <td>Таз пластмассовый 15,0 л пищевой овальный \"Ekk...</td>\n",
       "      <td>1</td>\n",
       "      <td>209.0</td>\n",
       "      <td>19</td>\n",
       "    </tr>\n",
       "    <tr>\n",
       "      <th>148</th>\n",
       "      <td>2018-10-08</td>\n",
       "      <td>3de09660-90bc-4a28-aaf1-34c8435fe59c</td>\n",
       "      <td>68574</td>\n",
       "      <td>Таз пластмассовый 18,0 л пищевой (Иж), 1404047</td>\n",
       "      <td>1</td>\n",
       "      <td>194.0</td>\n",
       "      <td>19</td>\n",
       "    </tr>\n",
       "    <tr>\n",
       "      <th>149</th>\n",
       "      <td>2018-10-08</td>\n",
       "      <td>3de09660-90bc-4a28-aaf1-34c8435fe59c</td>\n",
       "      <td>68574</td>\n",
       "      <td>Таз пластмассовый 20,0 л пищевой (Минеральные ...</td>\n",
       "      <td>1</td>\n",
       "      <td>277.0</td>\n",
       "      <td>19</td>\n",
       "    </tr>\n",
       "    <tr>\n",
       "      <th>150</th>\n",
       "      <td>2018-10-08</td>\n",
       "      <td>3de09660-90bc-4a28-aaf1-34c8435fe59c</td>\n",
       "      <td>68574</td>\n",
       "      <td>Таз пластмассовый 24,0 л пищевой круглый (Иж),...</td>\n",
       "      <td>1</td>\n",
       "      <td>239.0</td>\n",
       "      <td>19</td>\n",
       "    </tr>\n",
       "    <tr>\n",
       "      <th>281</th>\n",
       "      <td>2018-10-17</td>\n",
       "      <td>4d93d3f6-8b24-403b-a74b-f5173e40d7db</td>\n",
       "      <td>68668</td>\n",
       "      <td>Щетка для посуды *Мила* SV3182 1807009</td>\n",
       "      <td>50</td>\n",
       "      <td>27.0</td>\n",
       "      <td>13</td>\n",
       "    </tr>\n",
       "    <tr>\n",
       "      <th>282</th>\n",
       "      <td>2018-10-17</td>\n",
       "      <td>4d93d3f6-8b24-403b-a74b-f5173e40d7db</td>\n",
       "      <td>68668</td>\n",
       "      <td>Щетка-утюжок с ручкой Миди, Standart, York, G1126</td>\n",
       "      <td>50</td>\n",
       "      <td>44.0</td>\n",
       "      <td>13</td>\n",
       "    </tr>\n",
       "    <tr>\n",
       "      <th>491</th>\n",
       "      <td>2018-10-28</td>\n",
       "      <td>3ee43256-af7d-4036-90d4-eeefa1afc767</td>\n",
       "      <td>14500</td>\n",
       "      <td>Многолетнее растение Душица-орегано розовый об...</td>\n",
       "      <td>1</td>\n",
       "      <td>89.0</td>\n",
       "      <td>9</td>\n",
       "    </tr>\n",
       "    <tr>\n",
       "      <th>492</th>\n",
       "      <td>2018-10-28</td>\n",
       "      <td>3ee43256-af7d-4036-90d4-eeefa1afc767</td>\n",
       "      <td>14500</td>\n",
       "      <td>Многолетнее растение Тимьян-чабрец розовый объ...</td>\n",
       "      <td>1</td>\n",
       "      <td>89.0</td>\n",
       "      <td>9</td>\n",
       "    </tr>\n",
       "    <tr>\n",
       "      <th>493</th>\n",
       "      <td>2018-10-28</td>\n",
       "      <td>3ee43256-af7d-4036-90d4-eeefa1afc767</td>\n",
       "      <td>14500</td>\n",
       "      <td>Пеларгония зональная диам. 12 см белая полумах...</td>\n",
       "      <td>1</td>\n",
       "      <td>188.0</td>\n",
       "      <td>9</td>\n",
       "    </tr>\n",
       "    <tr>\n",
       "      <th>494</th>\n",
       "      <td>2018-10-28</td>\n",
       "      <td>3ee43256-af7d-4036-90d4-eeefa1afc767</td>\n",
       "      <td>14500</td>\n",
       "      <td>Пеларгония зональная диам. 12 см розовая с мал...</td>\n",
       "      <td>1</td>\n",
       "      <td>188.0</td>\n",
       "      <td>9</td>\n",
       "    </tr>\n",
       "    <tr>\n",
       "      <th>495</th>\n",
       "      <td>2018-10-28</td>\n",
       "      <td>3ee43256-af7d-4036-90d4-eeefa1afc767</td>\n",
       "      <td>14500</td>\n",
       "      <td>Пеларгония зональная диам. 12 см сиреневый пол...</td>\n",
       "      <td>1</td>\n",
       "      <td>188.0</td>\n",
       "      <td>9</td>\n",
       "    </tr>\n",
       "    <tr>\n",
       "      <th>496</th>\n",
       "      <td>2018-10-28</td>\n",
       "      <td>3ee43256-af7d-4036-90d4-eeefa1afc767</td>\n",
       "      <td>14500</td>\n",
       "      <td>Пеларгония зональная диам. 12 см ярко красная ...</td>\n",
       "      <td>1</td>\n",
       "      <td>188.0</td>\n",
       "      <td>9</td>\n",
       "    </tr>\n",
       "    <tr>\n",
       "      <th>497</th>\n",
       "      <td>2018-10-28</td>\n",
       "      <td>3ee43256-af7d-4036-90d4-eeefa1afc767</td>\n",
       "      <td>14500</td>\n",
       "      <td>Рассада зелени для кухни Базилик Арарат, кассе...</td>\n",
       "      <td>1</td>\n",
       "      <td>169.0</td>\n",
       "      <td>9</td>\n",
       "    </tr>\n",
       "    <tr>\n",
       "      <th>498</th>\n",
       "      <td>2018-10-28</td>\n",
       "      <td>3ee43256-af7d-4036-90d4-eeefa1afc767</td>\n",
       "      <td>14500</td>\n",
       "      <td>Рассада зелени для кухни Лаванды в горшке диам...</td>\n",
       "      <td>1</td>\n",
       "      <td>101.0</td>\n",
       "      <td>9</td>\n",
       "    </tr>\n",
       "    <tr>\n",
       "      <th>499</th>\n",
       "      <td>2018-10-28</td>\n",
       "      <td>3ee43256-af7d-4036-90d4-eeefa1afc767</td>\n",
       "      <td>14500</td>\n",
       "      <td>Рассада зелени для кухни Розмарина в кассете п...</td>\n",
       "      <td>1</td>\n",
       "      <td>210.0</td>\n",
       "      <td>9</td>\n",
       "    </tr>\n",
       "    <tr>\n",
       "      <th>554</th>\n",
       "      <td>2018-10-31</td>\n",
       "      <td>3ee43256-af7d-4036-90d4-eeefa1afc767</td>\n",
       "      <td>14500</td>\n",
       "      <td>Многолетнее растение Душица-орегано розовый об...</td>\n",
       "      <td>1</td>\n",
       "      <td>89.0</td>\n",
       "      <td>13</td>\n",
       "    </tr>\n",
       "  </tbody>\n",
       "</table>\n",
       "</div>"
      ],
      "text/plain": [
       "           date                           customer_id  order_id  \\\n",
       "59   2018-10-02  b731df05-98fa-4610-8496-716ec530a02c     68474   \n",
       "60   2018-10-02  b731df05-98fa-4610-8496-716ec530a02c     68474   \n",
       "94   2018-10-04  32de7df8-8d4f-4c84-a7b9-c41d00dd83ba     68522   \n",
       "126  2018-10-07  ce0e0c29-8c8b-4714-84bd-80957224d4cf     68557   \n",
       "147  2018-10-08  3de09660-90bc-4a28-aaf1-34c8435fe59c     68574   \n",
       "148  2018-10-08  3de09660-90bc-4a28-aaf1-34c8435fe59c     68574   \n",
       "149  2018-10-08  3de09660-90bc-4a28-aaf1-34c8435fe59c     68574   \n",
       "150  2018-10-08  3de09660-90bc-4a28-aaf1-34c8435fe59c     68574   \n",
       "281  2018-10-17  4d93d3f6-8b24-403b-a74b-f5173e40d7db     68668   \n",
       "282  2018-10-17  4d93d3f6-8b24-403b-a74b-f5173e40d7db     68668   \n",
       "491  2018-10-28  3ee43256-af7d-4036-90d4-eeefa1afc767     14500   \n",
       "492  2018-10-28  3ee43256-af7d-4036-90d4-eeefa1afc767     14500   \n",
       "493  2018-10-28  3ee43256-af7d-4036-90d4-eeefa1afc767     14500   \n",
       "494  2018-10-28  3ee43256-af7d-4036-90d4-eeefa1afc767     14500   \n",
       "495  2018-10-28  3ee43256-af7d-4036-90d4-eeefa1afc767     14500   \n",
       "496  2018-10-28  3ee43256-af7d-4036-90d4-eeefa1afc767     14500   \n",
       "497  2018-10-28  3ee43256-af7d-4036-90d4-eeefa1afc767     14500   \n",
       "498  2018-10-28  3ee43256-af7d-4036-90d4-eeefa1afc767     14500   \n",
       "499  2018-10-28  3ee43256-af7d-4036-90d4-eeefa1afc767     14500   \n",
       "554  2018-10-31  3ee43256-af7d-4036-90d4-eeefa1afc767     14500   \n",
       "\n",
       "                                               product  quantity   price  hour  \n",
       "59   Доска гладильная Eurogold Professional 130х48 ...         1  3299.0    19  \n",
       "60   Доска гладильная Eurogold Professional 130х48 ...         1  3299.0    20  \n",
       "94                      Эвкалипт Гунни d-17 см h-60 см         1  1409.0    13  \n",
       "126      Сумка-тележка хозяйственная Gimi Market синяя         1  1874.0    17  \n",
       "147  Таз пластмассовый 15,0 л пищевой овальный \"Ekk...         1   209.0    19  \n",
       "148     Таз пластмассовый 18,0 л пищевой (Иж), 1404047         1   194.0    19  \n",
       "149  Таз пластмассовый 20,0 л пищевой (Минеральные ...         1   277.0    19  \n",
       "150  Таз пластмассовый 24,0 л пищевой круглый (Иж),...         1   239.0    19  \n",
       "281             Щетка для посуды *Мила* SV3182 1807009        50    27.0    13  \n",
       "282  Щетка-утюжок с ручкой Миди, Standart, York, G1126        50    44.0    13  \n",
       "491  Многолетнее растение Душица-орегано розовый об...         1    89.0     9  \n",
       "492  Многолетнее растение Тимьян-чабрец розовый объ...         1    89.0     9  \n",
       "493  Пеларгония зональная диам. 12 см белая полумах...         1   188.0     9  \n",
       "494  Пеларгония зональная диам. 12 см розовая с мал...         1   188.0     9  \n",
       "495  Пеларгония зональная диам. 12 см сиреневый пол...         1   188.0     9  \n",
       "496  Пеларгония зональная диам. 12 см ярко красная ...         1   188.0     9  \n",
       "497  Рассада зелени для кухни Базилик Арарат, кассе...         1   169.0     9  \n",
       "498  Рассада зелени для кухни Лаванды в горшке диам...         1   101.0     9  \n",
       "499  Рассада зелени для кухни Розмарина в кассете п...         1   210.0     9  \n",
       "554  Многолетнее растение Душица-орегано розовый об...         1    89.0    13  "
      ]
     },
     "execution_count": 10,
     "metadata": {},
     "output_type": "execute_result"
    }
   ],
   "source": [
    "data[data[[x for x in data.columns if x != 'hour']].duplicated() == True].head(20)"
   ]
  },
  {
   "cell_type": "code",
   "execution_count": 11,
   "metadata": {},
   "outputs": [
    {
     "data": {
      "text/html": [
       "<div>\n",
       "<style scoped>\n",
       "    .dataframe tbody tr th:only-of-type {\n",
       "        vertical-align: middle;\n",
       "    }\n",
       "\n",
       "    .dataframe tbody tr th {\n",
       "        vertical-align: top;\n",
       "    }\n",
       "\n",
       "    .dataframe thead th {\n",
       "        text-align: right;\n",
       "    }\n",
       "</style>\n",
       "<table border=\"1\" class=\"dataframe\">\n",
       "  <thead>\n",
       "    <tr style=\"text-align: right;\">\n",
       "      <th></th>\n",
       "      <th>date</th>\n",
       "      <th>customer_id</th>\n",
       "      <th>order_id</th>\n",
       "      <th>product</th>\n",
       "      <th>quantity</th>\n",
       "      <th>price</th>\n",
       "      <th>hour</th>\n",
       "    </tr>\n",
       "  </thead>\n",
       "  <tbody>\n",
       "    <tr>\n",
       "      <th>19</th>\n",
       "      <td>2018-10-01</td>\n",
       "      <td>b731df05-98fa-4610-8496-716ec530a02c</td>\n",
       "      <td>68474</td>\n",
       "      <td>Доска гладильная Eurogold Professional 130х48 ...</td>\n",
       "      <td>1</td>\n",
       "      <td>3299.0</td>\n",
       "      <td>21</td>\n",
       "    </tr>\n",
       "    <tr>\n",
       "      <th>58</th>\n",
       "      <td>2018-10-02</td>\n",
       "      <td>b731df05-98fa-4610-8496-716ec530a02c</td>\n",
       "      <td>68474</td>\n",
       "      <td>Доска гладильная Eurogold Professional 130х48 ...</td>\n",
       "      <td>1</td>\n",
       "      <td>3299.0</td>\n",
       "      <td>18</td>\n",
       "    </tr>\n",
       "    <tr>\n",
       "      <th>59</th>\n",
       "      <td>2018-10-02</td>\n",
       "      <td>b731df05-98fa-4610-8496-716ec530a02c</td>\n",
       "      <td>68474</td>\n",
       "      <td>Доска гладильная Eurogold Professional 130х48 ...</td>\n",
       "      <td>1</td>\n",
       "      <td>3299.0</td>\n",
       "      <td>19</td>\n",
       "    </tr>\n",
       "    <tr>\n",
       "      <th>60</th>\n",
       "      <td>2018-10-02</td>\n",
       "      <td>b731df05-98fa-4610-8496-716ec530a02c</td>\n",
       "      <td>68474</td>\n",
       "      <td>Доска гладильная Eurogold Professional 130х48 ...</td>\n",
       "      <td>1</td>\n",
       "      <td>3299.0</td>\n",
       "      <td>20</td>\n",
       "    </tr>\n",
       "    <tr>\n",
       "      <th>63</th>\n",
       "      <td>2018-10-03</td>\n",
       "      <td>b731df05-98fa-4610-8496-716ec530a02c</td>\n",
       "      <td>68474</td>\n",
       "      <td>Доска гладильная Eurogold Professional 130х48 ...</td>\n",
       "      <td>1</td>\n",
       "      <td>3299.0</td>\n",
       "      <td>4</td>\n",
       "    </tr>\n",
       "  </tbody>\n",
       "</table>\n",
       "</div>"
      ],
      "text/plain": [
       "          date                           customer_id  order_id  \\\n",
       "19  2018-10-01  b731df05-98fa-4610-8496-716ec530a02c     68474   \n",
       "58  2018-10-02  b731df05-98fa-4610-8496-716ec530a02c     68474   \n",
       "59  2018-10-02  b731df05-98fa-4610-8496-716ec530a02c     68474   \n",
       "60  2018-10-02  b731df05-98fa-4610-8496-716ec530a02c     68474   \n",
       "63  2018-10-03  b731df05-98fa-4610-8496-716ec530a02c     68474   \n",
       "\n",
       "                                              product  quantity   price  hour  \n",
       "19  Доска гладильная Eurogold Professional 130х48 ...         1  3299.0    21  \n",
       "58  Доска гладильная Eurogold Professional 130х48 ...         1  3299.0    18  \n",
       "59  Доска гладильная Eurogold Professional 130х48 ...         1  3299.0    19  \n",
       "60  Доска гладильная Eurogold Professional 130х48 ...         1  3299.0    20  \n",
       "63  Доска гладильная Eurogold Professional 130х48 ...         1  3299.0     4  "
      ]
     },
     "execution_count": 11,
     "metadata": {},
     "output_type": "execute_result"
    }
   ],
   "source": [
    "data[data['order_id'] == 68474]"
   ]
  },
  {
   "cell_type": "markdown",
   "metadata": {},
   "source": [
    "Таких дубликатов оказалось довольно много. Если вчитаться в таблицу с дубликатами, можно заметить, что одни и те же заказы повторяются в разное время в течение нескольких дней. \n",
    "\n",
    "Конечно, можно предположить, что человек через час после заказа гладильной доски подумал \"Ух, какая скидка! Возьму еще маме\", а потом еще и бабушке и всем сестрам:) \n",
    "\n",
    "Но таких заказов слишком много - больше похоже, на техническую ошибку. Одни и те же данные были помещены в таблицу несколько раз - а значение в поле час как раз означает, когда это произошло. Возможно, кто-то что-то неправильно обновлял и из-за этого возникло то, что мы видим. В любом случае, это нужно исправить. При этом, следует учесть, что дубликаты нужно искать не только исключая \"час\", но и дату, т.к. данные повторно копировались в таблицу в течение нескольких дней."
   ]
  },
  {
   "cell_type": "code",
   "execution_count": 12,
   "metadata": {
    "scrolled": true
   },
   "outputs": [
    {
     "data": {
      "text/plain": [
       "1864"
      ]
     },
     "execution_count": 12,
     "metadata": {},
     "output_type": "execute_result"
    }
   ],
   "source": [
    "data[[x for x in data.columns if x not in ['hour', 'date']]].duplicated().sum()"
   ]
  },
  {
   "cell_type": "markdown",
   "metadata": {},
   "source": [
    "Таких дубликатов почти четверть датасета! Это большая потеря, но от них придется избавиться. Кстати, столбец \"час\" нам вероятно тоже больше не понадобится. Удалим все лишнее."
   ]
  },
  {
   "cell_type": "code",
   "execution_count": 13,
   "metadata": {
    "scrolled": true
   },
   "outputs": [
    {
     "data": {
      "text/html": [
       "<div>\n",
       "<style scoped>\n",
       "    .dataframe tbody tr th:only-of-type {\n",
       "        vertical-align: middle;\n",
       "    }\n",
       "\n",
       "    .dataframe tbody tr th {\n",
       "        vertical-align: top;\n",
       "    }\n",
       "\n",
       "    .dataframe thead th {\n",
       "        text-align: right;\n",
       "    }\n",
       "</style>\n",
       "<table border=\"1\" class=\"dataframe\">\n",
       "  <thead>\n",
       "    <tr style=\"text-align: right;\">\n",
       "      <th></th>\n",
       "      <th>date</th>\n",
       "      <th>customer_id</th>\n",
       "      <th>order_id</th>\n",
       "      <th>product</th>\n",
       "      <th>quantity</th>\n",
       "      <th>price</th>\n",
       "    </tr>\n",
       "  </thead>\n",
       "  <tbody>\n",
       "    <tr>\n",
       "      <th>0</th>\n",
       "      <td>2018-10-01</td>\n",
       "      <td>ee47d746-6d2f-4d3c-9622-c31412542920</td>\n",
       "      <td>68477</td>\n",
       "      <td>Комнатное растение в горшке Алое Вера, d12, h30</td>\n",
       "      <td>1</td>\n",
       "      <td>142.0</td>\n",
       "    </tr>\n",
       "    <tr>\n",
       "      <th>1</th>\n",
       "      <td>2018-10-01</td>\n",
       "      <td>ee47d746-6d2f-4d3c-9622-c31412542920</td>\n",
       "      <td>68477</td>\n",
       "      <td>Комнатное растение в горшке Кофе Арабика, d12,...</td>\n",
       "      <td>1</td>\n",
       "      <td>194.0</td>\n",
       "    </tr>\n",
       "    <tr>\n",
       "      <th>2</th>\n",
       "      <td>2018-10-01</td>\n",
       "      <td>ee47d746-6d2f-4d3c-9622-c31412542920</td>\n",
       "      <td>68477</td>\n",
       "      <td>Радермахера d-12 см h-20 см</td>\n",
       "      <td>1</td>\n",
       "      <td>112.0</td>\n",
       "    </tr>\n",
       "    <tr>\n",
       "      <th>3</th>\n",
       "      <td>2018-10-01</td>\n",
       "      <td>ee47d746-6d2f-4d3c-9622-c31412542920</td>\n",
       "      <td>68477</td>\n",
       "      <td>Хризолидокарпус Лутесценс d-9 см</td>\n",
       "      <td>1</td>\n",
       "      <td>179.0</td>\n",
       "    </tr>\n",
       "    <tr>\n",
       "      <th>4</th>\n",
       "      <td>2018-10-01</td>\n",
       "      <td>ee47d746-6d2f-4d3c-9622-c31412542920</td>\n",
       "      <td>68477</td>\n",
       "      <td>Циперус Зумула d-12 см h-25 см</td>\n",
       "      <td>1</td>\n",
       "      <td>112.0</td>\n",
       "    </tr>\n",
       "  </tbody>\n",
       "</table>\n",
       "</div>"
      ],
      "text/plain": [
       "        date                           customer_id  order_id  \\\n",
       "0 2018-10-01  ee47d746-6d2f-4d3c-9622-c31412542920     68477   \n",
       "1 2018-10-01  ee47d746-6d2f-4d3c-9622-c31412542920     68477   \n",
       "2 2018-10-01  ee47d746-6d2f-4d3c-9622-c31412542920     68477   \n",
       "3 2018-10-01  ee47d746-6d2f-4d3c-9622-c31412542920     68477   \n",
       "4 2018-10-01  ee47d746-6d2f-4d3c-9622-c31412542920     68477   \n",
       "\n",
       "                                             product  quantity  price  \n",
       "0    Комнатное растение в горшке Алое Вера, d12, h30         1  142.0  \n",
       "1  Комнатное растение в горшке Кофе Арабика, d12,...         1  194.0  \n",
       "2                        Радермахера d-12 см h-20 см         1  112.0  \n",
       "3                   Хризолидокарпус Лутесценс d-9 см         1  179.0  \n",
       "4                     Циперус Зумула d-12 см h-25 см         1  112.0  "
      ]
     },
     "execution_count": 13,
     "metadata": {},
     "output_type": "execute_result"
    }
   ],
   "source": [
    "data[[x for x in data.columns if x not in ['hour', 'date']]] = (\n",
    "data[[x for x in data.columns if x not in ['hour', 'date']]].drop_duplicates()\n",
    ")\n",
    "data = data.dropna().drop('hour', axis=1)\n",
    "data['date'] = pd.to_datetime(data['date'])\n",
    "data['order_id'] = data['order_id'].astype('int')\n",
    "data['quantity'] = data['quantity'].astype('int')\n",
    "\n",
    "data.head()"
   ]
  },
  {
   "cell_type": "markdown",
   "metadata": {},
   "source": [
    "Обратим внимание, что в таблице есть два столбца с количеством товара и его ценой. Для удобства работы создадим еще один столбец, куда поместим произведение этих велицин - общую сумму, которую клиент заплатил за все выбранные единицы данного товара."
   ]
  },
  {
   "cell_type": "code",
   "execution_count": 14,
   "metadata": {},
   "outputs": [],
   "source": [
    "data['sum_total'] = data['quantity'] * data['price']"
   ]
  },
  {
   "cell_type": "markdown",
   "metadata": {},
   "source": [
    "Проверим, есть ли заказы, записанные более чем на одного клиента одновременно."
   ]
  },
  {
   "cell_type": "code",
   "execution_count": 15,
   "metadata": {
    "scrolled": true
   },
   "outputs": [
    {
     "data": {
      "text/plain": [
       "order_id\n",
       "12624    2\n",
       "13547    3\n",
       "14480    3\n",
       "14481    4\n",
       "14482    2\n",
       "        ..\n",
       "72576    2\n",
       "72778    2\n",
       "72790    2\n",
       "72845    4\n",
       "72950    2\n",
       "Name: customer_id, Length: 440, dtype: int64"
      ]
     },
     "execution_count": 15,
     "metadata": {},
     "output_type": "execute_result"
    }
   ],
   "source": [
    "data.groupby('order_id')['customer_id'].count()[data.groupby('order_id')['customer_id'].count() > 1]"
   ]
  },
  {
   "cell_type": "markdown",
   "metadata": {},
   "source": [
    "Такие заказы действительно есть, и их довольно много. Однако, они не позволят нам однозначно составить профили пользователей. Удалим их из таблицы"
   ]
  },
  {
   "cell_type": "code",
   "execution_count": 16,
   "metadata": {},
   "outputs": [
    {
     "data": {
      "text/plain": [
       "0    12624\n",
       "1    13547\n",
       "2    14480\n",
       "3    14481\n",
       "4    14482\n",
       "Name: order_id, dtype: int64"
      ]
     },
     "execution_count": 16,
     "metadata": {},
     "output_type": "execute_result"
    }
   ],
   "source": [
    "not_unique_orders = data.groupby('order_id')['customer_id'].count()[data.groupby('order_id')['customer_id'].count() > 1].reset_index()['order_id']\n",
    "not_unique_orders.head()"
   ]
  },
  {
   "cell_type": "code",
   "execution_count": 17,
   "metadata": {},
   "outputs": [],
   "source": [
    "data = data[~data['order_id'].isin(not_unique_orders)]"
   ]
  },
  {
   "cell_type": "code",
   "execution_count": 18,
   "metadata": {
    "scrolled": false
   },
   "outputs": [
    {
     "name": "stdout",
     "output_type": "stream",
     "text": [
      "<class 'pandas.core.frame.DataFrame'>\n",
      "Int64Index: 2344 entries, 7 to 6735\n",
      "Data columns (total 7 columns):\n",
      " #   Column       Non-Null Count  Dtype         \n",
      "---  ------       --------------  -----         \n",
      " 0   date         2344 non-null   datetime64[ns]\n",
      " 1   customer_id  2344 non-null   object        \n",
      " 2   order_id     2344 non-null   int32         \n",
      " 3   product      2344 non-null   object        \n",
      " 4   quantity     2344 non-null   int32         \n",
      " 5   price        2344 non-null   float64       \n",
      " 6   sum_total    2344 non-null   float64       \n",
      "dtypes: datetime64[ns](1), float64(2), int32(2), object(2)\n",
      "memory usage: 128.2+ KB\n"
     ]
    }
   ],
   "source": [
    "data.info()"
   ]
  },
  {
   "cell_type": "markdown",
   "metadata": {},
   "source": [
    "Итак, мы провели предобработку данных и подготовили их к работе - удалили неявные дубликаты, привели столбцы к нужным типам и добавили новый столбец с общей стоимостью всех единиц товара в заказе. В результате технических ошибок больше половины данных в нашем датасете были с ошибками и нам пришлось от них избавиться, но это было необходимо. Перейдем к анализу."
   ]
  },
  {
   "cell_type": "markdown",
   "metadata": {},
   "source": [
    "## Исследовательский анализ данных (EDA)"
   ]
  },
  {
   "cell_type": "markdown",
   "metadata": {},
   "source": [
    "На основе полученных данных, попробуем понять как вообще обстоят дела в интернет-магазине. Чтобы сформировать картину текущей ситации, выделим основные показатели бизнеса и изучим их динамику.\n",
    "\n"
   ]
  },
  {
   "cell_type": "markdown",
   "metadata": {},
   "source": [
    "### Оценка общих показателей за весь период"
   ]
  },
  {
   "cell_type": "markdown",
   "metadata": {},
   "source": [
    "Для начала, выясним, данными за какой период мы располагаем."
   ]
  },
  {
   "cell_type": "code",
   "execution_count": 19,
   "metadata": {},
   "outputs": [
    {
     "data": {
      "text/plain": [
       "(Timestamp('2018-10-01 00:00:00'), Timestamp('2019-10-31 00:00:00'))"
      ]
     },
     "execution_count": 19,
     "metadata": {},
     "output_type": "execute_result"
    }
   ],
   "source": [
    "data['date'].min(), data['date'].max()\n"
   ]
  },
  {
   "cell_type": "markdown",
   "metadata": {},
   "source": [
    "В нашем датасете данные за 13 месяцев - с 1 октября 2018 до 31 октября 2019.\n",
    "\n",
    "Посмотрим, как у нас распределяются суммы покупок за весь период. Для этого построим гистограмму.\n"
   ]
  },
  {
   "cell_type": "code",
   "execution_count": 20,
   "metadata": {
    "scrolled": false
   },
   "outputs": [
    {
     "data": {
      "image/png": "[encoded data removed]",
      "text/plain": [
       "<Figure size 1296x432 with 1 Axes>"
      ]
     },
     "metadata": {
      "needs_background": "light"
     },
     "output_type": "display_data"
    }
   ],
   "source": [
    "fig = plt.figure(figsize=(18, 6))\n",
    "data.groupby('order_id')['sum_total'].sum().plot(kind='hist', bins=200)\n",
    "plt.show()"
   ]
  },
  {
   "cell_type": "code",
   "execution_count": 21,
   "metadata": {
    "scrolled": false
   },
   "outputs": [
    {
     "data": {
      "text/plain": [
       "order_id\n",
       "68878     24370.0\n",
       "69504     32718.0\n",
       "69830     47385.0\n",
       "71668     49432.0\n",
       "71743    675000.0\n",
       "Name: sum_total, dtype: float64"
      ]
     },
     "execution_count": 21,
     "metadata": {},
     "output_type": "execute_result"
    }
   ],
   "source": [
    "data.groupby('order_id')['sum_total'].sum()[data.groupby('order_id')['sum_total'].sum() > 20000]\n"
   ]
  },
  {
   "cell_type": "markdown",
   "metadata": {},
   "source": [
    "Сразу можем обнаружить выброс - заказ на 675 тыс., который смещает нам график. Удалим его из основного датасета и снова посмотрим на гистограмму."
   ]
  },
  {
   "cell_type": "code",
   "execution_count": 22,
   "metadata": {},
   "outputs": [],
   "source": [
    "data = data[~data['order_id'].isin([71743])]\n"
   ]
  },
  {
   "cell_type": "code",
   "execution_count": 23,
   "metadata": {},
   "outputs": [
    {
     "data": {
      "image/png": "[encoded data removed]",
      "text/plain": [
       "<Figure size 1296x432 with 1 Axes>"
      ]
     },
     "metadata": {
      "needs_background": "light"
     },
     "output_type": "display_data"
    }
   ],
   "source": [
    "fig = plt.figure(figsize=(18, 6))\n",
    "data.groupby('order_id')['sum_total'].sum().plot(kind='hist', bins=200)\n",
    "plt.show() "
   ]
  },
  {
   "cell_type": "markdown",
   "metadata": {},
   "source": [
    "Много маленьких заказов, больших - меньше. Тут все нормально - гистограмма описывает типичное поведение покупателей. Однако по графику видно, что большинство заказов в этом магазине не превышают 10 тыс. В наших данных есть аномально крупные заказы, которые могут искажать результаты исследования. \n",
    "\n",
    "Однако, такие заказы и совершившие их клиенты, очень интересны магазину, т.к. приносят хорошую выручку. Они требуют \"индивидуального\" исследования. Сохраним их в отдельном датафрейме, чтобы не потерять, а из основного - исключим.  "
   ]
  },
  {
   "cell_type": "code",
   "execution_count": 24,
   "metadata": {
    "scrolled": true
   },
   "outputs": [
    {
     "name": "stdout",
     "output_type": "stream",
     "text": [
      "<class 'pandas.core.frame.DataFrame'>\n",
      "Int64Index: 13 entries, 661 to 5992\n",
      "Data columns (total 7 columns):\n",
      " #   Column       Non-Null Count  Dtype         \n",
      "---  ------       --------------  -----         \n",
      " 0   date         13 non-null     datetime64[ns]\n",
      " 1   customer_id  13 non-null     object        \n",
      " 2   order_id     13 non-null     int32         \n",
      " 3   product      13 non-null     object        \n",
      " 4   quantity     13 non-null     int32         \n",
      " 5   price        13 non-null     float64       \n",
      " 6   sum_total    13 non-null     float64       \n",
      "dtypes: datetime64[ns](1), float64(2), int32(2), object(2)\n",
      "memory usage: 728.0+ bytes\n"
     ]
    }
   ],
   "source": [
    "big_orders_id = data.groupby('order_id')['sum_total'].sum()[data.groupby('order_id')['sum_total'].sum() > 10000].reset_index()['order_id']\n",
    "big_orders = data[data['order_id'].isin(big_orders_id)]\n",
    "data = data[~data['order_id'].isin(big_orders_id)]\n",
    "big_orders.info()\n"
   ]
  },
  {
   "cell_type": "code",
   "execution_count": 25,
   "metadata": {
    "scrolled": true
   },
   "outputs": [
    {
     "data": {
      "text/plain": [
       "customer_id\n",
       "0d87f4ae-465a-4fac-81e6-5d629761783e    1\n",
       "146cd9bf-a95c-4afb-915b-5f6684b17444    1\n",
       "1b2764ad-9151-4051-a46a-9b01b62e6335    1\n",
       "498f12a4-6a62-4725-8516-cf5dc9ab8a3a    3\n",
       "58a4c3cc-504f-43ea-a74a-bae19e665552    1\n",
       "5d189e88-d4d6-4eac-ab43-fa65a3c4d106    1\n",
       "6987e6d6-a63a-4ce2-a2d0-f424092d235e    1\n",
       "6be74251-7159-4cc0-99fb-d034a17c61b0    1\n",
       "909564b8-3a5c-4d3e-8310-5ba1c837bbd7    1\n",
       "940c175f-ea87-44e0-9e16-0a3d0a9abecd    1\n",
       "af4d270b-c7ae-4af5-9582-4e61ff08eff0    1\n",
       "Name: order_id, dtype: int64"
      ]
     },
     "execution_count": 25,
     "metadata": {},
     "output_type": "execute_result"
    }
   ],
   "source": [
    "big_orders.groupby('customer_id')['order_id'].count()"
   ]
  },
  {
   "cell_type": "markdown",
   "metadata": {},
   "source": [
    "Это наш первый сегмент - \"избранные\" клиенты, которые покупают сразу очень много - скорее всего, это организации. Они важны и нужны - в интересах магазина строить с ними долгосрочное сотрудничество и мотивировать на повторные заказы. Их немного и для максимально эффективного взаимодействия с такими клиентами, неплохо было бы подобрать индивидуальный подход к каждому из них, исходя из конкретных потребностей таких заказчиков (например, это могут быть дополнительные скидки на большой чек или системы кэшбека на определенные товарные позиции)."
   ]
  },
  {
   "cell_type": "markdown",
   "metadata": {},
   "source": [
    "Но вернемся к основным показателям, и рассчитаем суммарную выручку и средний чек покупок."
   ]
  },
  {
   "cell_type": "code",
   "execution_count": 26,
   "metadata": {},
   "outputs": [
    {
     "data": {
      "text/plain": [
       "2545854.0"
      ]
     },
     "execution_count": 26,
     "metadata": {},
     "output_type": "execute_result"
    }
   ],
   "source": [
    "# суммарная выручка\n",
    "data['sum_total'].sum()"
   ]
  },
  {
   "cell_type": "code",
   "execution_count": 27,
   "metadata": {
    "scrolled": true
   },
   "outputs": [
    {
     "data": {
      "text/plain": [
       "1092.6412017167381"
      ]
     },
     "execution_count": 27,
     "metadata": {},
     "output_type": "execute_result"
    }
   ],
   "source": [
    "# средний чек заказов\n",
    "data.groupby('order_id')['sum_total'].sum().mean()"
   ]
  },
  {
   "cell_type": "markdown",
   "metadata": {},
   "source": [
    "Также рассмотрим такой показатель, как средняя выручка с покупателя."
   ]
  },
  {
   "cell_type": "code",
   "execution_count": 28,
   "metadata": {},
   "outputs": [
    {
     "data": {
      "text/plain": [
       "1249.1923454367027"
      ]
     },
     "execution_count": 28,
     "metadata": {},
     "output_type": "execute_result"
    }
   ],
   "source": [
    "# средняя выручка с покупателя\n",
    "data.groupby('customer_id')['sum_total'].sum().mean()\n"
   ]
  },
  {
   "cell_type": "markdown",
   "metadata": {},
   "source": [
    "Итак, чуть больше, чем за год магазин заработал 2,54 млн., средний чек заказов составил 1092 денежных единиц, а средняя выручка с покупателя - 1249.  Это пока мало о чем нам говорит, поэтому попробуем просчитать те же показатели в разбивке по месяцам. "
   ]
  },
  {
   "cell_type": "markdown",
   "metadata": {},
   "source": [
    "### Оценка показателей по месяцам"
   ]
  },
  {
   "cell_type": "markdown",
   "metadata": {},
   "source": [
    "Для удобства работы добавим в таблицу столбец с месяцем и годом и рассчитаем интересующие нас показатели."
   ]
  },
  {
   "cell_type": "code",
   "execution_count": 29,
   "metadata": {},
   "outputs": [],
   "source": [
    "data['month'] = data['date'].apply(lambda x: str(x)[:7])"
   ]
  },
  {
   "cell_type": "code",
   "execution_count": 30,
   "metadata": {
    "scrolled": true
   },
   "outputs": [
    {
     "data": {
      "text/plain": [
       "month\n",
       "2018-10    202269.0\n",
       "2018-11    215001.0\n",
       "2018-12    298966.0\n",
       "2019-01    164847.0\n",
       "2019-02    256105.0\n",
       "2019-03    221253.0\n",
       "2019-04    197896.0\n",
       "2019-05    116214.0\n",
       "2019-06    135339.0\n",
       "2019-07    198806.0\n",
       "2019-08    164659.0\n",
       "2019-09    171479.0\n",
       "2019-10    203020.0\n",
       "Name: sum_total, dtype: float64"
      ]
     },
     "execution_count": 30,
     "metadata": {},
     "output_type": "execute_result"
    }
   ],
   "source": [
    "# суммарная выручка\n",
    "data.groupby('month')['sum_total'].sum()"
   ]
  },
  {
   "cell_type": "code",
   "execution_count": 31,
   "metadata": {
    "scrolled": false
   },
   "outputs": [
    {
     "data": {
      "text/plain": [
       "month\n",
       "2018-10    1264.181250\n",
       "2018-11    1503.503497\n",
       "2018-12    1119.722846\n",
       "2019-01    1070.435065\n",
       "2019-02     977.500000\n",
       "2019-03    1038.746479\n",
       "2019-04     979.683168\n",
       "2019-05    1128.291262\n",
       "2019-06    1065.661417\n",
       "2019-07    1129.579545\n",
       "2019-08    1010.177914\n",
       "2019-09    1014.668639\n",
       "2019-10    1062.931937\n",
       "Name: sum_total, dtype: float64"
      ]
     },
     "execution_count": 31,
     "metadata": {},
     "output_type": "execute_result"
    }
   ],
   "source": [
    "# средний чек заказов\n",
    "data.groupby(['month', 'order_id'])['sum_total'].sum().groupby('month').mean()"
   ]
  },
  {
   "cell_type": "code",
   "execution_count": 32,
   "metadata": {},
   "outputs": [
    {
     "data": {
      "text/plain": [
       "month\n",
       "2018-10    1774.289474\n",
       "2018-11    1747.975610\n",
       "2018-12    1371.403670\n",
       "2019-01    1185.949640\n",
       "2019-02    1138.244444\n",
       "2019-03    1117.439394\n",
       "2019-04    1075.521739\n",
       "2019-05    1185.857143\n",
       "2019-06    1118.504132\n",
       "2019-07    1204.884848\n",
       "2019-08    1055.506410\n",
       "2019-09    1065.086957\n",
       "2019-10    1253.209877\n",
       "Name: sum_total, dtype: float64"
      ]
     },
     "execution_count": 32,
     "metadata": {},
     "output_type": "execute_result"
    }
   ],
   "source": [
    "# средняя выручка с покупателя\n",
    "data.groupby(['month', 'customer_id'])['sum_total'].sum().groupby('month').mean()"
   ]
  },
  {
   "cell_type": "code",
   "execution_count": 33,
   "metadata": {},
   "outputs": [
    {
     "data": {
      "image/png": "[encoded data removed]",
      "text/plain": [
       "<Figure size 1296x288 with 3 Axes>"
      ]
     },
     "metadata": {
      "needs_background": "light"
     },
     "output_type": "display_data"
    }
   ],
   "source": [
    "fig = plt.figure(figsize=(18, 4))\n",
    "ax1 = fig.add_subplot(1,3,1)\n",
    "ax2 = fig.add_subplot(1,3,2)\n",
    "ax3 = fig.add_subplot(1,3,3)\n",
    "\n",
    "\n",
    "\n",
    "ax1.set_title('Суммарная выручка по месяцам')\n",
    "ax2.set_title('Средний чек заказов по месяцам')\n",
    "ax3.set_title('Средняя выручка с покупателя по месяцам')\n",
    "       \n",
    "data.groupby('month')['sum_total'].sum().plot(kind='bar', ax=ax1)\n",
    "data.groupby(['month', 'order_id'])['sum_total'].sum().groupby('month').mean().plot(kind='bar', ax=ax2)\n",
    "data.groupby(['month', 'customer_id'])['sum_total'].sum().groupby('month').mean().plot(kind='bar', ax=ax3)\n",
    "\n",
    "ax1.set_xlabel('')\n",
    "ax1.set_ylabel('Выручка')\n",
    "\n",
    "ax2.set_xlabel('')\n",
    "ax2.set_ylabel('Средний чек')\n",
    "\n",
    "ax3.set_xlabel('')\n",
    "ax3.set_ylabel('Средняя выручка с покупателя')\n",
    "\n",
    "plt.show()"
   ]
  },
  {
   "cell_type": "markdown",
   "metadata": {},
   "source": [
    "Динамика рассматриваемых показателей в 2019 году выглядит не очень хорошо - все они ниже, чем в последние месяцы 2018 года. При этом, средний чек и средняя выручка с покупателя снижаются плавно, а график общей выручки имеет резкие скачки. Вероятно, это связано с нестабильным количеством заказов. Проверим это предположение - посмотрим на еще один график с количеством заказов по месяцам."
   ]
  },
  {
   "cell_type": "code",
   "execution_count": 34,
   "metadata": {},
   "outputs": [
    {
     "data": {
      "image/png": "[encoded data removed]",
      "text/plain": [
       "<Figure size 1296x288 with 1 Axes>"
      ]
     },
     "metadata": {
      "needs_background": "light"
     },
     "output_type": "display_data"
    }
   ],
   "source": [
    "fig = plt.figure(figsize=(18, 4))\n",
    "ax1 = fig.add_subplot(1,3,1)\n",
    "\n",
    "ax1.set_title('Количество заказов по месяцам')\n",
    "\n",
    "data.groupby('month')['order_id'].nunique().plot(kind='bar', ax=ax1)\n",
    "ax1.set_xlabel('')\n",
    "ax1.set_ylabel('Количесвто заказов')\n",
    "\n",
    "plt.show()"
   ]
  },
  {
   "cell_type": "markdown",
   "metadata": {},
   "source": [
    "График количества заказов по месяцам по форме очень напоминает график распределения выручки по месяцам. Это значит, что \"нестабильная\" выручка действительно связана с разным количеством заказов в разные месяцы."
   ]
  },
  {
   "cell_type": "markdown",
   "metadata": {},
   "source": [
    "### Категоризация товаров в таблице"
   ]
  },
  {
   "cell_type": "markdown",
   "metadata": {},
   "source": [
    "Изучим товары, которые присутствуют в заказах нашего магазина. Разделим их на категории и рассмотрим, какие из них наиболее популярны. Кроме того, попробуем выяснить, есть ли какие-то закономерности в их продажах."
   ]
  },
  {
   "cell_type": "code",
   "execution_count": 35,
   "metadata": {
    "scrolled": false
   },
   "outputs": [
    {
     "data": {
      "text/plain": [
       "1361"
      ]
     },
     "execution_count": 35,
     "metadata": {},
     "output_type": "execute_result"
    }
   ],
   "source": [
    "data['product'].nunique()\n"
   ]
  },
  {
   "cell_type": "markdown",
   "metadata": {},
   "source": [
    "Столбец с названиями товаров содержит более 1,3 тыс. записей. Для того, чтобы разделить товары по категориям сформируем несколько словарей с ключевыми словами и реализуем функцию, которая будет искать в названии товара ключевое слово и на основании этого определять его в соответствующую категорию. Названия категорий поместим в новый столбец.\n"
   ]
  },
  {
   "cell_type": "code",
   "execution_count": 36,
   "metadata": {},
   "outputs": [],
   "source": [
    "def category_func(product_name):\n",
    "    dict = {'Дом и интерьер': ['урна', 'полк', 'светильник', 'прищеп','тележк','хозяйственн', 'чехол','обув',  'насадк', 'сушилк', 'крючок',  'мусор',   'весы', 'вешал', 'гладильн'],\n",
    "            'Кухня': ['чистка', 'сахар', 'attribute', 'миска', 'салатник', 'для выпечки', 'кондитерск', 'luminarc','круж', 'вилка', 'ложка', 'тарелка', 'банка', 'блюд', 'нержавеющ', 'полимербыт','чайник', 'для кухни', 'емкость', 'нож', 'кастрюля', 'кухонн', 'кувшин', 'бокал','столовы', 'стакан', 'фужер', 'сковород' ],\n",
    "            'Ванная комната': ['мыл', 'зубн', 'для ванн'],  \n",
    "            'Уборка и ремонт':['совок', 'шпингалет', 'средство', 'короб', 'корзин', 'ящик', 'кофр', 'хранени','ведр', 'таз', 'щетк','перчатки', 'швабра', 'веник', 'ерш', 'уборк', 'стремянк', 'крепеж', 'петл', 'стяжк', 'пружина', 'сверло', 'сварка'],\n",
    "            'Текстиль и ковры':['постель', 'одеяло', 'подушк','флис','салфет','наволоч', 'плед', 'простын', 'покрывал', 'скатерт', 'полотен', 'ковер', 'коврик'],\n",
    "            'Искусственные цветы и муляжи': ['искуственн', 'искусственн', 'муляж'],\n",
    "            'Растения': ['рассада', 'растение', 'd-', 'объем', 'диам.', 'цветущ', 'горш', 'кашпо', 'в кассете', 'черен', 'пеларгония']\n",
    "            }\n",
    "    res = 'Другое'\n",
    "    product_name = product_name.lower().replace('ё', 'е')\n",
    "            \n",
    "    for key, value in dict.items():\n",
    "        for i in value:\n",
    "            if i in product_name:\n",
    "                res = key\n",
    "                return res\n",
    "    if (product_name[-13:].isdigit()) and (product_name[-16:-13] == ' г '):\n",
    "        res = 'Растения'\n",
    "        \n",
    "    return res"
   ]
  },
  {
   "cell_type": "code",
   "execution_count": 37,
   "metadata": {},
   "outputs": [],
   "source": [
    "data['category'] = data['product'].apply(category_func)\n"
   ]
  },
  {
   "cell_type": "code",
   "execution_count": 38,
   "metadata": {
    "scrolled": true
   },
   "outputs": [
    {
     "data": {
      "text/html": [
       "<div>\n",
       "<style scoped>\n",
       "    .dataframe tbody tr th:only-of-type {\n",
       "        vertical-align: middle;\n",
       "    }\n",
       "\n",
       "    .dataframe tbody tr th {\n",
       "        vertical-align: top;\n",
       "    }\n",
       "\n",
       "    .dataframe thead th {\n",
       "        text-align: right;\n",
       "    }\n",
       "</style>\n",
       "<table border=\"1\" class=\"dataframe\">\n",
       "  <thead>\n",
       "    <tr style=\"text-align: right;\">\n",
       "      <th></th>\n",
       "      <th>date</th>\n",
       "      <th>customer_id</th>\n",
       "      <th>order_id</th>\n",
       "      <th>product</th>\n",
       "      <th>quantity</th>\n",
       "      <th>price</th>\n",
       "      <th>sum_total</th>\n",
       "      <th>month</th>\n",
       "      <th>category</th>\n",
       "    </tr>\n",
       "  </thead>\n",
       "  <tbody>\n",
       "    <tr>\n",
       "      <th>7</th>\n",
       "      <td>2018-10-01</td>\n",
       "      <td>375e0724-f033-4c76-b579-84969cf38ee2</td>\n",
       "      <td>68479</td>\n",
       "      <td>Настенная сушилка для белья Gimi Brio Super 100</td>\n",
       "      <td>1</td>\n",
       "      <td>824.0</td>\n",
       "      <td>824.0</td>\n",
       "      <td>2018-10</td>\n",
       "      <td>Дом и интерьер</td>\n",
       "    </tr>\n",
       "    <tr>\n",
       "      <th>8</th>\n",
       "      <td>2018-10-01</td>\n",
       "      <td>6644e5b4-9934-4863-9778-aaa125207701</td>\n",
       "      <td>68478</td>\n",
       "      <td>Таз пластмассовый 21,0 л круглый \"Водолей\" С61...</td>\n",
       "      <td>1</td>\n",
       "      <td>269.0</td>\n",
       "      <td>269.0</td>\n",
       "      <td>2018-10</td>\n",
       "      <td>Уборка и ремонт</td>\n",
       "    </tr>\n",
       "    <tr>\n",
       "      <th>9</th>\n",
       "      <td>2018-10-01</td>\n",
       "      <td>c971fb21-d54c-4134-938f-16b62ee86d3b</td>\n",
       "      <td>68480</td>\n",
       "      <td>Чехол для гладильной доски Colombo Persia Beig...</td>\n",
       "      <td>1</td>\n",
       "      <td>674.0</td>\n",
       "      <td>674.0</td>\n",
       "      <td>2018-10</td>\n",
       "      <td>Дом и интерьер</td>\n",
       "    </tr>\n",
       "    <tr>\n",
       "      <th>10</th>\n",
       "      <td>2018-10-01</td>\n",
       "      <td>161e1b98-45ba-4b4e-8236-e6e3e70f6f7c</td>\n",
       "      <td>68483</td>\n",
       "      <td>Вешалка для брюк металлическая с резиновым пок...</td>\n",
       "      <td>10</td>\n",
       "      <td>82.0</td>\n",
       "      <td>820.0</td>\n",
       "      <td>2018-10</td>\n",
       "      <td>Дом и интерьер</td>\n",
       "    </tr>\n",
       "    <tr>\n",
       "      <th>11</th>\n",
       "      <td>2018-10-01</td>\n",
       "      <td>86432d8d-b706-463b-bd5d-6a9e170daee3</td>\n",
       "      <td>68484</td>\n",
       "      <td>Сушилка для белья потолочная Zalger Lift Basic...</td>\n",
       "      <td>1</td>\n",
       "      <td>614.0</td>\n",
       "      <td>614.0</td>\n",
       "      <td>2018-10</td>\n",
       "      <td>Дом и интерьер</td>\n",
       "    </tr>\n",
       "    <tr>\n",
       "      <th>12</th>\n",
       "      <td>2018-10-01</td>\n",
       "      <td>4d93d3f6-8b24-403b-a74b-f5173e40d7db</td>\n",
       "      <td>68485</td>\n",
       "      <td>Чехол Eurogold Clean Basic хлопок для досок 12...</td>\n",
       "      <td>1</td>\n",
       "      <td>187.0</td>\n",
       "      <td>187.0</td>\n",
       "      <td>2018-10</td>\n",
       "      <td>Дом и интерьер</td>\n",
       "    </tr>\n",
       "    <tr>\n",
       "      <th>13</th>\n",
       "      <td>2018-10-01</td>\n",
       "      <td>0948b0c2-990b-4a11-b835-69ac4714b21d</td>\n",
       "      <td>68486</td>\n",
       "      <td>Крючок одежный 2-х рожковый серый металлик с п...</td>\n",
       "      <td>96</td>\n",
       "      <td>38.0</td>\n",
       "      <td>3648.0</td>\n",
       "      <td>2018-10</td>\n",
       "      <td>Дом и интерьер</td>\n",
       "    </tr>\n",
       "    <tr>\n",
       "      <th>14</th>\n",
       "      <td>2018-10-01</td>\n",
       "      <td>a576fa59-7b28-4a4c-a496-92f128754a94</td>\n",
       "      <td>68487</td>\n",
       "      <td>Корзина мягкая пластиковая 17 л, М-пластика, M...</td>\n",
       "      <td>1</td>\n",
       "      <td>188.0</td>\n",
       "      <td>188.0</td>\n",
       "      <td>2018-10</td>\n",
       "      <td>Уборка и ремонт</td>\n",
       "    </tr>\n",
       "    <tr>\n",
       "      <th>19</th>\n",
       "      <td>2018-10-01</td>\n",
       "      <td>b731df05-98fa-4610-8496-716ec530a02c</td>\n",
       "      <td>68474</td>\n",
       "      <td>Доска гладильная Eurogold Professional 130х48 ...</td>\n",
       "      <td>1</td>\n",
       "      <td>3299.0</td>\n",
       "      <td>3299.0</td>\n",
       "      <td>2018-10</td>\n",
       "      <td>Дом и интерьер</td>\n",
       "    </tr>\n",
       "    <tr>\n",
       "      <th>20</th>\n",
       "      <td>2018-10-02</td>\n",
       "      <td>c971fb21-d54c-4134-938f-16b62ee86d3b</td>\n",
       "      <td>68490</td>\n",
       "      <td>Чехол для гладильной доски Festival 137x60 см ...</td>\n",
       "      <td>1</td>\n",
       "      <td>1162.0</td>\n",
       "      <td>1162.0</td>\n",
       "      <td>2018-10</td>\n",
       "      <td>Дом и интерьер</td>\n",
       "    </tr>\n",
       "    <tr>\n",
       "      <th>21</th>\n",
       "      <td>2018-10-02</td>\n",
       "      <td>4d93d3f6-8b24-403b-a74b-f5173e40d7db</td>\n",
       "      <td>68491</td>\n",
       "      <td>Сумка-тележка 2-х колесная Gimi Argo синяя</td>\n",
       "      <td>1</td>\n",
       "      <td>1049.0</td>\n",
       "      <td>1049.0</td>\n",
       "      <td>2018-10</td>\n",
       "      <td>Дом и интерьер</td>\n",
       "    </tr>\n",
       "    <tr>\n",
       "      <th>44</th>\n",
       "      <td>2018-10-02</td>\n",
       "      <td>32a85453-f14d-40c2-90ba-3851498a5f3b</td>\n",
       "      <td>68460</td>\n",
       "      <td>Сумка для тележки большая комбинированная 45*3...</td>\n",
       "      <td>1</td>\n",
       "      <td>374.0</td>\n",
       "      <td>374.0</td>\n",
       "      <td>2018-10</td>\n",
       "      <td>Дом и интерьер</td>\n",
       "    </tr>\n",
       "    <tr>\n",
       "      <th>45</th>\n",
       "      <td>2018-10-02</td>\n",
       "      <td>9d05bf55-76d8-4efa-8617-435f92fe83f1</td>\n",
       "      <td>68504</td>\n",
       "      <td>Тарелка обеденная ЛИМОН ФИЦ 25см, G9547, Lumin...</td>\n",
       "      <td>6</td>\n",
       "      <td>206.0</td>\n",
       "      <td>1236.0</td>\n",
       "      <td>2018-10</td>\n",
       "      <td>Кухня</td>\n",
       "    </tr>\n",
       "    <tr>\n",
       "      <th>50</th>\n",
       "      <td>2018-10-02</td>\n",
       "      <td>4d93d3f6-8b24-403b-a74b-f5173e40d7db</td>\n",
       "      <td>68506</td>\n",
       "      <td>Герань домашняя (пеларгония зональная) цветуща...</td>\n",
       "      <td>11</td>\n",
       "      <td>142.0</td>\n",
       "      <td>1562.0</td>\n",
       "      <td>2018-10</td>\n",
       "      <td>Растения</td>\n",
       "    </tr>\n",
       "    <tr>\n",
       "      <th>51</th>\n",
       "      <td>2018-10-02</td>\n",
       "      <td>494a90f5-2198-4212-8fc9-e3e22ad7afd9</td>\n",
       "      <td>68505</td>\n",
       "      <td>Ерш для туалета с подставкой MALIBU фарфор 47х...</td>\n",
       "      <td>1</td>\n",
       "      <td>3524.0</td>\n",
       "      <td>3524.0</td>\n",
       "      <td>2018-10</td>\n",
       "      <td>Уборка и ремонт</td>\n",
       "    </tr>\n",
       "    <tr>\n",
       "      <th>56</th>\n",
       "      <td>2018-10-02</td>\n",
       "      <td>5f75c73a-1305-4079-b040-2bcb42085002</td>\n",
       "      <td>68509</td>\n",
       "      <td>Сушилка для белья настенная Zalger Prima 510-7...</td>\n",
       "      <td>1</td>\n",
       "      <td>299.0</td>\n",
       "      <td>299.0</td>\n",
       "      <td>2018-10</td>\n",
       "      <td>Дом и интерьер</td>\n",
       "    </tr>\n",
       "    <tr>\n",
       "      <th>57</th>\n",
       "      <td>2018-10-02</td>\n",
       "      <td>649c4398-a4c4-4d01-b29b-f14704ce6e17</td>\n",
       "      <td>68508</td>\n",
       "      <td>Котел алюминиевый 70,0 л без крышки Балезино, ...</td>\n",
       "      <td>1</td>\n",
       "      <td>2924.0</td>\n",
       "      <td>2924.0</td>\n",
       "      <td>2018-10</td>\n",
       "      <td>Другое</td>\n",
       "    </tr>\n",
       "    <tr>\n",
       "      <th>64</th>\n",
       "      <td>2018-10-03</td>\n",
       "      <td>c971fb21-d54c-4134-938f-16b62ee86d3b</td>\n",
       "      <td>68511</td>\n",
       "      <td>Набор прищепок большие пластиковые ROZENBAL ПИ...</td>\n",
       "      <td>10</td>\n",
       "      <td>86.0</td>\n",
       "      <td>860.0</td>\n",
       "      <td>2018-10</td>\n",
       "      <td>Дом и интерьер</td>\n",
       "    </tr>\n",
       "    <tr>\n",
       "      <th>65</th>\n",
       "      <td>2018-10-03</td>\n",
       "      <td>c971fb21-d54c-4134-938f-16b62ee86d3b</td>\n",
       "      <td>68514</td>\n",
       "      <td>Сушилка для белья Attribute ПРИМА 11 м синяя н...</td>\n",
       "      <td>1</td>\n",
       "      <td>749.0</td>\n",
       "      <td>749.0</td>\n",
       "      <td>2018-10</td>\n",
       "      <td>Дом и интерьер</td>\n",
       "    </tr>\n",
       "    <tr>\n",
       "      <th>70</th>\n",
       "      <td>2018-10-03</td>\n",
       "      <td>4d93d3f6-8b24-403b-a74b-f5173e40d7db</td>\n",
       "      <td>68516</td>\n",
       "      <td>Сушилка для белья потолочно-настенная Gimi Lif...</td>\n",
       "      <td>1</td>\n",
       "      <td>1649.0</td>\n",
       "      <td>1649.0</td>\n",
       "      <td>2018-10</td>\n",
       "      <td>Дом и интерьер</td>\n",
       "    </tr>\n",
       "  </tbody>\n",
       "</table>\n",
       "</div>"
      ],
      "text/plain": [
       "         date                           customer_id  order_id  \\\n",
       "7  2018-10-01  375e0724-f033-4c76-b579-84969cf38ee2     68479   \n",
       "8  2018-10-01  6644e5b4-9934-4863-9778-aaa125207701     68478   \n",
       "9  2018-10-01  c971fb21-d54c-4134-938f-16b62ee86d3b     68480   \n",
       "10 2018-10-01  161e1b98-45ba-4b4e-8236-e6e3e70f6f7c     68483   \n",
       "11 2018-10-01  86432d8d-b706-463b-bd5d-6a9e170daee3     68484   \n",
       "12 2018-10-01  4d93d3f6-8b24-403b-a74b-f5173e40d7db     68485   \n",
       "13 2018-10-01  0948b0c2-990b-4a11-b835-69ac4714b21d     68486   \n",
       "14 2018-10-01  a576fa59-7b28-4a4c-a496-92f128754a94     68487   \n",
       "19 2018-10-01  b731df05-98fa-4610-8496-716ec530a02c     68474   \n",
       "20 2018-10-02  c971fb21-d54c-4134-938f-16b62ee86d3b     68490   \n",
       "21 2018-10-02  4d93d3f6-8b24-403b-a74b-f5173e40d7db     68491   \n",
       "44 2018-10-02  32a85453-f14d-40c2-90ba-3851498a5f3b     68460   \n",
       "45 2018-10-02  9d05bf55-76d8-4efa-8617-435f92fe83f1     68504   \n",
       "50 2018-10-02  4d93d3f6-8b24-403b-a74b-f5173e40d7db     68506   \n",
       "51 2018-10-02  494a90f5-2198-4212-8fc9-e3e22ad7afd9     68505   \n",
       "56 2018-10-02  5f75c73a-1305-4079-b040-2bcb42085002     68509   \n",
       "57 2018-10-02  649c4398-a4c4-4d01-b29b-f14704ce6e17     68508   \n",
       "64 2018-10-03  c971fb21-d54c-4134-938f-16b62ee86d3b     68511   \n",
       "65 2018-10-03  c971fb21-d54c-4134-938f-16b62ee86d3b     68514   \n",
       "70 2018-10-03  4d93d3f6-8b24-403b-a74b-f5173e40d7db     68516   \n",
       "\n",
       "                                              product  quantity   price  \\\n",
       "7     Настенная сушилка для белья Gimi Brio Super 100         1   824.0   \n",
       "8   Таз пластмассовый 21,0 л круглый \"Водолей\" С61...         1   269.0   \n",
       "9   Чехол для гладильной доски Colombo Persia Beig...         1   674.0   \n",
       "10  Вешалка для брюк металлическая с резиновым пок...        10    82.0   \n",
       "11  Сушилка для белья потолочная Zalger Lift Basic...         1   614.0   \n",
       "12  Чехол Eurogold Clean Basic хлопок для досок 12...         1   187.0   \n",
       "13  Крючок одежный 2-х рожковый серый металлик с п...        96    38.0   \n",
       "14  Корзина мягкая пластиковая 17 л, М-пластика, M...         1   188.0   \n",
       "19  Доска гладильная Eurogold Professional 130х48 ...         1  3299.0   \n",
       "20  Чехол для гладильной доски Festival 137x60 см ...         1  1162.0   \n",
       "21         Сумка-тележка 2-х колесная Gimi Argo синяя         1  1049.0   \n",
       "44  Сумка для тележки большая комбинированная 45*3...         1   374.0   \n",
       "45  Тарелка обеденная ЛИМОН ФИЦ 25см, G9547, Lumin...         6   206.0   \n",
       "50  Герань домашняя (пеларгония зональная) цветуща...        11   142.0   \n",
       "51  Ерш для туалета с подставкой MALIBU фарфор 47х...         1  3524.0   \n",
       "56  Сушилка для белья настенная Zalger Prima 510-7...         1   299.0   \n",
       "57  Котел алюминиевый 70,0 л без крышки Балезино, ...         1  2924.0   \n",
       "64  Набор прищепок большие пластиковые ROZENBAL ПИ...        10    86.0   \n",
       "65  Сушилка для белья Attribute ПРИМА 11 м синяя н...         1   749.0   \n",
       "70  Сушилка для белья потолочно-настенная Gimi Lif...         1  1649.0   \n",
       "\n",
       "    sum_total    month         category  \n",
       "7       824.0  2018-10   Дом и интерьер  \n",
       "8       269.0  2018-10  Уборка и ремонт  \n",
       "9       674.0  2018-10   Дом и интерьер  \n",
       "10      820.0  2018-10   Дом и интерьер  \n",
       "11      614.0  2018-10   Дом и интерьер  \n",
       "12      187.0  2018-10   Дом и интерьер  \n",
       "13     3648.0  2018-10   Дом и интерьер  \n",
       "14      188.0  2018-10  Уборка и ремонт  \n",
       "19     3299.0  2018-10   Дом и интерьер  \n",
       "20     1162.0  2018-10   Дом и интерьер  \n",
       "21     1049.0  2018-10   Дом и интерьер  \n",
       "44      374.0  2018-10   Дом и интерьер  \n",
       "45     1236.0  2018-10            Кухня  \n",
       "50     1562.0  2018-10         Растения  \n",
       "51     3524.0  2018-10  Уборка и ремонт  \n",
       "56      299.0  2018-10   Дом и интерьер  \n",
       "57     2924.0  2018-10           Другое  \n",
       "64      860.0  2018-10   Дом и интерьер  \n",
       "65      749.0  2018-10   Дом и интерьер  \n",
       "70     1649.0  2018-10   Дом и интерьер  "
      ]
     },
     "execution_count": 38,
     "metadata": {},
     "output_type": "execute_result"
    }
   ],
   "source": [
    "data.head(20)"
   ]
  },
  {
   "cell_type": "markdown",
   "metadata": {},
   "source": [
    "Итак, товары разделены на 8 категорий (в последнюю категорию \"Другое\" попали товары, которые не удалось опознать по выбранным ключевым словам). Посмотрим, в каком соотношении они разделились."
   ]
  },
  {
   "cell_type": "code",
   "execution_count": 39,
   "metadata": {},
   "outputs": [
    {
     "data": {
      "text/html": [
       "<div>\n",
       "<style scoped>\n",
       "    .dataframe tbody tr th:only-of-type {\n",
       "        vertical-align: middle;\n",
       "    }\n",
       "\n",
       "    .dataframe tbody tr th {\n",
       "        vertical-align: top;\n",
       "    }\n",
       "\n",
       "    .dataframe thead th {\n",
       "        text-align: right;\n",
       "    }\n",
       "</style>\n",
       "<table border=\"1\" class=\"dataframe\">\n",
       "  <thead>\n",
       "    <tr style=\"text-align: right;\">\n",
       "      <th></th>\n",
       "      <th>category</th>\n",
       "      <th>count</th>\n",
       "      <th>sum</th>\n",
       "    </tr>\n",
       "  </thead>\n",
       "  <tbody>\n",
       "    <tr>\n",
       "      <th>0</th>\n",
       "      <td>Ванная комната</td>\n",
       "      <td>114</td>\n",
       "      <td>145291.0</td>\n",
       "    </tr>\n",
       "    <tr>\n",
       "      <th>1</th>\n",
       "      <td>Дом и интерьер</td>\n",
       "      <td>928</td>\n",
       "      <td>1440973.0</td>\n",
       "    </tr>\n",
       "    <tr>\n",
       "      <th>2</th>\n",
       "      <td>Другое</td>\n",
       "      <td>143</td>\n",
       "      <td>116904.0</td>\n",
       "    </tr>\n",
       "    <tr>\n",
       "      <th>3</th>\n",
       "      <td>Искусственные цветы и муляжи</td>\n",
       "      <td>174</td>\n",
       "      <td>80182.0</td>\n",
       "    </tr>\n",
       "    <tr>\n",
       "      <th>4</th>\n",
       "      <td>Кухня</td>\n",
       "      <td>225</td>\n",
       "      <td>199553.0</td>\n",
       "    </tr>\n",
       "    <tr>\n",
       "      <th>5</th>\n",
       "      <td>Растения</td>\n",
       "      <td>419</td>\n",
       "      <td>157588.0</td>\n",
       "    </tr>\n",
       "    <tr>\n",
       "      <th>6</th>\n",
       "      <td>Текстиль и ковры</td>\n",
       "      <td>126</td>\n",
       "      <td>159700.0</td>\n",
       "    </tr>\n",
       "    <tr>\n",
       "      <th>7</th>\n",
       "      <td>Уборка и ремонт</td>\n",
       "      <td>201</td>\n",
       "      <td>245663.0</td>\n",
       "    </tr>\n",
       "  </tbody>\n",
       "</table>\n",
       "</div>"
      ],
      "text/plain": [
       "                       category  count        sum\n",
       "0                Ванная комната    114   145291.0\n",
       "1                Дом и интерьер    928  1440973.0\n",
       "2                        Другое    143   116904.0\n",
       "3  Искусственные цветы и муляжи    174    80182.0\n",
       "4                         Кухня    225   199553.0\n",
       "5                      Растения    419   157588.0\n",
       "6              Текстиль и ковры    126   159700.0\n",
       "7               Уборка и ремонт    201   245663.0"
      ]
     },
     "execution_count": 39,
     "metadata": {},
     "output_type": "execute_result"
    }
   ],
   "source": [
    "category_pivot = data.groupby('category')['sum_total'].agg(['count', 'sum']).reset_index()\n",
    "category_pivot\n"
   ]
  },
  {
   "cell_type": "code",
   "execution_count": 40,
   "metadata": {
    "scrolled": false
   },
   "outputs": [
    {
     "data": {
      "image/png": "[encoded data removed]",
      "text/plain": [
       "<Figure size 1296x504 with 2 Axes>"
      ]
     },
     "metadata": {},
     "output_type": "display_data"
    }
   ],
   "source": [
    "fig = plt.figure(figsize=(18, 7))\n",
    "ax1 = fig.add_subplot(1,2,1)\n",
    "ax2 = fig.add_subplot(1,2,2)\n",
    "\n",
    "ax1.set_title('Количество товаров в заказах по категориям',\n",
    "             fontsize = 14,  fontweight='bold', loc = 'center'\n",
    "            )\n",
    "ax1.pie(category_pivot['count'],\n",
    "        colors=sns.color_palette(\"coolwarm\"),\n",
    "        autopct='%1.1f%%',\n",
    "        pctdistance=0.8,\n",
    "        labels=category_pivot['category']\n",
    "        \n",
    "       )\n",
    "\n",
    "ax2.set_title('Выручка от товаров по категориям',\n",
    "             fontsize = 14,  fontweight='bold', loc = 'center'\n",
    "            )\n",
    "ax2.pie(category_pivot['sum'],\n",
    "        colors=sns.color_palette(\"coolwarm\"),\n",
    "        autopct='%1.1f%%',\n",
    "        pctdistance=0.8,\n",
    "        labels=category_pivot['category']\n",
    "    \n",
    "       )\n",
    "\n",
    "\n",
    "plt.show()"
   ]
  },
  {
   "cell_type": "markdown",
   "metadata": {},
   "source": [
    "Около 40% товаров в заказах - из категории \"Дом и интерьер\". Это самые популярные товары ассортимента данного магазина. Еще около 18% приходится на \"Растения\", 10% на товары для кухни. Остальные категории занимают от 9 до 5 %. \n",
    "\n",
    "При этом больше половины выручки получено в категории \"Дом и интерьер\", а остальные категории лишь вносят свой небольшой вклад по выручке в пределах 3-10%."
   ]
  },
  {
   "cell_type": "markdown",
   "metadata": {},
   "source": [
    "### Выявление сезонных товаров"
   ]
  },
  {
   "cell_type": "markdown",
   "metadata": {},
   "source": [
    "Интересно посмотреть, есть ли какие-то различия в продаже товаров из разных категорий в течение года. Выясним это - построим столбчатые диаграммы распределения суммарных продаж товаров каждой категории."
   ]
  },
  {
   "cell_type": "code",
   "execution_count": 41,
   "metadata": {
    "scrolled": false
   },
   "outputs": [
    {
     "data": {
      "image/png": "[encoded data removed]",
      "text/plain": [
       "<Figure size 1080x1440 with 8 Axes>"
      ]
     },
     "metadata": {},
     "output_type": "display_data"
    }
   ],
   "source": [
    "fig = plt.figure(figsize=(15, 20))\n",
    "\n",
    "i = 0\n",
    "for category in data['category'].unique():\n",
    "    i+=1\n",
    "    ax=fig.add_subplot(5,2,i)\n",
    "    data[data['category'] == category].groupby('month')['sum_total'].sum().plot(kind='bar', ax=ax, ylim = (0, 185000))\n",
    "    ax.set_title('Выручка по месяцам - ' + category)\n",
    "    ax.set_xlabel(' ')\n",
    "    ax.tick_params(axis = 'x', pad = -190, labelsize = 8, labelcolor = 'gray',)  \n",
    "   \n",
    "    \n",
    "plt.show()"
   ]
  },
  {
   "cell_type": "markdown",
   "metadata": {},
   "source": [
    "По категориям \"Ванная\", \"Другое\"ситуация выглядит относительно стабильной: все товары покупаются в течение всего года примерно одинаково. \n",
    "\n",
    "В категории \"Растения\" явно выделяются февраль, март и апрель - ничего удивительного, весна - самое время покупать семена и рассаду. Кроме того, есть товары с повышенным спросом в декабре - вероятно, это новогодние и рождественские деревья. Таким образом - это первый сезонный товар.\n",
    "\n",
    "В категории \"Уборка и ремонт\" заметно увеличение продаж в октябре. Видимо, в этот период люди возвращаются из отпусков и решают приводить дом в порядок к Новому году.\n",
    "\n",
    "В категории \"Дом и интерьер\" на графике есть \"яма\" - январь 2019 года. Можно предположить, что декабрь и февраль - время покупки подарков к Новому году и 8 марта. \n",
    "\n",
    "\"Текстиль и ковры\" пользуются спросом перед новым годом - вероятно, тоже в качестве подарков.\n",
    "\n",
    "Товары для кухни активно покупают в декабре и январе - что еще делать зимними вечерами, если не готовить вкусняшки.\n",
    "\n",
    "Добавим в таблицу столбец, куда поместим метку, является ли покупка сезонной. Для этого напишем функцию."
   ]
  },
  {
   "cell_type": "code",
   "execution_count": 42,
   "metadata": {},
   "outputs": [],
   "source": [
    "def func_seasonal(row):\n",
    "    res = False\n",
    "    if ((row['category'] == 'Растения') & (row['month'] in ['2018-12', '2019-02', '2019-03', '2019-04'])) | \\\n",
    "    ((row['category'] == 'Уборка и ремонт') & (row['month'] in ['2018-10', '2019-10'])) | \\\n",
    "    ((row['category'] == 'Дом и интерьер') & (row['month'] in ['2018-12', '2019-02'])) |\\\n",
    "    ((row['category'] == 'Текстиль и ковры') & (row['month'] in ['2018-12'])) |\\\n",
    "    ((row['category'] == 'Кухня') & (row['month'] in ['2018-12', '2019-01'])):\n",
    "        res = True\n",
    "    return res\n",
    "        "
   ]
  },
  {
   "cell_type": "code",
   "execution_count": 43,
   "metadata": {
    "scrolled": false
   },
   "outputs": [
    {
     "data": {
      "text/html": [
       "<div>\n",
       "<style scoped>\n",
       "    .dataframe tbody tr th:only-of-type {\n",
       "        vertical-align: middle;\n",
       "    }\n",
       "\n",
       "    .dataframe tbody tr th {\n",
       "        vertical-align: top;\n",
       "    }\n",
       "\n",
       "    .dataframe thead th {\n",
       "        text-align: right;\n",
       "    }\n",
       "</style>\n",
       "<table border=\"1\" class=\"dataframe\">\n",
       "  <thead>\n",
       "    <tr style=\"text-align: right;\">\n",
       "      <th></th>\n",
       "      <th>date</th>\n",
       "      <th>customer_id</th>\n",
       "      <th>order_id</th>\n",
       "      <th>product</th>\n",
       "      <th>quantity</th>\n",
       "      <th>price</th>\n",
       "      <th>sum_total</th>\n",
       "      <th>month</th>\n",
       "      <th>category</th>\n",
       "      <th>seasonal</th>\n",
       "    </tr>\n",
       "  </thead>\n",
       "  <tbody>\n",
       "    <tr>\n",
       "      <th>7</th>\n",
       "      <td>2018-10-01</td>\n",
       "      <td>375e0724-f033-4c76-b579-84969cf38ee2</td>\n",
       "      <td>68479</td>\n",
       "      <td>Настенная сушилка для белья Gimi Brio Super 100</td>\n",
       "      <td>1</td>\n",
       "      <td>824.0</td>\n",
       "      <td>824.0</td>\n",
       "      <td>2018-10</td>\n",
       "      <td>Дом и интерьер</td>\n",
       "      <td>False</td>\n",
       "    </tr>\n",
       "    <tr>\n",
       "      <th>8</th>\n",
       "      <td>2018-10-01</td>\n",
       "      <td>6644e5b4-9934-4863-9778-aaa125207701</td>\n",
       "      <td>68478</td>\n",
       "      <td>Таз пластмассовый 21,0 л круглый \"Водолей\" С61...</td>\n",
       "      <td>1</td>\n",
       "      <td>269.0</td>\n",
       "      <td>269.0</td>\n",
       "      <td>2018-10</td>\n",
       "      <td>Уборка и ремонт</td>\n",
       "      <td>True</td>\n",
       "    </tr>\n",
       "    <tr>\n",
       "      <th>9</th>\n",
       "      <td>2018-10-01</td>\n",
       "      <td>c971fb21-d54c-4134-938f-16b62ee86d3b</td>\n",
       "      <td>68480</td>\n",
       "      <td>Чехол для гладильной доски Colombo Persia Beig...</td>\n",
       "      <td>1</td>\n",
       "      <td>674.0</td>\n",
       "      <td>674.0</td>\n",
       "      <td>2018-10</td>\n",
       "      <td>Дом и интерьер</td>\n",
       "      <td>False</td>\n",
       "    </tr>\n",
       "    <tr>\n",
       "      <th>10</th>\n",
       "      <td>2018-10-01</td>\n",
       "      <td>161e1b98-45ba-4b4e-8236-e6e3e70f6f7c</td>\n",
       "      <td>68483</td>\n",
       "      <td>Вешалка для брюк металлическая с резиновым пок...</td>\n",
       "      <td>10</td>\n",
       "      <td>82.0</td>\n",
       "      <td>820.0</td>\n",
       "      <td>2018-10</td>\n",
       "      <td>Дом и интерьер</td>\n",
       "      <td>False</td>\n",
       "    </tr>\n",
       "    <tr>\n",
       "      <th>11</th>\n",
       "      <td>2018-10-01</td>\n",
       "      <td>86432d8d-b706-463b-bd5d-6a9e170daee3</td>\n",
       "      <td>68484</td>\n",
       "      <td>Сушилка для белья потолочная Zalger Lift Basic...</td>\n",
       "      <td>1</td>\n",
       "      <td>614.0</td>\n",
       "      <td>614.0</td>\n",
       "      <td>2018-10</td>\n",
       "      <td>Дом и интерьер</td>\n",
       "      <td>False</td>\n",
       "    </tr>\n",
       "    <tr>\n",
       "      <th>12</th>\n",
       "      <td>2018-10-01</td>\n",
       "      <td>4d93d3f6-8b24-403b-a74b-f5173e40d7db</td>\n",
       "      <td>68485</td>\n",
       "      <td>Чехол Eurogold Clean Basic хлопок для досок 12...</td>\n",
       "      <td>1</td>\n",
       "      <td>187.0</td>\n",
       "      <td>187.0</td>\n",
       "      <td>2018-10</td>\n",
       "      <td>Дом и интерьер</td>\n",
       "      <td>False</td>\n",
       "    </tr>\n",
       "    <tr>\n",
       "      <th>13</th>\n",
       "      <td>2018-10-01</td>\n",
       "      <td>0948b0c2-990b-4a11-b835-69ac4714b21d</td>\n",
       "      <td>68486</td>\n",
       "      <td>Крючок одежный 2-х рожковый серый металлик с п...</td>\n",
       "      <td>96</td>\n",
       "      <td>38.0</td>\n",
       "      <td>3648.0</td>\n",
       "      <td>2018-10</td>\n",
       "      <td>Дом и интерьер</td>\n",
       "      <td>False</td>\n",
       "    </tr>\n",
       "    <tr>\n",
       "      <th>14</th>\n",
       "      <td>2018-10-01</td>\n",
       "      <td>a576fa59-7b28-4a4c-a496-92f128754a94</td>\n",
       "      <td>68487</td>\n",
       "      <td>Корзина мягкая пластиковая 17 л, М-пластика, M...</td>\n",
       "      <td>1</td>\n",
       "      <td>188.0</td>\n",
       "      <td>188.0</td>\n",
       "      <td>2018-10</td>\n",
       "      <td>Уборка и ремонт</td>\n",
       "      <td>True</td>\n",
       "    </tr>\n",
       "    <tr>\n",
       "      <th>19</th>\n",
       "      <td>2018-10-01</td>\n",
       "      <td>b731df05-98fa-4610-8496-716ec530a02c</td>\n",
       "      <td>68474</td>\n",
       "      <td>Доска гладильная Eurogold Professional 130х48 ...</td>\n",
       "      <td>1</td>\n",
       "      <td>3299.0</td>\n",
       "      <td>3299.0</td>\n",
       "      <td>2018-10</td>\n",
       "      <td>Дом и интерьер</td>\n",
       "      <td>False</td>\n",
       "    </tr>\n",
       "    <tr>\n",
       "      <th>20</th>\n",
       "      <td>2018-10-02</td>\n",
       "      <td>c971fb21-d54c-4134-938f-16b62ee86d3b</td>\n",
       "      <td>68490</td>\n",
       "      <td>Чехол для гладильной доски Festival 137x60 см ...</td>\n",
       "      <td>1</td>\n",
       "      <td>1162.0</td>\n",
       "      <td>1162.0</td>\n",
       "      <td>2018-10</td>\n",
       "      <td>Дом и интерьер</td>\n",
       "      <td>False</td>\n",
       "    </tr>\n",
       "  </tbody>\n",
       "</table>\n",
       "</div>"
      ],
      "text/plain": [
       "         date                           customer_id  order_id  \\\n",
       "7  2018-10-01  375e0724-f033-4c76-b579-84969cf38ee2     68479   \n",
       "8  2018-10-01  6644e5b4-9934-4863-9778-aaa125207701     68478   \n",
       "9  2018-10-01  c971fb21-d54c-4134-938f-16b62ee86d3b     68480   \n",
       "10 2018-10-01  161e1b98-45ba-4b4e-8236-e6e3e70f6f7c     68483   \n",
       "11 2018-10-01  86432d8d-b706-463b-bd5d-6a9e170daee3     68484   \n",
       "12 2018-10-01  4d93d3f6-8b24-403b-a74b-f5173e40d7db     68485   \n",
       "13 2018-10-01  0948b0c2-990b-4a11-b835-69ac4714b21d     68486   \n",
       "14 2018-10-01  a576fa59-7b28-4a4c-a496-92f128754a94     68487   \n",
       "19 2018-10-01  b731df05-98fa-4610-8496-716ec530a02c     68474   \n",
       "20 2018-10-02  c971fb21-d54c-4134-938f-16b62ee86d3b     68490   \n",
       "\n",
       "                                              product  quantity   price  \\\n",
       "7     Настенная сушилка для белья Gimi Brio Super 100         1   824.0   \n",
       "8   Таз пластмассовый 21,0 л круглый \"Водолей\" С61...         1   269.0   \n",
       "9   Чехол для гладильной доски Colombo Persia Beig...         1   674.0   \n",
       "10  Вешалка для брюк металлическая с резиновым пок...        10    82.0   \n",
       "11  Сушилка для белья потолочная Zalger Lift Basic...         1   614.0   \n",
       "12  Чехол Eurogold Clean Basic хлопок для досок 12...         1   187.0   \n",
       "13  Крючок одежный 2-х рожковый серый металлик с п...        96    38.0   \n",
       "14  Корзина мягкая пластиковая 17 л, М-пластика, M...         1   188.0   \n",
       "19  Доска гладильная Eurogold Professional 130х48 ...         1  3299.0   \n",
       "20  Чехол для гладильной доски Festival 137x60 см ...         1  1162.0   \n",
       "\n",
       "    sum_total    month         category  seasonal  \n",
       "7       824.0  2018-10   Дом и интерьер     False  \n",
       "8       269.0  2018-10  Уборка и ремонт      True  \n",
       "9       674.0  2018-10   Дом и интерьер     False  \n",
       "10      820.0  2018-10   Дом и интерьер     False  \n",
       "11      614.0  2018-10   Дом и интерьер     False  \n",
       "12      187.0  2018-10   Дом и интерьер     False  \n",
       "13     3648.0  2018-10   Дом и интерьер     False  \n",
       "14      188.0  2018-10  Уборка и ремонт      True  \n",
       "19     3299.0  2018-10   Дом и интерьер     False  \n",
       "20     1162.0  2018-10   Дом и интерьер     False  "
      ]
     },
     "execution_count": 43,
     "metadata": {},
     "output_type": "execute_result"
    }
   ],
   "source": [
    "data['seasonal'] = data.apply(func_seasonal, axis=1)\n",
    "data.head(10)"
   ]
  },
  {
   "cell_type": "markdown",
   "metadata": {},
   "source": [
    "Мы изучили основные показатели продаж магазина за год по месяцам и узнали, какие категории товаров пользуются наибольшим спросом. Кроме того, мы выявили сезонные товары. Попробуем узнать, как с помощью этих данных повысить эффективность работы магазина. Для этого проанализируем поведение покупателей - сегментируем клиентов, основываясь на истории их покупок. "
   ]
  },
  {
   "cell_type": "markdown",
   "metadata": {},
   "source": [
    "## Сегментация покупателей на основе истории их покупок "
   ]
  },
  {
   "cell_type": "markdown",
   "metadata": {},
   "source": [
    "### 1. Сегментация по общим параметрам покупок "
   ]
  },
  {
   "cell_type": "markdown",
   "metadata": {},
   "source": [
    "Для начала, разделим покупателей по таким критериям:\n",
    "\n",
    "- частота заказов\n",
    "- средняя сумма покупок\n",
    "- среднее количество товаров в заказе\n",
    "- частота сезонных покупок\n",
    "\n",
    "Создадим новую таблицу, куда поместим все перечисленные данные. "
   ]
  },
  {
   "cell_type": "code",
   "execution_count": 44,
   "metadata": {
    "scrolled": true
   },
   "outputs": [
    {
     "data": {
      "text/html": [
       "<div>\n",
       "<style scoped>\n",
       "    .dataframe tbody tr th:only-of-type {\n",
       "        vertical-align: middle;\n",
       "    }\n",
       "\n",
       "    .dataframe tbody tr th {\n",
       "        vertical-align: top;\n",
       "    }\n",
       "\n",
       "    .dataframe thead th {\n",
       "        text-align: right;\n",
       "    }\n",
       "</style>\n",
       "<table border=\"1\" class=\"dataframe\">\n",
       "  <thead>\n",
       "    <tr style=\"text-align: right;\">\n",
       "      <th></th>\n",
       "      <th>customer_id</th>\n",
       "      <th>orders_total</th>\n",
       "      <th>months_total</th>\n",
       "      <th>order_frequency</th>\n",
       "      <th>sum_avg</th>\n",
       "      <th>quantity_avg</th>\n",
       "      <th>seasonal</th>\n",
       "    </tr>\n",
       "  </thead>\n",
       "  <tbody>\n",
       "    <tr>\n",
       "      <th>0</th>\n",
       "      <td>001cee7f-0b29-4716-b202-0042213ab038</td>\n",
       "      <td>1</td>\n",
       "      <td>1</td>\n",
       "      <td>1.0</td>\n",
       "      <td>442.0</td>\n",
       "      <td>1.0</td>\n",
       "      <td>1.0</td>\n",
       "    </tr>\n",
       "    <tr>\n",
       "      <th>1</th>\n",
       "      <td>00299f34-5385-4d13-9aea-c80b81658e1b</td>\n",
       "      <td>1</td>\n",
       "      <td>1</td>\n",
       "      <td>1.0</td>\n",
       "      <td>914.0</td>\n",
       "      <td>2.0</td>\n",
       "      <td>0.0</td>\n",
       "    </tr>\n",
       "    <tr>\n",
       "      <th>2</th>\n",
       "      <td>002d4d3a-4a59-406b-86ec-c3314357e498</td>\n",
       "      <td>1</td>\n",
       "      <td>1</td>\n",
       "      <td>1.0</td>\n",
       "      <td>1649.0</td>\n",
       "      <td>1.0</td>\n",
       "      <td>0.0</td>\n",
       "    </tr>\n",
       "    <tr>\n",
       "      <th>3</th>\n",
       "      <td>003bbd39-0000-41ff-b7f9-2ddaec152037</td>\n",
       "      <td>1</td>\n",
       "      <td>1</td>\n",
       "      <td>1.0</td>\n",
       "      <td>2324.0</td>\n",
       "      <td>2.0</td>\n",
       "      <td>0.0</td>\n",
       "    </tr>\n",
       "    <tr>\n",
       "      <th>4</th>\n",
       "      <td>004d24e9-4a6c-4d0e-8727-8391dfd4b43a</td>\n",
       "      <td>1</td>\n",
       "      <td>1</td>\n",
       "      <td>1.0</td>\n",
       "      <td>1536.0</td>\n",
       "      <td>12.0</td>\n",
       "      <td>0.0</td>\n",
       "    </tr>\n",
       "    <tr>\n",
       "      <th>5</th>\n",
       "      <td>005ba170-45e8-42de-93f7-192481ae2659</td>\n",
       "      <td>1</td>\n",
       "      <td>1</td>\n",
       "      <td>1.0</td>\n",
       "      <td>1199.0</td>\n",
       "      <td>1.0</td>\n",
       "      <td>0.0</td>\n",
       "    </tr>\n",
       "    <tr>\n",
       "      <th>6</th>\n",
       "      <td>00bd74b1-2792-47db-a2f1-680a09ac5026</td>\n",
       "      <td>1</td>\n",
       "      <td>1</td>\n",
       "      <td>1.0</td>\n",
       "      <td>937.0</td>\n",
       "      <td>1.0</td>\n",
       "      <td>0.0</td>\n",
       "    </tr>\n",
       "    <tr>\n",
       "      <th>7</th>\n",
       "      <td>00c0f92a-121a-4883-a78d-2c7b5fe187de</td>\n",
       "      <td>1</td>\n",
       "      <td>1</td>\n",
       "      <td>1.0</td>\n",
       "      <td>134.0</td>\n",
       "      <td>1.0</td>\n",
       "      <td>1.0</td>\n",
       "    </tr>\n",
       "    <tr>\n",
       "      <th>8</th>\n",
       "      <td>00cd704a-a65c-4865-b39a-779f1b4f1d1a</td>\n",
       "      <td>1</td>\n",
       "      <td>1</td>\n",
       "      <td>1.0</td>\n",
       "      <td>112.0</td>\n",
       "      <td>1.0</td>\n",
       "      <td>1.0</td>\n",
       "    </tr>\n",
       "    <tr>\n",
       "      <th>9</th>\n",
       "      <td>00e59a12-06d5-47fc-9a33-bfc53aca1e9f</td>\n",
       "      <td>1</td>\n",
       "      <td>1</td>\n",
       "      <td>1.0</td>\n",
       "      <td>1798.0</td>\n",
       "      <td>2.0</td>\n",
       "      <td>0.0</td>\n",
       "    </tr>\n",
       "  </tbody>\n",
       "</table>\n",
       "</div>"
      ],
      "text/plain": [
       "                            customer_id  orders_total  months_total  \\\n",
       "0  001cee7f-0b29-4716-b202-0042213ab038             1             1   \n",
       "1  00299f34-5385-4d13-9aea-c80b81658e1b             1             1   \n",
       "2  002d4d3a-4a59-406b-86ec-c3314357e498             1             1   \n",
       "3  003bbd39-0000-41ff-b7f9-2ddaec152037             1             1   \n",
       "4  004d24e9-4a6c-4d0e-8727-8391dfd4b43a             1             1   \n",
       "5  005ba170-45e8-42de-93f7-192481ae2659             1             1   \n",
       "6  00bd74b1-2792-47db-a2f1-680a09ac5026             1             1   \n",
       "7  00c0f92a-121a-4883-a78d-2c7b5fe187de             1             1   \n",
       "8  00cd704a-a65c-4865-b39a-779f1b4f1d1a             1             1   \n",
       "9  00e59a12-06d5-47fc-9a33-bfc53aca1e9f             1             1   \n",
       "\n",
       "   order_frequency  sum_avg  quantity_avg  seasonal  \n",
       "0              1.0    442.0           1.0       1.0  \n",
       "1              1.0    914.0           2.0       0.0  \n",
       "2              1.0   1649.0           1.0       0.0  \n",
       "3              1.0   2324.0           2.0       0.0  \n",
       "4              1.0   1536.0          12.0       0.0  \n",
       "5              1.0   1199.0           1.0       0.0  \n",
       "6              1.0    937.0           1.0       0.0  \n",
       "7              1.0    134.0           1.0       1.0  \n",
       "8              1.0    112.0           1.0       1.0  \n",
       "9              1.0   1798.0           2.0       0.0  "
      ]
     },
     "execution_count": 44,
     "metadata": {},
     "output_type": "execute_result"
    }
   ],
   "source": [
    "# сначала получим общее число заказов пользователя и количество месяцев, когда он их совершал\n",
    "customers = data.groupby('customer_id')['order_id'].nunique().reset_index().rename(columns={'order_id': 'orders_total'})\n",
    "customers['months_total'] = data.groupby('customer_id')['month'].nunique().reset_index()['month']\n",
    "# вычисли среднюю частоту заказов, разделив количество заказов на количество месяцев\n",
    "customers['order_frequency'] = customers['orders_total'] / customers['months_total']\n",
    "# вычислим среднюю сумму покупок, разделив общую сумму на количесвто заказов\n",
    "customers['sum_avg'] = data.groupby('customer_id')['sum_total'].sum().reset_index()['sum_total'] / customers['orders_total']\n",
    "# вычислим среднее количество товаров в заказе\n",
    "customers['quantity_avg'] = data.groupby('customer_id')['quantity'].sum().reset_index()['quantity'] / customers['orders_total']\n",
    "# вычислим частоту сезонных покупок\n",
    "customers['seasonal'] = data.groupby('customer_id')['seasonal'].sum().reset_index()['seasonal'] / data.groupby('customer_id')['seasonal'].count().reset_index()['seasonal']\n",
    "customers.head(10)"
   ]
  },
  {
   "cell_type": "markdown",
   "metadata": {},
   "source": [
    "Визуализируем соотношение частоты заказов и среднего чека покупателей на диаграмме рассеяния."
   ]
  },
  {
   "cell_type": "code",
   "execution_count": 45,
   "metadata": {
    "scrolled": false
   },
   "outputs": [
    {
     "data": {
      "image/png": "[encoded data removed]",
      "text/plain": [
       "<Figure size 1296x432 with 2 Axes>"
      ]
     },
     "metadata": {
      "needs_background": "light"
     },
     "output_type": "display_data"
    }
   ],
   "source": [
    "fig = plt.figure(figsize=(18, 6))\n",
    "\n",
    "ax1 = fig.add_subplot(1,2,1)\n",
    "ax2 = fig.add_subplot(1,2,2)\n",
    "\n",
    "sns.scatterplot(data=customers,\n",
    "                x='sum_avg',\n",
    "                y='order_frequency',\n",
    "                ax=ax1\n",
    "                )\n",
    "ax1.set_title('Соотношение средней частоты заказов со средним чеком покупателей')\n",
    "\n",
    "customers.groupby('orders_total')['customer_id'].count().plot(kind='bar', ax=ax2)\n",
    "ax2.set_title('Распределение покупателей по количеству заказов')\n",
    "\n",
    "plt.show()\n"
   ]
  },
  {
   "cell_type": "markdown",
   "metadata": {},
   "source": [
    "На диаграмме рассеяния большинство точек на графике скопились у значения частоты заказов = 1. Это те клиенты, которые совершили единственную покупку в магазине (второй график это подтверждает). Здесь для нас важно понять - это просто новые клиенты, которые только недавно попали в магазин и еще не успели купить больше, или это явный отток - люди, которые пропали навсегда и не планируют возвращаться. Для того, чтобы это выяснить, добавим в таблицу еще один столбец с давностью последней покупки (в месяцах)."
   ]
  },
  {
   "cell_type": "code",
   "execution_count": 46,
   "metadata": {
    "scrolled": true
   },
   "outputs": [
    {
     "data": {
      "text/html": [
       "<div>\n",
       "<style scoped>\n",
       "    .dataframe tbody tr th:only-of-type {\n",
       "        vertical-align: middle;\n",
       "    }\n",
       "\n",
       "    .dataframe tbody tr th {\n",
       "        vertical-align: top;\n",
       "    }\n",
       "\n",
       "    .dataframe thead th {\n",
       "        text-align: right;\n",
       "    }\n",
       "</style>\n",
       "<table border=\"1\" class=\"dataframe\">\n",
       "  <thead>\n",
       "    <tr style=\"text-align: right;\">\n",
       "      <th></th>\n",
       "      <th>customer_id</th>\n",
       "      <th>orders_total</th>\n",
       "      <th>months_total</th>\n",
       "      <th>order_frequency</th>\n",
       "      <th>sum_avg</th>\n",
       "      <th>quantity_avg</th>\n",
       "      <th>seasonal</th>\n",
       "      <th>last_order</th>\n",
       "    </tr>\n",
       "  </thead>\n",
       "  <tbody>\n",
       "    <tr>\n",
       "      <th>0</th>\n",
       "      <td>001cee7f-0b29-4716-b202-0042213ab038</td>\n",
       "      <td>1</td>\n",
       "      <td>1</td>\n",
       "      <td>1.0</td>\n",
       "      <td>442.0</td>\n",
       "      <td>1.0</td>\n",
       "      <td>1.0</td>\n",
       "      <td>8</td>\n",
       "    </tr>\n",
       "    <tr>\n",
       "      <th>1</th>\n",
       "      <td>00299f34-5385-4d13-9aea-c80b81658e1b</td>\n",
       "      <td>1</td>\n",
       "      <td>1</td>\n",
       "      <td>1.0</td>\n",
       "      <td>914.0</td>\n",
       "      <td>2.0</td>\n",
       "      <td>0.0</td>\n",
       "      <td>0</td>\n",
       "    </tr>\n",
       "    <tr>\n",
       "      <th>2</th>\n",
       "      <td>002d4d3a-4a59-406b-86ec-c3314357e498</td>\n",
       "      <td>1</td>\n",
       "      <td>1</td>\n",
       "      <td>1.0</td>\n",
       "      <td>1649.0</td>\n",
       "      <td>1.0</td>\n",
       "      <td>0.0</td>\n",
       "      <td>9</td>\n",
       "    </tr>\n",
       "    <tr>\n",
       "      <th>3</th>\n",
       "      <td>003bbd39-0000-41ff-b7f9-2ddaec152037</td>\n",
       "      <td>1</td>\n",
       "      <td>1</td>\n",
       "      <td>1.0</td>\n",
       "      <td>2324.0</td>\n",
       "      <td>2.0</td>\n",
       "      <td>0.0</td>\n",
       "      <td>1</td>\n",
       "    </tr>\n",
       "    <tr>\n",
       "      <th>4</th>\n",
       "      <td>004d24e9-4a6c-4d0e-8727-8391dfd4b43a</td>\n",
       "      <td>1</td>\n",
       "      <td>1</td>\n",
       "      <td>1.0</td>\n",
       "      <td>1536.0</td>\n",
       "      <td>12.0</td>\n",
       "      <td>0.0</td>\n",
       "      <td>9</td>\n",
       "    </tr>\n",
       "  </tbody>\n",
       "</table>\n",
       "</div>"
      ],
      "text/plain": [
       "                            customer_id  orders_total  months_total  \\\n",
       "0  001cee7f-0b29-4716-b202-0042213ab038             1             1   \n",
       "1  00299f34-5385-4d13-9aea-c80b81658e1b             1             1   \n",
       "2  002d4d3a-4a59-406b-86ec-c3314357e498             1             1   \n",
       "3  003bbd39-0000-41ff-b7f9-2ddaec152037             1             1   \n",
       "4  004d24e9-4a6c-4d0e-8727-8391dfd4b43a             1             1   \n",
       "\n",
       "   order_frequency  sum_avg  quantity_avg  seasonal  last_order  \n",
       "0              1.0    442.0           1.0       1.0           8  \n",
       "1              1.0    914.0           2.0       0.0           0  \n",
       "2              1.0   1649.0           1.0       0.0           9  \n",
       "3              1.0   2324.0           2.0       0.0           1  \n",
       "4              1.0   1536.0          12.0       0.0           9  "
      ]
     },
     "execution_count": 46,
     "metadata": {},
     "output_type": "execute_result"
    }
   ],
   "source": [
    "customers = customers.merge(data.groupby('customer_id')['month'].max().reset_index(),\n",
    "                                          on='customer_id'\n",
    "                                         ).rename(columns={'month': 'last_order'})\n",
    "customers['last_order'] = customers['last_order'].apply(lambda x: sorted(data['month'].unique(), reverse=True).index(x))\n",
    "customers.head()"
   ]
  },
  {
   "cell_type": "code",
   "execution_count": 47,
   "metadata": {
    "scrolled": true
   },
   "outputs": [
    {
     "data": {
      "image/png": "[encoded data removed]",
      "text/plain": [
       "<Figure size 432x288 with 1 Axes>"
      ]
     },
     "metadata": {
      "needs_background": "light"
     },
     "output_type": "display_data"
    }
   ],
   "source": [
    "customers.groupby('last_order')['customer_id'].count().plot(kind='bar')\n",
    "plt.show()"
   ]
  },
  {
   "cell_type": "markdown",
   "metadata": {},
   "source": [
    "Этот график практически зеркально отображает график \"Суммарной выручки по месяцам\", который мы строили, когда оценивали показатели по месяцам. Получается, что падение выручки связано с невозвратом клиентов. Возможно, в период, когда выручка была большой, проводились какие-то мероприятия по привлечению клиентов - реклама или промо-акции. В результате чего, наблюдалось не только увеличение выручки, но и приток \"одноразовых\" клиентов, которые больше не вернулись. Если это действительно так, то возможно компании стоит проанализировать этот вопрос и принять соответствующие решения."
   ]
  },
  {
   "cell_type": "markdown",
   "metadata": {},
   "source": [
    "Далее произведем сегментацию клиентов, используя популярные алгоритмы машинного обучения. Сначала построим дендрограмму на основе агломеративной иерархической кластеризации, а после оценки оптимального числа кластеров запустим алгоритм K-Means."
   ]
  },
  {
   "cell_type": "code",
   "execution_count": 48,
   "metadata": {},
   "outputs": [],
   "source": [
    "scaler = StandardScaler() # создаём объект класса scaler (нормализатор)\n",
    "x_sc = scaler.fit_transform(customers[['order_frequency', 'sum_avg', 'quantity_avg', 'seasonal', 'last_order']]) # обучаем нормализатор и преобразуем набор данных "
   ]
  },
  {
   "cell_type": "code",
   "execution_count": 49,
   "metadata": {
    "scrolled": false
   },
   "outputs": [
    {
     "data": {
      "image/png": "[encoded data removed]",
      "text/plain": [
       "<Figure size 1080x720 with 1 Axes>"
      ]
     },
     "metadata": {
      "needs_background": "light"
     },
     "output_type": "display_data"
    }
   ],
   "source": [
    "linked = linkage(x_sc, method = 'ward') \n",
    "plt.figure(figsize=(15, 10))  \n",
    "dendrogram(linked, orientation='top', no_labels=True)\n",
    "plt.title('Иерархическая кластеризация')\n",
    "plt.show() "
   ]
  },
  {
   "cell_type": "code",
   "execution_count": 50,
   "metadata": {
    "scrolled": false
   },
   "outputs": [
    {
     "name": "stdout",
     "output_type": "stream",
     "text": [
      "         orders_total  months_total  order_frequency   sum_avg  quantity_avg  \\\n",
      "cluster                                                                        \n",
      "0               1.056         1.005            1.050  1116.398         2.981   \n",
      "1               1.062         1.016            1.044  1014.784         2.084   \n",
      "2              55.333         2.667           22.000  1364.175         3.052   \n",
      "3               1.000         1.000            1.000  4128.933       102.667   \n",
      "4               1.072         1.012            1.059  1046.632         2.255   \n",
      "\n",
      "         seasonal  last_order  \n",
      "cluster                        \n",
      "0           0.000       8.669  \n",
      "1           0.997       8.441  \n",
      "2           0.305       6.333  \n",
      "3           0.133       6.133  \n",
      "4           0.001       2.290  \n"
     ]
    }
   ],
   "source": [
    "# задаём модель k_means с числом кластеров 5 и фиксируем значение random_state\n",
    "km = KMeans(n_clusters=5, random_state=0) \n",
    "# прогнозируем кластеры для наблюдений (алгоритм присваивает им номера от 0 до 4)\n",
    "labels = km.fit_predict(x_sc)\n",
    "\n",
    "# сохраняем метки кластера в поле нашего датасета\n",
    "customers['cluster'] = labels\n",
    "\n",
    "\n",
    "# выводим статистику по средним значениям наших признаков по кластеру\n",
    "print(round(customers.groupby('cluster').mean(),3))\n"
   ]
  },
  {
   "cell_type": "markdown",
   "metadata": {},
   "source": [
    "Итак, мы получили пять кластеров. Посмотрим, сколько покупателей попало в каждый кластер:\n",
    "    "
   ]
  },
  {
   "cell_type": "code",
   "execution_count": 51,
   "metadata": {
    "scrolled": false
   },
   "outputs": [
    {
     "data": {
      "text/plain": [
       "cluster\n",
       "0    753\n",
       "1    433\n",
       "2      3\n",
       "3     15\n",
       "4    834\n",
       "Name: customer_id, dtype: int64"
      ]
     },
     "execution_count": 51,
     "metadata": {},
     "output_type": "execute_result"
    }
   ],
   "source": [
    "customers.groupby('cluster')['customer_id'].count()"
   ]
  },
  {
   "cell_type": "markdown",
   "metadata": {},
   "source": [
    "И визуализируем распределение признаков полученных кластеров с помощью диаграмм размаха."
   ]
  },
  {
   "cell_type": "code",
   "execution_count": 52,
   "metadata": {},
   "outputs": [
    {
     "data": {
      "image/png": "[encoded data removed]",
      "text/plain": [
       "<Figure size 1440x216 with 5 Axes>"
      ]
     },
     "metadata": {
      "needs_background": "light"
     },
     "output_type": "display_data"
    },
    {
     "data": {
      "image/png": "[encoded data removed]",
      "text/plain": [
       "<Figure size 1440x216 with 5 Axes>"
      ]
     },
     "metadata": {
      "needs_background": "light"
     },
     "output_type": "display_data"
    },
    {
     "data": {
      "image/png": "[encoded data removed]",
      "text/plain": [
       "<Figure size 1440x216 with 5 Axes>"
      ]
     },
     "metadata": {
      "needs_background": "light"
     },
     "output_type": "display_data"
    },
    {
     "data": {
      "image/png": "[encoded data removed]",
      "text/plain": [
       "<Figure size 1440x216 with 5 Axes>"
      ]
     },
     "metadata": {
      "needs_background": "light"
     },
     "output_type": "display_data"
    },
    {
     "data": {
      "image/png": "[encoded data removed]",
      "text/plain": [
       "<Figure size 1440x216 with 5 Axes>"
      ]
     },
     "metadata": {
      "needs_background": "light"
     },
     "output_type": "display_data"
    }
   ],
   "source": [
    "\n",
    "for cluster in range(5):\n",
    "     \n",
    "    fig = plt.figure(figsize=(20, 3))\n",
    "\n",
    "    i = 0\n",
    "    for col in ['order_frequency', 'sum_avg', 'quantity_avg', 'seasonal', 'last_order']:\n",
    "        i+=1\n",
    "        ax=fig.add_subplot(1,5,i)\n",
    "        sns.boxplot(data=customers[customers['cluster'] ==cluster],\n",
    "                    x='cluster',\n",
    "                    y=col,        \n",
    "                    ax=ax\n",
    "                    )\n",
    "        ax.set_title(col+ ' для № '+ str(cluster))  \n",
    "        ax.set_xlabel(' ')\n",
    "        ax.set_ylabel(' ')\n",
    "        \n",
    "plt.show()\n"
   ]
  },
  {
   "cell_type": "markdown",
   "metadata": {},
   "source": [
    "Проанализировав диаграммы размаха, можем  сформулировать следующие наблюдения о \"средних\" представителях этих кластеров:\n",
    "\n",
    "           \n",
    "    - 0 -  Сюда попали клиенты, которые однократно совершили небольшую покупку НЕ сезонного товара больше полугода назад. Вероятно, это те люди которые случайно попали на сайт(скорее всего из поисковика или после какой-то промо-акции), купили то, что хотели и больше не заказывали. Таких клиентов надо \"возвращать\" - хорошая стратегия \"заманить\" их обратно - предложение дополнительных скидок на весь ассортимент, т.к. однократная покупка не позволяет нам точно понять потребности таких клиентов.\n",
    "    \n",
    "     - 1 - Это клиенты, которые давно совершили единственную покупку сезонных товаров. Их можно попробовать вернуть дополнительными скидками на ту же категорию товаров в следующем году.\n",
    "   \n",
    "      - 2 - В этот кластер попало совсем мало клиентов. Это клиенты, которые покупают не очень много и не привязываются к сезонным товарам, НО в отличие от всех остальных, они имеют бОльшую частоту заказов, т.е. склонны периодически возвращаться и делать заказы. Они уже имеют доверие к магазину, поэтому главная задача здесь - не потерять его. Для этих людей может быть интересна система кэшбека на следующую покупку или скидочные сертификаты ( тоже на следующую покупку и, естественно, с ограниченным сроком действия) - это смотивирует их возвращаться еще чаще. В целом, такие акции можно предложить всем клиентам, кто уже совершал несколько повторных заказов. \n",
    "      \n",
    "      - 3 - Этот кластер - это клиенты, имеющие бОльший средний чек, по сравнению с остальными. В их заказах больше позиций товаров, а значит их  могут заинтересовать акции на количество товаров в чеке (из серии купи два, третий получи в подарок или со скидкой), а также система кэшбека на следующую покупку - чем больше купил, тем больше получил баллами на следующий заказ.\n",
    "        \n",
    "    - 4 - Последний кластер по всем признакам похож на кластер №0 (однократный заказ несезонных товаров на небольшую сумму) с одним важным отличием -  большинство из этих клиентов совершили последнюю покупку меньше 4 месяцев назад. Т.е. они еще не безнадежно потеряны для магазины и вполне могут вернуться. Здесь магазину имеет смысл поработать над выявлением потребностей клиентов: например, запустить акцию, где клиент сам выберет 1-2 категории товаров, на которые хочет получать дополнительную скидку. Этот кластер получился самым многочисленным - это значит, что он обладает большим потенциалом и при правильной работе с ним, может принести магазину хорошую выручку.\n",
    "        \n",
    "    \n",
    "    \n",
    "\n",
    "    \n",
    "  \n"
   ]
  },
  {
   "cell_type": "markdown",
   "metadata": {},
   "source": [
    "### 2. Сегментация по товарным категориям"
   ]
  },
  {
   "cell_type": "markdown",
   "metadata": {},
   "source": [
    "Для начала узнаем, покупки по скольким категориям товаров имеют пользователи.  "
   ]
  },
  {
   "cell_type": "code",
   "execution_count": 53,
   "metadata": {},
   "outputs": [
    {
     "data": {
      "text/plain": [
       "1    2020\n",
       "2      13\n",
       "3       2\n",
       "6       1\n",
       "5       1\n",
       "8       1\n",
       "Name: category, dtype: int64"
      ]
     },
     "execution_count": 53,
     "metadata": {},
     "output_type": "execute_result"
    }
   ],
   "source": [
    "data.groupby('customer_id')['category'].nunique().value_counts()"
   ]
  },
  {
   "cell_type": "markdown",
   "metadata": {},
   "source": [
    "Любопытно, что подавляющее большинство покупает товары только в одной категории, совсем немного людей - в 2-3, и лишь единицы в 4 категориях и больше. Разделим пользователей по сегментам, исходя из этого признака."
   ]
  },
  {
   "cell_type": "code",
   "execution_count": 54,
   "metadata": {
    "scrolled": false
   },
   "outputs": [
    {
     "data": {
      "text/html": [
       "<div>\n",
       "<style scoped>\n",
       "    .dataframe tbody tr th:only-of-type {\n",
       "        vertical-align: middle;\n",
       "    }\n",
       "\n",
       "    .dataframe tbody tr th {\n",
       "        vertical-align: top;\n",
       "    }\n",
       "\n",
       "    .dataframe thead th {\n",
       "        text-align: right;\n",
       "    }\n",
       "</style>\n",
       "<table border=\"1\" class=\"dataframe\">\n",
       "  <thead>\n",
       "    <tr style=\"text-align: right;\">\n",
       "      <th></th>\n",
       "      <th>date</th>\n",
       "      <th>customer_id</th>\n",
       "      <th>order_id</th>\n",
       "      <th>product</th>\n",
       "      <th>quantity</th>\n",
       "      <th>price</th>\n",
       "      <th>sum_total</th>\n",
       "      <th>month</th>\n",
       "      <th>category</th>\n",
       "      <th>seasonal</th>\n",
       "      <th>cluster</th>\n",
       "    </tr>\n",
       "  </thead>\n",
       "  <tbody>\n",
       "    <tr>\n",
       "      <th>0</th>\n",
       "      <td>2018-10-01</td>\n",
       "      <td>375e0724-f033-4c76-b579-84969cf38ee2</td>\n",
       "      <td>68479</td>\n",
       "      <td>Настенная сушилка для белья Gimi Brio Super 100</td>\n",
       "      <td>1</td>\n",
       "      <td>824.0</td>\n",
       "      <td>824.0</td>\n",
       "      <td>2018-10</td>\n",
       "      <td>Дом и интерьер</td>\n",
       "      <td>False</td>\n",
       "      <td>0</td>\n",
       "    </tr>\n",
       "    <tr>\n",
       "      <th>1</th>\n",
       "      <td>2018-10-01</td>\n",
       "      <td>6644e5b4-9934-4863-9778-aaa125207701</td>\n",
       "      <td>68478</td>\n",
       "      <td>Таз пластмассовый 21,0 л круглый \"Водолей\" С61...</td>\n",
       "      <td>1</td>\n",
       "      <td>269.0</td>\n",
       "      <td>269.0</td>\n",
       "      <td>2018-10</td>\n",
       "      <td>Уборка и ремонт</td>\n",
       "      <td>True</td>\n",
       "      <td>1</td>\n",
       "    </tr>\n",
       "    <tr>\n",
       "      <th>2</th>\n",
       "      <td>2018-10-01</td>\n",
       "      <td>c971fb21-d54c-4134-938f-16b62ee86d3b</td>\n",
       "      <td>68480</td>\n",
       "      <td>Чехол для гладильной доски Colombo Persia Beig...</td>\n",
       "      <td>1</td>\n",
       "      <td>674.0</td>\n",
       "      <td>674.0</td>\n",
       "      <td>2018-10</td>\n",
       "      <td>Дом и интерьер</td>\n",
       "      <td>False</td>\n",
       "      <td>2</td>\n",
       "    </tr>\n",
       "    <tr>\n",
       "      <th>3</th>\n",
       "      <td>2018-10-02</td>\n",
       "      <td>c971fb21-d54c-4134-938f-16b62ee86d3b</td>\n",
       "      <td>68490</td>\n",
       "      <td>Чехол для гладильной доски Festival 137x60 см ...</td>\n",
       "      <td>1</td>\n",
       "      <td>1162.0</td>\n",
       "      <td>1162.0</td>\n",
       "      <td>2018-10</td>\n",
       "      <td>Дом и интерьер</td>\n",
       "      <td>False</td>\n",
       "      <td>2</td>\n",
       "    </tr>\n",
       "    <tr>\n",
       "      <th>4</th>\n",
       "      <td>2018-10-03</td>\n",
       "      <td>c971fb21-d54c-4134-938f-16b62ee86d3b</td>\n",
       "      <td>68511</td>\n",
       "      <td>Набор прищепок большие пластиковые ROZENBAL ПИ...</td>\n",
       "      <td>10</td>\n",
       "      <td>86.0</td>\n",
       "      <td>860.0</td>\n",
       "      <td>2018-10</td>\n",
       "      <td>Дом и интерьер</td>\n",
       "      <td>False</td>\n",
       "      <td>2</td>\n",
       "    </tr>\n",
       "  </tbody>\n",
       "</table>\n",
       "</div>"
      ],
      "text/plain": [
       "        date                           customer_id  order_id  \\\n",
       "0 2018-10-01  375e0724-f033-4c76-b579-84969cf38ee2     68479   \n",
       "1 2018-10-01  6644e5b4-9934-4863-9778-aaa125207701     68478   \n",
       "2 2018-10-01  c971fb21-d54c-4134-938f-16b62ee86d3b     68480   \n",
       "3 2018-10-02  c971fb21-d54c-4134-938f-16b62ee86d3b     68490   \n",
       "4 2018-10-03  c971fb21-d54c-4134-938f-16b62ee86d3b     68511   \n",
       "\n",
       "                                             product  quantity   price  \\\n",
       "0    Настенная сушилка для белья Gimi Brio Super 100         1   824.0   \n",
       "1  Таз пластмассовый 21,0 л круглый \"Водолей\" С61...         1   269.0   \n",
       "2  Чехол для гладильной доски Colombo Persia Beig...         1   674.0   \n",
       "3  Чехол для гладильной доски Festival 137x60 см ...         1  1162.0   \n",
       "4  Набор прищепок большие пластиковые ROZENBAL ПИ...        10    86.0   \n",
       "\n",
       "   sum_total    month         category  seasonal  cluster  \n",
       "0      824.0  2018-10   Дом и интерьер     False        0  \n",
       "1      269.0  2018-10  Уборка и ремонт      True        1  \n",
       "2      674.0  2018-10   Дом и интерьер     False        2  \n",
       "3     1162.0  2018-10   Дом и интерьер     False        2  \n",
       "4      860.0  2018-10   Дом и интерьер     False        2  "
      ]
     },
     "execution_count": 54,
     "metadata": {},
     "output_type": "execute_result"
    }
   ],
   "source": [
    "# добавим в датафрейм data столбец с номером кластера клиента\n",
    "data = data.merge(customers[['customer_id', 'cluster']], on='customer_id')\n",
    "data.head()    "
   ]
  },
  {
   "cell_type": "code",
   "execution_count": 55,
   "metadata": {
    "scrolled": false
   },
   "outputs": [
    {
     "data": {
      "image/png": "[encoded data removed]",
      "text/plain": [
       "<Figure size 720x1440 with 5 Axes>"
      ]
     },
     "metadata": {
      "needs_background": "light"
     },
     "output_type": "display_data"
    }
   ],
   "source": [
    "fig = plt.figure(figsize=(10, 20))\n",
    "\n",
    "for cluster in range(5):\n",
    "    ax=fig.add_subplot(5,1,cluster+1)\n",
    "    data[data['cluster'] == cluster].groupby('category')['customer_id'].nunique().plot(kind='barh',\n",
    "                                                                                ax=ax)\n",
    "    ax.set_title('Кластер №'+str(cluster))\n",
    "    ax.set_xlabel('')\n",
    "    ax.set_ylabel('')\n",
    "    ax.set_xlim(0, 400)\n",
    "\n",
    "    plt.grid()\n",
    "plt.show()"
   ]
  },
  {
   "cell_type": "markdown",
   "metadata": {},
   "source": [
    "По столбчатым диаграммам мы видим, какие категории являются наиболее популярными в кластерах. Этот факт также следует учесть в составлении индивидуальных предложений для клиентов, которые мы описывали выше.\n"
   ]
  },
  {
   "cell_type": "markdown",
   "metadata": {},
   "source": [
    "## Проверка статистических гипотез"
   ]
  },
  {
   "cell_type": "markdown",
   "metadata": {},
   "source": [
    "### 1. Гипотеза о различии в среднем чеке для разных кластеров"
   ]
  },
  {
   "cell_type": "markdown",
   "metadata": {},
   "source": [
    "Проверим гипотезу о том, что у разных сегментов покупателей разный средний чек. Посчитаем статистическую значимость различий в среднем чеке в каждом кластере и среднему чеку, рассчитанному по всем данным.\n"
   ]
  },
  {
   "cell_type": "code",
   "execution_count": 56,
   "metadata": {},
   "outputs": [
    {
     "data": {
      "text/plain": [
       "1093"
      ]
     },
     "execution_count": 56,
     "metadata": {},
     "output_type": "execute_result"
    }
   ],
   "source": [
    "interested_value = round(data.groupby('order_id')['sum_total'].sum().mean())\n",
    "interested_value"
   ]
  },
  {
   "cell_type": "markdown",
   "metadata": {},
   "source": [
    "Сформулируем нулевую и альтернативную гипотезы:\n",
    "\n",
    "<br><i>Н0 - средний чек и средняя частота покупок в каждом кластере равна 1093\n",
    "<br><i>Н1 - средний чек и средняя частота покупок в каждом кластере не равна 1093\n"
   ]
  },
  {
   "cell_type": "code",
   "execution_count": 57,
   "metadata": {},
   "outputs": [
    {
     "name": "stdout",
     "output_type": "stream",
     "text": [
      "Для кластера №0 p-значение: 0.6190791644840554\n",
      "Не получилось отвергнуть нулевую гипотезу\n",
      "-------------------------------------------------\n",
      "Для кластера №1 p-значение: 0.19896219172278784\n",
      "Не получилось отвергнуть нулевую гипотезу\n",
      "-------------------------------------------------\n",
      "Для кластера №2 p-значение: 0.13474970929468327\n",
      "Не получилось отвергнуть нулевую гипотезу\n",
      "-------------------------------------------------\n",
      "Для кластера №3 p-значение: 6.54254749127837e-05\n",
      "Отвергаем нулевую гипотезу\n",
      "-------------------------------------------------\n",
      "Для кластера №4 p-значение: 0.3228074104249711\n",
      "Не получилось отвергнуть нулевую гипотезу\n",
      "-------------------------------------------------\n"
     ]
    }
   ],
   "source": [
    "alpha = 0.01 # критический уровень статистической значимости\n",
    "\n",
    "for cluster in range(5):\n",
    "    results = st.ttest_1samp(\n",
    "    customers[customers['cluster'] == cluster]['sum_avg'], \n",
    "    interested_value)\n",
    "\n",
    "    print('Для кластера №'+ str(cluster) +' p-значение:', results.pvalue)\n",
    "\n",
    "    if results.pvalue < alpha:\n",
    "        print(\"Отвергаем нулевую гипотезу\")\n",
    "    else:\n",
    "        print(\"Не получилось отвергнуть нулевую гипотезу\")\n",
    "    print('-------------------------------------------------')"
   ]
  },
  {
   "cell_type": "markdown",
   "metadata": {},
   "source": [
    "Статистический тест выявил значимые различия только для кластера №3, в который попали покупатели, готовые платить больше. Для этого кластера мы отвергаем нулевую гипотезу в пользу альтернативной, и будем считать, что средний чек отличается от среднего чека, рассчитанного по всем данным. \n",
    "\n",
    "Для всех остальных кластеров статистический тест не выявил значимых различий, а значит для них нет причин отвергать нулевую гипотезу в пользу альтернативной."
   ]
  },
  {
   "cell_type": "markdown",
   "metadata": {},
   "source": [
    "### 2. Гипотеза о средней сумме заказов в октябре"
   ]
  },
  {
   "cell_type": "markdown",
   "metadata": {},
   "source": [
    "В ходе исследования мы заметили, что выручка в 2019 году снизилась по сравнению с 2018 годом. Мы предположили, что это произошло из-за уменьшения количества покупателей. Проверим предположение о том, что средняя сумма заказов при этом не менялась. Посчитаем статистическую значимость различий в средней сумме заказов в октябре 2018 и октябре 2019."
   ]
  },
  {
   "cell_type": "markdown",
   "metadata": {},
   "source": [
    "Сформулируем нулевую и альтернативную гипотезы:\n",
    "\n",
    "<br><i>Н0 - средняя сумма заказов в октябре 2019 осталась такой же, как была в октябре 2018\n",
    "<br><i>Н1 - средняя сумма заказов в октябре 2019 изменилась по сравнению с октябрем 2018"
   ]
  },
  {
   "cell_type": "code",
   "execution_count": 58,
   "metadata": {},
   "outputs": [
    {
     "name": "stdout",
     "output_type": "stream",
     "text": [
      "p-значение: 0.1643337073978669\n",
      "Не получилось отвергнуть нулевую гипотезу\n"
     ]
    }
   ],
   "source": [
    "sample_1 = data[data['month'] == '2018-10'].groupby('order_id')['sum_total'].sum()\n",
    "sample_2 = data[data['month'] == '2019-10'].groupby('order_id')['sum_total'].sum()\n",
    "\n",
    "alpha = .01 # критический уровень статистической значимости\n",
    "\n",
    "\n",
    "results = st.ttest_ind(\n",
    "    sample_1, \n",
    "    sample_2)\n",
    "\n",
    "print('p-значение:', results.pvalue)\n",
    "\n",
    "if results.pvalue < alpha:\n",
    "    print(\"Отвергаем нулевую гипотезу\")\n",
    "else:\n",
    "    print(\"Не получилось отвергнуть нулевую гипотезу\") "
   ]
  },
  {
   "cell_type": "markdown",
   "metadata": {},
   "source": [
    "В данном случае статистический тест не выявил значимых различий и у нас нет оснований отвергать нулевую гипотезу."
   ]
  },
  {
   "cell_type": "markdown",
   "metadata": {},
   "source": [
    "## Выводы и рекомендации"
   ]
  },
  {
   "cell_type": "markdown",
   "metadata": {},
   "source": [
    "Мы проанализировали историю покупок клиентов интернет-магазина и обнаружили следующее:\n",
    "\n",
    "1. В текущем году магазин получает меньше выручки по сравнению с прошлым годом\n",
    "2. Падение выручки связано с невозвратом клиентов\n",
    "3. Больше половины выручки магазину приносит категория \"Дом и интерьер\"\n",
    "4. В магазине есть сезонные товары: «Растения» пользуются наибольшим спросом весной, «Уборка и ремонт» актуальны в октябре, когда отпуск закончился и люди ждут Нового года, а товары «Дом и интерьер» хорошо продаются перед праздниками – в декабре и феврале.\n",
    "\n",
    "\n"
   ]
  },
  {
   "cell_type": "markdown",
   "metadata": {},
   "source": [
    "При помощи популярных алгоритмов машинного обучения мы провели сегментацию покупателей и определили следующие сегменты:\n",
    "\n",
    "        0 – «одноразовые» клиенты, которые купили и пропали\n",
    "        1 – сезонные покупатели\n",
    "        2 – постоянные покупатели\n",
    "        3 – клиенты, готовые купить больше\n",
    "        4 – недавно присоединившиеся клиенты"
   ]
  },
  {
   "cell_type": "markdown",
   "metadata": {},
   "source": [
    "Мы изучили основные показатели клиентов в каждом сегменте и разработали для них индивидуальные предложения по акциям, которые могут быть эффективными в увеличении продаж.\n",
    "\n",
    "Также можем отметить, что у магазина есть крупные \"оптовые\" покупатели, сотрудничество с которыми может принести хорошие плоды. Для работы с ними целесообразно качественно выявить потребности, а затем подготовить персональные предложения для взаимовыгодного сотрудничества."
   ]
  },
  {
   "cell_type": "markdown",
   "metadata": {},
   "source": [
    "Ссылка на дашборд:\n",
    "https://public.tableau.com/app/profile/evgeniia.poddubnaia6108/viz/Book2_16676552920620/Dashboard1?publish=yes"
   ]
  }
 ],
 "metadata": {
  "ExecuteTimeLog": [
   {
    "duration": 441,
    "start_time": "2022-06-07T12:37:51.913Z"
   },
   {
    "duration": 151,
    "start_time": "2022-06-07T12:38:22.215Z"
   },
   {
    "duration": 84,
    "start_time": "2022-06-07T12:38:37.288Z"
   },
   {
    "duration": 88,
    "start_time": "2022-06-07T12:38:46.757Z"
   },
   {
    "duration": 72,
    "start_time": "2022-06-07T12:38:50.171Z"
   },
   {
    "duration": 108,
    "start_time": "2022-06-07T12:38:57.000Z"
   },
   {
    "duration": 95,
    "start_time": "2022-06-07T12:39:02.862Z"
   },
   {
    "duration": 12,
    "start_time": "2022-06-07T12:49:55.777Z"
   },
   {
    "duration": 7,
    "start_time": "2022-06-07T13:04:18.220Z"
   },
   {
    "duration": 42,
    "start_time": "2022-06-07T13:04:30.621Z"
   },
   {
    "duration": 12,
    "start_time": "2022-06-07T13:05:02.366Z"
   },
   {
    "duration": 4,
    "start_time": "2022-06-07T13:05:10.418Z"
   },
   {
    "duration": 13,
    "start_time": "2022-06-07T13:05:19.577Z"
   },
   {
    "duration": 95,
    "start_time": "2022-06-07T13:06:16.573Z"
   },
   {
    "duration": 95,
    "start_time": "2022-06-07T13:06:24.225Z"
   },
   {
    "duration": 4,
    "start_time": "2022-06-07T13:06:32.781Z"
   },
   {
    "duration": 13,
    "start_time": "2022-06-07T13:06:37.410Z"
   },
   {
    "duration": 21,
    "start_time": "2022-06-07T13:07:04.569Z"
   },
   {
    "duration": 4,
    "start_time": "2022-06-07T13:15:50.932Z"
   },
   {
    "duration": 12,
    "start_time": "2022-06-07T13:17:30.028Z"
   },
   {
    "duration": 45,
    "start_time": "2022-06-07T13:24:06.437Z"
   },
   {
    "duration": 9,
    "start_time": "2022-06-07T13:24:15.511Z"
   },
   {
    "duration": 8,
    "start_time": "2022-06-07T13:24:50.580Z"
   },
   {
    "duration": 7,
    "start_time": "2022-06-07T13:25:12.677Z"
   },
   {
    "duration": 7,
    "start_time": "2022-06-07T13:25:25.436Z"
   },
   {
    "duration": 6,
    "start_time": "2022-06-07T13:25:44.520Z"
   },
   {
    "duration": 6,
    "start_time": "2022-06-07T13:26:12.428Z"
   },
   {
    "duration": 7,
    "start_time": "2022-06-07T13:27:53.864Z"
   },
   {
    "duration": 6,
    "start_time": "2022-06-07T13:28:09.564Z"
   },
   {
    "duration": 596,
    "start_time": "2022-06-08T13:59:14.743Z"
   },
   {
    "duration": 5,
    "start_time": "2022-06-08T13:59:18.961Z"
   },
   {
    "duration": 26,
    "start_time": "2022-06-08T13:59:20.846Z"
   },
   {
    "duration": 5,
    "start_time": "2022-06-08T13:59:31.854Z"
   },
   {
    "duration": 26,
    "start_time": "2022-06-08T14:06:56.647Z"
   },
   {
    "duration": 31,
    "start_time": "2022-06-08T14:07:05.235Z"
   },
   {
    "duration": 4,
    "start_time": "2022-06-08T14:07:52.374Z"
   },
   {
    "duration": 4,
    "start_time": "2022-06-08T14:08:23.422Z"
   },
   {
    "duration": 19,
    "start_time": "2022-06-08T14:08:44.561Z"
   },
   {
    "duration": 5,
    "start_time": "2022-06-08T14:09:29.903Z"
   },
   {
    "duration": 6,
    "start_time": "2022-06-08T14:09:39.948Z"
   },
   {
    "duration": 6,
    "start_time": "2022-06-08T14:15:25.999Z"
   },
   {
    "duration": 2,
    "start_time": "2022-06-08T14:21:04.554Z"
   },
   {
    "duration": 73,
    "start_time": "2022-06-08T14:24:21.864Z"
   },
   {
    "duration": 263,
    "start_time": "2022-06-08T14:24:46.017Z"
   },
   {
    "duration": 10,
    "start_time": "2022-06-08T14:24:58.261Z"
   },
   {
    "duration": 8,
    "start_time": "2022-06-08T14:25:35.838Z"
   },
   {
    "duration": 7,
    "start_time": "2022-06-08T14:25:45.128Z"
   },
   {
    "duration": 20,
    "start_time": "2022-06-08T14:25:55.472Z"
   },
   {
    "duration": 3,
    "start_time": "2022-06-08T14:26:08.176Z"
   },
   {
    "duration": 464,
    "start_time": "2022-06-08T14:26:30.611Z"
   },
   {
    "duration": 4606,
    "start_time": "2022-06-08T14:26:31.077Z"
   },
   {
    "duration": 3689,
    "start_time": "2022-06-08T14:26:35.685Z"
   },
   {
    "duration": 1181,
    "start_time": "2022-06-08T14:26:39.377Z"
   },
   {
    "duration": 2272,
    "start_time": "2022-06-08T14:26:40.560Z"
   },
   {
    "duration": 38,
    "start_time": "2022-06-08T14:26:42.833Z"
   },
   {
    "duration": 51,
    "start_time": "2022-06-08T14:26:42.873Z"
   },
   {
    "duration": 15,
    "start_time": "2022-06-08T14:26:42.927Z"
   },
   {
    "duration": 16,
    "start_time": "2022-06-08T14:26:42.944Z"
   },
   {
    "duration": 43,
    "start_time": "2022-06-08T14:26:42.962Z"
   },
   {
    "duration": 525,
    "start_time": "2022-06-08T14:27:33.853Z"
   },
   {
    "duration": 451,
    "start_time": "2022-06-08T14:27:51.847Z"
   },
   {
    "duration": 417,
    "start_time": "2022-06-08T14:28:03.754Z"
   },
   {
    "duration": 15,
    "start_time": "2022-06-08T14:30:51.095Z"
   },
   {
    "duration": 531,
    "start_time": "2022-06-29T16:15:56.083Z"
   },
   {
    "duration": 15,
    "start_time": "2022-06-29T16:15:56.616Z"
   },
   {
    "duration": 17,
    "start_time": "2022-06-29T16:15:56.632Z"
   },
   {
    "duration": 24,
    "start_time": "2022-06-29T16:15:56.651Z"
   },
   {
    "duration": 90,
    "start_time": "2022-06-29T16:15:56.677Z"
   },
   {
    "duration": 0,
    "start_time": "2022-06-29T16:15:56.772Z"
   },
   {
    "duration": 0,
    "start_time": "2022-06-29T16:15:56.774Z"
   },
   {
    "duration": 0,
    "start_time": "2022-06-29T16:15:56.775Z"
   },
   {
    "duration": 0,
    "start_time": "2022-06-29T16:15:56.777Z"
   },
   {
    "duration": 0,
    "start_time": "2022-06-29T16:15:56.778Z"
   },
   {
    "duration": 0,
    "start_time": "2022-06-29T16:15:56.779Z"
   },
   {
    "duration": 0,
    "start_time": "2022-06-29T16:15:56.780Z"
   },
   {
    "duration": 0,
    "start_time": "2022-06-29T16:15:56.782Z"
   },
   {
    "duration": 0,
    "start_time": "2022-06-29T16:15:56.783Z"
   },
   {
    "duration": 0,
    "start_time": "2022-06-29T16:15:56.784Z"
   },
   {
    "duration": 0,
    "start_time": "2022-06-29T16:15:56.785Z"
   },
   {
    "duration": 0,
    "start_time": "2022-06-29T16:15:56.786Z"
   },
   {
    "duration": 0,
    "start_time": "2022-06-29T16:15:56.787Z"
   },
   {
    "duration": 0,
    "start_time": "2022-06-29T16:15:56.788Z"
   },
   {
    "duration": 0,
    "start_time": "2022-06-29T16:15:56.789Z"
   },
   {
    "duration": 0,
    "start_time": "2022-06-29T16:15:56.790Z"
   },
   {
    "duration": 0,
    "start_time": "2022-06-29T16:15:56.791Z"
   },
   {
    "duration": 0,
    "start_time": "2022-06-29T16:15:56.792Z"
   },
   {
    "duration": 0,
    "start_time": "2022-06-29T16:15:56.793Z"
   },
   {
    "duration": 0,
    "start_time": "2022-06-29T16:15:56.794Z"
   },
   {
    "duration": 0,
    "start_time": "2022-06-29T16:15:56.795Z"
   },
   {
    "duration": 0,
    "start_time": "2022-06-29T16:15:56.796Z"
   },
   {
    "duration": 0,
    "start_time": "2022-06-29T16:15:56.797Z"
   },
   {
    "duration": 0,
    "start_time": "2022-06-29T16:15:56.798Z"
   },
   {
    "duration": 0,
    "start_time": "2022-06-29T16:15:56.799Z"
   },
   {
    "duration": 0,
    "start_time": "2022-06-29T16:15:56.800Z"
   },
   {
    "duration": 0,
    "start_time": "2022-06-29T16:15:56.855Z"
   },
   {
    "duration": 0,
    "start_time": "2022-06-29T16:15:56.856Z"
   },
   {
    "duration": 0,
    "start_time": "2022-06-29T16:15:56.857Z"
   },
   {
    "duration": 0,
    "start_time": "2022-06-29T16:15:56.858Z"
   },
   {
    "duration": 0,
    "start_time": "2022-06-29T16:15:56.859Z"
   },
   {
    "duration": 0,
    "start_time": "2022-06-29T16:15:56.860Z"
   },
   {
    "duration": 0,
    "start_time": "2022-06-29T16:15:56.861Z"
   },
   {
    "duration": 0,
    "start_time": "2022-06-29T16:15:56.861Z"
   },
   {
    "duration": 0,
    "start_time": "2022-06-29T16:15:56.862Z"
   },
   {
    "duration": 0,
    "start_time": "2022-06-29T16:15:56.866Z"
   },
   {
    "duration": 0,
    "start_time": "2022-06-29T16:15:56.868Z"
   },
   {
    "duration": 0,
    "start_time": "2022-06-29T16:15:56.869Z"
   },
   {
    "duration": 0,
    "start_time": "2022-06-29T16:15:56.870Z"
   },
   {
    "duration": 0,
    "start_time": "2022-06-29T16:15:56.872Z"
   },
   {
    "duration": 0,
    "start_time": "2022-06-29T16:15:56.873Z"
   },
   {
    "duration": 1,
    "start_time": "2022-06-29T16:15:56.874Z"
   },
   {
    "duration": 0,
    "start_time": "2022-06-29T16:15:56.876Z"
   },
   {
    "duration": 0,
    "start_time": "2022-06-29T16:15:56.878Z"
   },
   {
    "duration": 0,
    "start_time": "2022-06-29T16:15:56.879Z"
   },
   {
    "duration": 0,
    "start_time": "2022-06-29T16:15:56.880Z"
   },
   {
    "duration": 82,
    "start_time": "2022-06-29T16:16:24.068Z"
   },
   {
    "duration": 22,
    "start_time": "2022-06-29T16:16:24.153Z"
   },
   {
    "duration": 16,
    "start_time": "2022-06-29T16:16:24.178Z"
   },
   {
    "duration": 14,
    "start_time": "2022-06-29T16:16:24.196Z"
   },
   {
    "duration": 13,
    "start_time": "2022-06-29T16:16:24.212Z"
   },
   {
    "duration": 0,
    "start_time": "2022-06-29T16:16:24.228Z"
   },
   {
    "duration": 0,
    "start_time": "2022-06-29T16:16:24.229Z"
   },
   {
    "duration": 0,
    "start_time": "2022-06-29T16:16:24.253Z"
   },
   {
    "duration": 0,
    "start_time": "2022-06-29T16:16:24.254Z"
   },
   {
    "duration": 0,
    "start_time": "2022-06-29T16:16:24.255Z"
   },
   {
    "duration": 0,
    "start_time": "2022-06-29T16:16:24.256Z"
   },
   {
    "duration": 0,
    "start_time": "2022-06-29T16:16:24.257Z"
   },
   {
    "duration": 0,
    "start_time": "2022-06-29T16:16:24.258Z"
   },
   {
    "duration": 0,
    "start_time": "2022-06-29T16:16:24.259Z"
   },
   {
    "duration": 0,
    "start_time": "2022-06-29T16:16:24.260Z"
   },
   {
    "duration": 0,
    "start_time": "2022-06-29T16:16:24.261Z"
   },
   {
    "duration": 0,
    "start_time": "2022-06-29T16:16:24.262Z"
   },
   {
    "duration": 0,
    "start_time": "2022-06-29T16:16:24.263Z"
   },
   {
    "duration": 0,
    "start_time": "2022-06-29T16:16:24.264Z"
   },
   {
    "duration": 1,
    "start_time": "2022-06-29T16:16:24.265Z"
   },
   {
    "duration": 0,
    "start_time": "2022-06-29T16:16:24.267Z"
   },
   {
    "duration": 0,
    "start_time": "2022-06-29T16:16:24.267Z"
   },
   {
    "duration": 0,
    "start_time": "2022-06-29T16:16:24.268Z"
   },
   {
    "duration": 0,
    "start_time": "2022-06-29T16:16:24.269Z"
   },
   {
    "duration": 0,
    "start_time": "2022-06-29T16:16:24.272Z"
   },
   {
    "duration": 0,
    "start_time": "2022-06-29T16:16:24.273Z"
   },
   {
    "duration": 0,
    "start_time": "2022-06-29T16:16:24.275Z"
   },
   {
    "duration": 0,
    "start_time": "2022-06-29T16:16:24.276Z"
   },
   {
    "duration": 0,
    "start_time": "2022-06-29T16:16:24.277Z"
   },
   {
    "duration": 0,
    "start_time": "2022-06-29T16:16:24.279Z"
   },
   {
    "duration": 0,
    "start_time": "2022-06-29T16:16:24.280Z"
   },
   {
    "duration": 0,
    "start_time": "2022-06-29T16:16:24.281Z"
   },
   {
    "duration": 0,
    "start_time": "2022-06-29T16:16:24.282Z"
   },
   {
    "duration": 0,
    "start_time": "2022-06-29T16:16:24.283Z"
   },
   {
    "duration": 0,
    "start_time": "2022-06-29T16:16:24.284Z"
   },
   {
    "duration": 0,
    "start_time": "2022-06-29T16:16:24.286Z"
   },
   {
    "duration": 0,
    "start_time": "2022-06-29T16:16:24.286Z"
   },
   {
    "duration": 0,
    "start_time": "2022-06-29T16:16:24.287Z"
   },
   {
    "duration": 0,
    "start_time": "2022-06-29T16:16:24.289Z"
   },
   {
    "duration": 0,
    "start_time": "2022-06-29T16:16:24.290Z"
   },
   {
    "duration": 0,
    "start_time": "2022-06-29T16:16:24.291Z"
   },
   {
    "duration": 0,
    "start_time": "2022-06-29T16:16:24.292Z"
   },
   {
    "duration": 0,
    "start_time": "2022-06-29T16:16:24.293Z"
   },
   {
    "duration": 0,
    "start_time": "2022-06-29T16:16:24.294Z"
   },
   {
    "duration": 0,
    "start_time": "2022-06-29T16:16:24.295Z"
   },
   {
    "duration": 0,
    "start_time": "2022-06-29T16:16:24.352Z"
   },
   {
    "duration": 0,
    "start_time": "2022-06-29T16:16:24.354Z"
   },
   {
    "duration": 0,
    "start_time": "2022-06-29T16:16:24.355Z"
   },
   {
    "duration": 0,
    "start_time": "2022-06-29T16:16:24.356Z"
   },
   {
    "duration": 0,
    "start_time": "2022-06-29T16:16:24.357Z"
   },
   {
    "duration": 0,
    "start_time": "2022-06-29T16:16:24.357Z"
   },
   {
    "duration": 653,
    "start_time": "2022-06-29T16:16:50.627Z"
   },
   {
    "duration": 632,
    "start_time": "2022-06-29T16:16:56.153Z"
   },
   {
    "duration": 617,
    "start_time": "2022-06-29T16:17:13.365Z"
   },
   {
    "duration": 865,
    "start_time": "2022-06-29T16:17:46.865Z"
   },
   {
    "duration": 646,
    "start_time": "2022-06-29T16:17:53.215Z"
   },
   {
    "duration": 504,
    "start_time": "2022-06-29T16:18:40.252Z"
   },
   {
    "duration": 604,
    "start_time": "2022-06-29T16:18:52.810Z"
   },
   {
    "duration": 575,
    "start_time": "2022-06-29T16:18:56.301Z"
   },
   {
    "duration": 9,
    "start_time": "2022-06-29T16:19:56.631Z"
   },
   {
    "duration": 94,
    "start_time": "2022-06-29T16:20:04.845Z"
   },
   {
    "duration": 594,
    "start_time": "2022-06-29T16:20:04.941Z"
   },
   {
    "duration": 18,
    "start_time": "2022-06-29T16:20:05.537Z"
   },
   {
    "duration": 16,
    "start_time": "2022-06-29T16:20:05.557Z"
   },
   {
    "duration": 15,
    "start_time": "2022-06-29T16:20:05.575Z"
   },
   {
    "duration": 14,
    "start_time": "2022-06-29T16:20:05.592Z"
   },
   {
    "duration": 0,
    "start_time": "2022-06-29T16:20:05.609Z"
   },
   {
    "duration": 0,
    "start_time": "2022-06-29T16:20:05.610Z"
   },
   {
    "duration": 0,
    "start_time": "2022-06-29T16:20:05.611Z"
   },
   {
    "duration": 0,
    "start_time": "2022-06-29T16:20:05.612Z"
   },
   {
    "duration": 0,
    "start_time": "2022-06-29T16:20:05.613Z"
   },
   {
    "duration": 0,
    "start_time": "2022-06-29T16:20:05.614Z"
   },
   {
    "duration": 0,
    "start_time": "2022-06-29T16:20:05.615Z"
   },
   {
    "duration": 0,
    "start_time": "2022-06-29T16:20:05.616Z"
   },
   {
    "duration": 0,
    "start_time": "2022-06-29T16:20:05.617Z"
   },
   {
    "duration": 0,
    "start_time": "2022-06-29T16:20:05.619Z"
   },
   {
    "duration": 0,
    "start_time": "2022-06-29T16:20:05.619Z"
   },
   {
    "duration": 0,
    "start_time": "2022-06-29T16:20:05.620Z"
   },
   {
    "duration": 0,
    "start_time": "2022-06-29T16:20:05.651Z"
   },
   {
    "duration": 0,
    "start_time": "2022-06-29T16:20:05.653Z"
   },
   {
    "duration": 0,
    "start_time": "2022-06-29T16:20:05.654Z"
   },
   {
    "duration": 0,
    "start_time": "2022-06-29T16:20:05.655Z"
   },
   {
    "duration": 0,
    "start_time": "2022-06-29T16:20:05.657Z"
   },
   {
    "duration": 0,
    "start_time": "2022-06-29T16:20:05.658Z"
   },
   {
    "duration": 0,
    "start_time": "2022-06-29T16:20:05.658Z"
   },
   {
    "duration": 0,
    "start_time": "2022-06-29T16:20:05.659Z"
   },
   {
    "duration": 0,
    "start_time": "2022-06-29T16:20:05.660Z"
   },
   {
    "duration": 0,
    "start_time": "2022-06-29T16:20:05.661Z"
   },
   {
    "duration": 0,
    "start_time": "2022-06-29T16:20:05.662Z"
   },
   {
    "duration": 0,
    "start_time": "2022-06-29T16:20:05.663Z"
   },
   {
    "duration": 0,
    "start_time": "2022-06-29T16:20:05.664Z"
   },
   {
    "duration": 0,
    "start_time": "2022-06-29T16:20:05.665Z"
   },
   {
    "duration": 0,
    "start_time": "2022-06-29T16:20:05.667Z"
   },
   {
    "duration": 0,
    "start_time": "2022-06-29T16:20:05.667Z"
   },
   {
    "duration": 0,
    "start_time": "2022-06-29T16:20:05.668Z"
   },
   {
    "duration": 0,
    "start_time": "2022-06-29T16:20:05.669Z"
   },
   {
    "duration": 0,
    "start_time": "2022-06-29T16:20:05.671Z"
   },
   {
    "duration": 0,
    "start_time": "2022-06-29T16:20:05.672Z"
   },
   {
    "duration": 0,
    "start_time": "2022-06-29T16:20:05.674Z"
   },
   {
    "duration": 0,
    "start_time": "2022-06-29T16:20:05.675Z"
   },
   {
    "duration": 0,
    "start_time": "2022-06-29T16:20:05.676Z"
   },
   {
    "duration": 1,
    "start_time": "2022-06-29T16:20:05.677Z"
   },
   {
    "duration": 0,
    "start_time": "2022-06-29T16:20:05.679Z"
   },
   {
    "duration": 0,
    "start_time": "2022-06-29T16:20:05.680Z"
   },
   {
    "duration": 0,
    "start_time": "2022-06-29T16:20:05.682Z"
   },
   {
    "duration": 0,
    "start_time": "2022-06-29T16:20:05.684Z"
   },
   {
    "duration": 0,
    "start_time": "2022-06-29T16:20:05.685Z"
   },
   {
    "duration": 0,
    "start_time": "2022-06-29T16:20:05.686Z"
   },
   {
    "duration": 0,
    "start_time": "2022-06-29T16:20:05.687Z"
   },
   {
    "duration": 0,
    "start_time": "2022-06-29T16:20:05.689Z"
   },
   {
    "duration": 0,
    "start_time": "2022-06-29T16:20:05.690Z"
   },
   {
    "duration": 0,
    "start_time": "2022-06-29T16:20:05.691Z"
   },
   {
    "duration": 7,
    "start_time": "2022-06-29T16:20:44.864Z"
   },
   {
    "duration": 4,
    "start_time": "2022-06-29T16:20:48.133Z"
   },
   {
    "duration": 196,
    "start_time": "2022-06-29T16:21:27.023Z"
   },
   {
    "duration": 573,
    "start_time": "2022-06-29T16:21:27.221Z"
   },
   {
    "duration": 17,
    "start_time": "2022-06-29T16:21:27.795Z"
   },
   {
    "duration": 15,
    "start_time": "2022-06-29T16:21:27.814Z"
   },
   {
    "duration": 13,
    "start_time": "2022-06-29T16:21:27.831Z"
   },
   {
    "duration": 20,
    "start_time": "2022-06-29T16:21:27.846Z"
   },
   {
    "duration": 0,
    "start_time": "2022-06-29T16:21:27.868Z"
   },
   {
    "duration": 0,
    "start_time": "2022-06-29T16:21:27.869Z"
   },
   {
    "duration": 0,
    "start_time": "2022-06-29T16:21:27.870Z"
   },
   {
    "duration": 0,
    "start_time": "2022-06-29T16:21:27.871Z"
   },
   {
    "duration": 0,
    "start_time": "2022-06-29T16:21:27.873Z"
   },
   {
    "duration": 0,
    "start_time": "2022-06-29T16:21:27.874Z"
   },
   {
    "duration": 0,
    "start_time": "2022-06-29T16:21:27.875Z"
   },
   {
    "duration": 0,
    "start_time": "2022-06-29T16:21:27.876Z"
   },
   {
    "duration": 0,
    "start_time": "2022-06-29T16:21:27.877Z"
   },
   {
    "duration": 0,
    "start_time": "2022-06-29T16:21:27.878Z"
   },
   {
    "duration": 0,
    "start_time": "2022-06-29T16:21:27.879Z"
   },
   {
    "duration": 0,
    "start_time": "2022-06-29T16:21:27.880Z"
   },
   {
    "duration": 0,
    "start_time": "2022-06-29T16:21:27.881Z"
   },
   {
    "duration": 0,
    "start_time": "2022-06-29T16:21:27.882Z"
   },
   {
    "duration": 0,
    "start_time": "2022-06-29T16:21:27.883Z"
   },
   {
    "duration": 0,
    "start_time": "2022-06-29T16:21:27.884Z"
   },
   {
    "duration": 0,
    "start_time": "2022-06-29T16:21:27.885Z"
   },
   {
    "duration": 0,
    "start_time": "2022-06-29T16:21:27.886Z"
   },
   {
    "duration": 0,
    "start_time": "2022-06-29T16:21:27.887Z"
   },
   {
    "duration": 0,
    "start_time": "2022-06-29T16:21:27.888Z"
   },
   {
    "duration": 0,
    "start_time": "2022-06-29T16:21:27.889Z"
   },
   {
    "duration": 0,
    "start_time": "2022-06-29T16:21:27.890Z"
   },
   {
    "duration": 1,
    "start_time": "2022-06-29T16:21:27.891Z"
   },
   {
    "duration": 0,
    "start_time": "2022-06-29T16:21:27.893Z"
   },
   {
    "duration": 0,
    "start_time": "2022-06-29T16:21:27.894Z"
   },
   {
    "duration": 0,
    "start_time": "2022-06-29T16:21:27.895Z"
   },
   {
    "duration": 0,
    "start_time": "2022-06-29T16:21:27.896Z"
   },
   {
    "duration": 0,
    "start_time": "2022-06-29T16:21:27.897Z"
   },
   {
    "duration": 0,
    "start_time": "2022-06-29T16:21:27.898Z"
   },
   {
    "duration": 0,
    "start_time": "2022-06-29T16:21:27.952Z"
   },
   {
    "duration": 0,
    "start_time": "2022-06-29T16:21:27.953Z"
   },
   {
    "duration": 0,
    "start_time": "2022-06-29T16:21:27.955Z"
   },
   {
    "duration": 0,
    "start_time": "2022-06-29T16:21:27.956Z"
   },
   {
    "duration": 0,
    "start_time": "2022-06-29T16:21:27.957Z"
   },
   {
    "duration": 0,
    "start_time": "2022-06-29T16:21:27.958Z"
   },
   {
    "duration": 0,
    "start_time": "2022-06-29T16:21:27.960Z"
   },
   {
    "duration": 0,
    "start_time": "2022-06-29T16:21:27.961Z"
   },
   {
    "duration": 0,
    "start_time": "2022-06-29T16:21:27.962Z"
   },
   {
    "duration": 0,
    "start_time": "2022-06-29T16:21:27.963Z"
   },
   {
    "duration": 0,
    "start_time": "2022-06-29T16:21:27.964Z"
   },
   {
    "duration": 0,
    "start_time": "2022-06-29T16:21:27.966Z"
   },
   {
    "duration": 0,
    "start_time": "2022-06-29T16:21:27.967Z"
   },
   {
    "duration": 0,
    "start_time": "2022-06-29T16:21:27.968Z"
   },
   {
    "duration": 0,
    "start_time": "2022-06-29T16:21:27.969Z"
   },
   {
    "duration": 0,
    "start_time": "2022-06-29T16:21:27.970Z"
   },
   {
    "duration": 0,
    "start_time": "2022-06-29T16:21:27.971Z"
   },
   {
    "duration": 0,
    "start_time": "2022-06-29T16:21:27.972Z"
   },
   {
    "duration": 151,
    "start_time": "2022-06-29T16:21:43.571Z"
   },
   {
    "duration": 584,
    "start_time": "2022-06-29T16:21:43.724Z"
   },
   {
    "duration": 17,
    "start_time": "2022-06-29T16:21:44.311Z"
   },
   {
    "duration": 28,
    "start_time": "2022-06-29T16:21:44.330Z"
   },
   {
    "duration": 15,
    "start_time": "2022-06-29T16:21:44.359Z"
   },
   {
    "duration": 13,
    "start_time": "2022-06-29T16:21:44.376Z"
   },
   {
    "duration": 7,
    "start_time": "2022-06-29T16:21:44.390Z"
   },
   {
    "duration": 15,
    "start_time": "2022-06-29T16:21:44.398Z"
   },
   {
    "duration": 37,
    "start_time": "2022-06-29T16:21:44.415Z"
   },
   {
    "duration": 404,
    "start_time": "2022-06-29T16:21:44.455Z"
   },
   {
    "duration": 15,
    "start_time": "2022-06-29T16:21:44.861Z"
   },
   {
    "duration": 16,
    "start_time": "2022-06-29T16:21:44.877Z"
   },
   {
    "duration": 0,
    "start_time": "2022-06-29T16:21:44.896Z"
   },
   {
    "duration": 0,
    "start_time": "2022-06-29T16:21:44.897Z"
   },
   {
    "duration": 0,
    "start_time": "2022-06-29T16:21:44.898Z"
   },
   {
    "duration": 0,
    "start_time": "2022-06-29T16:21:44.899Z"
   },
   {
    "duration": 0,
    "start_time": "2022-06-29T16:21:44.900Z"
   },
   {
    "duration": 0,
    "start_time": "2022-06-29T16:21:44.901Z"
   },
   {
    "duration": 0,
    "start_time": "2022-06-29T16:21:44.902Z"
   },
   {
    "duration": 0,
    "start_time": "2022-06-29T16:21:44.903Z"
   },
   {
    "duration": 0,
    "start_time": "2022-06-29T16:21:44.904Z"
   },
   {
    "duration": 0,
    "start_time": "2022-06-29T16:21:44.905Z"
   },
   {
    "duration": 0,
    "start_time": "2022-06-29T16:21:44.907Z"
   },
   {
    "duration": 0,
    "start_time": "2022-06-29T16:21:44.908Z"
   },
   {
    "duration": 0,
    "start_time": "2022-06-29T16:21:44.909Z"
   },
   {
    "duration": 0,
    "start_time": "2022-06-29T16:21:44.910Z"
   },
   {
    "duration": 0,
    "start_time": "2022-06-29T16:21:44.911Z"
   },
   {
    "duration": 0,
    "start_time": "2022-06-29T16:21:44.912Z"
   },
   {
    "duration": 0,
    "start_time": "2022-06-29T16:21:44.913Z"
   },
   {
    "duration": 0,
    "start_time": "2022-06-29T16:21:44.914Z"
   },
   {
    "duration": 0,
    "start_time": "2022-06-29T16:21:44.952Z"
   },
   {
    "duration": 0,
    "start_time": "2022-06-29T16:21:44.953Z"
   },
   {
    "duration": 0,
    "start_time": "2022-06-29T16:21:44.954Z"
   },
   {
    "duration": 0,
    "start_time": "2022-06-29T16:21:44.955Z"
   },
   {
    "duration": 0,
    "start_time": "2022-06-29T16:21:44.956Z"
   },
   {
    "duration": 0,
    "start_time": "2022-06-29T16:21:44.958Z"
   },
   {
    "duration": 0,
    "start_time": "2022-06-29T16:21:44.959Z"
   },
   {
    "duration": 0,
    "start_time": "2022-06-29T16:21:44.960Z"
   },
   {
    "duration": 0,
    "start_time": "2022-06-29T16:21:44.961Z"
   },
   {
    "duration": 0,
    "start_time": "2022-06-29T16:21:44.962Z"
   },
   {
    "duration": 0,
    "start_time": "2022-06-29T16:21:44.963Z"
   },
   {
    "duration": 0,
    "start_time": "2022-06-29T16:21:44.964Z"
   },
   {
    "duration": 0,
    "start_time": "2022-06-29T16:21:44.965Z"
   },
   {
    "duration": 0,
    "start_time": "2022-06-29T16:21:44.967Z"
   },
   {
    "duration": 0,
    "start_time": "2022-06-29T16:21:44.968Z"
   },
   {
    "duration": 0,
    "start_time": "2022-06-29T16:21:44.969Z"
   },
   {
    "duration": 0,
    "start_time": "2022-06-29T16:21:44.970Z"
   },
   {
    "duration": 0,
    "start_time": "2022-06-29T16:21:45.068Z"
   },
   {
    "duration": 0,
    "start_time": "2022-06-29T16:21:45.070Z"
   },
   {
    "duration": 0,
    "start_time": "2022-06-29T16:21:45.070Z"
   },
   {
    "duration": 0,
    "start_time": "2022-06-29T16:21:45.071Z"
   },
   {
    "duration": 0,
    "start_time": "2022-06-29T16:21:45.072Z"
   },
   {
    "duration": 0,
    "start_time": "2022-06-29T16:21:45.074Z"
   },
   {
    "duration": 17,
    "start_time": "2022-06-29T16:26:41.239Z"
   },
   {
    "duration": 13,
    "start_time": "2022-06-29T16:26:49.805Z"
   },
   {
    "duration": 5,
    "start_time": "2022-06-29T16:26:49.820Z"
   },
   {
    "duration": 7,
    "start_time": "2022-06-29T16:26:49.826Z"
   },
   {
    "duration": 5,
    "start_time": "2022-06-29T16:26:49.835Z"
   },
   {
    "duration": 5,
    "start_time": "2022-06-29T16:26:49.841Z"
   },
   {
    "duration": 6,
    "start_time": "2022-06-29T16:26:49.847Z"
   },
   {
    "duration": 6,
    "start_time": "2022-06-29T16:26:49.855Z"
   },
   {
    "duration": 19,
    "start_time": "2022-06-29T16:26:49.863Z"
   },
   {
    "duration": 5,
    "start_time": "2022-06-29T16:26:49.884Z"
   },
   {
    "duration": 21,
    "start_time": "2022-06-29T16:26:49.892Z"
   },
   {
    "duration": 39,
    "start_time": "2022-06-29T16:26:49.915Z"
   },
   {
    "duration": 10,
    "start_time": "2022-06-29T16:26:49.955Z"
   },
   {
    "duration": 14,
    "start_time": "2022-06-29T16:26:49.967Z"
   },
   {
    "duration": 32,
    "start_time": "2022-06-29T16:26:49.983Z"
   },
   {
    "duration": 53,
    "start_time": "2022-06-29T16:26:50.018Z"
   },
   {
    "duration": 367,
    "start_time": "2022-06-29T16:26:50.074Z"
   },
   {
    "duration": 20,
    "start_time": "2022-06-29T16:26:50.443Z"
   },
   {
    "duration": 22,
    "start_time": "2022-06-29T16:26:50.465Z"
   },
   {
    "duration": 495,
    "start_time": "2022-06-29T16:26:50.489Z"
   },
   {
    "duration": 68,
    "start_time": "2022-06-29T16:26:50.985Z"
   },
   {
    "duration": 4,
    "start_time": "2022-06-29T16:26:51.055Z"
   },
   {
    "duration": 1106,
    "start_time": "2022-06-29T16:26:51.061Z"
   },
   {
    "duration": 10,
    "start_time": "2022-06-29T16:26:52.168Z"
   },
   {
    "duration": 382,
    "start_time": "2022-06-29T16:26:52.180Z"
   },
   {
    "duration": 963,
    "start_time": "2022-06-29T16:26:52.565Z"
   },
   {
    "duration": 279,
    "start_time": "2022-06-29T16:26:53.530Z"
   },
   {
    "duration": 172,
    "start_time": "2022-06-29T16:26:53.811Z"
   },
   {
    "duration": 337,
    "start_time": "2022-06-29T16:26:53.987Z"
   },
   {
    "duration": 13,
    "start_time": "2022-06-29T16:26:54.326Z"
   },
   {
    "duration": 340,
    "start_time": "2022-06-29T16:26:54.351Z"
   },
   {
    "duration": 10,
    "start_time": "2022-06-29T16:26:54.693Z"
   },
   {
    "duration": 60,
    "start_time": "2022-06-29T16:26:54.705Z"
   },
   {
    "duration": 10,
    "start_time": "2022-06-29T16:26:54.766Z"
   },
   {
    "duration": 212,
    "start_time": "2022-06-29T16:26:54.778Z"
   },
   {
    "duration": 369,
    "start_time": "2022-06-29T16:26:54.992Z"
   },
   {
    "duration": 688,
    "start_time": "2022-06-29T16:26:55.365Z"
   },
   {
    "duration": 495,
    "start_time": "2022-06-29T16:26:56.054Z"
   },
   {
    "duration": 336,
    "start_time": "2022-06-29T16:26:56.551Z"
   },
   {
    "duration": 10,
    "start_time": "2022-06-29T16:26:56.889Z"
   },
   {
    "duration": 11,
    "start_time": "2022-06-29T16:26:56.901Z"
   },
   {
    "duration": 12,
    "start_time": "2022-06-29T16:26:56.914Z"
   },
   {
    "duration": 12,
    "start_time": "2022-06-29T16:26:56.951Z"
   },
   {
    "duration": 1731,
    "start_time": "2022-06-29T16:38:01.109Z"
   },
   {
    "duration": 128,
    "start_time": "2022-06-29T16:38:08.161Z"
   },
   {
    "duration": 129,
    "start_time": "2022-06-29T16:38:18.781Z"
   },
   {
    "duration": 128,
    "start_time": "2022-06-29T16:38:24.346Z"
   },
   {
    "duration": 202,
    "start_time": "2022-06-29T16:38:34.412Z"
   },
   {
    "duration": 149,
    "start_time": "2022-06-29T16:39:14.209Z"
   },
   {
    "duration": 108,
    "start_time": "2022-06-29T16:40:07.307Z"
   },
   {
    "duration": 107,
    "start_time": "2022-06-29T16:40:12.024Z"
   },
   {
    "duration": 108,
    "start_time": "2022-06-29T16:40:30.552Z"
   },
   {
    "duration": 106,
    "start_time": "2022-06-29T16:40:42.062Z"
   },
   {
    "duration": 104,
    "start_time": "2022-06-29T16:41:08.141Z"
   },
   {
    "duration": 39,
    "start_time": "2022-06-29T16:45:55.593Z"
   },
   {
    "duration": 39,
    "start_time": "2022-06-29T16:46:01.192Z"
   },
   {
    "duration": 93,
    "start_time": "2022-06-29T16:46:51.255Z"
   },
   {
    "duration": 43,
    "start_time": "2022-06-29T16:47:15.781Z"
   },
   {
    "duration": 40,
    "start_time": "2022-06-29T16:47:30.845Z"
   },
   {
    "duration": 40,
    "start_time": "2022-06-29T16:47:38.036Z"
   },
   {
    "duration": 43,
    "start_time": "2022-06-29T16:47:43.660Z"
   },
   {
    "duration": 9554,
    "start_time": "2022-07-01T12:21:43.272Z"
   },
   {
    "duration": 44,
    "start_time": "2022-07-01T12:23:39.874Z"
   },
   {
    "duration": 2231,
    "start_time": "2022-07-01T12:23:43.213Z"
   },
   {
    "duration": 818,
    "start_time": "2022-07-01T12:23:45.447Z"
   },
   {
    "duration": 18,
    "start_time": "2022-07-01T12:23:46.267Z"
   },
   {
    "duration": 17,
    "start_time": "2022-07-01T12:23:46.287Z"
   },
   {
    "duration": 39,
    "start_time": "2022-07-01T12:23:46.306Z"
   },
   {
    "duration": 11,
    "start_time": "2022-07-01T12:23:46.348Z"
   },
   {
    "duration": 13,
    "start_time": "2022-07-01T12:23:46.360Z"
   },
   {
    "duration": 12,
    "start_time": "2022-07-01T12:23:46.374Z"
   },
   {
    "duration": 8,
    "start_time": "2022-07-01T12:23:46.387Z"
   },
   {
    "duration": 8397,
    "start_time": "2022-07-01T12:23:46.396Z"
   },
   {
    "duration": 10,
    "start_time": "2022-07-01T12:23:54.796Z"
   },
   {
    "duration": 29,
    "start_time": "2022-07-01T12:23:54.808Z"
   },
   {
    "duration": 11,
    "start_time": "2022-07-01T12:23:54.839Z"
   },
   {
    "duration": 13,
    "start_time": "2022-07-01T12:23:54.854Z"
   },
   {
    "duration": 8,
    "start_time": "2022-07-01T12:23:54.868Z"
   },
   {
    "duration": 14,
    "start_time": "2022-07-01T12:23:54.878Z"
   },
   {
    "duration": 11,
    "start_time": "2022-07-01T12:23:54.894Z"
   },
   {
    "duration": 28,
    "start_time": "2022-07-01T12:23:54.906Z"
   },
   {
    "duration": 11,
    "start_time": "2022-07-01T12:23:54.937Z"
   },
   {
    "duration": 6,
    "start_time": "2022-07-01T12:23:54.950Z"
   },
   {
    "duration": 19,
    "start_time": "2022-07-01T12:23:54.958Z"
   },
   {
    "duration": 94,
    "start_time": "2022-07-01T12:23:54.979Z"
   },
   {
    "duration": 0,
    "start_time": "2022-07-01T12:23:55.075Z"
   },
   {
    "duration": 0,
    "start_time": "2022-07-01T12:23:55.076Z"
   },
   {
    "duration": 0,
    "start_time": "2022-07-01T12:23:55.077Z"
   },
   {
    "duration": 0,
    "start_time": "2022-07-01T12:23:55.079Z"
   },
   {
    "duration": 0,
    "start_time": "2022-07-01T12:23:55.080Z"
   },
   {
    "duration": 0,
    "start_time": "2022-07-01T12:23:55.081Z"
   },
   {
    "duration": 0,
    "start_time": "2022-07-01T12:23:55.082Z"
   },
   {
    "duration": 0,
    "start_time": "2022-07-01T12:23:55.083Z"
   },
   {
    "duration": 0,
    "start_time": "2022-07-01T12:23:55.083Z"
   },
   {
    "duration": 0,
    "start_time": "2022-07-01T12:23:55.084Z"
   },
   {
    "duration": 0,
    "start_time": "2022-07-01T12:23:55.086Z"
   },
   {
    "duration": 0,
    "start_time": "2022-07-01T12:23:55.087Z"
   },
   {
    "duration": 0,
    "start_time": "2022-07-01T12:23:55.088Z"
   },
   {
    "duration": 0,
    "start_time": "2022-07-01T12:23:55.089Z"
   },
   {
    "duration": 0,
    "start_time": "2022-07-01T12:23:55.090Z"
   },
   {
    "duration": 0,
    "start_time": "2022-07-01T12:23:55.091Z"
   },
   {
    "duration": 0,
    "start_time": "2022-07-01T12:23:55.092Z"
   },
   {
    "duration": 0,
    "start_time": "2022-07-01T12:23:55.093Z"
   },
   {
    "duration": 0,
    "start_time": "2022-07-01T12:23:55.094Z"
   },
   {
    "duration": 0,
    "start_time": "2022-07-01T12:23:55.095Z"
   },
   {
    "duration": 0,
    "start_time": "2022-07-01T12:23:55.096Z"
   },
   {
    "duration": 0,
    "start_time": "2022-07-01T12:23:55.128Z"
   },
   {
    "duration": 0,
    "start_time": "2022-07-01T12:23:55.129Z"
   },
   {
    "duration": 0,
    "start_time": "2022-07-01T12:23:55.130Z"
   },
   {
    "duration": 0,
    "start_time": "2022-07-01T12:23:55.130Z"
   },
   {
    "duration": 0,
    "start_time": "2022-07-01T12:23:55.133Z"
   },
   {
    "duration": 0,
    "start_time": "2022-07-01T12:23:55.133Z"
   },
   {
    "duration": 0,
    "start_time": "2022-07-01T12:23:55.134Z"
   },
   {
    "duration": 0,
    "start_time": "2022-07-01T12:23:55.135Z"
   },
   {
    "duration": 0,
    "start_time": "2022-07-01T12:23:55.135Z"
   },
   {
    "duration": 0,
    "start_time": "2022-07-01T12:23:55.136Z"
   },
   {
    "duration": 0,
    "start_time": "2022-07-01T12:23:55.137Z"
   },
   {
    "duration": 0,
    "start_time": "2022-07-01T12:23:55.138Z"
   },
   {
    "duration": 1,
    "start_time": "2022-07-01T12:23:55.140Z"
   },
   {
    "duration": 0,
    "start_time": "2022-07-01T12:23:55.141Z"
   },
   {
    "duration": 0,
    "start_time": "2022-07-01T12:23:55.142Z"
   },
   {
    "duration": 0,
    "start_time": "2022-07-01T12:23:55.143Z"
   },
   {
    "duration": 0,
    "start_time": "2022-07-01T12:23:55.144Z"
   },
   {
    "duration": 0,
    "start_time": "2022-07-01T12:23:55.145Z"
   },
   {
    "duration": 0,
    "start_time": "2022-07-01T12:23:55.147Z"
   },
   {
    "duration": 19,
    "start_time": "2022-07-01T12:24:10.200Z"
   },
   {
    "duration": 28,
    "start_time": "2022-07-01T12:24:14.326Z"
   },
   {
    "duration": 5,
    "start_time": "2022-07-01T12:24:14.355Z"
   },
   {
    "duration": 22,
    "start_time": "2022-07-01T12:24:14.362Z"
   },
   {
    "duration": 6,
    "start_time": "2022-07-01T12:24:14.386Z"
   },
   {
    "duration": 47,
    "start_time": "2022-07-01T12:24:14.394Z"
   },
   {
    "duration": 4,
    "start_time": "2022-07-01T12:24:14.443Z"
   },
   {
    "duration": 16,
    "start_time": "2022-07-01T12:24:14.449Z"
   },
   {
    "duration": 16,
    "start_time": "2022-07-01T12:24:14.467Z"
   },
   {
    "duration": 17,
    "start_time": "2022-07-01T12:24:14.484Z"
   },
   {
    "duration": 176,
    "start_time": "2022-07-01T12:24:14.503Z"
   },
   {
    "duration": 334,
    "start_time": "2022-07-01T12:24:14.681Z"
   },
   {
    "duration": 28,
    "start_time": "2022-07-01T12:24:15.017Z"
   },
   {
    "duration": 22,
    "start_time": "2022-07-01T12:24:15.047Z"
   },
   {
    "duration": 436,
    "start_time": "2022-07-01T12:24:15.071Z"
   },
   {
    "duration": 13,
    "start_time": "2022-07-01T12:24:15.509Z"
   },
   {
    "duration": 5,
    "start_time": "2022-07-01T12:24:15.524Z"
   },
   {
    "duration": 811,
    "start_time": "2022-07-01T12:24:15.530Z"
   },
   {
    "duration": 13,
    "start_time": "2022-07-01T12:24:16.343Z"
   },
   {
    "duration": 1307,
    "start_time": "2022-07-01T12:24:16.358Z"
   },
   {
    "duration": 257,
    "start_time": "2022-07-01T12:24:17.667Z"
   },
   {
    "duration": 260,
    "start_time": "2022-07-01T12:24:17.927Z"
   },
   {
    "duration": 293,
    "start_time": "2022-07-01T12:24:18.189Z"
   },
   {
    "duration": 173,
    "start_time": "2022-07-01T12:24:18.483Z"
   },
   {
    "duration": 283,
    "start_time": "2022-07-01T12:24:18.657Z"
   },
   {
    "duration": 9,
    "start_time": "2022-07-01T12:24:18.941Z"
   },
   {
    "duration": 441,
    "start_time": "2022-07-01T12:24:18.951Z"
   },
   {
    "duration": 8,
    "start_time": "2022-07-01T12:24:19.393Z"
   },
   {
    "duration": 62,
    "start_time": "2022-07-01T12:24:19.404Z"
   },
   {
    "duration": 10,
    "start_time": "2022-07-01T12:24:19.468Z"
   },
   {
    "duration": 45,
    "start_time": "2022-07-01T12:24:19.480Z"
   },
   {
    "duration": 232,
    "start_time": "2022-07-01T12:24:19.528Z"
   },
   {
    "duration": 82,
    "start_time": "2022-07-01T12:24:19.762Z"
   },
   {
    "duration": 397,
    "start_time": "2022-07-01T12:24:19.846Z"
   },
   {
    "duration": 31,
    "start_time": "2022-07-01T12:24:20.246Z"
   },
   {
    "duration": 287,
    "start_time": "2022-07-01T12:24:20.279Z"
   },
   {
    "duration": 476,
    "start_time": "2022-07-01T12:24:20.568Z"
   },
   {
    "duration": 280,
    "start_time": "2022-07-01T12:24:21.046Z"
   },
   {
    "duration": 14,
    "start_time": "2022-07-01T12:24:21.331Z"
   },
   {
    "duration": 13,
    "start_time": "2022-07-01T12:24:21.346Z"
   },
   {
    "duration": 7,
    "start_time": "2022-07-01T12:24:21.361Z"
   },
   {
    "duration": 8,
    "start_time": "2022-07-01T12:24:21.369Z"
   },
   {
    "duration": 1156,
    "start_time": "2022-09-03T15:28:35.034Z"
   },
   {
    "duration": 24,
    "start_time": "2022-09-03T15:28:36.192Z"
   },
   {
    "duration": 19,
    "start_time": "2022-09-03T15:28:36.220Z"
   },
   {
    "duration": 13,
    "start_time": "2022-09-03T15:28:36.241Z"
   },
   {
    "duration": 10,
    "start_time": "2022-09-03T15:28:36.255Z"
   },
   {
    "duration": 227,
    "start_time": "2022-09-03T15:28:36.266Z"
   },
   {
    "duration": 31,
    "start_time": "2022-09-03T15:28:36.494Z"
   },
   {
    "duration": 9,
    "start_time": "2022-09-03T15:28:36.527Z"
   },
   {
    "duration": 11,
    "start_time": "2022-09-03T15:28:36.537Z"
   },
   {
    "duration": 9,
    "start_time": "2022-09-03T15:28:36.550Z"
   },
   {
    "duration": 5,
    "start_time": "2022-09-03T15:28:36.561Z"
   },
   {
    "duration": 13,
    "start_time": "2022-09-03T15:28:36.568Z"
   },
   {
    "duration": 8,
    "start_time": "2022-09-03T15:28:36.583Z"
   },
   {
    "duration": 28,
    "start_time": "2022-09-03T15:28:36.593Z"
   },
   {
    "duration": 7,
    "start_time": "2022-09-03T15:28:36.623Z"
   },
   {
    "duration": 12,
    "start_time": "2022-09-03T15:28:36.631Z"
   },
   {
    "duration": 7,
    "start_time": "2022-09-03T15:28:36.644Z"
   },
   {
    "duration": 5,
    "start_time": "2022-09-03T15:28:36.652Z"
   },
   {
    "duration": 6,
    "start_time": "2022-09-03T15:28:36.658Z"
   },
   {
    "duration": 282,
    "start_time": "2022-09-03T15:28:36.665Z"
   },
   {
    "duration": 236,
    "start_time": "2022-09-03T15:28:36.948Z"
   },
   {
    "duration": 167,
    "start_time": "2022-09-03T15:28:37.186Z"
   },
   {
    "duration": 206,
    "start_time": "2022-09-03T15:28:37.354Z"
   },
   {
    "duration": 164,
    "start_time": "2022-09-03T15:28:37.562Z"
   },
   {
    "duration": 284,
    "start_time": "2022-09-03T15:28:37.728Z"
   },
   {
    "duration": 12,
    "start_time": "2022-09-03T15:28:38.013Z"
   },
   {
    "duration": 118,
    "start_time": "2022-09-03T15:28:38.026Z"
   },
   {
    "duration": 4,
    "start_time": "2022-09-03T15:28:38.147Z"
   },
   {
    "duration": 109,
    "start_time": "2022-09-03T15:28:38.152Z"
   },
   {
    "duration": 126,
    "start_time": "2022-09-03T15:28:38.262Z"
   },
   {
    "duration": 16,
    "start_time": "2022-09-03T15:28:38.408Z"
   },
   {
    "duration": 132,
    "start_time": "2022-09-03T15:28:38.426Z"
   },
   {
    "duration": 7,
    "start_time": "2022-09-03T15:28:38.559Z"
   },
   {
    "duration": 20,
    "start_time": "2022-09-03T15:28:38.567Z"
   },
   {
    "duration": 66,
    "start_time": "2022-09-03T15:28:38.588Z"
   },
   {
    "duration": 10,
    "start_time": "2022-09-03T15:28:38.655Z"
   },
   {
    "duration": 12,
    "start_time": "2022-09-03T15:28:38.666Z"
   },
   {
    "duration": 30,
    "start_time": "2022-09-03T15:28:38.679Z"
   },
   {
    "duration": 29,
    "start_time": "2022-09-03T15:28:38.717Z"
   },
   {
    "duration": 12,
    "start_time": "2022-09-03T15:28:38.748Z"
   },
   {
    "duration": 1100,
    "start_time": "2022-09-03T16:12:36.248Z"
   },
   {
    "duration": 10,
    "start_time": "2022-09-03T16:12:37.350Z"
   },
   {
    "duration": 9,
    "start_time": "2022-09-03T16:12:37.362Z"
   },
   {
    "duration": 12,
    "start_time": "2022-09-03T16:12:37.372Z"
   },
   {
    "duration": 11,
    "start_time": "2022-09-03T16:12:37.387Z"
   },
   {
    "duration": 72,
    "start_time": "2022-09-03T16:12:37.399Z"
   },
   {
    "duration": 7,
    "start_time": "2022-09-03T16:12:37.473Z"
   },
   {
    "duration": 15,
    "start_time": "2022-09-03T16:12:37.482Z"
   },
   {
    "duration": 16,
    "start_time": "2022-09-03T16:12:37.498Z"
   },
   {
    "duration": 12,
    "start_time": "2022-09-03T16:12:37.515Z"
   },
   {
    "duration": 5,
    "start_time": "2022-09-03T16:12:37.529Z"
   },
   {
    "duration": 13,
    "start_time": "2022-09-03T16:12:37.535Z"
   },
   {
    "duration": 9,
    "start_time": "2022-09-03T16:12:37.549Z"
   },
   {
    "duration": 14,
    "start_time": "2022-09-03T16:12:37.561Z"
   },
   {
    "duration": 3,
    "start_time": "2022-09-03T16:12:37.598Z"
   },
   {
    "duration": 13,
    "start_time": "2022-09-03T16:12:37.602Z"
   },
   {
    "duration": 5,
    "start_time": "2022-09-03T16:12:37.616Z"
   },
   {
    "duration": 4,
    "start_time": "2022-09-03T16:12:37.623Z"
   },
   {
    "duration": 6,
    "start_time": "2022-09-03T16:12:37.629Z"
   },
   {
    "duration": 285,
    "start_time": "2022-09-03T16:12:37.636Z"
   },
   {
    "duration": 238,
    "start_time": "2022-09-03T16:12:37.923Z"
   },
   {
    "duration": 163,
    "start_time": "2022-09-03T16:12:38.163Z"
   },
   {
    "duration": 239,
    "start_time": "2022-09-03T16:12:38.327Z"
   },
   {
    "duration": 155,
    "start_time": "2022-09-03T16:12:38.567Z"
   },
   {
    "duration": 259,
    "start_time": "2022-09-03T16:12:38.724Z"
   },
   {
    "duration": 19,
    "start_time": "2022-09-03T16:12:38.984Z"
   },
   {
    "duration": 114,
    "start_time": "2022-09-03T16:12:39.005Z"
   },
   {
    "duration": 4,
    "start_time": "2022-09-03T16:12:39.121Z"
   },
   {
    "duration": 115,
    "start_time": "2022-09-03T16:12:39.126Z"
   },
   {
    "duration": 114,
    "start_time": "2022-09-03T16:12:39.242Z"
   },
   {
    "duration": 4,
    "start_time": "2022-09-03T16:12:39.358Z"
   },
   {
    "duration": 122,
    "start_time": "2022-09-03T16:12:39.363Z"
   },
   {
    "duration": 12,
    "start_time": "2022-09-03T16:12:39.486Z"
   },
   {
    "duration": 22,
    "start_time": "2022-09-03T16:12:39.500Z"
   },
   {
    "duration": 79,
    "start_time": "2022-09-03T16:12:39.524Z"
   },
   {
    "duration": 9,
    "start_time": "2022-09-03T16:12:39.605Z"
   },
   {
    "duration": 6,
    "start_time": "2022-09-03T16:12:39.616Z"
   },
   {
    "duration": 8,
    "start_time": "2022-09-03T16:12:39.624Z"
   },
   {
    "duration": 18,
    "start_time": "2022-09-03T16:12:39.634Z"
   },
   {
    "duration": 13,
    "start_time": "2022-09-03T16:12:39.654Z"
   },
   {
    "duration": 1483,
    "start_time": "2022-09-09T10:28:53.119Z"
   },
   {
    "duration": 14,
    "start_time": "2022-09-09T10:28:54.604Z"
   },
   {
    "duration": 17,
    "start_time": "2022-09-09T10:28:54.619Z"
   },
   {
    "duration": 4,
    "start_time": "2022-09-09T10:28:54.638Z"
   },
   {
    "duration": 33,
    "start_time": "2022-09-09T10:28:54.643Z"
   },
   {
    "duration": 8,
    "start_time": "2022-09-09T10:28:54.677Z"
   },
   {
    "duration": 6,
    "start_time": "2022-09-09T10:28:54.686Z"
   },
   {
    "duration": 18,
    "start_time": "2022-09-09T10:28:54.694Z"
   },
   {
    "duration": 19,
    "start_time": "2022-09-09T10:28:54.713Z"
   },
   {
    "duration": 16,
    "start_time": "2022-09-09T10:28:54.755Z"
   },
   {
    "duration": 7,
    "start_time": "2022-09-09T10:28:54.773Z"
   },
   {
    "duration": 7,
    "start_time": "2022-09-09T10:28:54.782Z"
   },
   {
    "duration": 9,
    "start_time": "2022-09-09T10:28:54.790Z"
   },
   {
    "duration": 15,
    "start_time": "2022-09-09T10:28:54.800Z"
   },
   {
    "duration": 9,
    "start_time": "2022-09-09T10:28:54.817Z"
   },
   {
    "duration": 30,
    "start_time": "2022-09-09T10:28:54.827Z"
   },
   {
    "duration": 212,
    "start_time": "2022-09-09T10:28:54.859Z"
   },
   {
    "duration": 15,
    "start_time": "2022-09-09T10:28:55.073Z"
   },
   {
    "duration": 4,
    "start_time": "2022-09-09T10:28:55.089Z"
   },
   {
    "duration": 11,
    "start_time": "2022-09-09T10:28:55.094Z"
   },
   {
    "duration": 134,
    "start_time": "2022-09-09T10:28:55.106Z"
   },
   {
    "duration": 13,
    "start_time": "2022-09-09T10:28:55.242Z"
   },
   {
    "duration": 13,
    "start_time": "2022-09-09T10:28:55.257Z"
   },
   {
    "duration": 681,
    "start_time": "2022-09-09T10:28:55.272Z"
   },
   {
    "duration": 22,
    "start_time": "2022-09-09T10:28:55.955Z"
   },
   {
    "duration": 5,
    "start_time": "2022-09-09T10:28:55.979Z"
   },
   {
    "duration": 6,
    "start_time": "2022-09-09T10:28:55.986Z"
   },
   {
    "duration": 183,
    "start_time": "2022-09-09T10:28:55.995Z"
   },
   {
    "duration": 8,
    "start_time": "2022-09-09T10:28:56.180Z"
   },
   {
    "duration": 5,
    "start_time": "2022-09-09T10:28:56.189Z"
   },
   {
    "duration": 17,
    "start_time": "2022-09-09T10:28:56.195Z"
   },
   {
    "duration": 422,
    "start_time": "2022-09-09T10:28:56.213Z"
   },
   {
    "duration": 7,
    "start_time": "2022-09-09T10:28:56.637Z"
   },
   {
    "duration": 481,
    "start_time": "2022-09-09T10:28:56.655Z"
   },
   {
    "duration": 21,
    "start_time": "2022-09-09T10:28:57.137Z"
   },
   {
    "duration": 21,
    "start_time": "2022-09-09T10:28:57.159Z"
   },
   {
    "duration": 10,
    "start_time": "2022-09-09T10:28:57.182Z"
   },
   {
    "duration": 10,
    "start_time": "2022-09-09T10:28:57.193Z"
   },
   {
    "duration": 338,
    "start_time": "2022-09-09T10:28:57.204Z"
   },
   {
    "duration": 2123,
    "start_time": "2022-09-09T10:28:57.544Z"
   },
   {
    "duration": 17,
    "start_time": "2022-09-09T10:28:59.669Z"
   },
   {
    "duration": 11,
    "start_time": "2022-09-09T10:28:59.688Z"
   },
   {
    "duration": 10,
    "start_time": "2022-09-09T10:28:59.700Z"
   },
   {
    "duration": 1149,
    "start_time": "2022-09-09T10:28:59.711Z"
   },
   {
    "duration": 19,
    "start_time": "2022-09-09T10:29:00.862Z"
   },
   {
    "duration": 8,
    "start_time": "2022-09-09T10:29:00.883Z"
   },
   {
    "duration": 11,
    "start_time": "2022-09-09T10:29:00.892Z"
   },
   {
    "duration": 15,
    "start_time": "2022-09-09T10:29:00.904Z"
   },
   {
    "duration": 14,
    "start_time": "2022-09-09T10:29:00.920Z"
   },
   {
    "duration": 13,
    "start_time": "2022-09-09T10:29:00.954Z"
   },
   {
    "duration": 1281,
    "start_time": "2022-09-09T10:29:00.969Z"
   },
   {
    "duration": 17,
    "start_time": "2022-09-09T10:29:02.252Z"
   },
   {
    "duration": 9,
    "start_time": "2022-09-09T10:29:02.270Z"
   },
   {
    "duration": 11,
    "start_time": "2022-09-09T10:29:02.281Z"
   },
   {
    "duration": 13,
    "start_time": "2022-09-09T10:29:02.294Z"
   },
   {
    "duration": 14,
    "start_time": "2022-09-09T10:29:02.309Z"
   },
   {
    "duration": 10,
    "start_time": "2022-09-09T10:29:02.355Z"
   },
   {
    "duration": 2411,
    "start_time": "2022-09-09T10:29:02.366Z"
   },
   {
    "duration": 1709,
    "start_time": "2022-10-13T15:18:43.607Z"
   },
   {
    "duration": 69,
    "start_time": "2022-10-13T15:18:45.319Z"
   },
   {
    "duration": 17,
    "start_time": "2022-10-13T15:18:45.389Z"
   },
   {
    "duration": 24,
    "start_time": "2022-10-13T15:18:45.408Z"
   },
   {
    "duration": 47,
    "start_time": "2022-10-13T15:18:45.433Z"
   },
   {
    "duration": 571,
    "start_time": "2022-10-13T15:18:45.483Z"
   },
   {
    "duration": 18,
    "start_time": "2022-10-13T15:18:46.056Z"
   },
   {
    "duration": 1154,
    "start_time": "2022-10-13T15:18:46.076Z"
   },
   {
    "duration": 2068,
    "start_time": "2022-10-13T15:18:47.233Z"
   },
   {
    "duration": 1695,
    "start_time": "2022-10-13T15:18:49.304Z"
   },
   {
    "duration": 5,
    "start_time": "2022-10-13T15:18:51.001Z"
   },
   {
    "duration": 19,
    "start_time": "2022-10-13T15:18:51.008Z"
   },
   {
    "duration": 12,
    "start_time": "2022-10-13T15:18:51.029Z"
   },
   {
    "duration": 111,
    "start_time": "2022-10-13T15:18:51.043Z"
   },
   {
    "duration": 515,
    "start_time": "2022-10-13T15:18:51.156Z"
   },
   {
    "duration": 5,
    "start_time": "2022-10-13T15:18:51.674Z"
   },
   {
    "duration": 36,
    "start_time": "2022-10-13T15:18:51.682Z"
   },
   {
    "duration": 9,
    "start_time": "2022-10-13T15:18:51.720Z"
   },
   {
    "duration": 901,
    "start_time": "2022-10-13T15:18:51.732Z"
   },
   {
    "duration": 1220,
    "start_time": "2022-10-13T15:18:52.635Z"
   },
   {
    "duration": 2853,
    "start_time": "2022-10-13T15:18:53.856Z"
   },
   {
    "duration": 118,
    "start_time": "2022-10-13T15:18:56.711Z"
   },
   {
    "duration": 9,
    "start_time": "2022-10-14T07:15:56.255Z"
   },
   {
    "duration": 1762,
    "start_time": "2022-10-14T07:16:02.044Z"
   },
   {
    "duration": 309,
    "start_time": "2022-10-14T07:16:03.808Z"
   },
   {
    "duration": 18,
    "start_time": "2022-10-14T07:16:04.119Z"
   },
   {
    "duration": 14,
    "start_time": "2022-10-14T07:16:04.139Z"
   },
   {
    "duration": 48,
    "start_time": "2022-10-14T07:16:04.155Z"
   },
   {
    "duration": 570,
    "start_time": "2022-10-14T07:16:04.205Z"
   },
   {
    "duration": 23,
    "start_time": "2022-10-14T07:16:04.777Z"
   },
   {
    "duration": 1173,
    "start_time": "2022-10-14T07:16:04.802Z"
   },
   {
    "duration": 2128,
    "start_time": "2022-10-14T07:16:05.977Z"
   },
   {
    "duration": 1738,
    "start_time": "2022-10-14T07:16:08.108Z"
   },
   {
    "duration": 6,
    "start_time": "2022-10-14T07:16:09.848Z"
   },
   {
    "duration": 12,
    "start_time": "2022-10-14T07:16:09.856Z"
   },
   {
    "duration": 27,
    "start_time": "2022-10-14T07:16:09.870Z"
   },
   {
    "duration": 91,
    "start_time": "2022-10-14T07:16:09.899Z"
   },
   {
    "duration": 473,
    "start_time": "2022-10-14T07:16:09.993Z"
   },
   {
    "duration": 4,
    "start_time": "2022-10-14T07:16:10.468Z"
   },
   {
    "duration": 22,
    "start_time": "2022-10-14T07:16:10.474Z"
   },
   {
    "duration": 5,
    "start_time": "2022-10-14T07:16:10.498Z"
   },
   {
    "duration": 13,
    "start_time": "2022-10-14T07:16:10.505Z"
   },
   {
    "duration": 977,
    "start_time": "2022-10-14T07:16:10.520Z"
   },
   {
    "duration": 1200,
    "start_time": "2022-10-14T07:16:11.499Z"
   },
   {
    "duration": 3059,
    "start_time": "2022-10-14T07:16:12.701Z"
   },
   {
    "duration": 134,
    "start_time": "2022-10-14T07:16:15.761Z"
   },
   {
    "duration": 1244,
    "start_time": "2022-10-14T07:16:45.156Z"
   },
   {
    "duration": 4,
    "start_time": "2022-10-14T07:17:23.876Z"
   },
   {
    "duration": 131,
    "start_time": "2022-10-14T07:17:49.456Z"
   },
   {
    "duration": 6,
    "start_time": "2022-10-14T07:18:07.801Z"
   },
   {
    "duration": 11,
    "start_time": "2022-10-14T07:18:13.566Z"
   },
   {
    "duration": 1749,
    "start_time": "2022-10-14T07:23:17.352Z"
   },
   {
    "duration": 110,
    "start_time": "2022-10-14T07:23:19.103Z"
   },
   {
    "duration": 18,
    "start_time": "2022-10-14T07:23:19.215Z"
   },
   {
    "duration": 17,
    "start_time": "2022-10-14T07:23:19.234Z"
   },
   {
    "duration": 72,
    "start_time": "2022-10-14T07:23:19.254Z"
   },
   {
    "duration": 610,
    "start_time": "2022-10-14T07:23:19.328Z"
   },
   {
    "duration": 18,
    "start_time": "2022-10-14T07:23:19.941Z"
   },
   {
    "duration": 1263,
    "start_time": "2022-10-14T07:23:19.961Z"
   },
   {
    "duration": 2283,
    "start_time": "2022-10-14T07:23:21.226Z"
   },
   {
    "duration": 1732,
    "start_time": "2022-10-14T07:23:23.511Z"
   },
   {
    "duration": 5,
    "start_time": "2022-10-14T07:23:25.245Z"
   },
   {
    "duration": 27,
    "start_time": "2022-10-14T07:23:25.251Z"
   },
   {
    "duration": 40,
    "start_time": "2022-10-14T07:23:25.280Z"
   },
   {
    "duration": 173,
    "start_time": "2022-10-14T07:23:25.324Z"
   },
   {
    "duration": 575,
    "start_time": "2022-10-14T07:23:25.500Z"
   },
   {
    "duration": 3,
    "start_time": "2022-10-14T07:23:26.077Z"
   },
   {
    "duration": 32,
    "start_time": "2022-10-14T07:23:26.082Z"
   },
   {
    "duration": 12,
    "start_time": "2022-10-14T07:23:26.116Z"
   },
   {
    "duration": 34,
    "start_time": "2022-10-14T07:23:26.130Z"
   },
   {
    "duration": 17,
    "start_time": "2022-10-14T07:23:26.166Z"
   },
   {
    "duration": 938,
    "start_time": "2022-10-14T07:23:26.184Z"
   },
   {
    "duration": 1475,
    "start_time": "2022-10-14T07:23:27.124Z"
   },
   {
    "duration": 3297,
    "start_time": "2022-10-14T07:23:28.601Z"
   },
   {
    "duration": 184,
    "start_time": "2022-10-14T07:23:31.900Z"
   },
   {
    "duration": 1762,
    "start_time": "2022-11-07T07:04:07.154Z"
   },
   {
    "duration": 167,
    "start_time": "2022-11-07T07:04:08.919Z"
   },
   {
    "duration": 16,
    "start_time": "2022-11-07T07:04:09.087Z"
   },
   {
    "duration": 18,
    "start_time": "2022-11-07T07:04:09.105Z"
   },
   {
    "duration": 12,
    "start_time": "2022-11-07T07:04:09.125Z"
   },
   {
    "duration": 21,
    "start_time": "2022-11-07T07:04:09.138Z"
   },
   {
    "duration": 231,
    "start_time": "2022-11-07T07:04:09.160Z"
   },
   {
    "duration": 5,
    "start_time": "2022-11-07T07:04:09.393Z"
   },
   {
    "duration": 20,
    "start_time": "2022-11-07T07:04:09.400Z"
   },
   {
    "duration": 29,
    "start_time": "2022-11-07T07:04:09.424Z"
   },
   {
    "duration": 11,
    "start_time": "2022-11-07T07:04:09.454Z"
   },
   {
    "duration": 12,
    "start_time": "2022-11-07T07:04:09.467Z"
   },
   {
    "duration": 52,
    "start_time": "2022-11-07T07:04:09.481Z"
   },
   {
    "duration": 4,
    "start_time": "2022-11-07T07:04:09.535Z"
   },
   {
    "duration": 18,
    "start_time": "2022-11-07T07:04:09.541Z"
   },
   {
    "duration": 5,
    "start_time": "2022-11-07T07:04:09.561Z"
   },
   {
    "duration": 448,
    "start_time": "2022-11-07T07:04:09.568Z"
   },
   {
    "duration": 17,
    "start_time": "2022-11-07T07:04:10.017Z"
   },
   {
    "duration": 5,
    "start_time": "2022-11-07T07:04:10.036Z"
   },
   {
    "duration": 500,
    "start_time": "2022-11-07T07:04:10.043Z"
   },
   {
    "duration": 15,
    "start_time": "2022-11-07T07:04:10.546Z"
   },
   {
    "duration": 7,
    "start_time": "2022-11-07T07:04:10.563Z"
   },
   {
    "duration": 7,
    "start_time": "2022-11-07T07:04:10.572Z"
   },
   {
    "duration": 9,
    "start_time": "2022-11-07T07:04:10.582Z"
   },
   {
    "duration": 14,
    "start_time": "2022-11-07T07:04:10.593Z"
   },
   {
    "duration": 27,
    "start_time": "2022-11-07T07:04:10.634Z"
   },
   {
    "duration": 9,
    "start_time": "2022-11-07T07:04:10.663Z"
   },
   {
    "duration": 9,
    "start_time": "2022-11-07T07:04:10.675Z"
   },
   {
    "duration": 12,
    "start_time": "2022-11-07T07:04:10.686Z"
   },
   {
    "duration": 502,
    "start_time": "2022-11-07T07:04:10.701Z"
   },
   {
    "duration": 187,
    "start_time": "2022-11-07T07:04:11.205Z"
   },
   {
    "duration": 5,
    "start_time": "2022-11-07T07:04:11.394Z"
   },
   {
    "duration": 60,
    "start_time": "2022-11-07T07:04:11.401Z"
   },
   {
    "duration": 10,
    "start_time": "2022-11-07T07:04:11.463Z"
   },
   {
    "duration": 72,
    "start_time": "2022-11-07T07:04:11.475Z"
   },
   {
    "duration": 21,
    "start_time": "2022-11-07T07:04:11.553Z"
   },
   {
    "duration": 27,
    "start_time": "2022-11-07T07:04:11.576Z"
   },
   {
    "duration": 367,
    "start_time": "2022-11-07T07:04:11.605Z"
   },
   {
    "duration": 1203,
    "start_time": "2022-11-07T07:04:11.974Z"
   },
   {
    "duration": 4,
    "start_time": "2022-11-07T07:04:13.179Z"
   },
   {
    "duration": 126,
    "start_time": "2022-11-07T07:04:13.185Z"
   },
   {
    "duration": 62,
    "start_time": "2022-11-07T07:04:13.313Z"
   },
   {
    "duration": 340,
    "start_time": "2022-11-07T07:04:13.377Z"
   },
   {
    "duration": 953,
    "start_time": "2022-11-07T07:04:13.718Z"
   },
   {
    "duration": 160,
    "start_time": "2022-11-07T07:04:14.673Z"
   },
   {
    "duration": 10,
    "start_time": "2022-11-07T07:04:14.835Z"
   },
   {
    "duration": 488,
    "start_time": "2022-11-07T07:04:14.846Z"
   },
   {
    "duration": 500,
    "start_time": "2022-11-07T07:04:15.336Z"
   },
   {
    "duration": 94,
    "start_time": "2022-11-07T07:04:15.843Z"
   },
   {
    "duration": 2800,
    "start_time": "2022-11-07T07:04:15.939Z"
   },
   {
    "duration": 14,
    "start_time": "2022-11-07T07:04:18.741Z"
   },
   {
    "duration": 45,
    "start_time": "2022-11-07T07:04:18.757Z"
   },
   {
    "duration": 730,
    "start_time": "2022-11-07T07:04:18.804Z"
   },
   {
    "duration": 8,
    "start_time": "2022-11-07T07:04:19.538Z"
   },
   {
    "duration": 4,
    "start_time": "2022-11-07T07:06:08.786Z"
   },
   {
    "duration": 20,
    "start_time": "2022-11-07T07:06:10.933Z"
   },
   {
    "duration": 11,
    "start_time": "2022-11-07T07:06:36.204Z"
   },
   {
    "duration": 6,
    "start_time": "2022-11-07T07:06:41.979Z"
   },
   {
    "duration": 28,
    "start_time": "2022-11-07T07:24:37.266Z"
   },
   {
    "duration": 9,
    "start_time": "2022-11-07T07:24:46.923Z"
   },
   {
    "duration": 10,
    "start_time": "2022-11-07T07:24:51.766Z"
   }
  ],
  "kernelspec": {
   "display_name": "Python 3 (ipykernel)",
   "language": "python",
   "name": "python3"
  },
  "language_info": {
   "codemirror_mode": {
    "name": "ipython",
    "version": 3
   },
   "file_extension": ".py",
   "mimetype": "text/x-python",
   "name": "python",
   "nbconvert_exporter": "python",
   "pygments_lexer": "ipython3",
   "version": "3.9.12"
  },
  "toc": {
   "base_numbering": 1,
   "nav_menu": {},
   "number_sections": true,
   "sideBar": true,
   "skip_h1_title": true,
   "title_cell": "Содержание",
   "title_sidebar": "Contents",
   "toc_cell": true,
   "toc_position": {},
   "toc_section_display": true,
   "toc_window_display": false
  }
 },
 "nbformat": 4,
 "nbformat_minor": 4
}
