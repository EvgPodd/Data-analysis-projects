{
 "cells": [
  {
   "cell_type": "markdown",
   "metadata": {},
   "source": [
    "# Создание дашборда по пользовательским событиям для агрегатора новостей\n"
   ]
  },
  {
   "cell_type": "markdown",
   "metadata": {},
   "source": [
    "## Подготовка данных из БД"
   ]
  },
  {
   "cell_type": "markdown",
   "metadata": {},
   "source": [
    "Прежде всего выгрузим данные из базы данных и познакомимся с ними. Далее, пордготовим csv-файл, с которым будем работать в Tableau."
   ]
  },
  {
   "cell_type": "markdown",
   "metadata": {},
   "source": [
    "Подключимся к базе данных через библиотеку Sqlalchemy."
   ]
  },
  {
   "cell_type": "code",
   "execution_count": 1,
   "metadata": {},
   "outputs": [
    {
     "name": "stdout",
     "output_type": "stream",
     "text": [
      "Requirement already satisfied: psycopg2-binary in c:\\users\\evges\\anaconda3\\lib\\site-packages (2.9.3)\n"
     ]
    }
   ],
   "source": [
    "# импортируем библиотеки\n",
    "import matplotlib.pyplot as plt\n",
    "import pandas as pd\n",
    "from sqlalchemy import create_engine\n",
    "\n",
    "db_config = {'user': 'praktikum_student', # имя пользователя\n",
    "            'pwd': 'Sdf4$2;d-d30pp', # пароль\n",
    "            'host': 'rc1b-wcoijxj3yxfsf3fs.mdb.yandexcloud.net',\n",
    "            'port': 6432, # порт подключения\n",
    "            'db': 'data-analyst-zen-project-db'} # название базы данных\n",
    "\n",
    "!pip install psycopg2-binary\n",
    "\n",
    "connection_string = 'postgresql://{}:{}@{}:{}/{}'.format(db_config['user'],\n",
    "                                                db_config['pwd'],\n",
    "                                                db_config['host'],\n",
    "                                                db_config['port'],\n",
    "                                                db_config['db'])\n",
    "\n",
    "engine = create_engine(connection_string) "
   ]
  },
  {
   "cell_type": "markdown",
   "metadata": {},
   "source": [
    "Сформируем и выполним sql-запрос и сохраним результат выполнения в DataFrame.Sqlalchemy автоматически установит названия колоно такими же, как у таблицы в БД."
   ]
  },
  {
   "cell_type": "code",
   "execution_count": 2,
   "metadata": {
    "scrolled": true
   },
   "outputs": [
    {
     "data": {
      "text/html": [
       "<div>\n",
       "<style scoped>\n",
       "    .dataframe tbody tr th:only-of-type {\n",
       "        vertical-align: middle;\n",
       "    }\n",
       "\n",
       "    .dataframe tbody tr th {\n",
       "        vertical-align: top;\n",
       "    }\n",
       "\n",
       "    .dataframe thead th {\n",
       "        text-align: right;\n",
       "    }\n",
       "</style>\n",
       "<table border=\"1\" class=\"dataframe\">\n",
       "  <thead>\n",
       "    <tr style=\"text-align: right;\">\n",
       "      <th></th>\n",
       "      <th>record_id</th>\n",
       "      <th>item_topic</th>\n",
       "      <th>source_topic</th>\n",
       "      <th>age_segment</th>\n",
       "      <th>dt</th>\n",
       "      <th>visits</th>\n",
       "    </tr>\n",
       "  </thead>\n",
       "  <tbody>\n",
       "    <tr>\n",
       "      <th>0</th>\n",
       "      <td>1040597</td>\n",
       "      <td>Деньги</td>\n",
       "      <td>Авто</td>\n",
       "      <td>18-25</td>\n",
       "      <td>2019-09-24 18:32:00</td>\n",
       "      <td>3</td>\n",
       "    </tr>\n",
       "    <tr>\n",
       "      <th>1</th>\n",
       "      <td>1040598</td>\n",
       "      <td>Деньги</td>\n",
       "      <td>Авто</td>\n",
       "      <td>18-25</td>\n",
       "      <td>2019-09-24 18:35:00</td>\n",
       "      <td>1</td>\n",
       "    </tr>\n",
       "    <tr>\n",
       "      <th>2</th>\n",
       "      <td>1040599</td>\n",
       "      <td>Деньги</td>\n",
       "      <td>Авто</td>\n",
       "      <td>18-25</td>\n",
       "      <td>2019-09-24 18:54:00</td>\n",
       "      <td>4</td>\n",
       "    </tr>\n",
       "    <tr>\n",
       "      <th>3</th>\n",
       "      <td>1040600</td>\n",
       "      <td>Деньги</td>\n",
       "      <td>Авто</td>\n",
       "      <td>18-25</td>\n",
       "      <td>2019-09-24 18:55:00</td>\n",
       "      <td>17</td>\n",
       "    </tr>\n",
       "    <tr>\n",
       "      <th>4</th>\n",
       "      <td>1040601</td>\n",
       "      <td>Деньги</td>\n",
       "      <td>Авто</td>\n",
       "      <td>18-25</td>\n",
       "      <td>2019-09-24 18:56:00</td>\n",
       "      <td>27</td>\n",
       "    </tr>\n",
       "  </tbody>\n",
       "</table>\n",
       "</div>"
      ],
      "text/plain": [
       "   record_id item_topic source_topic age_segment                  dt  visits\n",
       "0    1040597     Деньги         Авто       18-25 2019-09-24 18:32:00       3\n",
       "1    1040598     Деньги         Авто       18-25 2019-09-24 18:35:00       1\n",
       "2    1040599     Деньги         Авто       18-25 2019-09-24 18:54:00       4\n",
       "3    1040600     Деньги         Авто       18-25 2019-09-24 18:55:00      17\n",
       "4    1040601     Деньги         Авто       18-25 2019-09-24 18:56:00      27"
      ]
     },
     "execution_count": 2,
     "metadata": {},
     "output_type": "execute_result"
    }
   ],
   "source": [
    "query = ''' SELECT *\n",
    "            FROM dash_visits\n",
    "        '''\n",
    "\n",
    "dash_visits = pd.io.sql.read_sql(query, con = engine)\n",
    "\n",
    "dash_visits.head(5)\n",
    " "
   ]
  },
  {
   "cell_type": "markdown",
   "metadata": {},
   "source": [
    "## Знакомство с данными"
   ]
  },
  {
   "cell_type": "markdown",
   "metadata": {},
   "source": [
    "Чуть подробнее познакомимся с имеющимися данными."
   ]
  },
  {
   "cell_type": "code",
   "execution_count": 3,
   "metadata": {},
   "outputs": [
    {
     "name": "stdout",
     "output_type": "stream",
     "text": [
      "<class 'pandas.core.frame.DataFrame'>\n",
      "RangeIndex: 30745 entries, 0 to 30744\n",
      "Data columns (total 6 columns):\n",
      " #   Column        Non-Null Count  Dtype         \n",
      "---  ------        --------------  -----         \n",
      " 0   record_id     30745 non-null  int64         \n",
      " 1   item_topic    30745 non-null  object        \n",
      " 2   source_topic  30745 non-null  object        \n",
      " 3   age_segment   30745 non-null  object        \n",
      " 4   dt            30745 non-null  datetime64[ns]\n",
      " 5   visits        30745 non-null  int64         \n",
      "dtypes: datetime64[ns](1), int64(2), object(3)\n",
      "memory usage: 1.4+ MB\n"
     ]
    }
   ],
   "source": [
    "dash_visits.info()"
   ]
  },
  {
   "cell_type": "code",
   "execution_count": 4,
   "metadata": {},
   "outputs": [
    {
     "data": {
      "text/plain": [
       "0"
      ]
     },
     "execution_count": 4,
     "metadata": {},
     "output_type": "execute_result"
    }
   ],
   "source": [
    "dash_visits.duplicated().sum()"
   ]
  },
  {
   "cell_type": "code",
   "execution_count": 5,
   "metadata": {
    "scrolled": true
   },
   "outputs": [
    {
     "data": {
      "text/plain": [
       "0"
      ]
     },
     "execution_count": 5,
     "metadata": {},
     "output_type": "execute_result"
    }
   ],
   "source": [
    "dash_visits['record_id'].duplicated().sum()"
   ]
  },
  {
   "cell_type": "code",
   "execution_count": 6,
   "metadata": {},
   "outputs": [
    {
     "data": {
      "text/plain": [
       "array(['Деньги', 'Дети', 'Женская психология', 'Женщины', 'Здоровье',\n",
       "       'Знаменитости', 'Интересные факты', 'Искусство', 'История',\n",
       "       'Красота', 'Культура', 'Наука', 'Общество', 'Отношения',\n",
       "       'Подборки', 'Полезные советы', 'Психология', 'Путешествия',\n",
       "       'Рассказы', 'Россия', 'Семья', 'Скандалы', 'Туризм', 'Шоу', 'Юмор'],\n",
       "      dtype=object)"
      ]
     },
     "execution_count": 6,
     "metadata": {},
     "output_type": "execute_result"
    }
   ],
   "source": [
    "dash_visits['item_topic'].unique()"
   ]
  },
  {
   "cell_type": "code",
   "execution_count": 7,
   "metadata": {},
   "outputs": [
    {
     "data": {
      "text/plain": [
       "array(['Авто', 'Деньги', 'Дети', 'Еда', 'Здоровье', 'Знаменитости',\n",
       "       'Интерьеры', 'Искусство', 'История', 'Кино', 'Музыка', 'Одежда',\n",
       "       'Полезные советы', 'Политика', 'Психология', 'Путешествия',\n",
       "       'Ремонт', 'Россия', 'Сад и дача', 'Сделай сам',\n",
       "       'Семейные отношения', 'Семья', 'Спорт', 'Строительство',\n",
       "       'Технологии', 'Финансы'], dtype=object)"
      ]
     },
     "execution_count": 7,
     "metadata": {},
     "output_type": "execute_result"
    }
   ],
   "source": [
    "dash_visits['source_topic'].unique()\n"
   ]
  },
  {
   "cell_type": "code",
   "execution_count": 8,
   "metadata": {},
   "outputs": [
    {
     "data": {
      "text/plain": [
       "array(['18-25', '26-30', '31-35', '36-40', '41-45', '45+'], dtype=object)"
      ]
     },
     "execution_count": 8,
     "metadata": {},
     "output_type": "execute_result"
    }
   ],
   "source": [
    "dash_visits['age_segment'].unique()\n"
   ]
  },
  {
   "cell_type": "code",
   "execution_count": 9,
   "metadata": {},
   "outputs": [
    {
     "data": {
      "text/plain": [
       "(Timestamp('2019-09-24 18:28:00'), Timestamp('2019-09-24 19:00:00'))"
      ]
     },
     "execution_count": 9,
     "metadata": {},
     "output_type": "execute_result"
    }
   ],
   "source": [
    "dash_visits['dt'].min(), dash_visits['dt'].max()"
   ]
  },
  {
   "cell_type": "code",
   "execution_count": 10,
   "metadata": {
    "scrolled": true
   },
   "outputs": [
    {
     "data": {
      "text/plain": [
       "(1, 371, 3.0, 10.089673117580094)"
      ]
     },
     "execution_count": 10,
     "metadata": {},
     "output_type": "execute_result"
    }
   ],
   "source": [
    "dash_visits['visits'].min(), dash_visits['visits'].max(), dash_visits['visits'].median(), dash_visits['visits'].mean()"
   ]
  },
  {
   "cell_type": "markdown",
   "metadata": {},
   "source": [
    "Итак, мы имеем таблицу без явных дубликатов с информацией о более 30 тыс. событий взаимодействия пользователей 6 возрастных категорий с карточками в Яндекс.Дзене. Данные охватывают временной интервал около получаса 24 сентября 2019 года. Количество визитов в каждом наблюдении варьируется от 1 до 371, медианное значение - 3.\n",
    "\n",
    "Таблица представлена в строко-ориентированном виде - как раз так, как нам нужно. Сформируем csv файл на основе которого будем строить дашборд в Tableau."
   ]
  },
  {
   "cell_type": "code",
   "execution_count": 11,
   "metadata": {},
   "outputs": [],
   "source": [
    "dash_visits.to_csv('dash_visits.csv', index=False)"
   ]
  },
  {
   "cell_type": "markdown",
   "metadata": {},
   "source": [
    "## Формулировка ТЗ"
   ]
  },
  {
   "cell_type": "markdown",
   "metadata": {},
   "source": [
    "<b>Мы имеем краткое ТЗ:</b>\n",
    "\n",
    "- Бизнес-задача: <i>анализ взаимодействия пользователей с карточками Яндекс.Дзен</i>;\n",
    "- Насколько часто предполагается пользоваться дашбордом: <i>не реже, чем раз в неделю</i>;\n",
    "- Кто будет основным пользователем дашборда: <i>менеджеры по анализу контента</i>;\n",
    "- Состав данных для дашборда:<i>\n",
    "        1. История событий по темам карточек (два графика - абсолютные числа и процентное соотношение);\n",
    "        2. Разбивка событий по темам источников;\n",
    "        3. Таблица соответствия тем источников темам карточек;\n",
    "</i>\n",
    "- По каким параметрам данные должны группироваться:<i>\n",
    "        1. Дата и время;\n",
    "        2. Тема карточки;\n",
    "        3. Тема источника;\n",
    "        4. Возрастная группа;\n",
    "</i>\n",
    "- Характер данных:<i>\n",
    "        1. История событий по темам карточек — абсолютные величины с разбивкой по минутам;\n",
    "        2. Разбивка событий по темам источников — относительные величины (% событий);\n",
    "        3. Соответствия тем источников темам карточек - абсолютные величины;\n",
    "</i>\n",
    "- Важность: <i>все графики имеют равную важность</i>;\n",
    "- Источники данных для дашборда: <i>cырые данные о событиях взаимодействия пользователей с карточками (таблица log_raw)</i>;\n",
    "- База данных, в которой будут храниться агрегированные данные: <i>дополнительные агрегированные таблицы в БД zen</i>;\n",
    "- Частота обновления данных: <i>один раз в сутки, в полночь по UTC</i>;\n",
    "\n",
    "Подготовим дашборд в Tableau в соответствии с макетом.\n"
   ]
  },
  {
   "cell_type": "markdown",
   "metadata": {},
   "source": [
    "## Построение дашборда в Tableau"
   ]
  },
  {
   "cell_type": "markdown",
   "metadata": {},
   "source": [
    "Ссылка на дашборд:\n",
    "\n",
    "<https://public.tableau.com/app/profile/evgeniia.poddubnaia6108/viz/Book1_16643826037080/Dashboard1>"
   ]
  }
 ],
 "metadata": {
  "ExecuteTimeLog": [
   {
    "duration": 441,
    "start_time": "2022-06-07T12:37:51.913Z"
   },
   {
    "duration": 151,
    "start_time": "2022-06-07T12:38:22.215Z"
   },
   {
    "duration": 84,
    "start_time": "2022-06-07T12:38:37.288Z"
   },
   {
    "duration": 88,
    "start_time": "2022-06-07T12:38:46.757Z"
   },
   {
    "duration": 72,
    "start_time": "2022-06-07T12:38:50.171Z"
   },
   {
    "duration": 108,
    "start_time": "2022-06-07T12:38:57.000Z"
   },
   {
    "duration": 95,
    "start_time": "2022-06-07T12:39:02.862Z"
   },
   {
    "duration": 12,
    "start_time": "2022-06-07T12:49:55.777Z"
   },
   {
    "duration": 7,
    "start_time": "2022-06-07T13:04:18.220Z"
   },
   {
    "duration": 42,
    "start_time": "2022-06-07T13:04:30.621Z"
   },
   {
    "duration": 12,
    "start_time": "2022-06-07T13:05:02.366Z"
   },
   {
    "duration": 4,
    "start_time": "2022-06-07T13:05:10.418Z"
   },
   {
    "duration": 13,
    "start_time": "2022-06-07T13:05:19.577Z"
   },
   {
    "duration": 95,
    "start_time": "2022-06-07T13:06:16.573Z"
   },
   {
    "duration": 95,
    "start_time": "2022-06-07T13:06:24.225Z"
   },
   {
    "duration": 4,
    "start_time": "2022-06-07T13:06:32.781Z"
   },
   {
    "duration": 13,
    "start_time": "2022-06-07T13:06:37.410Z"
   },
   {
    "duration": 21,
    "start_time": "2022-06-07T13:07:04.569Z"
   },
   {
    "duration": 4,
    "start_time": "2022-06-07T13:15:50.932Z"
   },
   {
    "duration": 12,
    "start_time": "2022-06-07T13:17:30.028Z"
   },
   {
    "duration": 45,
    "start_time": "2022-06-07T13:24:06.437Z"
   },
   {
    "duration": 9,
    "start_time": "2022-06-07T13:24:15.511Z"
   },
   {
    "duration": 8,
    "start_time": "2022-06-07T13:24:50.580Z"
   },
   {
    "duration": 7,
    "start_time": "2022-06-07T13:25:12.677Z"
   },
   {
    "duration": 7,
    "start_time": "2022-06-07T13:25:25.436Z"
   },
   {
    "duration": 6,
    "start_time": "2022-06-07T13:25:44.520Z"
   },
   {
    "duration": 6,
    "start_time": "2022-06-07T13:26:12.428Z"
   },
   {
    "duration": 7,
    "start_time": "2022-06-07T13:27:53.864Z"
   },
   {
    "duration": 6,
    "start_time": "2022-06-07T13:28:09.564Z"
   },
   {
    "duration": 596,
    "start_time": "2022-06-08T13:59:14.743Z"
   },
   {
    "duration": 5,
    "start_time": "2022-06-08T13:59:18.961Z"
   },
   {
    "duration": 26,
    "start_time": "2022-06-08T13:59:20.846Z"
   },
   {
    "duration": 5,
    "start_time": "2022-06-08T13:59:31.854Z"
   },
   {
    "duration": 26,
    "start_time": "2022-06-08T14:06:56.647Z"
   },
   {
    "duration": 31,
    "start_time": "2022-06-08T14:07:05.235Z"
   },
   {
    "duration": 4,
    "start_time": "2022-06-08T14:07:52.374Z"
   },
   {
    "duration": 4,
    "start_time": "2022-06-08T14:08:23.422Z"
   },
   {
    "duration": 19,
    "start_time": "2022-06-08T14:08:44.561Z"
   },
   {
    "duration": 5,
    "start_time": "2022-06-08T14:09:29.903Z"
   },
   {
    "duration": 6,
    "start_time": "2022-06-08T14:09:39.948Z"
   },
   {
    "duration": 6,
    "start_time": "2022-06-08T14:15:25.999Z"
   },
   {
    "duration": 2,
    "start_time": "2022-06-08T14:21:04.554Z"
   },
   {
    "duration": 73,
    "start_time": "2022-06-08T14:24:21.864Z"
   },
   {
    "duration": 263,
    "start_time": "2022-06-08T14:24:46.017Z"
   },
   {
    "duration": 10,
    "start_time": "2022-06-08T14:24:58.261Z"
   },
   {
    "duration": 8,
    "start_time": "2022-06-08T14:25:35.838Z"
   },
   {
    "duration": 7,
    "start_time": "2022-06-08T14:25:45.128Z"
   },
   {
    "duration": 20,
    "start_time": "2022-06-08T14:25:55.472Z"
   },
   {
    "duration": 3,
    "start_time": "2022-06-08T14:26:08.176Z"
   },
   {
    "duration": 464,
    "start_time": "2022-06-08T14:26:30.611Z"
   },
   {
    "duration": 4606,
    "start_time": "2022-06-08T14:26:31.077Z"
   },
   {
    "duration": 3689,
    "start_time": "2022-06-08T14:26:35.685Z"
   },
   {
    "duration": 1181,
    "start_time": "2022-06-08T14:26:39.377Z"
   },
   {
    "duration": 2272,
    "start_time": "2022-06-08T14:26:40.560Z"
   },
   {
    "duration": 38,
    "start_time": "2022-06-08T14:26:42.833Z"
   },
   {
    "duration": 51,
    "start_time": "2022-06-08T14:26:42.873Z"
   },
   {
    "duration": 15,
    "start_time": "2022-06-08T14:26:42.927Z"
   },
   {
    "duration": 16,
    "start_time": "2022-06-08T14:26:42.944Z"
   },
   {
    "duration": 43,
    "start_time": "2022-06-08T14:26:42.962Z"
   },
   {
    "duration": 525,
    "start_time": "2022-06-08T14:27:33.853Z"
   },
   {
    "duration": 451,
    "start_time": "2022-06-08T14:27:51.847Z"
   },
   {
    "duration": 417,
    "start_time": "2022-06-08T14:28:03.754Z"
   },
   {
    "duration": 15,
    "start_time": "2022-06-08T14:30:51.095Z"
   },
   {
    "duration": 531,
    "start_time": "2022-06-29T16:15:56.083Z"
   },
   {
    "duration": 15,
    "start_time": "2022-06-29T16:15:56.616Z"
   },
   {
    "duration": 17,
    "start_time": "2022-06-29T16:15:56.632Z"
   },
   {
    "duration": 24,
    "start_time": "2022-06-29T16:15:56.651Z"
   },
   {
    "duration": 90,
    "start_time": "2022-06-29T16:15:56.677Z"
   },
   {
    "duration": 0,
    "start_time": "2022-06-29T16:15:56.772Z"
   },
   {
    "duration": 0,
    "start_time": "2022-06-29T16:15:56.774Z"
   },
   {
    "duration": 0,
    "start_time": "2022-06-29T16:15:56.775Z"
   },
   {
    "duration": 0,
    "start_time": "2022-06-29T16:15:56.777Z"
   },
   {
    "duration": 0,
    "start_time": "2022-06-29T16:15:56.778Z"
   },
   {
    "duration": 0,
    "start_time": "2022-06-29T16:15:56.779Z"
   },
   {
    "duration": 0,
    "start_time": "2022-06-29T16:15:56.780Z"
   },
   {
    "duration": 0,
    "start_time": "2022-06-29T16:15:56.782Z"
   },
   {
    "duration": 0,
    "start_time": "2022-06-29T16:15:56.783Z"
   },
   {
    "duration": 0,
    "start_time": "2022-06-29T16:15:56.784Z"
   },
   {
    "duration": 0,
    "start_time": "2022-06-29T16:15:56.785Z"
   },
   {
    "duration": 0,
    "start_time": "2022-06-29T16:15:56.786Z"
   },
   {
    "duration": 0,
    "start_time": "2022-06-29T16:15:56.787Z"
   },
   {
    "duration": 0,
    "start_time": "2022-06-29T16:15:56.788Z"
   },
   {
    "duration": 0,
    "start_time": "2022-06-29T16:15:56.789Z"
   },
   {
    "duration": 0,
    "start_time": "2022-06-29T16:15:56.790Z"
   },
   {
    "duration": 0,
    "start_time": "2022-06-29T16:15:56.791Z"
   },
   {
    "duration": 0,
    "start_time": "2022-06-29T16:15:56.792Z"
   },
   {
    "duration": 0,
    "start_time": "2022-06-29T16:15:56.793Z"
   },
   {
    "duration": 0,
    "start_time": "2022-06-29T16:15:56.794Z"
   },
   {
    "duration": 0,
    "start_time": "2022-06-29T16:15:56.795Z"
   },
   {
    "duration": 0,
    "start_time": "2022-06-29T16:15:56.796Z"
   },
   {
    "duration": 0,
    "start_time": "2022-06-29T16:15:56.797Z"
   },
   {
    "duration": 0,
    "start_time": "2022-06-29T16:15:56.798Z"
   },
   {
    "duration": 0,
    "start_time": "2022-06-29T16:15:56.799Z"
   },
   {
    "duration": 0,
    "start_time": "2022-06-29T16:15:56.800Z"
   },
   {
    "duration": 0,
    "start_time": "2022-06-29T16:15:56.855Z"
   },
   {
    "duration": 0,
    "start_time": "2022-06-29T16:15:56.856Z"
   },
   {
    "duration": 0,
    "start_time": "2022-06-29T16:15:56.857Z"
   },
   {
    "duration": 0,
    "start_time": "2022-06-29T16:15:56.858Z"
   },
   {
    "duration": 0,
    "start_time": "2022-06-29T16:15:56.859Z"
   },
   {
    "duration": 0,
    "start_time": "2022-06-29T16:15:56.860Z"
   },
   {
    "duration": 0,
    "start_time": "2022-06-29T16:15:56.861Z"
   },
   {
    "duration": 0,
    "start_time": "2022-06-29T16:15:56.861Z"
   },
   {
    "duration": 0,
    "start_time": "2022-06-29T16:15:56.862Z"
   },
   {
    "duration": 0,
    "start_time": "2022-06-29T16:15:56.866Z"
   },
   {
    "duration": 0,
    "start_time": "2022-06-29T16:15:56.868Z"
   },
   {
    "duration": 0,
    "start_time": "2022-06-29T16:15:56.869Z"
   },
   {
    "duration": 0,
    "start_time": "2022-06-29T16:15:56.870Z"
   },
   {
    "duration": 0,
    "start_time": "2022-06-29T16:15:56.872Z"
   },
   {
    "duration": 0,
    "start_time": "2022-06-29T16:15:56.873Z"
   },
   {
    "duration": 1,
    "start_time": "2022-06-29T16:15:56.874Z"
   },
   {
    "duration": 0,
    "start_time": "2022-06-29T16:15:56.876Z"
   },
   {
    "duration": 0,
    "start_time": "2022-06-29T16:15:56.878Z"
   },
   {
    "duration": 0,
    "start_time": "2022-06-29T16:15:56.879Z"
   },
   {
    "duration": 0,
    "start_time": "2022-06-29T16:15:56.880Z"
   },
   {
    "duration": 82,
    "start_time": "2022-06-29T16:16:24.068Z"
   },
   {
    "duration": 22,
    "start_time": "2022-06-29T16:16:24.153Z"
   },
   {
    "duration": 16,
    "start_time": "2022-06-29T16:16:24.178Z"
   },
   {
    "duration": 14,
    "start_time": "2022-06-29T16:16:24.196Z"
   },
   {
    "duration": 13,
    "start_time": "2022-06-29T16:16:24.212Z"
   },
   {
    "duration": 0,
    "start_time": "2022-06-29T16:16:24.228Z"
   },
   {
    "duration": 0,
    "start_time": "2022-06-29T16:16:24.229Z"
   },
   {
    "duration": 0,
    "start_time": "2022-06-29T16:16:24.253Z"
   },
   {
    "duration": 0,
    "start_time": "2022-06-29T16:16:24.254Z"
   },
   {
    "duration": 0,
    "start_time": "2022-06-29T16:16:24.255Z"
   },
   {
    "duration": 0,
    "start_time": "2022-06-29T16:16:24.256Z"
   },
   {
    "duration": 0,
    "start_time": "2022-06-29T16:16:24.257Z"
   },
   {
    "duration": 0,
    "start_time": "2022-06-29T16:16:24.258Z"
   },
   {
    "duration": 0,
    "start_time": "2022-06-29T16:16:24.259Z"
   },
   {
    "duration": 0,
    "start_time": "2022-06-29T16:16:24.260Z"
   },
   {
    "duration": 0,
    "start_time": "2022-06-29T16:16:24.261Z"
   },
   {
    "duration": 0,
    "start_time": "2022-06-29T16:16:24.262Z"
   },
   {
    "duration": 0,
    "start_time": "2022-06-29T16:16:24.263Z"
   },
   {
    "duration": 0,
    "start_time": "2022-06-29T16:16:24.264Z"
   },
   {
    "duration": 1,
    "start_time": "2022-06-29T16:16:24.265Z"
   },
   {
    "duration": 0,
    "start_time": "2022-06-29T16:16:24.267Z"
   },
   {
    "duration": 0,
    "start_time": "2022-06-29T16:16:24.267Z"
   },
   {
    "duration": 0,
    "start_time": "2022-06-29T16:16:24.268Z"
   },
   {
    "duration": 0,
    "start_time": "2022-06-29T16:16:24.269Z"
   },
   {
    "duration": 0,
    "start_time": "2022-06-29T16:16:24.272Z"
   },
   {
    "duration": 0,
    "start_time": "2022-06-29T16:16:24.273Z"
   },
   {
    "duration": 0,
    "start_time": "2022-06-29T16:16:24.275Z"
   },
   {
    "duration": 0,
    "start_time": "2022-06-29T16:16:24.276Z"
   },
   {
    "duration": 0,
    "start_time": "2022-06-29T16:16:24.277Z"
   },
   {
    "duration": 0,
    "start_time": "2022-06-29T16:16:24.279Z"
   },
   {
    "duration": 0,
    "start_time": "2022-06-29T16:16:24.280Z"
   },
   {
    "duration": 0,
    "start_time": "2022-06-29T16:16:24.281Z"
   },
   {
    "duration": 0,
    "start_time": "2022-06-29T16:16:24.282Z"
   },
   {
    "duration": 0,
    "start_time": "2022-06-29T16:16:24.283Z"
   },
   {
    "duration": 0,
    "start_time": "2022-06-29T16:16:24.284Z"
   },
   {
    "duration": 0,
    "start_time": "2022-06-29T16:16:24.286Z"
   },
   {
    "duration": 0,
    "start_time": "2022-06-29T16:16:24.286Z"
   },
   {
    "duration": 0,
    "start_time": "2022-06-29T16:16:24.287Z"
   },
   {
    "duration": 0,
    "start_time": "2022-06-29T16:16:24.289Z"
   },
   {
    "duration": 0,
    "start_time": "2022-06-29T16:16:24.290Z"
   },
   {
    "duration": 0,
    "start_time": "2022-06-29T16:16:24.291Z"
   },
   {
    "duration": 0,
    "start_time": "2022-06-29T16:16:24.292Z"
   },
   {
    "duration": 0,
    "start_time": "2022-06-29T16:16:24.293Z"
   },
   {
    "duration": 0,
    "start_time": "2022-06-29T16:16:24.294Z"
   },
   {
    "duration": 0,
    "start_time": "2022-06-29T16:16:24.295Z"
   },
   {
    "duration": 0,
    "start_time": "2022-06-29T16:16:24.352Z"
   },
   {
    "duration": 0,
    "start_time": "2022-06-29T16:16:24.354Z"
   },
   {
    "duration": 0,
    "start_time": "2022-06-29T16:16:24.355Z"
   },
   {
    "duration": 0,
    "start_time": "2022-06-29T16:16:24.356Z"
   },
   {
    "duration": 0,
    "start_time": "2022-06-29T16:16:24.357Z"
   },
   {
    "duration": 0,
    "start_time": "2022-06-29T16:16:24.357Z"
   },
   {
    "duration": 653,
    "start_time": "2022-06-29T16:16:50.627Z"
   },
   {
    "duration": 632,
    "start_time": "2022-06-29T16:16:56.153Z"
   },
   {
    "duration": 617,
    "start_time": "2022-06-29T16:17:13.365Z"
   },
   {
    "duration": 865,
    "start_time": "2022-06-29T16:17:46.865Z"
   },
   {
    "duration": 646,
    "start_time": "2022-06-29T16:17:53.215Z"
   },
   {
    "duration": 504,
    "start_time": "2022-06-29T16:18:40.252Z"
   },
   {
    "duration": 604,
    "start_time": "2022-06-29T16:18:52.810Z"
   },
   {
    "duration": 575,
    "start_time": "2022-06-29T16:18:56.301Z"
   },
   {
    "duration": 9,
    "start_time": "2022-06-29T16:19:56.631Z"
   },
   {
    "duration": 94,
    "start_time": "2022-06-29T16:20:04.845Z"
   },
   {
    "duration": 594,
    "start_time": "2022-06-29T16:20:04.941Z"
   },
   {
    "duration": 18,
    "start_time": "2022-06-29T16:20:05.537Z"
   },
   {
    "duration": 16,
    "start_time": "2022-06-29T16:20:05.557Z"
   },
   {
    "duration": 15,
    "start_time": "2022-06-29T16:20:05.575Z"
   },
   {
    "duration": 14,
    "start_time": "2022-06-29T16:20:05.592Z"
   },
   {
    "duration": 0,
    "start_time": "2022-06-29T16:20:05.609Z"
   },
   {
    "duration": 0,
    "start_time": "2022-06-29T16:20:05.610Z"
   },
   {
    "duration": 0,
    "start_time": "2022-06-29T16:20:05.611Z"
   },
   {
    "duration": 0,
    "start_time": "2022-06-29T16:20:05.612Z"
   },
   {
    "duration": 0,
    "start_time": "2022-06-29T16:20:05.613Z"
   },
   {
    "duration": 0,
    "start_time": "2022-06-29T16:20:05.614Z"
   },
   {
    "duration": 0,
    "start_time": "2022-06-29T16:20:05.615Z"
   },
   {
    "duration": 0,
    "start_time": "2022-06-29T16:20:05.616Z"
   },
   {
    "duration": 0,
    "start_time": "2022-06-29T16:20:05.617Z"
   },
   {
    "duration": 0,
    "start_time": "2022-06-29T16:20:05.619Z"
   },
   {
    "duration": 0,
    "start_time": "2022-06-29T16:20:05.619Z"
   },
   {
    "duration": 0,
    "start_time": "2022-06-29T16:20:05.620Z"
   },
   {
    "duration": 0,
    "start_time": "2022-06-29T16:20:05.651Z"
   },
   {
    "duration": 0,
    "start_time": "2022-06-29T16:20:05.653Z"
   },
   {
    "duration": 0,
    "start_time": "2022-06-29T16:20:05.654Z"
   },
   {
    "duration": 0,
    "start_time": "2022-06-29T16:20:05.655Z"
   },
   {
    "duration": 0,
    "start_time": "2022-06-29T16:20:05.657Z"
   },
   {
    "duration": 0,
    "start_time": "2022-06-29T16:20:05.658Z"
   },
   {
    "duration": 0,
    "start_time": "2022-06-29T16:20:05.658Z"
   },
   {
    "duration": 0,
    "start_time": "2022-06-29T16:20:05.659Z"
   },
   {
    "duration": 0,
    "start_time": "2022-06-29T16:20:05.660Z"
   },
   {
    "duration": 0,
    "start_time": "2022-06-29T16:20:05.661Z"
   },
   {
    "duration": 0,
    "start_time": "2022-06-29T16:20:05.662Z"
   },
   {
    "duration": 0,
    "start_time": "2022-06-29T16:20:05.663Z"
   },
   {
    "duration": 0,
    "start_time": "2022-06-29T16:20:05.664Z"
   },
   {
    "duration": 0,
    "start_time": "2022-06-29T16:20:05.665Z"
   },
   {
    "duration": 0,
    "start_time": "2022-06-29T16:20:05.667Z"
   },
   {
    "duration": 0,
    "start_time": "2022-06-29T16:20:05.667Z"
   },
   {
    "duration": 0,
    "start_time": "2022-06-29T16:20:05.668Z"
   },
   {
    "duration": 0,
    "start_time": "2022-06-29T16:20:05.669Z"
   },
   {
    "duration": 0,
    "start_time": "2022-06-29T16:20:05.671Z"
   },
   {
    "duration": 0,
    "start_time": "2022-06-29T16:20:05.672Z"
   },
   {
    "duration": 0,
    "start_time": "2022-06-29T16:20:05.674Z"
   },
   {
    "duration": 0,
    "start_time": "2022-06-29T16:20:05.675Z"
   },
   {
    "duration": 0,
    "start_time": "2022-06-29T16:20:05.676Z"
   },
   {
    "duration": 1,
    "start_time": "2022-06-29T16:20:05.677Z"
   },
   {
    "duration": 0,
    "start_time": "2022-06-29T16:20:05.679Z"
   },
   {
    "duration": 0,
    "start_time": "2022-06-29T16:20:05.680Z"
   },
   {
    "duration": 0,
    "start_time": "2022-06-29T16:20:05.682Z"
   },
   {
    "duration": 0,
    "start_time": "2022-06-29T16:20:05.684Z"
   },
   {
    "duration": 0,
    "start_time": "2022-06-29T16:20:05.685Z"
   },
   {
    "duration": 0,
    "start_time": "2022-06-29T16:20:05.686Z"
   },
   {
    "duration": 0,
    "start_time": "2022-06-29T16:20:05.687Z"
   },
   {
    "duration": 0,
    "start_time": "2022-06-29T16:20:05.689Z"
   },
   {
    "duration": 0,
    "start_time": "2022-06-29T16:20:05.690Z"
   },
   {
    "duration": 0,
    "start_time": "2022-06-29T16:20:05.691Z"
   },
   {
    "duration": 7,
    "start_time": "2022-06-29T16:20:44.864Z"
   },
   {
    "duration": 4,
    "start_time": "2022-06-29T16:20:48.133Z"
   },
   {
    "duration": 196,
    "start_time": "2022-06-29T16:21:27.023Z"
   },
   {
    "duration": 573,
    "start_time": "2022-06-29T16:21:27.221Z"
   },
   {
    "duration": 17,
    "start_time": "2022-06-29T16:21:27.795Z"
   },
   {
    "duration": 15,
    "start_time": "2022-06-29T16:21:27.814Z"
   },
   {
    "duration": 13,
    "start_time": "2022-06-29T16:21:27.831Z"
   },
   {
    "duration": 20,
    "start_time": "2022-06-29T16:21:27.846Z"
   },
   {
    "duration": 0,
    "start_time": "2022-06-29T16:21:27.868Z"
   },
   {
    "duration": 0,
    "start_time": "2022-06-29T16:21:27.869Z"
   },
   {
    "duration": 0,
    "start_time": "2022-06-29T16:21:27.870Z"
   },
   {
    "duration": 0,
    "start_time": "2022-06-29T16:21:27.871Z"
   },
   {
    "duration": 0,
    "start_time": "2022-06-29T16:21:27.873Z"
   },
   {
    "duration": 0,
    "start_time": "2022-06-29T16:21:27.874Z"
   },
   {
    "duration": 0,
    "start_time": "2022-06-29T16:21:27.875Z"
   },
   {
    "duration": 0,
    "start_time": "2022-06-29T16:21:27.876Z"
   },
   {
    "duration": 0,
    "start_time": "2022-06-29T16:21:27.877Z"
   },
   {
    "duration": 0,
    "start_time": "2022-06-29T16:21:27.878Z"
   },
   {
    "duration": 0,
    "start_time": "2022-06-29T16:21:27.879Z"
   },
   {
    "duration": 0,
    "start_time": "2022-06-29T16:21:27.880Z"
   },
   {
    "duration": 0,
    "start_time": "2022-06-29T16:21:27.881Z"
   },
   {
    "duration": 0,
    "start_time": "2022-06-29T16:21:27.882Z"
   },
   {
    "duration": 0,
    "start_time": "2022-06-29T16:21:27.883Z"
   },
   {
    "duration": 0,
    "start_time": "2022-06-29T16:21:27.884Z"
   },
   {
    "duration": 0,
    "start_time": "2022-06-29T16:21:27.885Z"
   },
   {
    "duration": 0,
    "start_time": "2022-06-29T16:21:27.886Z"
   },
   {
    "duration": 0,
    "start_time": "2022-06-29T16:21:27.887Z"
   },
   {
    "duration": 0,
    "start_time": "2022-06-29T16:21:27.888Z"
   },
   {
    "duration": 0,
    "start_time": "2022-06-29T16:21:27.889Z"
   },
   {
    "duration": 0,
    "start_time": "2022-06-29T16:21:27.890Z"
   },
   {
    "duration": 1,
    "start_time": "2022-06-29T16:21:27.891Z"
   },
   {
    "duration": 0,
    "start_time": "2022-06-29T16:21:27.893Z"
   },
   {
    "duration": 0,
    "start_time": "2022-06-29T16:21:27.894Z"
   },
   {
    "duration": 0,
    "start_time": "2022-06-29T16:21:27.895Z"
   },
   {
    "duration": 0,
    "start_time": "2022-06-29T16:21:27.896Z"
   },
   {
    "duration": 0,
    "start_time": "2022-06-29T16:21:27.897Z"
   },
   {
    "duration": 0,
    "start_time": "2022-06-29T16:21:27.898Z"
   },
   {
    "duration": 0,
    "start_time": "2022-06-29T16:21:27.952Z"
   },
   {
    "duration": 0,
    "start_time": "2022-06-29T16:21:27.953Z"
   },
   {
    "duration": 0,
    "start_time": "2022-06-29T16:21:27.955Z"
   },
   {
    "duration": 0,
    "start_time": "2022-06-29T16:21:27.956Z"
   },
   {
    "duration": 0,
    "start_time": "2022-06-29T16:21:27.957Z"
   },
   {
    "duration": 0,
    "start_time": "2022-06-29T16:21:27.958Z"
   },
   {
    "duration": 0,
    "start_time": "2022-06-29T16:21:27.960Z"
   },
   {
    "duration": 0,
    "start_time": "2022-06-29T16:21:27.961Z"
   },
   {
    "duration": 0,
    "start_time": "2022-06-29T16:21:27.962Z"
   },
   {
    "duration": 0,
    "start_time": "2022-06-29T16:21:27.963Z"
   },
   {
    "duration": 0,
    "start_time": "2022-06-29T16:21:27.964Z"
   },
   {
    "duration": 0,
    "start_time": "2022-06-29T16:21:27.966Z"
   },
   {
    "duration": 0,
    "start_time": "2022-06-29T16:21:27.967Z"
   },
   {
    "duration": 0,
    "start_time": "2022-06-29T16:21:27.968Z"
   },
   {
    "duration": 0,
    "start_time": "2022-06-29T16:21:27.969Z"
   },
   {
    "duration": 0,
    "start_time": "2022-06-29T16:21:27.970Z"
   },
   {
    "duration": 0,
    "start_time": "2022-06-29T16:21:27.971Z"
   },
   {
    "duration": 0,
    "start_time": "2022-06-29T16:21:27.972Z"
   },
   {
    "duration": 151,
    "start_time": "2022-06-29T16:21:43.571Z"
   },
   {
    "duration": 584,
    "start_time": "2022-06-29T16:21:43.724Z"
   },
   {
    "duration": 17,
    "start_time": "2022-06-29T16:21:44.311Z"
   },
   {
    "duration": 28,
    "start_time": "2022-06-29T16:21:44.330Z"
   },
   {
    "duration": 15,
    "start_time": "2022-06-29T16:21:44.359Z"
   },
   {
    "duration": 13,
    "start_time": "2022-06-29T16:21:44.376Z"
   },
   {
    "duration": 7,
    "start_time": "2022-06-29T16:21:44.390Z"
   },
   {
    "duration": 15,
    "start_time": "2022-06-29T16:21:44.398Z"
   },
   {
    "duration": 37,
    "start_time": "2022-06-29T16:21:44.415Z"
   },
   {
    "duration": 404,
    "start_time": "2022-06-29T16:21:44.455Z"
   },
   {
    "duration": 15,
    "start_time": "2022-06-29T16:21:44.861Z"
   },
   {
    "duration": 16,
    "start_time": "2022-06-29T16:21:44.877Z"
   },
   {
    "duration": 0,
    "start_time": "2022-06-29T16:21:44.896Z"
   },
   {
    "duration": 0,
    "start_time": "2022-06-29T16:21:44.897Z"
   },
   {
    "duration": 0,
    "start_time": "2022-06-29T16:21:44.898Z"
   },
   {
    "duration": 0,
    "start_time": "2022-06-29T16:21:44.899Z"
   },
   {
    "duration": 0,
    "start_time": "2022-06-29T16:21:44.900Z"
   },
   {
    "duration": 0,
    "start_time": "2022-06-29T16:21:44.901Z"
   },
   {
    "duration": 0,
    "start_time": "2022-06-29T16:21:44.902Z"
   },
   {
    "duration": 0,
    "start_time": "2022-06-29T16:21:44.903Z"
   },
   {
    "duration": 0,
    "start_time": "2022-06-29T16:21:44.904Z"
   },
   {
    "duration": 0,
    "start_time": "2022-06-29T16:21:44.905Z"
   },
   {
    "duration": 0,
    "start_time": "2022-06-29T16:21:44.907Z"
   },
   {
    "duration": 0,
    "start_time": "2022-06-29T16:21:44.908Z"
   },
   {
    "duration": 0,
    "start_time": "2022-06-29T16:21:44.909Z"
   },
   {
    "duration": 0,
    "start_time": "2022-06-29T16:21:44.910Z"
   },
   {
    "duration": 0,
    "start_time": "2022-06-29T16:21:44.911Z"
   },
   {
    "duration": 0,
    "start_time": "2022-06-29T16:21:44.912Z"
   },
   {
    "duration": 0,
    "start_time": "2022-06-29T16:21:44.913Z"
   },
   {
    "duration": 0,
    "start_time": "2022-06-29T16:21:44.914Z"
   },
   {
    "duration": 0,
    "start_time": "2022-06-29T16:21:44.952Z"
   },
   {
    "duration": 0,
    "start_time": "2022-06-29T16:21:44.953Z"
   },
   {
    "duration": 0,
    "start_time": "2022-06-29T16:21:44.954Z"
   },
   {
    "duration": 0,
    "start_time": "2022-06-29T16:21:44.955Z"
   },
   {
    "duration": 0,
    "start_time": "2022-06-29T16:21:44.956Z"
   },
   {
    "duration": 0,
    "start_time": "2022-06-29T16:21:44.958Z"
   },
   {
    "duration": 0,
    "start_time": "2022-06-29T16:21:44.959Z"
   },
   {
    "duration": 0,
    "start_time": "2022-06-29T16:21:44.960Z"
   },
   {
    "duration": 0,
    "start_time": "2022-06-29T16:21:44.961Z"
   },
   {
    "duration": 0,
    "start_time": "2022-06-29T16:21:44.962Z"
   },
   {
    "duration": 0,
    "start_time": "2022-06-29T16:21:44.963Z"
   },
   {
    "duration": 0,
    "start_time": "2022-06-29T16:21:44.964Z"
   },
   {
    "duration": 0,
    "start_time": "2022-06-29T16:21:44.965Z"
   },
   {
    "duration": 0,
    "start_time": "2022-06-29T16:21:44.967Z"
   },
   {
    "duration": 0,
    "start_time": "2022-06-29T16:21:44.968Z"
   },
   {
    "duration": 0,
    "start_time": "2022-06-29T16:21:44.969Z"
   },
   {
    "duration": 0,
    "start_time": "2022-06-29T16:21:44.970Z"
   },
   {
    "duration": 0,
    "start_time": "2022-06-29T16:21:45.068Z"
   },
   {
    "duration": 0,
    "start_time": "2022-06-29T16:21:45.070Z"
   },
   {
    "duration": 0,
    "start_time": "2022-06-29T16:21:45.070Z"
   },
   {
    "duration": 0,
    "start_time": "2022-06-29T16:21:45.071Z"
   },
   {
    "duration": 0,
    "start_time": "2022-06-29T16:21:45.072Z"
   },
   {
    "duration": 0,
    "start_time": "2022-06-29T16:21:45.074Z"
   },
   {
    "duration": 17,
    "start_time": "2022-06-29T16:26:41.239Z"
   },
   {
    "duration": 13,
    "start_time": "2022-06-29T16:26:49.805Z"
   },
   {
    "duration": 5,
    "start_time": "2022-06-29T16:26:49.820Z"
   },
   {
    "duration": 7,
    "start_time": "2022-06-29T16:26:49.826Z"
   },
   {
    "duration": 5,
    "start_time": "2022-06-29T16:26:49.835Z"
   },
   {
    "duration": 5,
    "start_time": "2022-06-29T16:26:49.841Z"
   },
   {
    "duration": 6,
    "start_time": "2022-06-29T16:26:49.847Z"
   },
   {
    "duration": 6,
    "start_time": "2022-06-29T16:26:49.855Z"
   },
   {
    "duration": 19,
    "start_time": "2022-06-29T16:26:49.863Z"
   },
   {
    "duration": 5,
    "start_time": "2022-06-29T16:26:49.884Z"
   },
   {
    "duration": 21,
    "start_time": "2022-06-29T16:26:49.892Z"
   },
   {
    "duration": 39,
    "start_time": "2022-06-29T16:26:49.915Z"
   },
   {
    "duration": 10,
    "start_time": "2022-06-29T16:26:49.955Z"
   },
   {
    "duration": 14,
    "start_time": "2022-06-29T16:26:49.967Z"
   },
   {
    "duration": 32,
    "start_time": "2022-06-29T16:26:49.983Z"
   },
   {
    "duration": 53,
    "start_time": "2022-06-29T16:26:50.018Z"
   },
   {
    "duration": 367,
    "start_time": "2022-06-29T16:26:50.074Z"
   },
   {
    "duration": 20,
    "start_time": "2022-06-29T16:26:50.443Z"
   },
   {
    "duration": 22,
    "start_time": "2022-06-29T16:26:50.465Z"
   },
   {
    "duration": 495,
    "start_time": "2022-06-29T16:26:50.489Z"
   },
   {
    "duration": 68,
    "start_time": "2022-06-29T16:26:50.985Z"
   },
   {
    "duration": 4,
    "start_time": "2022-06-29T16:26:51.055Z"
   },
   {
    "duration": 1106,
    "start_time": "2022-06-29T16:26:51.061Z"
   },
   {
    "duration": 10,
    "start_time": "2022-06-29T16:26:52.168Z"
   },
   {
    "duration": 382,
    "start_time": "2022-06-29T16:26:52.180Z"
   },
   {
    "duration": 963,
    "start_time": "2022-06-29T16:26:52.565Z"
   },
   {
    "duration": 279,
    "start_time": "2022-06-29T16:26:53.530Z"
   },
   {
    "duration": 172,
    "start_time": "2022-06-29T16:26:53.811Z"
   },
   {
    "duration": 337,
    "start_time": "2022-06-29T16:26:53.987Z"
   },
   {
    "duration": 13,
    "start_time": "2022-06-29T16:26:54.326Z"
   },
   {
    "duration": 340,
    "start_time": "2022-06-29T16:26:54.351Z"
   },
   {
    "duration": 10,
    "start_time": "2022-06-29T16:26:54.693Z"
   },
   {
    "duration": 60,
    "start_time": "2022-06-29T16:26:54.705Z"
   },
   {
    "duration": 10,
    "start_time": "2022-06-29T16:26:54.766Z"
   },
   {
    "duration": 212,
    "start_time": "2022-06-29T16:26:54.778Z"
   },
   {
    "duration": 369,
    "start_time": "2022-06-29T16:26:54.992Z"
   },
   {
    "duration": 688,
    "start_time": "2022-06-29T16:26:55.365Z"
   },
   {
    "duration": 495,
    "start_time": "2022-06-29T16:26:56.054Z"
   },
   {
    "duration": 336,
    "start_time": "2022-06-29T16:26:56.551Z"
   },
   {
    "duration": 10,
    "start_time": "2022-06-29T16:26:56.889Z"
   },
   {
    "duration": 11,
    "start_time": "2022-06-29T16:26:56.901Z"
   },
   {
    "duration": 12,
    "start_time": "2022-06-29T16:26:56.914Z"
   },
   {
    "duration": 12,
    "start_time": "2022-06-29T16:26:56.951Z"
   },
   {
    "duration": 1731,
    "start_time": "2022-06-29T16:38:01.109Z"
   },
   {
    "duration": 128,
    "start_time": "2022-06-29T16:38:08.161Z"
   },
   {
    "duration": 129,
    "start_time": "2022-06-29T16:38:18.781Z"
   },
   {
    "duration": 128,
    "start_time": "2022-06-29T16:38:24.346Z"
   },
   {
    "duration": 202,
    "start_time": "2022-06-29T16:38:34.412Z"
   },
   {
    "duration": 149,
    "start_time": "2022-06-29T16:39:14.209Z"
   },
   {
    "duration": 108,
    "start_time": "2022-06-29T16:40:07.307Z"
   },
   {
    "duration": 107,
    "start_time": "2022-06-29T16:40:12.024Z"
   },
   {
    "duration": 108,
    "start_time": "2022-06-29T16:40:30.552Z"
   },
   {
    "duration": 106,
    "start_time": "2022-06-29T16:40:42.062Z"
   },
   {
    "duration": 104,
    "start_time": "2022-06-29T16:41:08.141Z"
   },
   {
    "duration": 39,
    "start_time": "2022-06-29T16:45:55.593Z"
   },
   {
    "duration": 39,
    "start_time": "2022-06-29T16:46:01.192Z"
   },
   {
    "duration": 93,
    "start_time": "2022-06-29T16:46:51.255Z"
   },
   {
    "duration": 43,
    "start_time": "2022-06-29T16:47:15.781Z"
   },
   {
    "duration": 40,
    "start_time": "2022-06-29T16:47:30.845Z"
   },
   {
    "duration": 40,
    "start_time": "2022-06-29T16:47:38.036Z"
   },
   {
    "duration": 43,
    "start_time": "2022-06-29T16:47:43.660Z"
   },
   {
    "duration": 9554,
    "start_time": "2022-07-01T12:21:43.272Z"
   },
   {
    "duration": 44,
    "start_time": "2022-07-01T12:23:39.874Z"
   },
   {
    "duration": 2231,
    "start_time": "2022-07-01T12:23:43.213Z"
   },
   {
    "duration": 818,
    "start_time": "2022-07-01T12:23:45.447Z"
   },
   {
    "duration": 18,
    "start_time": "2022-07-01T12:23:46.267Z"
   },
   {
    "duration": 17,
    "start_time": "2022-07-01T12:23:46.287Z"
   },
   {
    "duration": 39,
    "start_time": "2022-07-01T12:23:46.306Z"
   },
   {
    "duration": 11,
    "start_time": "2022-07-01T12:23:46.348Z"
   },
   {
    "duration": 13,
    "start_time": "2022-07-01T12:23:46.360Z"
   },
   {
    "duration": 12,
    "start_time": "2022-07-01T12:23:46.374Z"
   },
   {
    "duration": 8,
    "start_time": "2022-07-01T12:23:46.387Z"
   },
   {
    "duration": 8397,
    "start_time": "2022-07-01T12:23:46.396Z"
   },
   {
    "duration": 10,
    "start_time": "2022-07-01T12:23:54.796Z"
   },
   {
    "duration": 29,
    "start_time": "2022-07-01T12:23:54.808Z"
   },
   {
    "duration": 11,
    "start_time": "2022-07-01T12:23:54.839Z"
   },
   {
    "duration": 13,
    "start_time": "2022-07-01T12:23:54.854Z"
   },
   {
    "duration": 8,
    "start_time": "2022-07-01T12:23:54.868Z"
   },
   {
    "duration": 14,
    "start_time": "2022-07-01T12:23:54.878Z"
   },
   {
    "duration": 11,
    "start_time": "2022-07-01T12:23:54.894Z"
   },
   {
    "duration": 28,
    "start_time": "2022-07-01T12:23:54.906Z"
   },
   {
    "duration": 11,
    "start_time": "2022-07-01T12:23:54.937Z"
   },
   {
    "duration": 6,
    "start_time": "2022-07-01T12:23:54.950Z"
   },
   {
    "duration": 19,
    "start_time": "2022-07-01T12:23:54.958Z"
   },
   {
    "duration": 94,
    "start_time": "2022-07-01T12:23:54.979Z"
   },
   {
    "duration": 0,
    "start_time": "2022-07-01T12:23:55.075Z"
   },
   {
    "duration": 0,
    "start_time": "2022-07-01T12:23:55.076Z"
   },
   {
    "duration": 0,
    "start_time": "2022-07-01T12:23:55.077Z"
   },
   {
    "duration": 0,
    "start_time": "2022-07-01T12:23:55.079Z"
   },
   {
    "duration": 0,
    "start_time": "2022-07-01T12:23:55.080Z"
   },
   {
    "duration": 0,
    "start_time": "2022-07-01T12:23:55.081Z"
   },
   {
    "duration": 0,
    "start_time": "2022-07-01T12:23:55.082Z"
   },
   {
    "duration": 0,
    "start_time": "2022-07-01T12:23:55.083Z"
   },
   {
    "duration": 0,
    "start_time": "2022-07-01T12:23:55.083Z"
   },
   {
    "duration": 0,
    "start_time": "2022-07-01T12:23:55.084Z"
   },
   {
    "duration": 0,
    "start_time": "2022-07-01T12:23:55.086Z"
   },
   {
    "duration": 0,
    "start_time": "2022-07-01T12:23:55.087Z"
   },
   {
    "duration": 0,
    "start_time": "2022-07-01T12:23:55.088Z"
   },
   {
    "duration": 0,
    "start_time": "2022-07-01T12:23:55.089Z"
   },
   {
    "duration": 0,
    "start_time": "2022-07-01T12:23:55.090Z"
   },
   {
    "duration": 0,
    "start_time": "2022-07-01T12:23:55.091Z"
   },
   {
    "duration": 0,
    "start_time": "2022-07-01T12:23:55.092Z"
   },
   {
    "duration": 0,
    "start_time": "2022-07-01T12:23:55.093Z"
   },
   {
    "duration": 0,
    "start_time": "2022-07-01T12:23:55.094Z"
   },
   {
    "duration": 0,
    "start_time": "2022-07-01T12:23:55.095Z"
   },
   {
    "duration": 0,
    "start_time": "2022-07-01T12:23:55.096Z"
   },
   {
    "duration": 0,
    "start_time": "2022-07-01T12:23:55.128Z"
   },
   {
    "duration": 0,
    "start_time": "2022-07-01T12:23:55.129Z"
   },
   {
    "duration": 0,
    "start_time": "2022-07-01T12:23:55.130Z"
   },
   {
    "duration": 0,
    "start_time": "2022-07-01T12:23:55.130Z"
   },
   {
    "duration": 0,
    "start_time": "2022-07-01T12:23:55.133Z"
   },
   {
    "duration": 0,
    "start_time": "2022-07-01T12:23:55.133Z"
   },
   {
    "duration": 0,
    "start_time": "2022-07-01T12:23:55.134Z"
   },
   {
    "duration": 0,
    "start_time": "2022-07-01T12:23:55.135Z"
   },
   {
    "duration": 0,
    "start_time": "2022-07-01T12:23:55.135Z"
   },
   {
    "duration": 0,
    "start_time": "2022-07-01T12:23:55.136Z"
   },
   {
    "duration": 0,
    "start_time": "2022-07-01T12:23:55.137Z"
   },
   {
    "duration": 0,
    "start_time": "2022-07-01T12:23:55.138Z"
   },
   {
    "duration": 1,
    "start_time": "2022-07-01T12:23:55.140Z"
   },
   {
    "duration": 0,
    "start_time": "2022-07-01T12:23:55.141Z"
   },
   {
    "duration": 0,
    "start_time": "2022-07-01T12:23:55.142Z"
   },
   {
    "duration": 0,
    "start_time": "2022-07-01T12:23:55.143Z"
   },
   {
    "duration": 0,
    "start_time": "2022-07-01T12:23:55.144Z"
   },
   {
    "duration": 0,
    "start_time": "2022-07-01T12:23:55.145Z"
   },
   {
    "duration": 0,
    "start_time": "2022-07-01T12:23:55.147Z"
   },
   {
    "duration": 19,
    "start_time": "2022-07-01T12:24:10.200Z"
   },
   {
    "duration": 28,
    "start_time": "2022-07-01T12:24:14.326Z"
   },
   {
    "duration": 5,
    "start_time": "2022-07-01T12:24:14.355Z"
   },
   {
    "duration": 22,
    "start_time": "2022-07-01T12:24:14.362Z"
   },
   {
    "duration": 6,
    "start_time": "2022-07-01T12:24:14.386Z"
   },
   {
    "duration": 47,
    "start_time": "2022-07-01T12:24:14.394Z"
   },
   {
    "duration": 4,
    "start_time": "2022-07-01T12:24:14.443Z"
   },
   {
    "duration": 16,
    "start_time": "2022-07-01T12:24:14.449Z"
   },
   {
    "duration": 16,
    "start_time": "2022-07-01T12:24:14.467Z"
   },
   {
    "duration": 17,
    "start_time": "2022-07-01T12:24:14.484Z"
   },
   {
    "duration": 176,
    "start_time": "2022-07-01T12:24:14.503Z"
   },
   {
    "duration": 334,
    "start_time": "2022-07-01T12:24:14.681Z"
   },
   {
    "duration": 28,
    "start_time": "2022-07-01T12:24:15.017Z"
   },
   {
    "duration": 22,
    "start_time": "2022-07-01T12:24:15.047Z"
   },
   {
    "duration": 436,
    "start_time": "2022-07-01T12:24:15.071Z"
   },
   {
    "duration": 13,
    "start_time": "2022-07-01T12:24:15.509Z"
   },
   {
    "duration": 5,
    "start_time": "2022-07-01T12:24:15.524Z"
   },
   {
    "duration": 811,
    "start_time": "2022-07-01T12:24:15.530Z"
   },
   {
    "duration": 13,
    "start_time": "2022-07-01T12:24:16.343Z"
   },
   {
    "duration": 1307,
    "start_time": "2022-07-01T12:24:16.358Z"
   },
   {
    "duration": 257,
    "start_time": "2022-07-01T12:24:17.667Z"
   },
   {
    "duration": 260,
    "start_time": "2022-07-01T12:24:17.927Z"
   },
   {
    "duration": 293,
    "start_time": "2022-07-01T12:24:18.189Z"
   },
   {
    "duration": 173,
    "start_time": "2022-07-01T12:24:18.483Z"
   },
   {
    "duration": 283,
    "start_time": "2022-07-01T12:24:18.657Z"
   },
   {
    "duration": 9,
    "start_time": "2022-07-01T12:24:18.941Z"
   },
   {
    "duration": 441,
    "start_time": "2022-07-01T12:24:18.951Z"
   },
   {
    "duration": 8,
    "start_time": "2022-07-01T12:24:19.393Z"
   },
   {
    "duration": 62,
    "start_time": "2022-07-01T12:24:19.404Z"
   },
   {
    "duration": 10,
    "start_time": "2022-07-01T12:24:19.468Z"
   },
   {
    "duration": 45,
    "start_time": "2022-07-01T12:24:19.480Z"
   },
   {
    "duration": 232,
    "start_time": "2022-07-01T12:24:19.528Z"
   },
   {
    "duration": 82,
    "start_time": "2022-07-01T12:24:19.762Z"
   },
   {
    "duration": 397,
    "start_time": "2022-07-01T12:24:19.846Z"
   },
   {
    "duration": 31,
    "start_time": "2022-07-01T12:24:20.246Z"
   },
   {
    "duration": 287,
    "start_time": "2022-07-01T12:24:20.279Z"
   },
   {
    "duration": 476,
    "start_time": "2022-07-01T12:24:20.568Z"
   },
   {
    "duration": 280,
    "start_time": "2022-07-01T12:24:21.046Z"
   },
   {
    "duration": 14,
    "start_time": "2022-07-01T12:24:21.331Z"
   },
   {
    "duration": 13,
    "start_time": "2022-07-01T12:24:21.346Z"
   },
   {
    "duration": 7,
    "start_time": "2022-07-01T12:24:21.361Z"
   },
   {
    "duration": 8,
    "start_time": "2022-07-01T12:24:21.369Z"
   },
   {
    "duration": 1156,
    "start_time": "2022-09-03T15:28:35.034Z"
   },
   {
    "duration": 24,
    "start_time": "2022-09-03T15:28:36.192Z"
   },
   {
    "duration": 19,
    "start_time": "2022-09-03T15:28:36.220Z"
   },
   {
    "duration": 13,
    "start_time": "2022-09-03T15:28:36.241Z"
   },
   {
    "duration": 10,
    "start_time": "2022-09-03T15:28:36.255Z"
   },
   {
    "duration": 227,
    "start_time": "2022-09-03T15:28:36.266Z"
   },
   {
    "duration": 31,
    "start_time": "2022-09-03T15:28:36.494Z"
   },
   {
    "duration": 9,
    "start_time": "2022-09-03T15:28:36.527Z"
   },
   {
    "duration": 11,
    "start_time": "2022-09-03T15:28:36.537Z"
   },
   {
    "duration": 9,
    "start_time": "2022-09-03T15:28:36.550Z"
   },
   {
    "duration": 5,
    "start_time": "2022-09-03T15:28:36.561Z"
   },
   {
    "duration": 13,
    "start_time": "2022-09-03T15:28:36.568Z"
   },
   {
    "duration": 8,
    "start_time": "2022-09-03T15:28:36.583Z"
   },
   {
    "duration": 28,
    "start_time": "2022-09-03T15:28:36.593Z"
   },
   {
    "duration": 7,
    "start_time": "2022-09-03T15:28:36.623Z"
   },
   {
    "duration": 12,
    "start_time": "2022-09-03T15:28:36.631Z"
   },
   {
    "duration": 7,
    "start_time": "2022-09-03T15:28:36.644Z"
   },
   {
    "duration": 5,
    "start_time": "2022-09-03T15:28:36.652Z"
   },
   {
    "duration": 6,
    "start_time": "2022-09-03T15:28:36.658Z"
   },
   {
    "duration": 282,
    "start_time": "2022-09-03T15:28:36.665Z"
   },
   {
    "duration": 236,
    "start_time": "2022-09-03T15:28:36.948Z"
   },
   {
    "duration": 167,
    "start_time": "2022-09-03T15:28:37.186Z"
   },
   {
    "duration": 206,
    "start_time": "2022-09-03T15:28:37.354Z"
   },
   {
    "duration": 164,
    "start_time": "2022-09-03T15:28:37.562Z"
   },
   {
    "duration": 284,
    "start_time": "2022-09-03T15:28:37.728Z"
   },
   {
    "duration": 12,
    "start_time": "2022-09-03T15:28:38.013Z"
   },
   {
    "duration": 118,
    "start_time": "2022-09-03T15:28:38.026Z"
   },
   {
    "duration": 4,
    "start_time": "2022-09-03T15:28:38.147Z"
   },
   {
    "duration": 109,
    "start_time": "2022-09-03T15:28:38.152Z"
   },
   {
    "duration": 126,
    "start_time": "2022-09-03T15:28:38.262Z"
   },
   {
    "duration": 16,
    "start_time": "2022-09-03T15:28:38.408Z"
   },
   {
    "duration": 132,
    "start_time": "2022-09-03T15:28:38.426Z"
   },
   {
    "duration": 7,
    "start_time": "2022-09-03T15:28:38.559Z"
   },
   {
    "duration": 20,
    "start_time": "2022-09-03T15:28:38.567Z"
   },
   {
    "duration": 66,
    "start_time": "2022-09-03T15:28:38.588Z"
   },
   {
    "duration": 10,
    "start_time": "2022-09-03T15:28:38.655Z"
   },
   {
    "duration": 12,
    "start_time": "2022-09-03T15:28:38.666Z"
   },
   {
    "duration": 30,
    "start_time": "2022-09-03T15:28:38.679Z"
   },
   {
    "duration": 29,
    "start_time": "2022-09-03T15:28:38.717Z"
   },
   {
    "duration": 12,
    "start_time": "2022-09-03T15:28:38.748Z"
   },
   {
    "duration": 1100,
    "start_time": "2022-09-03T16:12:36.248Z"
   },
   {
    "duration": 10,
    "start_time": "2022-09-03T16:12:37.350Z"
   },
   {
    "duration": 9,
    "start_time": "2022-09-03T16:12:37.362Z"
   },
   {
    "duration": 12,
    "start_time": "2022-09-03T16:12:37.372Z"
   },
   {
    "duration": 11,
    "start_time": "2022-09-03T16:12:37.387Z"
   },
   {
    "duration": 72,
    "start_time": "2022-09-03T16:12:37.399Z"
   },
   {
    "duration": 7,
    "start_time": "2022-09-03T16:12:37.473Z"
   },
   {
    "duration": 15,
    "start_time": "2022-09-03T16:12:37.482Z"
   },
   {
    "duration": 16,
    "start_time": "2022-09-03T16:12:37.498Z"
   },
   {
    "duration": 12,
    "start_time": "2022-09-03T16:12:37.515Z"
   },
   {
    "duration": 5,
    "start_time": "2022-09-03T16:12:37.529Z"
   },
   {
    "duration": 13,
    "start_time": "2022-09-03T16:12:37.535Z"
   },
   {
    "duration": 9,
    "start_time": "2022-09-03T16:12:37.549Z"
   },
   {
    "duration": 14,
    "start_time": "2022-09-03T16:12:37.561Z"
   },
   {
    "duration": 3,
    "start_time": "2022-09-03T16:12:37.598Z"
   },
   {
    "duration": 13,
    "start_time": "2022-09-03T16:12:37.602Z"
   },
   {
    "duration": 5,
    "start_time": "2022-09-03T16:12:37.616Z"
   },
   {
    "duration": 4,
    "start_time": "2022-09-03T16:12:37.623Z"
   },
   {
    "duration": 6,
    "start_time": "2022-09-03T16:12:37.629Z"
   },
   {
    "duration": 285,
    "start_time": "2022-09-03T16:12:37.636Z"
   },
   {
    "duration": 238,
    "start_time": "2022-09-03T16:12:37.923Z"
   },
   {
    "duration": 163,
    "start_time": "2022-09-03T16:12:38.163Z"
   },
   {
    "duration": 239,
    "start_time": "2022-09-03T16:12:38.327Z"
   },
   {
    "duration": 155,
    "start_time": "2022-09-03T16:12:38.567Z"
   },
   {
    "duration": 259,
    "start_time": "2022-09-03T16:12:38.724Z"
   },
   {
    "duration": 19,
    "start_time": "2022-09-03T16:12:38.984Z"
   },
   {
    "duration": 114,
    "start_time": "2022-09-03T16:12:39.005Z"
   },
   {
    "duration": 4,
    "start_time": "2022-09-03T16:12:39.121Z"
   },
   {
    "duration": 115,
    "start_time": "2022-09-03T16:12:39.126Z"
   },
   {
    "duration": 114,
    "start_time": "2022-09-03T16:12:39.242Z"
   },
   {
    "duration": 4,
    "start_time": "2022-09-03T16:12:39.358Z"
   },
   {
    "duration": 122,
    "start_time": "2022-09-03T16:12:39.363Z"
   },
   {
    "duration": 12,
    "start_time": "2022-09-03T16:12:39.486Z"
   },
   {
    "duration": 22,
    "start_time": "2022-09-03T16:12:39.500Z"
   },
   {
    "duration": 79,
    "start_time": "2022-09-03T16:12:39.524Z"
   },
   {
    "duration": 9,
    "start_time": "2022-09-03T16:12:39.605Z"
   },
   {
    "duration": 6,
    "start_time": "2022-09-03T16:12:39.616Z"
   },
   {
    "duration": 8,
    "start_time": "2022-09-03T16:12:39.624Z"
   },
   {
    "duration": 18,
    "start_time": "2022-09-03T16:12:39.634Z"
   },
   {
    "duration": 13,
    "start_time": "2022-09-03T16:12:39.654Z"
   },
   {
    "duration": 1483,
    "start_time": "2022-09-09T10:28:53.119Z"
   },
   {
    "duration": 14,
    "start_time": "2022-09-09T10:28:54.604Z"
   },
   {
    "duration": 17,
    "start_time": "2022-09-09T10:28:54.619Z"
   },
   {
    "duration": 4,
    "start_time": "2022-09-09T10:28:54.638Z"
   },
   {
    "duration": 33,
    "start_time": "2022-09-09T10:28:54.643Z"
   },
   {
    "duration": 8,
    "start_time": "2022-09-09T10:28:54.677Z"
   },
   {
    "duration": 6,
    "start_time": "2022-09-09T10:28:54.686Z"
   },
   {
    "duration": 18,
    "start_time": "2022-09-09T10:28:54.694Z"
   },
   {
    "duration": 19,
    "start_time": "2022-09-09T10:28:54.713Z"
   },
   {
    "duration": 16,
    "start_time": "2022-09-09T10:28:54.755Z"
   },
   {
    "duration": 7,
    "start_time": "2022-09-09T10:28:54.773Z"
   },
   {
    "duration": 7,
    "start_time": "2022-09-09T10:28:54.782Z"
   },
   {
    "duration": 9,
    "start_time": "2022-09-09T10:28:54.790Z"
   },
   {
    "duration": 15,
    "start_time": "2022-09-09T10:28:54.800Z"
   },
   {
    "duration": 9,
    "start_time": "2022-09-09T10:28:54.817Z"
   },
   {
    "duration": 30,
    "start_time": "2022-09-09T10:28:54.827Z"
   },
   {
    "duration": 212,
    "start_time": "2022-09-09T10:28:54.859Z"
   },
   {
    "duration": 15,
    "start_time": "2022-09-09T10:28:55.073Z"
   },
   {
    "duration": 4,
    "start_time": "2022-09-09T10:28:55.089Z"
   },
   {
    "duration": 11,
    "start_time": "2022-09-09T10:28:55.094Z"
   },
   {
    "duration": 134,
    "start_time": "2022-09-09T10:28:55.106Z"
   },
   {
    "duration": 13,
    "start_time": "2022-09-09T10:28:55.242Z"
   },
   {
    "duration": 13,
    "start_time": "2022-09-09T10:28:55.257Z"
   },
   {
    "duration": 681,
    "start_time": "2022-09-09T10:28:55.272Z"
   },
   {
    "duration": 22,
    "start_time": "2022-09-09T10:28:55.955Z"
   },
   {
    "duration": 5,
    "start_time": "2022-09-09T10:28:55.979Z"
   },
   {
    "duration": 6,
    "start_time": "2022-09-09T10:28:55.986Z"
   },
   {
    "duration": 183,
    "start_time": "2022-09-09T10:28:55.995Z"
   },
   {
    "duration": 8,
    "start_time": "2022-09-09T10:28:56.180Z"
   },
   {
    "duration": 5,
    "start_time": "2022-09-09T10:28:56.189Z"
   },
   {
    "duration": 17,
    "start_time": "2022-09-09T10:28:56.195Z"
   },
   {
    "duration": 422,
    "start_time": "2022-09-09T10:28:56.213Z"
   },
   {
    "duration": 7,
    "start_time": "2022-09-09T10:28:56.637Z"
   },
   {
    "duration": 481,
    "start_time": "2022-09-09T10:28:56.655Z"
   },
   {
    "duration": 21,
    "start_time": "2022-09-09T10:28:57.137Z"
   },
   {
    "duration": 21,
    "start_time": "2022-09-09T10:28:57.159Z"
   },
   {
    "duration": 10,
    "start_time": "2022-09-09T10:28:57.182Z"
   },
   {
    "duration": 10,
    "start_time": "2022-09-09T10:28:57.193Z"
   },
   {
    "duration": 338,
    "start_time": "2022-09-09T10:28:57.204Z"
   },
   {
    "duration": 2123,
    "start_time": "2022-09-09T10:28:57.544Z"
   },
   {
    "duration": 17,
    "start_time": "2022-09-09T10:28:59.669Z"
   },
   {
    "duration": 11,
    "start_time": "2022-09-09T10:28:59.688Z"
   },
   {
    "duration": 10,
    "start_time": "2022-09-09T10:28:59.700Z"
   },
   {
    "duration": 1149,
    "start_time": "2022-09-09T10:28:59.711Z"
   },
   {
    "duration": 19,
    "start_time": "2022-09-09T10:29:00.862Z"
   },
   {
    "duration": 8,
    "start_time": "2022-09-09T10:29:00.883Z"
   },
   {
    "duration": 11,
    "start_time": "2022-09-09T10:29:00.892Z"
   },
   {
    "duration": 15,
    "start_time": "2022-09-09T10:29:00.904Z"
   },
   {
    "duration": 14,
    "start_time": "2022-09-09T10:29:00.920Z"
   },
   {
    "duration": 13,
    "start_time": "2022-09-09T10:29:00.954Z"
   },
   {
    "duration": 1281,
    "start_time": "2022-09-09T10:29:00.969Z"
   },
   {
    "duration": 17,
    "start_time": "2022-09-09T10:29:02.252Z"
   },
   {
    "duration": 9,
    "start_time": "2022-09-09T10:29:02.270Z"
   },
   {
    "duration": 11,
    "start_time": "2022-09-09T10:29:02.281Z"
   },
   {
    "duration": 13,
    "start_time": "2022-09-09T10:29:02.294Z"
   },
   {
    "duration": 14,
    "start_time": "2022-09-09T10:29:02.309Z"
   },
   {
    "duration": 10,
    "start_time": "2022-09-09T10:29:02.355Z"
   },
   {
    "duration": 2411,
    "start_time": "2022-09-09T10:29:02.366Z"
   }
  ],
  "kernelspec": {
   "display_name": "Python 3 (ipykernel)",
   "language": "python",
   "name": "python3"
  },
  "language_info": {
   "codemirror_mode": {
    "name": "ipython",
    "version": 3
   },
   "file_extension": ".py",
   "mimetype": "text/x-python",
   "name": "python",
   "nbconvert_exporter": "python",
   "pygments_lexer": "ipython3",
   "version": "3.9.12"
  },
  "toc": {
   "base_numbering": 1,
   "nav_menu": {},
   "number_sections": true,
   "sideBar": true,
   "skip_h1_title": true,
   "title_cell": "Содержание",
   "title_sidebar": "Contents",
   "toc_cell": true,
   "toc_position": {},
   "toc_section_display": true,
   "toc_window_display": false
  }
 },
 "nbformat": 4,
 "nbformat_minor": 4
}
