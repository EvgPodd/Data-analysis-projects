{
 "cells": [
  {
   "cell_type": "markdown",
   "id": "073bd2c0",
   "metadata": {
    "toc": true
   },
   "source": [
    "<h1>Содержание<span class=\"tocSkip\"></span></h1>\n",
    "<div class=\"toc\"><ul class=\"toc-item\"><li><span><a href=\"#Выявление-зависимости-ежедневного-количества-обращений-с-каналов-органики-от-спроса\" data-toc-modified-id=\"Выявление-зависимости-ежедневного-количества-обращений-с-каналов-органики-от-спроса-1\">Выявление зависимости ежедневного количества обращений с каналов органики от спроса</a></span><ul class=\"toc-item\"><li><span><a href=\"#Постановка-задачи\" data-toc-modified-id=\"Постановка-задачи-1.1\">Постановка задачи</a></span></li><li><span><a href=\"#Подключение-к-базе-данных-и-загрузка-данных\" data-toc-modified-id=\"Подключение-к-базе-данных-и-загрузка-данных-1.2\">Подключение к базе данных и загрузка данных</a></span></li><li><span><a href=\"#Исследовательский-анализ-данных-(EDA)\" data-toc-modified-id=\"Исследовательский-анализ-данных-(EDA)-1.3\">Исследовательский анализ данных (EDA)</a></span></li><li><span><a href=\"#Формирование-общей-сводной-таблицы\" data-toc-modified-id=\"Формирование-общей-сводной-таблицы-1.4\">Формирование общей сводной таблицы</a></span></li><li><span><a href=\"#Выявление-взаимосвязей\" data-toc-modified-id=\"Выявление-взаимосвязей-1.5\">Выявление взаимосвязей</a></span></li></ul></li></ul></div>"
   ]
  },
  {
   "cell_type": "markdown",
   "id": "e99fe180",
   "metadata": {},
   "source": [
    "# Выявление зависимости ежедневного количества обращений с каналов органики от спроса "
   ]
  },
  {
   "cell_type": "markdown",
   "id": "427069ee",
   "metadata": {},
   "source": [
    "## Постановка задачи"
   ]
  },
  {
   "cell_type": "markdown",
   "id": "4e90c49d",
   "metadata": {},
   "source": [
    "В нашем распоряжении есть два датасета:\n",
    "\n",
    "1. <i> 'communications.csv' </i> - в котором хранится информация обо всех обращениях пользователей, произошедших за определенный период, в разбивке по дням и брендам. \n",
    "\n",
    "2. <i> 'phrases_shows.csv'</i> - содержит информацию о количестве показов списка запросов по брендам: дата, бренд, id поисковой фразы и количество ее показов (значение в столбце shows показывает скользящую сумму количества показов по окну за предшествующий месяц)\n",
    "\n",
    "Нам необходимо проанализировать собранные данные на предмет их однородности и наличия аномалий, а затем проверить, существует ли взаимосвязь между количеством обращений с органики по бренду и количеством показов соответствующих поисковых фраз.\n"
   ]
  },
  {
   "cell_type": "markdown",
   "id": "2192eadb",
   "metadata": {},
   "source": [
    "## Подключение к базе данных и загрузка данных"
   ]
  },
  {
   "cell_type": "code",
   "execution_count": 1,
   "id": "15c71f93",
   "metadata": {},
   "outputs": [],
   "source": [
    "# импортируем необходимые библиотеки\n",
    "import pandas as pd \n",
    "import matplotlib.pyplot as plt\n",
    "import seaborn as sns\n",
    "import numpy as np\n",
    "from datetime import datetime, timedelta\n",
    "from scipy.stats.stats import pearsonr"
   ]
  },
  {
   "cell_type": "code",
   "execution_count": 2,
   "id": "093c41bd",
   "metadata": {
    "scrolled": true
   },
   "outputs": [
    {
     "data": {
      "text/html": [
       "<div>\n",
       "<style scoped>\n",
       "    .dataframe tbody tr th:only-of-type {\n",
       "        vertical-align: middle;\n",
       "    }\n",
       "\n",
       "    .dataframe tbody tr th {\n",
       "        vertical-align: top;\n",
       "    }\n",
       "\n",
       "    .dataframe thead th {\n",
       "        text-align: right;\n",
       "    }\n",
       "</style>\n",
       "<table border=\"1\" class=\"dataframe\">\n",
       "  <thead>\n",
       "    <tr style=\"text-align: right;\">\n",
       "      <th></th>\n",
       "      <th>communication_id</th>\n",
       "      <th>date_time</th>\n",
       "      <th>brand_id</th>\n",
       "      <th>source_type</th>\n",
       "    </tr>\n",
       "  </thead>\n",
       "  <tbody>\n",
       "    <tr>\n",
       "      <th>0</th>\n",
       "      <td>11394944</td>\n",
       "      <td>2021-06-01 00:41:20.000</td>\n",
       "      <td>1</td>\n",
       "      <td>other</td>\n",
       "    </tr>\n",
       "    <tr>\n",
       "      <th>1</th>\n",
       "      <td>11395343</td>\n",
       "      <td>2021-06-01 01:33:09.000</td>\n",
       "      <td>1</td>\n",
       "      <td>other</td>\n",
       "    </tr>\n",
       "    <tr>\n",
       "      <th>2</th>\n",
       "      <td>11397299</td>\n",
       "      <td>2021-06-01 06:02:29.000</td>\n",
       "      <td>1</td>\n",
       "      <td>other</td>\n",
       "    </tr>\n",
       "    <tr>\n",
       "      <th>3</th>\n",
       "      <td>1656035517</td>\n",
       "      <td>2021-06-01 06:09:14.000</td>\n",
       "      <td>0</td>\n",
       "      <td>other</td>\n",
       "    </tr>\n",
       "    <tr>\n",
       "      <th>4</th>\n",
       "      <td>11397353</td>\n",
       "      <td>2021-06-01 06:13:20.000</td>\n",
       "      <td>1</td>\n",
       "      <td>other</td>\n",
       "    </tr>\n",
       "  </tbody>\n",
       "</table>\n",
       "</div>"
      ],
      "text/plain": [
       "   communication_id                date_time  brand_id source_type\n",
       "0          11394944  2021-06-01 00:41:20.000         1       other\n",
       "1          11395343  2021-06-01 01:33:09.000         1       other\n",
       "2          11397299  2021-06-01 06:02:29.000         1       other\n",
       "3        1656035517  2021-06-01 06:09:14.000         0       other\n",
       "4          11397353  2021-06-01 06:13:20.000         1       other"
      ]
     },
     "execution_count": 2,
     "metadata": {},
     "output_type": "execute_result"
    }
   ],
   "source": [
    "# Загрузим таблицу с информацией об обращениях пользователей\n",
    "communications = pd.read_csv('communications.csv')\n",
    "communications.head()"
   ]
  },
  {
   "cell_type": "code",
   "execution_count": 3,
   "id": "56414c97",
   "metadata": {},
   "outputs": [
    {
     "name": "stdout",
     "output_type": "stream",
     "text": [
      "<class 'pandas.core.frame.DataFrame'>\n",
      "RangeIndex: 25162 entries, 0 to 25161\n",
      "Data columns (total 4 columns):\n",
      " #   Column            Non-Null Count  Dtype \n",
      "---  ------            --------------  ----- \n",
      " 0   communication_id  25162 non-null  int64 \n",
      " 1   date_time         25162 non-null  object\n",
      " 2   brand_id          25162 non-null  int64 \n",
      " 3   source_type       25162 non-null  object\n",
      "dtypes: int64(2), object(2)\n",
      "memory usage: 786.4+ KB\n"
     ]
    }
   ],
   "source": [
    "# изучим основные сведения о таблице\n",
    "communications.info()"
   ]
  },
  {
   "cell_type": "code",
   "execution_count": 4,
   "id": "8f17b33e",
   "metadata": {},
   "outputs": [
    {
     "data": {
      "text/html": [
       "<div>\n",
       "<style scoped>\n",
       "    .dataframe tbody tr th:only-of-type {\n",
       "        vertical-align: middle;\n",
       "    }\n",
       "\n",
       "    .dataframe tbody tr th {\n",
       "        vertical-align: top;\n",
       "    }\n",
       "\n",
       "    .dataframe thead th {\n",
       "        text-align: right;\n",
       "    }\n",
       "</style>\n",
       "<table border=\"1\" class=\"dataframe\">\n",
       "  <thead>\n",
       "    <tr style=\"text-align: right;\">\n",
       "      <th></th>\n",
       "      <th>date</th>\n",
       "      <th>brand_id</th>\n",
       "      <th>phrase_id</th>\n",
       "      <th>shows</th>\n",
       "    </tr>\n",
       "  </thead>\n",
       "  <tbody>\n",
       "    <tr>\n",
       "      <th>0</th>\n",
       "      <td>2021-06-01</td>\n",
       "      <td>0</td>\n",
       "      <td>0</td>\n",
       "      <td>576</td>\n",
       "    </tr>\n",
       "    <tr>\n",
       "      <th>1</th>\n",
       "      <td>2021-06-01</td>\n",
       "      <td>0</td>\n",
       "      <td>1</td>\n",
       "      <td>90</td>\n",
       "    </tr>\n",
       "    <tr>\n",
       "      <th>2</th>\n",
       "      <td>2021-06-01</td>\n",
       "      <td>0</td>\n",
       "      <td>2</td>\n",
       "      <td>55</td>\n",
       "    </tr>\n",
       "    <tr>\n",
       "      <th>3</th>\n",
       "      <td>2021-06-01</td>\n",
       "      <td>0</td>\n",
       "      <td>3</td>\n",
       "      <td>144</td>\n",
       "    </tr>\n",
       "    <tr>\n",
       "      <th>4</th>\n",
       "      <td>2021-06-01</td>\n",
       "      <td>0</td>\n",
       "      <td>4</td>\n",
       "      <td>8</td>\n",
       "    </tr>\n",
       "  </tbody>\n",
       "</table>\n",
       "</div>"
      ],
      "text/plain": [
       "         date  brand_id  phrase_id  shows\n",
       "0  2021-06-01         0          0    576\n",
       "1  2021-06-01         0          1     90\n",
       "2  2021-06-01         0          2     55\n",
       "3  2021-06-01         0          3    144\n",
       "4  2021-06-01         0          4      8"
      ]
     },
     "execution_count": 4,
     "metadata": {},
     "output_type": "execute_result"
    }
   ],
   "source": [
    "# Загрузим таблицу с выгрузкой по частотности запросов в разбивке по брендам и дням за тот же период\n",
    "shows = pd.read_csv('phrases_shows.csv', sep=';')\n",
    "\n",
    "# и выведем первые строки\n",
    "shows.head()"
   ]
  },
  {
   "cell_type": "code",
   "execution_count": 5,
   "id": "2b1c105c",
   "metadata": {
    "scrolled": false
   },
   "outputs": [
    {
     "name": "stdout",
     "output_type": "stream",
     "text": [
      "<class 'pandas.core.frame.DataFrame'>\n",
      "RangeIndex: 2668 entries, 0 to 2667\n",
      "Data columns (total 4 columns):\n",
      " #   Column     Non-Null Count  Dtype \n",
      "---  ------     --------------  ----- \n",
      " 0   date       2668 non-null   object\n",
      " 1   brand_id   2668 non-null   int64 \n",
      " 2   phrase_id  2668 non-null   int64 \n",
      " 3   shows      2668 non-null   int64 \n",
      "dtypes: int64(3), object(1)\n",
      "memory usage: 83.5+ KB\n"
     ]
    }
   ],
   "source": [
    "shows.info()"
   ]
  },
  {
   "cell_type": "code",
   "execution_count": 6,
   "id": "832ddfd5",
   "metadata": {
    "scrolled": true
   },
   "outputs": [],
   "source": [
    "# в обеих таблицах приведем столбцы с датами к единому виду и преобразуем к типу datetime\n",
    "communications['date_time'] = pd.to_datetime(communications['date_time'], format='%Y-%m-%d %H:%M:%S.%f').dt.date\n",
    "communications['date_time'] = pd.to_datetime(communications['date_time'])\n",
    "communications = communications.rename(columns = {'date_time': 'date'})\n",
    "\n",
    "shows['date'] = pd.to_datetime(shows['date'])"
   ]
  },
  {
   "cell_type": "code",
   "execution_count": 7,
   "id": "435c1f00",
   "metadata": {},
   "outputs": [
    {
     "data": {
      "text/plain": [
       "(0, 0, 0)"
      ]
     },
     "execution_count": 7,
     "metadata": {},
     "output_type": "execute_result"
    }
   ],
   "source": [
    "# проверим уникальность всех строк в таблицах, а также уникальность id обращений\n",
    "shows.duplicated().sum(), communications.duplicated().sum(), communications['communication_id'].duplicated().sum()"
   ]
  },
  {
   "cell_type": "code",
   "execution_count": 8,
   "id": "8449d9f2",
   "metadata": {},
   "outputs": [
    {
     "data": {
      "text/plain": [
       "(Timestamp('2021-06-01 00:00:00'), Timestamp('2021-08-31 00:00:00'))"
      ]
     },
     "execution_count": 8,
     "metadata": {},
     "output_type": "execute_result"
    }
   ],
   "source": [
    "#  проверим за какой период имеем данные в таблицах (нужно убедиться, что эти периоды совпадают)\n",
    "communications['date'].min(), communications['date'].max()"
   ]
  },
  {
   "cell_type": "code",
   "execution_count": 9,
   "id": "8ab1f68e",
   "metadata": {},
   "outputs": [
    {
     "data": {
      "text/plain": [
       "(Timestamp('2021-06-01 00:00:00'), Timestamp('2021-08-31 00:00:00'))"
      ]
     },
     "execution_count": 9,
     "metadata": {},
     "output_type": "execute_result"
    }
   ],
   "source": [
    "shows['date'].min(), shows['date'].max()"
   ]
  },
  {
   "cell_type": "markdown",
   "id": "89b2eb87",
   "metadata": {},
   "source": [
    "## Исследовательский анализ данных (EDA)"
   ]
  },
  {
   "cell_type": "markdown",
   "id": "03156f08",
   "metadata": {},
   "source": [
    "Поскольку в данном исследовании нас интересуют только обращения из поисковых запросов, оставим в таблице communications только их. "
   ]
  },
  {
   "cell_type": "code",
   "execution_count": 10,
   "id": "dd76c060",
   "metadata": {},
   "outputs": [],
   "source": [
    "communications = communications[communications['source_type'] == 'organic']\n"
   ]
  },
  {
   "cell_type": "code",
   "execution_count": 11,
   "id": "421b57b5",
   "metadata": {},
   "outputs": [
    {
     "data": {
      "image/png": "[encoded data removed]",
      "text/plain": [
       "<Figure size 1152x360 with 1 Axes>"
      ]
     },
     "metadata": {},
     "output_type": "display_data"
    }
   ],
   "source": [
    "# визуализируем соотношение количества обращений по бренду\n",
    "fig = plt.figure(figsize=(16, 5))\n",
    "ax1 = fig.add_subplot(1,1,1)\n",
    "\n",
    "def func(pct, allvals):\n",
    "    absolute = int(pct/100.*np.sum(allvals))\n",
    "    return \"{:.1f}%\\n({:d})\".format(pct, absolute)\n",
    "\n",
    "\n",
    "vals = communications.groupby('brand_id')['communication_id'].count().reset_index()['communication_id']\n",
    "labels = communications.groupby('brand_id')['communication_id'].count().reset_index()['brand_id']\n",
    "\n",
    "ax1.set_title('Количество обращений по бренду')\n",
    "ax1.pie(vals, labels=labels, autopct=lambda pct: func(pct, vals))       \n",
    "\n",
    "plt.show()"
   ]
  },
  {
   "cell_type": "markdown",
   "id": "49c18f80",
   "metadata": {},
   "source": [
    "Посмотрим на графике, как по дням меняется количество обращений по каждому бренду."
   ]
  },
  {
   "cell_type": "code",
   "execution_count": 12,
   "id": "77519f01",
   "metadata": {
    "scrolled": false
   },
   "outputs": [
    {
     "data": {
      "image/png": "[encoded data removed]",
      "text/plain": [
       "<Figure size 1152x504 with 1 Axes>"
      ]
     },
     "metadata": {
      "needs_background": "light"
     },
     "output_type": "display_data"
    }
   ],
   "source": [
    "fig = plt.figure(figsize=(16, 7))\n",
    "\n",
    "communications[communications['brand_id'] == 0].groupby('date')['communication_id'].count().plot(label='0')\n",
    "communications[communications['brand_id'] == 1].groupby('date')['communication_id'].count().plot(label='1')\n",
    "\n",
    "plt.title('Количество обращений по каждому бренду в разбивке по дням')\n",
    "plt.xticks(communications['date'].unique()[::5], rotation=90)\n",
    "plt.legend()\n",
    "plt.grid()\n",
    "plt.show()"
   ]
  },
  {
   "cell_type": "code",
   "execution_count": 13,
   "id": "f9676c44",
   "metadata": {},
   "outputs": [
    {
     "data": {
      "text/plain": [
       "(6.1098901098901095, 9.054347826086957)"
      ]
     },
     "execution_count": 13,
     "metadata": {},
     "output_type": "execute_result"
    }
   ],
   "source": [
    "(communications[communications['brand_id'] == 0].groupby('date')['communication_id'].count().mean(),\n",
    "communications[communications['brand_id'] == 1].groupby('date')['communication_id'].count().mean())"
   ]
  },
  {
   "cell_type": "markdown",
   "id": "48ebcec8",
   "metadata": {},
   "source": [
    "Обращений по  первому бренду больше, чем по нулевому (в среднем по 0  - 6 обращений в день, по 1 - 9.). Также на графике первого бренда, больше резких переходов между значениями. \n"
   ]
  },
  {
   "cell_type": "markdown",
   "id": "3707a63d",
   "metadata": {},
   "source": [
    "Исследуем данные в таблице с показами поисковых запросов. Выясним, сколько поисковых фраз соответствует каждому бренду."
   ]
  },
  {
   "cell_type": "code",
   "execution_count": 14,
   "id": "c3efd210",
   "metadata": {},
   "outputs": [
    {
     "data": {
      "image/png": "[encoded data removed]",
      "text/plain": [
       "<Figure size 1152x504 with 1 Axes>"
      ]
     },
     "metadata": {
      "needs_background": "light"
     },
     "output_type": "display_data"
    }
   ],
   "source": [
    "fig = plt.figure(figsize=(16, 7))\n",
    "shows.pivot_table(index='date', columns='brand_id', values='phrase_id', aggfunc='count')[0].plot(label='0')\n",
    "shows.pivot_table(index='date', columns='brand_id', values='phrase_id', aggfunc='count')[1].plot(label='1')\n",
    "\n",
    "plt.title('Количество поисковых фраз, соответствующих каждому бренду')\n",
    "plt.legend()\n",
    "plt.show()"
   ]
  },
  {
   "cell_type": "markdown",
   "id": "fd95a825",
   "metadata": {},
   "source": [
    "У первого бренда больше поисковых фраз. Можем заметить, что после 9 августа количество поисковых фраз по обоим брендам увеличилось. С 11 до 17 штук для нулевого бренда и c 12 до 30 штук для первого. "
   ]
  },
  {
   "cell_type": "markdown",
   "id": "6166eaf8",
   "metadata": {},
   "source": [
    "В таблице с показами рассчитаем скользящее среднее и добавим в отдельный столбец."
   ]
  },
  {
   "cell_type": "code",
   "execution_count": 15,
   "id": "83659ecc",
   "metadata": {
    "scrolled": false
   },
   "outputs": [
    {
     "data": {
      "text/html": [
       "<div>\n",
       "<style scoped>\n",
       "    .dataframe tbody tr th:only-of-type {\n",
       "        vertical-align: middle;\n",
       "    }\n",
       "\n",
       "    .dataframe tbody tr th {\n",
       "        vertical-align: top;\n",
       "    }\n",
       "\n",
       "    .dataframe thead th {\n",
       "        text-align: right;\n",
       "    }\n",
       "</style>\n",
       "<table border=\"1\" class=\"dataframe\">\n",
       "  <thead>\n",
       "    <tr style=\"text-align: right;\">\n",
       "      <th></th>\n",
       "      <th>date</th>\n",
       "      <th>brand_id</th>\n",
       "      <th>phrase_id</th>\n",
       "      <th>shows</th>\n",
       "      <th>rolling_avg</th>\n",
       "    </tr>\n",
       "  </thead>\n",
       "  <tbody>\n",
       "    <tr>\n",
       "      <th>0</th>\n",
       "      <td>2021-06-01</td>\n",
       "      <td>0</td>\n",
       "      <td>0</td>\n",
       "      <td>576</td>\n",
       "      <td>19.200000</td>\n",
       "    </tr>\n",
       "    <tr>\n",
       "      <th>1</th>\n",
       "      <td>2021-06-01</td>\n",
       "      <td>0</td>\n",
       "      <td>1</td>\n",
       "      <td>90</td>\n",
       "      <td>3.000000</td>\n",
       "    </tr>\n",
       "    <tr>\n",
       "      <th>2</th>\n",
       "      <td>2021-06-01</td>\n",
       "      <td>0</td>\n",
       "      <td>2</td>\n",
       "      <td>55</td>\n",
       "      <td>1.833333</td>\n",
       "    </tr>\n",
       "    <tr>\n",
       "      <th>3</th>\n",
       "      <td>2021-06-01</td>\n",
       "      <td>0</td>\n",
       "      <td>3</td>\n",
       "      <td>144</td>\n",
       "      <td>4.800000</td>\n",
       "    </tr>\n",
       "    <tr>\n",
       "      <th>4</th>\n",
       "      <td>2021-06-01</td>\n",
       "      <td>0</td>\n",
       "      <td>4</td>\n",
       "      <td>8</td>\n",
       "      <td>0.266667</td>\n",
       "    </tr>\n",
       "  </tbody>\n",
       "</table>\n",
       "</div>"
      ],
      "text/plain": [
       "        date  brand_id  phrase_id  shows  rolling_avg\n",
       "0 2021-06-01         0          0    576    19.200000\n",
       "1 2021-06-01         0          1     90     3.000000\n",
       "2 2021-06-01         0          2     55     1.833333\n",
       "3 2021-06-01         0          3    144     4.800000\n",
       "4 2021-06-01         0          4      8     0.266667"
      ]
     },
     "execution_count": 15,
     "metadata": {},
     "output_type": "execute_result"
    }
   ],
   "source": [
    "shows['rolling_avg'] = shows['shows']/30\n",
    "shows.head()"
   ]
  },
  {
   "cell_type": "markdown",
   "id": "fa4255f5",
   "metadata": {},
   "source": [
    "Посмотрим, насколько равномерно распределены скользящие средние на гистограмме."
   ]
  },
  {
   "cell_type": "code",
   "execution_count": 16,
   "id": "db0538b6",
   "metadata": {
    "scrolled": false
   },
   "outputs": [
    {
     "data": {
      "image/png": "[encoded data removed]",
      "text/plain": [
       "<Figure size 1152x504 with 1 Axes>"
      ]
     },
     "metadata": {
      "needs_background": "light"
     },
     "output_type": "display_data"
    }
   ],
   "source": [
    "fig = plt.figure(figsize=(16, 7))\n",
    "shows['rolling_avg'].hist(bins=300)\n",
    "\n",
    "\n",
    "plt.title('Распределение значений скользящих средних')\n",
    "plt.show()"
   ]
  },
  {
   "cell_type": "code",
   "execution_count": 17,
   "id": "1e3867d9",
   "metadata": {
    "scrolled": false
   },
   "outputs": [
    {
     "data": {
      "image/png": "[encoded data removed]",
      "text/plain": [
       "<Figure size 1152x504 with 1 Axes>"
      ]
     },
     "metadata": {
      "needs_background": "light"
     },
     "output_type": "display_data"
    }
   ],
   "source": [
    "fig = plt.figure(figsize=(16, 7))\n",
    "shows.groupby('phrase_id')['rolling_avg'].mean().plot(kind='bar')\n",
    "plt.title('Средние значения скользящих средних по поисковым фразам')\n",
    "plt.show()"
   ]
  },
  {
   "cell_type": "markdown",
   "id": "22ef78b5",
   "metadata": {},
   "source": [
    "Можем заметить, что большинство значений не превышают 300, но есть небольшое количество бОльших значений, которые могут исказить результаты исследования. Причем, судя по второму графику они относятся к ключевым фразам № 7 и № 18. "
   ]
  },
  {
   "cell_type": "markdown",
   "id": "cdd9ff9e",
   "metadata": {
    "scrolled": false
   },
   "source": [
    "## Формирование общей сводной таблицы"
   ]
  },
  {
   "cell_type": "code",
   "execution_count": 18,
   "id": "736a0aef",
   "metadata": {
    "scrolled": false
   },
   "outputs": [
    {
     "data": {
      "text/html": [
       "<div>\n",
       "<style scoped>\n",
       "    .dataframe tbody tr th:only-of-type {\n",
       "        vertical-align: middle;\n",
       "    }\n",
       "\n",
       "    .dataframe tbody tr th {\n",
       "        vertical-align: top;\n",
       "    }\n",
       "\n",
       "    .dataframe thead th {\n",
       "        text-align: right;\n",
       "    }\n",
       "</style>\n",
       "<table border=\"1\" class=\"dataframe\">\n",
       "  <thead>\n",
       "    <tr style=\"text-align: right;\">\n",
       "      <th>brand_id</th>\n",
       "      <th>date</th>\n",
       "      <th>roll_sum_0</th>\n",
       "      <th>roll_sum_1</th>\n",
       "    </tr>\n",
       "  </thead>\n",
       "  <tbody>\n",
       "    <tr>\n",
       "      <th>0</th>\n",
       "      <td>2021-06-01</td>\n",
       "      <td>11590</td>\n",
       "      <td>32641</td>\n",
       "    </tr>\n",
       "    <tr>\n",
       "      <th>1</th>\n",
       "      <td>2021-06-02</td>\n",
       "      <td>11533</td>\n",
       "      <td>32649</td>\n",
       "    </tr>\n",
       "    <tr>\n",
       "      <th>2</th>\n",
       "      <td>2021-06-03</td>\n",
       "      <td>11615</td>\n",
       "      <td>32784</td>\n",
       "    </tr>\n",
       "    <tr>\n",
       "      <th>3</th>\n",
       "      <td>2021-06-04</td>\n",
       "      <td>11725</td>\n",
       "      <td>33072</td>\n",
       "    </tr>\n",
       "    <tr>\n",
       "      <th>4</th>\n",
       "      <td>2021-06-05</td>\n",
       "      <td>11869</td>\n",
       "      <td>33185</td>\n",
       "    </tr>\n",
       "  </tbody>\n",
       "</table>\n",
       "</div>"
      ],
      "text/plain": [
       "brand_id       date  roll_sum_0  roll_sum_1\n",
       "0        2021-06-01       11590       32641\n",
       "1        2021-06-02       11533       32649\n",
       "2        2021-06-03       11615       32784\n",
       "3        2021-06-04       11725       33072\n",
       "4        2021-06-05       11869       33185"
      ]
     },
     "execution_count": 18,
     "metadata": {},
     "output_type": "execute_result"
    }
   ],
   "source": [
    "# посчитаем суммарную скользящую сумму показов по дням, сгруппировав их по id брендов\n",
    "pivot_brand = shows.pivot_table(index='date', \n",
    "                          columns='brand_id', \n",
    "                          values='shows',      \n",
    "                          aggfunc='sum'\n",
    "                          ).reset_index().rename(columns={0:'roll_sum_0',\n",
    "                                                         1:'roll_sum_1'})\n",
    "pivot_brand.head()"
   ]
  },
  {
   "cell_type": "markdown",
   "id": "4b8281fe",
   "metadata": {},
   "source": [
    " Добавим столбец, где рассчитаем разницу скользящих сумм за текущую дату и предыдущий день. Это значение будет показывать изменение количества показов. "
   ]
  },
  {
   "cell_type": "code",
   "execution_count": 19,
   "id": "431cc903",
   "metadata": {
    "scrolled": false
   },
   "outputs": [
    {
     "data": {
      "text/html": [
       "<div>\n",
       "<style scoped>\n",
       "    .dataframe tbody tr th:only-of-type {\n",
       "        vertical-align: middle;\n",
       "    }\n",
       "\n",
       "    .dataframe tbody tr th {\n",
       "        vertical-align: top;\n",
       "    }\n",
       "\n",
       "    .dataframe thead th {\n",
       "        text-align: right;\n",
       "    }\n",
       "</style>\n",
       "<table border=\"1\" class=\"dataframe\">\n",
       "  <thead>\n",
       "    <tr style=\"text-align: right;\">\n",
       "      <th>brand_id</th>\n",
       "      <th>date</th>\n",
       "      <th>roll_sum_0</th>\n",
       "      <th>roll_sum_1</th>\n",
       "      <th>diff_shows_0</th>\n",
       "      <th>diff_shows_1</th>\n",
       "      <th>roll_avg_0</th>\n",
       "      <th>roll_avg_1</th>\n",
       "    </tr>\n",
       "  </thead>\n",
       "  <tbody>\n",
       "    <tr>\n",
       "      <th>0</th>\n",
       "      <td>2021-06-01</td>\n",
       "      <td>11590</td>\n",
       "      <td>32641</td>\n",
       "      <td>11590.0</td>\n",
       "      <td>32641.0</td>\n",
       "      <td>386.33</td>\n",
       "      <td>1088.03</td>\n",
       "    </tr>\n",
       "    <tr>\n",
       "      <th>1</th>\n",
       "      <td>2021-06-02</td>\n",
       "      <td>11533</td>\n",
       "      <td>32649</td>\n",
       "      <td>-57.0</td>\n",
       "      <td>8.0</td>\n",
       "      <td>384.43</td>\n",
       "      <td>1088.30</td>\n",
       "    </tr>\n",
       "    <tr>\n",
       "      <th>2</th>\n",
       "      <td>2021-06-03</td>\n",
       "      <td>11615</td>\n",
       "      <td>32784</td>\n",
       "      <td>82.0</td>\n",
       "      <td>135.0</td>\n",
       "      <td>387.17</td>\n",
       "      <td>1092.80</td>\n",
       "    </tr>\n",
       "    <tr>\n",
       "      <th>3</th>\n",
       "      <td>2021-06-04</td>\n",
       "      <td>11725</td>\n",
       "      <td>33072</td>\n",
       "      <td>110.0</td>\n",
       "      <td>288.0</td>\n",
       "      <td>390.83</td>\n",
       "      <td>1102.40</td>\n",
       "    </tr>\n",
       "    <tr>\n",
       "      <th>4</th>\n",
       "      <td>2021-06-05</td>\n",
       "      <td>11869</td>\n",
       "      <td>33185</td>\n",
       "      <td>144.0</td>\n",
       "      <td>113.0</td>\n",
       "      <td>395.63</td>\n",
       "      <td>1106.17</td>\n",
       "    </tr>\n",
       "  </tbody>\n",
       "</table>\n",
       "</div>"
      ],
      "text/plain": [
       "brand_id       date  roll_sum_0  roll_sum_1  diff_shows_0  diff_shows_1  \\\n",
       "0        2021-06-01       11590       32641       11590.0       32641.0   \n",
       "1        2021-06-02       11533       32649         -57.0           8.0   \n",
       "2        2021-06-03       11615       32784          82.0         135.0   \n",
       "3        2021-06-04       11725       33072         110.0         288.0   \n",
       "4        2021-06-05       11869       33185         144.0         113.0   \n",
       "\n",
       "brand_id  roll_avg_0  roll_avg_1  \n",
       "0             386.33     1088.03  \n",
       "1             384.43     1088.30  \n",
       "2             387.17     1092.80  \n",
       "3             390.83     1102.40  \n",
       "4             395.63     1106.17  "
      ]
     },
     "execution_count": 19,
     "metadata": {},
     "output_type": "execute_result"
    }
   ],
   "source": [
    "s = pivot_brand['roll_sum_0'].diff()\n",
    "pivot_brand['diff_shows_0'] = s.mask(s.isna(), pivot_brand['roll_sum_0'])\n",
    "\n",
    "s = pivot_brand['roll_sum_1'].diff()\n",
    "pivot_brand['diff_shows_1'] = s.mask(s.isna(), pivot_brand['roll_sum_1'])\n",
    "\n",
    "# еще посчитаем и добавим в тадлицу скользящее среднее показов по брендам.\n",
    "pivot_brand['roll_avg_0'] = round(pivot_brand['roll_sum_0']/30, 2)\n",
    "pivot_brand['roll_avg_1'] = round(pivot_brand['roll_sum_1']/30, 2)\n",
    "\n",
    "pivot_brand.head()"
   ]
  },
  {
   "cell_type": "markdown",
   "id": "2d3abe60",
   "metadata": {},
   "source": [
    "Посмотрим на графике, как по дням менялось количество показов в разбивке по брендам."
   ]
  },
  {
   "cell_type": "code",
   "execution_count": 32,
   "id": "dbd149c2",
   "metadata": {
    "scrolled": false
   },
   "outputs": [
    {
     "data": {
      "image/png": "[encoded data removed]",
      "text/plain": [
       "<Figure size 1296x432 with 1 Axes>"
      ]
     },
     "metadata": {
      "needs_background": "light"
     },
     "output_type": "display_data"
    }
   ],
   "source": [
    "fig = plt.figure(figsize=(18,6))\n",
    "ax1 = fig.add_subplot(1,1,1)\n",
    "\n",
    "\n",
    "sns.lineplot(x=\"date\", \n",
    "            y=\"diff_shows_0\", \n",
    "            data=pivot_brand[pivot_brand['date'] > '2021-06-01'], \n",
    "            ax=ax1)\n",
    "\n",
    "sns.lineplot(x=\"date\", \n",
    "            y=\"diff_shows_1\", \n",
    "            data=pivot_brand[pivot_brand['date'] > '2021-06-01'], \n",
    "            ax=ax1)\n",
    "ax1.set_title('Количество показов поисковых фраз по дням')\n",
    "ax1.set_xticks(pivot_brand[pivot_brand['date'] > '2021-06-01']['date'][::4])\n",
    "ax1.tick_params(axis='x', rotation=90)\n",
    "ax1.grid()\n",
    "ax1.set_xlabel('')\n",
    "ax1.set_ylabel('Количество показов')\n",
    "\n",
    "plt.show()"
   ]
  },
  {
   "cell_type": "markdown",
   "id": "9e32751a",
   "metadata": {},
   "source": [
    "Можем заметить, что 9 августа произошел резкий выброс запросов по всем поисковым фразам. \n",
    "\n",
    "Соберем сводную информацию по обращениям. Посчитаем количество обращений по дням, сгруппировав их по id брендов. "
   ]
  },
  {
   "cell_type": "code",
   "execution_count": 21,
   "id": "24ef1bf0",
   "metadata": {
    "scrolled": true
   },
   "outputs": [
    {
     "data": {
      "text/html": [
       "<div>\n",
       "<style scoped>\n",
       "    .dataframe tbody tr th:only-of-type {\n",
       "        vertical-align: middle;\n",
       "    }\n",
       "\n",
       "    .dataframe tbody tr th {\n",
       "        vertical-align: top;\n",
       "    }\n",
       "\n",
       "    .dataframe thead th {\n",
       "        text-align: right;\n",
       "    }\n",
       "</style>\n",
       "<table border=\"1\" class=\"dataframe\">\n",
       "  <thead>\n",
       "    <tr style=\"text-align: right;\">\n",
       "      <th>brand_id</th>\n",
       "      <th>date</th>\n",
       "      <th>roll_sum_0</th>\n",
       "      <th>roll_sum_1</th>\n",
       "      <th>diff_shows_0</th>\n",
       "      <th>diff_shows_1</th>\n",
       "      <th>roll_avg_0</th>\n",
       "      <th>roll_avg_1</th>\n",
       "      <th>comm_0</th>\n",
       "      <th>comm_1</th>\n",
       "    </tr>\n",
       "  </thead>\n",
       "  <tbody>\n",
       "    <tr>\n",
       "      <th>0</th>\n",
       "      <td>2021-06-01</td>\n",
       "      <td>11590</td>\n",
       "      <td>32641</td>\n",
       "      <td>11590.0</td>\n",
       "      <td>32641.0</td>\n",
       "      <td>386.33</td>\n",
       "      <td>1088.03</td>\n",
       "      <td>3.0</td>\n",
       "      <td>15.0</td>\n",
       "    </tr>\n",
       "    <tr>\n",
       "      <th>1</th>\n",
       "      <td>2021-06-02</td>\n",
       "      <td>11533</td>\n",
       "      <td>32649</td>\n",
       "      <td>-57.0</td>\n",
       "      <td>8.0</td>\n",
       "      <td>384.43</td>\n",
       "      <td>1088.30</td>\n",
       "      <td>5.0</td>\n",
       "      <td>7.0</td>\n",
       "    </tr>\n",
       "    <tr>\n",
       "      <th>2</th>\n",
       "      <td>2021-06-03</td>\n",
       "      <td>11615</td>\n",
       "      <td>32784</td>\n",
       "      <td>82.0</td>\n",
       "      <td>135.0</td>\n",
       "      <td>387.17</td>\n",
       "      <td>1092.80</td>\n",
       "      <td>5.0</td>\n",
       "      <td>9.0</td>\n",
       "    </tr>\n",
       "    <tr>\n",
       "      <th>3</th>\n",
       "      <td>2021-06-04</td>\n",
       "      <td>11725</td>\n",
       "      <td>33072</td>\n",
       "      <td>110.0</td>\n",
       "      <td>288.0</td>\n",
       "      <td>390.83</td>\n",
       "      <td>1102.40</td>\n",
       "      <td>2.0</td>\n",
       "      <td>13.0</td>\n",
       "    </tr>\n",
       "    <tr>\n",
       "      <th>4</th>\n",
       "      <td>2021-06-05</td>\n",
       "      <td>11869</td>\n",
       "      <td>33185</td>\n",
       "      <td>144.0</td>\n",
       "      <td>113.0</td>\n",
       "      <td>395.63</td>\n",
       "      <td>1106.17</td>\n",
       "      <td>6.0</td>\n",
       "      <td>3.0</td>\n",
       "    </tr>\n",
       "  </tbody>\n",
       "</table>\n",
       "</div>"
      ],
      "text/plain": [
       "brand_id       date  roll_sum_0  roll_sum_1  diff_shows_0  diff_shows_1  \\\n",
       "0        2021-06-01       11590       32641       11590.0       32641.0   \n",
       "1        2021-06-02       11533       32649         -57.0           8.0   \n",
       "2        2021-06-03       11615       32784          82.0         135.0   \n",
       "3        2021-06-04       11725       33072         110.0         288.0   \n",
       "4        2021-06-05       11869       33185         144.0         113.0   \n",
       "\n",
       "brand_id  roll_avg_0  roll_avg_1  comm_0  comm_1  \n",
       "0             386.33     1088.03     3.0    15.0  \n",
       "1             384.43     1088.30     5.0     7.0  \n",
       "2             387.17     1092.80     5.0     9.0  \n",
       "3             390.83     1102.40     2.0    13.0  \n",
       "4             395.63     1106.17     6.0     3.0  "
      ]
     },
     "execution_count": 21,
     "metadata": {},
     "output_type": "execute_result"
    }
   ],
   "source": [
    "pivot_brand = pivot_brand.merge(communications.pivot_table(index='date', \n",
    "                                                           values='communication_id', \n",
    "                                                           columns='brand_id', \n",
    "                                                           aggfunc='count').rename(columns={0: 'comm_0',\n",
    "                                                                                            1: 'comm_1'}).reset_index(),\n",
    "                    on='date')\n",
    "pivot_brand.head()"
   ]
  },
  {
   "cell_type": "markdown",
   "id": "c46434af",
   "metadata": {},
   "source": [
    "Для обращений тоже посчитаем ежедневную разницу. Только в этом случае мы оперируем данными за текущую дату, поэтому \"смещать\" таблицу не будем. "
   ]
  },
  {
   "cell_type": "code",
   "execution_count": 22,
   "id": "37381be5",
   "metadata": {},
   "outputs": [
    {
     "data": {
      "text/html": [
       "<div>\n",
       "<style scoped>\n",
       "    .dataframe tbody tr th:only-of-type {\n",
       "        vertical-align: middle;\n",
       "    }\n",
       "\n",
       "    .dataframe tbody tr th {\n",
       "        vertical-align: top;\n",
       "    }\n",
       "\n",
       "    .dataframe thead th {\n",
       "        text-align: right;\n",
       "    }\n",
       "</style>\n",
       "<table border=\"1\" class=\"dataframe\">\n",
       "  <thead>\n",
       "    <tr style=\"text-align: right;\">\n",
       "      <th>brand_id</th>\n",
       "      <th>date</th>\n",
       "      <th>roll_sum_0</th>\n",
       "      <th>roll_sum_1</th>\n",
       "      <th>diff_shows_0</th>\n",
       "      <th>diff_shows_1</th>\n",
       "      <th>roll_avg_0</th>\n",
       "      <th>roll_avg_1</th>\n",
       "      <th>comm_0</th>\n",
       "      <th>comm_1</th>\n",
       "      <th>diff_comm_0</th>\n",
       "      <th>diff_comm_1</th>\n",
       "    </tr>\n",
       "  </thead>\n",
       "  <tbody>\n",
       "    <tr>\n",
       "      <th>0</th>\n",
       "      <td>2021-06-01</td>\n",
       "      <td>11590</td>\n",
       "      <td>32641</td>\n",
       "      <td>11590.0</td>\n",
       "      <td>32641.0</td>\n",
       "      <td>386.33</td>\n",
       "      <td>1088.03</td>\n",
       "      <td>3.0</td>\n",
       "      <td>15.0</td>\n",
       "      <td>3.0</td>\n",
       "      <td>15.0</td>\n",
       "    </tr>\n",
       "    <tr>\n",
       "      <th>1</th>\n",
       "      <td>2021-06-02</td>\n",
       "      <td>11533</td>\n",
       "      <td>32649</td>\n",
       "      <td>-57.0</td>\n",
       "      <td>8.0</td>\n",
       "      <td>384.43</td>\n",
       "      <td>1088.30</td>\n",
       "      <td>5.0</td>\n",
       "      <td>7.0</td>\n",
       "      <td>2.0</td>\n",
       "      <td>-8.0</td>\n",
       "    </tr>\n",
       "    <tr>\n",
       "      <th>2</th>\n",
       "      <td>2021-06-03</td>\n",
       "      <td>11615</td>\n",
       "      <td>32784</td>\n",
       "      <td>82.0</td>\n",
       "      <td>135.0</td>\n",
       "      <td>387.17</td>\n",
       "      <td>1092.80</td>\n",
       "      <td>5.0</td>\n",
       "      <td>9.0</td>\n",
       "      <td>0.0</td>\n",
       "      <td>2.0</td>\n",
       "    </tr>\n",
       "    <tr>\n",
       "      <th>3</th>\n",
       "      <td>2021-06-04</td>\n",
       "      <td>11725</td>\n",
       "      <td>33072</td>\n",
       "      <td>110.0</td>\n",
       "      <td>288.0</td>\n",
       "      <td>390.83</td>\n",
       "      <td>1102.40</td>\n",
       "      <td>2.0</td>\n",
       "      <td>13.0</td>\n",
       "      <td>-3.0</td>\n",
       "      <td>4.0</td>\n",
       "    </tr>\n",
       "    <tr>\n",
       "      <th>4</th>\n",
       "      <td>2021-06-05</td>\n",
       "      <td>11869</td>\n",
       "      <td>33185</td>\n",
       "      <td>144.0</td>\n",
       "      <td>113.0</td>\n",
       "      <td>395.63</td>\n",
       "      <td>1106.17</td>\n",
       "      <td>6.0</td>\n",
       "      <td>3.0</td>\n",
       "      <td>4.0</td>\n",
       "      <td>-10.0</td>\n",
       "    </tr>\n",
       "  </tbody>\n",
       "</table>\n",
       "</div>"
      ],
      "text/plain": [
       "brand_id       date  roll_sum_0  roll_sum_1  diff_shows_0  diff_shows_1  \\\n",
       "0        2021-06-01       11590       32641       11590.0       32641.0   \n",
       "1        2021-06-02       11533       32649         -57.0           8.0   \n",
       "2        2021-06-03       11615       32784          82.0         135.0   \n",
       "3        2021-06-04       11725       33072         110.0         288.0   \n",
       "4        2021-06-05       11869       33185         144.0         113.0   \n",
       "\n",
       "brand_id  roll_avg_0  roll_avg_1  comm_0  comm_1  diff_comm_0  diff_comm_1  \n",
       "0             386.33     1088.03     3.0    15.0          3.0         15.0  \n",
       "1             384.43     1088.30     5.0     7.0          2.0         -8.0  \n",
       "2             387.17     1092.80     5.0     9.0          0.0          2.0  \n",
       "3             390.83     1102.40     2.0    13.0         -3.0          4.0  \n",
       "4             395.63     1106.17     6.0     3.0          4.0        -10.0  "
      ]
     },
     "execution_count": 22,
     "metadata": {},
     "output_type": "execute_result"
    }
   ],
   "source": [
    "s = pivot_brand['comm_0'].diff()\n",
    "pivot_brand['diff_comm_0'] = s.mask(s.isna(), pivot_brand['comm_0'])\n",
    "\n",
    "s = pivot_brand['comm_1'].diff()\n",
    "pivot_brand['diff_comm_1'] = s.mask(s.isna(), pivot_brand['comm_1'])\n",
    "pivot_brand.head()"
   ]
  },
  {
   "cell_type": "markdown",
   "id": "d78e6376",
   "metadata": {},
   "source": [
    "Также создадим сводную таблицу динамики показов в разбивке по поисковым фразам."
   ]
  },
  {
   "cell_type": "code",
   "execution_count": 23,
   "id": "e6f64479",
   "metadata": {
    "scrolled": true
   },
   "outputs": [
    {
     "data": {
      "text/html": [
       "<div>\n",
       "<style scoped>\n",
       "    .dataframe tbody tr th:only-of-type {\n",
       "        vertical-align: middle;\n",
       "    }\n",
       "\n",
       "    .dataframe tbody tr th {\n",
       "        vertical-align: top;\n",
       "    }\n",
       "\n",
       "    .dataframe thead th {\n",
       "        text-align: right;\n",
       "    }\n",
       "</style>\n",
       "<table border=\"1\" class=\"dataframe\">\n",
       "  <thead>\n",
       "    <tr style=\"text-align: right;\">\n",
       "      <th>phrase_id</th>\n",
       "      <th>date</th>\n",
       "      <th>0</th>\n",
       "      <th>1</th>\n",
       "      <th>2</th>\n",
       "      <th>3</th>\n",
       "      <th>4</th>\n",
       "      <th>5</th>\n",
       "      <th>6</th>\n",
       "      <th>7</th>\n",
       "      <th>8</th>\n",
       "      <th>...</th>\n",
       "      <th>37</th>\n",
       "      <th>38</th>\n",
       "      <th>39</th>\n",
       "      <th>40</th>\n",
       "      <th>41</th>\n",
       "      <th>42</th>\n",
       "      <th>43</th>\n",
       "      <th>44</th>\n",
       "      <th>45</th>\n",
       "      <th>46</th>\n",
       "    </tr>\n",
       "  </thead>\n",
       "  <tbody>\n",
       "    <tr>\n",
       "      <th>0</th>\n",
       "      <td>2021-06-01</td>\n",
       "      <td>576.0</td>\n",
       "      <td>90.0</td>\n",
       "      <td>55.0</td>\n",
       "      <td>144.0</td>\n",
       "      <td>8.0</td>\n",
       "      <td>66.0</td>\n",
       "      <td>3.0</td>\n",
       "      <td>8115.0</td>\n",
       "      <td>1940.0</td>\n",
       "      <td>...</td>\n",
       "      <td>NaN</td>\n",
       "      <td>NaN</td>\n",
       "      <td>NaN</td>\n",
       "      <td>NaN</td>\n",
       "      <td>NaN</td>\n",
       "      <td>NaN</td>\n",
       "      <td>NaN</td>\n",
       "      <td>NaN</td>\n",
       "      <td>NaN</td>\n",
       "      <td>NaN</td>\n",
       "    </tr>\n",
       "    <tr>\n",
       "      <th>1</th>\n",
       "      <td>2021-06-02</td>\n",
       "      <td>580.0</td>\n",
       "      <td>83.0</td>\n",
       "      <td>52.0</td>\n",
       "      <td>147.0</td>\n",
       "      <td>8.0</td>\n",
       "      <td>66.0</td>\n",
       "      <td>4.0</td>\n",
       "      <td>8092.0</td>\n",
       "      <td>1929.0</td>\n",
       "      <td>...</td>\n",
       "      <td>NaN</td>\n",
       "      <td>NaN</td>\n",
       "      <td>NaN</td>\n",
       "      <td>NaN</td>\n",
       "      <td>NaN</td>\n",
       "      <td>NaN</td>\n",
       "      <td>NaN</td>\n",
       "      <td>NaN</td>\n",
       "      <td>NaN</td>\n",
       "      <td>NaN</td>\n",
       "    </tr>\n",
       "    <tr>\n",
       "      <th>2</th>\n",
       "      <td>2021-06-03</td>\n",
       "      <td>585.0</td>\n",
       "      <td>81.0</td>\n",
       "      <td>49.0</td>\n",
       "      <td>146.0</td>\n",
       "      <td>8.0</td>\n",
       "      <td>66.0</td>\n",
       "      <td>4.0</td>\n",
       "      <td>8174.0</td>\n",
       "      <td>1938.0</td>\n",
       "      <td>...</td>\n",
       "      <td>NaN</td>\n",
       "      <td>NaN</td>\n",
       "      <td>NaN</td>\n",
       "      <td>NaN</td>\n",
       "      <td>NaN</td>\n",
       "      <td>NaN</td>\n",
       "      <td>NaN</td>\n",
       "      <td>NaN</td>\n",
       "      <td>NaN</td>\n",
       "      <td>NaN</td>\n",
       "    </tr>\n",
       "    <tr>\n",
       "      <th>3</th>\n",
       "      <td>2021-06-04</td>\n",
       "      <td>611.0</td>\n",
       "      <td>81.0</td>\n",
       "      <td>49.0</td>\n",
       "      <td>149.0</td>\n",
       "      <td>8.0</td>\n",
       "      <td>66.0</td>\n",
       "      <td>4.0</td>\n",
       "      <td>8228.0</td>\n",
       "      <td>1966.0</td>\n",
       "      <td>...</td>\n",
       "      <td>NaN</td>\n",
       "      <td>NaN</td>\n",
       "      <td>NaN</td>\n",
       "      <td>NaN</td>\n",
       "      <td>NaN</td>\n",
       "      <td>NaN</td>\n",
       "      <td>NaN</td>\n",
       "      <td>NaN</td>\n",
       "      <td>NaN</td>\n",
       "      <td>NaN</td>\n",
       "    </tr>\n",
       "    <tr>\n",
       "      <th>4</th>\n",
       "      <td>2021-06-05</td>\n",
       "      <td>648.0</td>\n",
       "      <td>80.0</td>\n",
       "      <td>48.0</td>\n",
       "      <td>153.0</td>\n",
       "      <td>8.0</td>\n",
       "      <td>68.0</td>\n",
       "      <td>3.0</td>\n",
       "      <td>8300.0</td>\n",
       "      <td>1980.0</td>\n",
       "      <td>...</td>\n",
       "      <td>NaN</td>\n",
       "      <td>NaN</td>\n",
       "      <td>NaN</td>\n",
       "      <td>NaN</td>\n",
       "      <td>NaN</td>\n",
       "      <td>NaN</td>\n",
       "      <td>NaN</td>\n",
       "      <td>NaN</td>\n",
       "      <td>NaN</td>\n",
       "      <td>NaN</td>\n",
       "    </tr>\n",
       "  </tbody>\n",
       "</table>\n",
       "<p>5 rows × 48 columns</p>\n",
       "</div>"
      ],
      "text/plain": [
       "phrase_id       date      0     1     2      3    4     5    6       7  \\\n",
       "0         2021-06-01  576.0  90.0  55.0  144.0  8.0  66.0  3.0  8115.0   \n",
       "1         2021-06-02  580.0  83.0  52.0  147.0  8.0  66.0  4.0  8092.0   \n",
       "2         2021-06-03  585.0  81.0  49.0  146.0  8.0  66.0  4.0  8174.0   \n",
       "3         2021-06-04  611.0  81.0  49.0  149.0  8.0  66.0  4.0  8228.0   \n",
       "4         2021-06-05  648.0  80.0  48.0  153.0  8.0  68.0  3.0  8300.0   \n",
       "\n",
       "phrase_id       8  ...  37  38  39  40  41  42  43  44  45  46  \n",
       "0          1940.0  ... NaN NaN NaN NaN NaN NaN NaN NaN NaN NaN  \n",
       "1          1929.0  ... NaN NaN NaN NaN NaN NaN NaN NaN NaN NaN  \n",
       "2          1938.0  ... NaN NaN NaN NaN NaN NaN NaN NaN NaN NaN  \n",
       "3          1966.0  ... NaN NaN NaN NaN NaN NaN NaN NaN NaN NaN  \n",
       "4          1980.0  ... NaN NaN NaN NaN NaN NaN NaN NaN NaN NaN  \n",
       "\n",
       "[5 rows x 48 columns]"
      ]
     },
     "execution_count": 23,
     "metadata": {},
     "output_type": "execute_result"
    }
   ],
   "source": [
    "pivot_phrases = shows.pivot_table(index='date',\n",
    "                                 columns='phrase_id',\n",
    "                                 values='shows',\n",
    "                                 aggfunc='sum').reset_index()\n",
    "pivot_phrases.head()"
   ]
  },
  {
   "cell_type": "code",
   "execution_count": 24,
   "id": "ba026a43",
   "metadata": {
    "scrolled": true
   },
   "outputs": [],
   "source": [
    "for x in pivot_phrases.columns:\n",
    "    if type(x) == int:\n",
    "        s = pivot_phrases[x].diff()\n",
    "        pivot_phrases[x] = s.mask(s.isna(), pivot_phrases[x])"
   ]
  },
  {
   "cell_type": "code",
   "execution_count": 25,
   "id": "e3f12c02",
   "metadata": {},
   "outputs": [
    {
     "data": {
      "text/html": [
       "<div>\n",
       "<style scoped>\n",
       "    .dataframe tbody tr th:only-of-type {\n",
       "        vertical-align: middle;\n",
       "    }\n",
       "\n",
       "    .dataframe tbody tr th {\n",
       "        vertical-align: top;\n",
       "    }\n",
       "\n",
       "    .dataframe thead th {\n",
       "        text-align: right;\n",
       "    }\n",
       "</style>\n",
       "<table border=\"1\" class=\"dataframe\">\n",
       "  <thead>\n",
       "    <tr style=\"text-align: right;\">\n",
       "      <th>phrase_id</th>\n",
       "      <th>date</th>\n",
       "      <th>0</th>\n",
       "      <th>1</th>\n",
       "      <th>2</th>\n",
       "      <th>3</th>\n",
       "      <th>4</th>\n",
       "      <th>5</th>\n",
       "      <th>6</th>\n",
       "      <th>7</th>\n",
       "      <th>8</th>\n",
       "      <th>...</th>\n",
       "      <th>37</th>\n",
       "      <th>38</th>\n",
       "      <th>39</th>\n",
       "      <th>40</th>\n",
       "      <th>41</th>\n",
       "      <th>42</th>\n",
       "      <th>43</th>\n",
       "      <th>44</th>\n",
       "      <th>45</th>\n",
       "      <th>46</th>\n",
       "    </tr>\n",
       "  </thead>\n",
       "  <tbody>\n",
       "    <tr>\n",
       "      <th>0</th>\n",
       "      <td>2021-06-01</td>\n",
       "      <td>576.0</td>\n",
       "      <td>90.0</td>\n",
       "      <td>55.0</td>\n",
       "      <td>144.0</td>\n",
       "      <td>8.0</td>\n",
       "      <td>66.0</td>\n",
       "      <td>3.0</td>\n",
       "      <td>8115.0</td>\n",
       "      <td>1940.0</td>\n",
       "      <td>...</td>\n",
       "      <td>NaN</td>\n",
       "      <td>NaN</td>\n",
       "      <td>NaN</td>\n",
       "      <td>NaN</td>\n",
       "      <td>NaN</td>\n",
       "      <td>NaN</td>\n",
       "      <td>NaN</td>\n",
       "      <td>NaN</td>\n",
       "      <td>NaN</td>\n",
       "      <td>NaN</td>\n",
       "    </tr>\n",
       "    <tr>\n",
       "      <th>1</th>\n",
       "      <td>2021-06-02</td>\n",
       "      <td>4.0</td>\n",
       "      <td>-7.0</td>\n",
       "      <td>-3.0</td>\n",
       "      <td>3.0</td>\n",
       "      <td>0.0</td>\n",
       "      <td>0.0</td>\n",
       "      <td>1.0</td>\n",
       "      <td>-23.0</td>\n",
       "      <td>-11.0</td>\n",
       "      <td>...</td>\n",
       "      <td>NaN</td>\n",
       "      <td>NaN</td>\n",
       "      <td>NaN</td>\n",
       "      <td>NaN</td>\n",
       "      <td>NaN</td>\n",
       "      <td>NaN</td>\n",
       "      <td>NaN</td>\n",
       "      <td>NaN</td>\n",
       "      <td>NaN</td>\n",
       "      <td>NaN</td>\n",
       "    </tr>\n",
       "    <tr>\n",
       "      <th>2</th>\n",
       "      <td>2021-06-03</td>\n",
       "      <td>5.0</td>\n",
       "      <td>-2.0</td>\n",
       "      <td>-3.0</td>\n",
       "      <td>-1.0</td>\n",
       "      <td>0.0</td>\n",
       "      <td>0.0</td>\n",
       "      <td>0.0</td>\n",
       "      <td>82.0</td>\n",
       "      <td>9.0</td>\n",
       "      <td>...</td>\n",
       "      <td>NaN</td>\n",
       "      <td>NaN</td>\n",
       "      <td>NaN</td>\n",
       "      <td>NaN</td>\n",
       "      <td>NaN</td>\n",
       "      <td>NaN</td>\n",
       "      <td>NaN</td>\n",
       "      <td>NaN</td>\n",
       "      <td>NaN</td>\n",
       "      <td>NaN</td>\n",
       "    </tr>\n",
       "    <tr>\n",
       "      <th>3</th>\n",
       "      <td>2021-06-04</td>\n",
       "      <td>26.0</td>\n",
       "      <td>0.0</td>\n",
       "      <td>0.0</td>\n",
       "      <td>3.0</td>\n",
       "      <td>0.0</td>\n",
       "      <td>0.0</td>\n",
       "      <td>0.0</td>\n",
       "      <td>54.0</td>\n",
       "      <td>28.0</td>\n",
       "      <td>...</td>\n",
       "      <td>NaN</td>\n",
       "      <td>NaN</td>\n",
       "      <td>NaN</td>\n",
       "      <td>NaN</td>\n",
       "      <td>NaN</td>\n",
       "      <td>NaN</td>\n",
       "      <td>NaN</td>\n",
       "      <td>NaN</td>\n",
       "      <td>NaN</td>\n",
       "      <td>NaN</td>\n",
       "    </tr>\n",
       "    <tr>\n",
       "      <th>4</th>\n",
       "      <td>2021-06-05</td>\n",
       "      <td>37.0</td>\n",
       "      <td>-1.0</td>\n",
       "      <td>-1.0</td>\n",
       "      <td>4.0</td>\n",
       "      <td>0.0</td>\n",
       "      <td>2.0</td>\n",
       "      <td>-1.0</td>\n",
       "      <td>72.0</td>\n",
       "      <td>14.0</td>\n",
       "      <td>...</td>\n",
       "      <td>NaN</td>\n",
       "      <td>NaN</td>\n",
       "      <td>NaN</td>\n",
       "      <td>NaN</td>\n",
       "      <td>NaN</td>\n",
       "      <td>NaN</td>\n",
       "      <td>NaN</td>\n",
       "      <td>NaN</td>\n",
       "      <td>NaN</td>\n",
       "      <td>NaN</td>\n",
       "    </tr>\n",
       "  </tbody>\n",
       "</table>\n",
       "<p>5 rows × 48 columns</p>\n",
       "</div>"
      ],
      "text/plain": [
       "phrase_id       date      0     1     2      3    4     5    6       7  \\\n",
       "0         2021-06-01  576.0  90.0  55.0  144.0  8.0  66.0  3.0  8115.0   \n",
       "1         2021-06-02    4.0  -7.0  -3.0    3.0  0.0   0.0  1.0   -23.0   \n",
       "2         2021-06-03    5.0  -2.0  -3.0   -1.0  0.0   0.0  0.0    82.0   \n",
       "3         2021-06-04   26.0   0.0   0.0    3.0  0.0   0.0  0.0    54.0   \n",
       "4         2021-06-05   37.0  -1.0  -1.0    4.0  0.0   2.0 -1.0    72.0   \n",
       "\n",
       "phrase_id       8  ...  37  38  39  40  41  42  43  44  45  46  \n",
       "0          1940.0  ... NaN NaN NaN NaN NaN NaN NaN NaN NaN NaN  \n",
       "1           -11.0  ... NaN NaN NaN NaN NaN NaN NaN NaN NaN NaN  \n",
       "2             9.0  ... NaN NaN NaN NaN NaN NaN NaN NaN NaN NaN  \n",
       "3            28.0  ... NaN NaN NaN NaN NaN NaN NaN NaN NaN NaN  \n",
       "4            14.0  ... NaN NaN NaN NaN NaN NaN NaN NaN NaN NaN  \n",
       "\n",
       "[5 rows x 48 columns]"
      ]
     },
     "execution_count": 25,
     "metadata": {},
     "output_type": "execute_result"
    }
   ],
   "source": [
    "pivot_phrases.head()"
   ]
  },
  {
   "cell_type": "markdown",
   "id": "1420d6b5",
   "metadata": {},
   "source": [
    "## Выявление взаимосвязей"
   ]
  },
  {
   "cell_type": "markdown",
   "id": "5fed2f8a",
   "metadata": {},
   "source": [
    "Рассчитаем коэффиценты корреляции для интересующих нас выборок. Проверим гипотезы о истинном коэффиценте корреляции для генеральной совокупности.\n",
    "\n",
    "Сформулируем нулевую и альтернативную гипотезы:\n",
    "\n",
    "Н0: нет различия между выборочным коэфф.корреляции и коэфф.корреляции генеральной совокупности,\n",
    "\n",
    "Н1: есть различие между выборочным коэфф.корреляции и коэфф.корреляции генеральной совокупности."
   ]
  },
  {
   "cell_type": "code",
   "execution_count": 26,
   "id": "e9a33626",
   "metadata": {},
   "outputs": [],
   "source": [
    "# для удобства расчетов коэффицентов корреляции реализуем функцию\n",
    "\n",
    "pivot_brand = pivot_brand.fillna(0)\n",
    "pivot_phrases = pivot_phrases.fillna(0)\n",
    "\n",
    "def calculate_corr(val1, val2):\n",
    "    alpha = 0.05\n",
    "    corr, p = pearsonr(val1, val2)\n",
    "    print('Коэффицент корреляции: ', round(corr, 3),', p-value = ', round(p, 3))\n",
    "    if p < alpha:\n",
    "        print('Отвергаем нулевую гипотезу: различия статистически значимы')\n",
    "    else:\n",
    "        print('Не получилось отвергнуть нулевую гипотезу: различия статистически не значимы')"
   ]
  },
  {
   "cell_type": "code",
   "execution_count": 27,
   "id": "dffd8831",
   "metadata": {
    "scrolled": true
   },
   "outputs": [
    {
     "name": "stdout",
     "output_type": "stream",
     "text": [
      "Между динамикой показов и обращениями по бренду 0:\n",
      "Коэффицент корреляции:  0.035 , p-value =  0.742\n",
      "Не получилось отвергнуть нулевую гипотезу: различия статистически не значимы\n",
      "\n",
      "Между динамикой показов и обращениями по бренду 1:\n",
      "Коэффицент корреляции:  0.269 , p-value =  0.009\n",
      "Отвергаем нулевую гипотезу: различия статистически значимы\n"
     ]
    }
   ],
   "source": [
    "print('Между динамикой показов и обращениями по бренду 0:')\n",
    "calculate_corr(pivot_brand['diff_shows_0'], pivot_brand['diff_comm_0'])\n",
    "print()\n",
    "print('Между динамикой показов и обращениями по бренду 1:')\n",
    "calculate_corr(pivot_brand['diff_shows_1'], pivot_brand['diff_comm_1'])"
   ]
  },
  {
   "cell_type": "markdown",
   "id": "07257e85",
   "metadata": {},
   "source": [
    "По рассчитанным коэффицентам  мы видим, что в разбивке по брендам коэффиценты корреляции немного различаются. Для бренда 0 наблюдается близкая к нулю корреляция, а для бренда 1 она равна 0.27. При этом для нулевого бренда статистический тест не выявил значимых различий, а для первого бренда есть основания отвергнуть нулевую гипотезу в пользу альтернативной.\n",
    "\n",
    "Далее рассчитаем коэффиценты корреляции для отдельных поисковых фраз и визуализируем их на графике."
   ]
  },
  {
   "cell_type": "code",
   "execution_count": 28,
   "id": "82d68cca",
   "metadata": {},
   "outputs": [],
   "source": [
    "corrs = {}\n",
    "pvalues = {}\n",
    "for x in pivot_phrases.columns:\n",
    "    if type(x) == int:\n",
    "        corrs[str(x)] = pearsonr(pivot_phrases[x], pivot_brand['diff_comm_0']+pivot_brand['diff_comm_1'])[0]\n",
    "        pvalues[str(x)] = pearsonr(pivot_phrases[x], pivot_brand['diff_comm_0']+pivot_brand['diff_comm_1'])[1]\n",
    "        "
   ]
  },
  {
   "cell_type": "code",
   "execution_count": 29,
   "id": "79305c3c",
   "metadata": {
    "scrolled": false
   },
   "outputs": [
    {
     "data": {
      "image/png": "[encoded data removed]",
      "text/plain": [
       "<Figure size 1152x504 with 1 Axes>"
      ]
     },
     "metadata": {
      "needs_background": "light"
     },
     "output_type": "display_data"
    }
   ],
   "source": [
    "fig = plt.figure(figsize=(16, 7))\n",
    "\n",
    "plt.plot(corrs.values(), linestyle='', marker='o')\n",
    "plt.plot(0)\n",
    "plt.axhline(y=0, color='gray', linestyle='--')\n",
    "plt.title('Корреляции динамики показов поисковых фраз с динамикой количесвта обращений')\n",
    "plt.show()\n"
   ]
  },
  {
   "cell_type": "code",
   "execution_count": 30,
   "id": "bf51fbdf",
   "metadata": {},
   "outputs": [
    {
     "data": {
      "image/png": "[encoded data removed]",
      "text/plain": [
       "<Figure size 1152x504 with 1 Axes>"
      ]
     },
     "metadata": {
      "needs_background": "light"
     },
     "output_type": "display_data"
    }
   ],
   "source": [
    "fig = plt.figure(figsize=(16, 7))\n",
    "\n",
    "plt.plot(pvalues.values(), linestyle='', marker='o')\n",
    "plt.plot(0)\n",
    "plt.axhline(y=0, color='gray', linestyle='--')\n",
    "plt.axhline(y=0.05, color='red')\n",
    "plt.title('Уровень значимости')\n",
    "plt.show()\n"
   ]
  },
  {
   "cell_type": "markdown",
   "id": "74d66999",
   "metadata": {},
   "source": [
    "По графику видим, что сильной корреляции ни по одной из фраз нет. В некоторых случаях наблюдается прямая, а в некоторых - обратная корреляция, но она всегда довольно слабая. По второму графику видно, что уровень значимости рассчитанных коэффицентов в некоторых случаях выше alpha = 0.05(красная линия), значит статистически значимых различий нет и нет оснований считать, что коэффиценты рассчитанный по этим выборкам и коэффиценты корреляции ген.совокупности значительно отличаются. В других же случаях статистические разлиичя значимы, а значит и коэффиценты корреляции выборок и  ген.совокупностей все же отличаются."
   ]
  },
  {
   "cell_type": "code",
   "execution_count": null,
   "id": "49758bf5",
   "metadata": {},
   "outputs": [],
   "source": []
  }
 ],
 "metadata": {
  "ExecuteTimeLog": [
   {
    "duration": 8337,
    "start_time": "2022-11-11T16:29:02.365Z"
   },
   {
    "duration": 56,
    "start_time": "2022-11-11T16:29:10.704Z"
   },
   {
    "duration": 11,
    "start_time": "2022-11-11T16:29:10.761Z"
   },
   {
    "duration": 22,
    "start_time": "2022-11-11T16:29:10.774Z"
   },
   {
    "duration": 17,
    "start_time": "2022-11-11T16:29:10.798Z"
   },
   {
    "duration": 11,
    "start_time": "2022-11-11T16:29:10.816Z"
   },
   {
    "duration": 10,
    "start_time": "2022-11-11T16:29:10.829Z"
   },
   {
    "duration": 34,
    "start_time": "2022-11-11T16:29:10.841Z"
   },
   {
    "duration": 11,
    "start_time": "2022-11-11T16:29:10.877Z"
   },
   {
    "duration": 14,
    "start_time": "2022-11-11T16:29:10.889Z"
   },
   {
    "duration": 16,
    "start_time": "2022-11-11T16:29:10.905Z"
   },
   {
    "duration": 17,
    "start_time": "2022-11-11T16:29:56.606Z"
   },
   {
    "duration": 16,
    "start_time": "2022-11-11T16:30:01.024Z"
   }
  ],
  "kernelspec": {
   "display_name": "Python 3 (ipykernel)",
   "language": "python",
   "name": "python3"
  },
  "language_info": {
   "codemirror_mode": {
    "name": "ipython",
    "version": 3
   },
   "file_extension": ".py",
   "mimetype": "text/x-python",
   "name": "python",
   "nbconvert_exporter": "python",
   "pygments_lexer": "ipython3",
   "version": "3.9.12"
  },
  "toc": {
   "base_numbering": 1,
   "nav_menu": {},
   "number_sections": false,
   "sideBar": true,
   "skip_h1_title": false,
   "title_cell": "Содержание",
   "title_sidebar": "Contents",
   "toc_cell": true,
   "toc_position": {
    "height": "calc(100% - 180px)",
    "left": "10px",
    "top": "150px",
    "width": "409.6px"
   },
   "toc_section_display": true,
   "toc_window_display": false
  }
 },
 "nbformat": 4,
 "nbformat_minor": 5
}
