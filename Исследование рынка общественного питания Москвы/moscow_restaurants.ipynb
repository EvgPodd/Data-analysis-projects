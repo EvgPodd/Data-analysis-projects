{
 "cells": [
  {
   "cell_type": "markdown",
   "metadata": {},
   "source": [
    "# Исследование рынка общественного питания Москвы\n",
    "\n",
    "\n",
    "\n"
   ]
  },
  {
   "cell_type": "markdown",
   "metadata": {},
   "source": [
    "В данном проекте проведем исследование рынка заведений общественного питания в Москве. Выявим его основные тенденции и особенности, а также попробуем выяснить, какие факторы нужно учесть для успешного открытия нового бизнеса.\n",
    "У нас в перспективе интересный проект - небольшое кафе, где гостей будут обслуживать роботы. На данном этапе перед нами стоит задача открыть такое заведение, которое будет популярно долгое время. Для исследования будем использовать открытые данные о заведениях общественного питания в Москве.\n"
   ]
  },
  {
   "cell_type": "markdown",
   "metadata": {},
   "source": [
    "## Загрузка данных\n"
   ]
  },
  {
   "cell_type": "markdown",
   "metadata": {},
   "source": [
    "Откроем имеющиеся файлы и изучим данные в них\n"
   ]
  },
  {
   "cell_type": "code",
   "execution_count": 1,
   "metadata": {
    "scrolled": true
   },
   "outputs": [],
   "source": [
    "import pandas as pd\n",
    "import seaborn as sns\n",
    "import matplotlib.pyplot as plt\n",
    "#  Подключаем модуль управления тиками:\n",
    "import matplotlib.ticker as ticker\n",
    "import numpy as np\n",
    "import datetime as dt\n",
    "import scipy.stats as stats\n",
    "from io import BytesIO\n",
    "import requests\n",
    "\n",
    "try:\n",
    "    data = pd.read_csv('rest_data.csv')\n",
    "except FileNotFoundError:\n",
    "    data = pd.read_csv('/datasets/rest_data.csv')\n",
    "    \n",
    "    \n"
   ]
  },
  {
   "cell_type": "markdown",
   "metadata": {},
   "source": [
    "Согласно описанию мы имеем следующие данные:\n",
    "\n",
    "<br>•\tid — идентификатор объекта;\n",
    "<br>•\tobject_name — название объекта общественного питания;\n",
    "<br>•\tchain — сетевой ресторан;\n",
    "<br>•\tobject_type — тип объекта общественного питания;\n",
    "<br>•\taddress — адрес;\n",
    "<br>•\tnumber — количество посадочных мест.\n",
    "\n",
    "\n"
   ]
  },
  {
   "cell_type": "code",
   "execution_count": 2,
   "metadata": {},
   "outputs": [
    {
     "name": "stdout",
     "output_type": "stream",
     "text": [
      "<class 'pandas.core.frame.DataFrame'>\n",
      "RangeIndex: 15366 entries, 0 to 15365\n",
      "Data columns (total 6 columns):\n",
      " #   Column       Non-Null Count  Dtype \n",
      "---  ------       --------------  ----- \n",
      " 0   id           15366 non-null  int64 \n",
      " 1   object_name  15366 non-null  object\n",
      " 2   chain        15366 non-null  object\n",
      " 3   object_type  15366 non-null  object\n",
      " 4   address      15366 non-null  object\n",
      " 5   number       15366 non-null  int64 \n",
      "dtypes: int64(2), object(4)\n",
      "memory usage: 720.4+ KB\n"
     ]
    }
   ],
   "source": [
    "data.info()"
   ]
  },
  {
   "cell_type": "markdown",
   "metadata": {},
   "source": [
    "Мы загрузили датасет и изучили общие сведения о нем. Пропусков в таблице нет, названия оформлены в snake_case и не требуют изменений."
   ]
  },
  {
   "cell_type": "markdown",
   "metadata": {},
   "source": [
    "## Предобработка данных\n",
    "\n",
    "Более подробно познакомимся с данными и подготовим их к дальнейшей работе."
   ]
  },
  {
   "cell_type": "code",
   "execution_count": 3,
   "metadata": {
    "scrolled": false
   },
   "outputs": [
    {
     "data": {
      "text/html": [
       "<div>\n",
       "<style scoped>\n",
       "    .dataframe tbody tr th:only-of-type {\n",
       "        vertical-align: middle;\n",
       "    }\n",
       "\n",
       "    .dataframe tbody tr th {\n",
       "        vertical-align: top;\n",
       "    }\n",
       "\n",
       "    .dataframe thead th {\n",
       "        text-align: right;\n",
       "    }\n",
       "</style>\n",
       "<table border=\"1\" class=\"dataframe\">\n",
       "  <thead>\n",
       "    <tr style=\"text-align: right;\">\n",
       "      <th></th>\n",
       "      <th>id</th>\n",
       "      <th>object_name</th>\n",
       "      <th>chain</th>\n",
       "      <th>object_type</th>\n",
       "      <th>address</th>\n",
       "      <th>number</th>\n",
       "    </tr>\n",
       "  </thead>\n",
       "  <tbody>\n",
       "    <tr>\n",
       "      <th>0</th>\n",
       "      <td>151635</td>\n",
       "      <td>СМЕТАНА</td>\n",
       "      <td>нет</td>\n",
       "      <td>кафе</td>\n",
       "      <td>город Москва, улица Егора Абакумова, дом 9</td>\n",
       "      <td>48</td>\n",
       "    </tr>\n",
       "    <tr>\n",
       "      <th>1</th>\n",
       "      <td>77874</td>\n",
       "      <td>Родник</td>\n",
       "      <td>нет</td>\n",
       "      <td>кафе</td>\n",
       "      <td>город Москва, улица Талалихина, дом 2/1, корпус 1</td>\n",
       "      <td>35</td>\n",
       "    </tr>\n",
       "    <tr>\n",
       "      <th>2</th>\n",
       "      <td>24309</td>\n",
       "      <td>Кафе «Академия»</td>\n",
       "      <td>нет</td>\n",
       "      <td>кафе</td>\n",
       "      <td>город Москва, Абельмановская улица, дом 6</td>\n",
       "      <td>95</td>\n",
       "    </tr>\n",
       "    <tr>\n",
       "      <th>3</th>\n",
       "      <td>21894</td>\n",
       "      <td>ПИЦЦЕТОРИЯ</td>\n",
       "      <td>да</td>\n",
       "      <td>кафе</td>\n",
       "      <td>город Москва, Абрамцевская улица, дом 1</td>\n",
       "      <td>40</td>\n",
       "    </tr>\n",
       "    <tr>\n",
       "      <th>4</th>\n",
       "      <td>119365</td>\n",
       "      <td>Кафе «Вишневая метель»</td>\n",
       "      <td>нет</td>\n",
       "      <td>кафе</td>\n",
       "      <td>город Москва, Абрамцевская улица, дом 9, корпус 1</td>\n",
       "      <td>50</td>\n",
       "    </tr>\n",
       "    <tr>\n",
       "      <th>5</th>\n",
       "      <td>27429</td>\n",
       "      <td>СТОЛ. ПРИ ГОУ СОШ № 1051</td>\n",
       "      <td>нет</td>\n",
       "      <td>столовая</td>\n",
       "      <td>город Москва, Абрамцевская улица, дом 15, корп...</td>\n",
       "      <td>240</td>\n",
       "    </tr>\n",
       "    <tr>\n",
       "      <th>6</th>\n",
       "      <td>148815</td>\n",
       "      <td>Брусника</td>\n",
       "      <td>да</td>\n",
       "      <td>кафе</td>\n",
       "      <td>город Москва, переулок Сивцев Вражек, дом 6/2</td>\n",
       "      <td>10</td>\n",
       "    </tr>\n",
       "    <tr>\n",
       "      <th>7</th>\n",
       "      <td>20957</td>\n",
       "      <td>Буфет МТУСИ</td>\n",
       "      <td>нет</td>\n",
       "      <td>столовая</td>\n",
       "      <td>город Москва, Авиамоторная улица, дом 8, строе...</td>\n",
       "      <td>90</td>\n",
       "    </tr>\n",
       "    <tr>\n",
       "      <th>8</th>\n",
       "      <td>20958</td>\n",
       "      <td>КПФ СЕМЬЯ-1</td>\n",
       "      <td>нет</td>\n",
       "      <td>столовая</td>\n",
       "      <td>город Москва, Авиамоторная улица, дом 8, строе...</td>\n",
       "      <td>150</td>\n",
       "    </tr>\n",
       "    <tr>\n",
       "      <th>9</th>\n",
       "      <td>28858</td>\n",
       "      <td>Столовая МТУСИ</td>\n",
       "      <td>нет</td>\n",
       "      <td>столовая</td>\n",
       "      <td>город Москва, Авиамоторная улица, дом 8, строе...</td>\n",
       "      <td>120</td>\n",
       "    </tr>\n",
       "    <tr>\n",
       "      <th>10</th>\n",
       "      <td>148595</td>\n",
       "      <td>Пекарня 24</td>\n",
       "      <td>нет</td>\n",
       "      <td>закусочная</td>\n",
       "      <td>город Москва, Авиамоторная улица, дом 47</td>\n",
       "      <td>5</td>\n",
       "    </tr>\n",
       "    <tr>\n",
       "      <th>11</th>\n",
       "      <td>23394</td>\n",
       "      <td>Гогиели</td>\n",
       "      <td>нет</td>\n",
       "      <td>кафе</td>\n",
       "      <td>город Москва, Авиамоторная улица, дом 49/1</td>\n",
       "      <td>24</td>\n",
       "    </tr>\n",
       "    <tr>\n",
       "      <th>12</th>\n",
       "      <td>28582</td>\n",
       "      <td>ШКОЛА 735</td>\n",
       "      <td>нет</td>\n",
       "      <td>столовая</td>\n",
       "      <td>город Москва, Авиамоторная улица, дом 51</td>\n",
       "      <td>140</td>\n",
       "    </tr>\n",
       "    <tr>\n",
       "      <th>13</th>\n",
       "      <td>22579</td>\n",
       "      <td>Алло Пицца</td>\n",
       "      <td>да</td>\n",
       "      <td>кафе</td>\n",
       "      <td>город Москва, улица Авиаторов, дом 14</td>\n",
       "      <td>32</td>\n",
       "    </tr>\n",
       "    <tr>\n",
       "      <th>14</th>\n",
       "      <td>23670</td>\n",
       "      <td>Гимназия 1542</td>\n",
       "      <td>нет</td>\n",
       "      <td>столовая</td>\n",
       "      <td>город Москва, улица Авиаторов, дом 16</td>\n",
       "      <td>270</td>\n",
       "    </tr>\n",
       "    <tr>\n",
       "      <th>15</th>\n",
       "      <td>23663</td>\n",
       "      <td>Школа 1011</td>\n",
       "      <td>нет</td>\n",
       "      <td>столовая</td>\n",
       "      <td>город Москва, улица Авиаторов, дом 18</td>\n",
       "      <td>320</td>\n",
       "    </tr>\n",
       "    <tr>\n",
       "      <th>16</th>\n",
       "      <td>144107</td>\n",
       "      <td>Суши Wok</td>\n",
       "      <td>да</td>\n",
       "      <td>предприятие быстрого обслуживания</td>\n",
       "      <td>город Москва, Азовская улица, дом 3</td>\n",
       "      <td>7</td>\n",
       "    </tr>\n",
       "    <tr>\n",
       "      <th>17</th>\n",
       "      <td>154654</td>\n",
       "      <td>Донер Кебаб</td>\n",
       "      <td>нет</td>\n",
       "      <td>предприятие быстрого обслуживания</td>\n",
       "      <td>город Москва, Азовская улица, дом 4</td>\n",
       "      <td>2</td>\n",
       "    </tr>\n",
       "    <tr>\n",
       "      <th>18</th>\n",
       "      <td>58565</td>\n",
       "      <td>Тануки</td>\n",
       "      <td>да</td>\n",
       "      <td>ресторан</td>\n",
       "      <td>город Москва, Большая Академическая улица, дом 65</td>\n",
       "      <td>160</td>\n",
       "    </tr>\n",
       "    <tr>\n",
       "      <th>19</th>\n",
       "      <td>153644</td>\n",
       "      <td>Американская Лаборатория Десертов</td>\n",
       "      <td>нет</td>\n",
       "      <td>кафе</td>\n",
       "      <td>город Москва, Филипповский переулок, дом 15/5</td>\n",
       "      <td>20</td>\n",
       "    </tr>\n",
       "  </tbody>\n",
       "</table>\n",
       "</div>"
      ],
      "text/plain": [
       "        id                        object_name chain  \\\n",
       "0   151635                            СМЕТАНА   нет   \n",
       "1    77874                             Родник   нет   \n",
       "2    24309                    Кафе «Академия»   нет   \n",
       "3    21894                         ПИЦЦЕТОРИЯ    да   \n",
       "4   119365             Кафе «Вишневая метель»   нет   \n",
       "5    27429           СТОЛ. ПРИ ГОУ СОШ № 1051   нет   \n",
       "6   148815                           Брусника    да   \n",
       "7    20957                        Буфет МТУСИ   нет   \n",
       "8    20958                        КПФ СЕМЬЯ-1   нет   \n",
       "9    28858                     Столовая МТУСИ   нет   \n",
       "10  148595                         Пекарня 24   нет   \n",
       "11   23394                            Гогиели   нет   \n",
       "12   28582                          ШКОЛА 735   нет   \n",
       "13   22579                         Алло Пицца    да   \n",
       "14   23670                      Гимназия 1542   нет   \n",
       "15   23663                         Школа 1011   нет   \n",
       "16  144107                           Суши Wok    да   \n",
       "17  154654                        Донер Кебаб   нет   \n",
       "18   58565                             Тануки    да   \n",
       "19  153644  Американская Лаборатория Десертов   нет   \n",
       "\n",
       "                          object_type  \\\n",
       "0                                кафе   \n",
       "1                                кафе   \n",
       "2                                кафе   \n",
       "3                                кафе   \n",
       "4                                кафе   \n",
       "5                            столовая   \n",
       "6                                кафе   \n",
       "7                            столовая   \n",
       "8                            столовая   \n",
       "9                            столовая   \n",
       "10                         закусочная   \n",
       "11                               кафе   \n",
       "12                           столовая   \n",
       "13                               кафе   \n",
       "14                           столовая   \n",
       "15                           столовая   \n",
       "16  предприятие быстрого обслуживания   \n",
       "17  предприятие быстрого обслуживания   \n",
       "18                           ресторан   \n",
       "19                               кафе   \n",
       "\n",
       "                                              address  number  \n",
       "0          город Москва, улица Егора Абакумова, дом 9      48  \n",
       "1   город Москва, улица Талалихина, дом 2/1, корпус 1      35  \n",
       "2           город Москва, Абельмановская улица, дом 6      95  \n",
       "3             город Москва, Абрамцевская улица, дом 1      40  \n",
       "4   город Москва, Абрамцевская улица, дом 9, корпус 1      50  \n",
       "5   город Москва, Абрамцевская улица, дом 15, корп...     240  \n",
       "6       город Москва, переулок Сивцев Вражек, дом 6/2      10  \n",
       "7   город Москва, Авиамоторная улица, дом 8, строе...      90  \n",
       "8   город Москва, Авиамоторная улица, дом 8, строе...     150  \n",
       "9   город Москва, Авиамоторная улица, дом 8, строе...     120  \n",
       "10           город Москва, Авиамоторная улица, дом 47       5  \n",
       "11         город Москва, Авиамоторная улица, дом 49/1      24  \n",
       "12           город Москва, Авиамоторная улица, дом 51     140  \n",
       "13              город Москва, улица Авиаторов, дом 14      32  \n",
       "14              город Москва, улица Авиаторов, дом 16     270  \n",
       "15              город Москва, улица Авиаторов, дом 18     320  \n",
       "16                город Москва, Азовская улица, дом 3       7  \n",
       "17                город Москва, Азовская улица, дом 4       2  \n",
       "18  город Москва, Большая Академическая улица, дом 65     160  \n",
       "19      город Москва, Филипповский переулок, дом 15/5      20  "
      ]
     },
     "execution_count": 3,
     "metadata": {},
     "output_type": "execute_result"
    }
   ],
   "source": [
    "data.head(20)"
   ]
  },
  {
   "cell_type": "markdown",
   "metadata": {},
   "source": [
    "Необходимо проверить датасет на наличие дубликатов и избавиться от них. Однако, при первом взгляде на таблицу в глаза сразу бросается \"разнообразие\" написания названий заведений. Это означает, что в таблице могут быть неявные дубликаты, которые сложно отыскать. Полностью эту проблему решить вряд ли удастся, однако можно хоть немного \"формализовать\" значения в этом столбце. Для этого приведем все строки к нижнему регистру с первой заглавной буквой (методом capitalize), удалим кавычки, точки, запятые - они могут создавать путаницу, заменим буквы Ё на Е."
   ]
  },
  {
   "cell_type": "code",
   "execution_count": 4,
   "metadata": {},
   "outputs": [],
   "source": [
    "# для начала напишем функцию, которая заменит все буквы 'ё' на 'е'\n",
    "def str_func(locality_name):\n",
    "    try:\n",
    "    \n",
    "        res = locality_name.lower() \n",
    "\n",
    "        # заменим Ё на Е\n",
    "        res = res.replace('ё', 'е')\n",
    "               \n",
    "        # удалим кавычки, точки, запятые \n",
    "        punctuation_dict = ['«','»','\"',\"'\",'.', ',']\n",
    "        for i in punctuation_dict:\n",
    "            res = res.replace(i, '')\n",
    "                                  \n",
    "        # удалим пробелы в начале и конце строки, если они есть, сделаем первую букву заглавной        \n",
    "        res = res.strip().capitalize()   \n",
    "    except:\n",
    "        res = 'name_undefind'\n",
    "    return res"
   ]
  },
  {
   "cell_type": "code",
   "execution_count": 5,
   "metadata": {
    "scrolled": false
   },
   "outputs": [
    {
     "data": {
      "text/html": [
       "<div>\n",
       "<style scoped>\n",
       "    .dataframe tbody tr th:only-of-type {\n",
       "        vertical-align: middle;\n",
       "    }\n",
       "\n",
       "    .dataframe tbody tr th {\n",
       "        vertical-align: top;\n",
       "    }\n",
       "\n",
       "    .dataframe thead th {\n",
       "        text-align: right;\n",
       "    }\n",
       "</style>\n",
       "<table border=\"1\" class=\"dataframe\">\n",
       "  <thead>\n",
       "    <tr style=\"text-align: right;\">\n",
       "      <th></th>\n",
       "      <th>id</th>\n",
       "      <th>object_name</th>\n",
       "      <th>chain</th>\n",
       "      <th>object_type</th>\n",
       "      <th>address</th>\n",
       "      <th>number</th>\n",
       "    </tr>\n",
       "  </thead>\n",
       "  <tbody>\n",
       "    <tr>\n",
       "      <th>0</th>\n",
       "      <td>151635</td>\n",
       "      <td>Сметана</td>\n",
       "      <td>нет</td>\n",
       "      <td>кафе</td>\n",
       "      <td>город Москва, улица Егора Абакумова, дом 9</td>\n",
       "      <td>48</td>\n",
       "    </tr>\n",
       "    <tr>\n",
       "      <th>1</th>\n",
       "      <td>77874</td>\n",
       "      <td>Родник</td>\n",
       "      <td>нет</td>\n",
       "      <td>кафе</td>\n",
       "      <td>город Москва, улица Талалихина, дом 2/1, корпус 1</td>\n",
       "      <td>35</td>\n",
       "    </tr>\n",
       "    <tr>\n",
       "      <th>2</th>\n",
       "      <td>24309</td>\n",
       "      <td>Кафе академия</td>\n",
       "      <td>нет</td>\n",
       "      <td>кафе</td>\n",
       "      <td>город Москва, Абельмановская улица, дом 6</td>\n",
       "      <td>95</td>\n",
       "    </tr>\n",
       "    <tr>\n",
       "      <th>3</th>\n",
       "      <td>21894</td>\n",
       "      <td>Пиццетория</td>\n",
       "      <td>да</td>\n",
       "      <td>кафе</td>\n",
       "      <td>город Москва, Абрамцевская улица, дом 1</td>\n",
       "      <td>40</td>\n",
       "    </tr>\n",
       "    <tr>\n",
       "      <th>4</th>\n",
       "      <td>119365</td>\n",
       "      <td>Кафе вишневая метель</td>\n",
       "      <td>нет</td>\n",
       "      <td>кафе</td>\n",
       "      <td>город Москва, Абрамцевская улица, дом 9, корпус 1</td>\n",
       "      <td>50</td>\n",
       "    </tr>\n",
       "    <tr>\n",
       "      <th>5</th>\n",
       "      <td>27429</td>\n",
       "      <td>Стол при гоу сош № 1051</td>\n",
       "      <td>нет</td>\n",
       "      <td>столовая</td>\n",
       "      <td>город Москва, Абрамцевская улица, дом 15, корп...</td>\n",
       "      <td>240</td>\n",
       "    </tr>\n",
       "    <tr>\n",
       "      <th>6</th>\n",
       "      <td>148815</td>\n",
       "      <td>Брусника</td>\n",
       "      <td>да</td>\n",
       "      <td>кафе</td>\n",
       "      <td>город Москва, переулок Сивцев Вражек, дом 6/2</td>\n",
       "      <td>10</td>\n",
       "    </tr>\n",
       "    <tr>\n",
       "      <th>7</th>\n",
       "      <td>20957</td>\n",
       "      <td>Буфет мтуси</td>\n",
       "      <td>нет</td>\n",
       "      <td>столовая</td>\n",
       "      <td>город Москва, Авиамоторная улица, дом 8, строе...</td>\n",
       "      <td>90</td>\n",
       "    </tr>\n",
       "    <tr>\n",
       "      <th>8</th>\n",
       "      <td>20958</td>\n",
       "      <td>Кпф семья-1</td>\n",
       "      <td>нет</td>\n",
       "      <td>столовая</td>\n",
       "      <td>город Москва, Авиамоторная улица, дом 8, строе...</td>\n",
       "      <td>150</td>\n",
       "    </tr>\n",
       "    <tr>\n",
       "      <th>9</th>\n",
       "      <td>28858</td>\n",
       "      <td>Столовая мтуси</td>\n",
       "      <td>нет</td>\n",
       "      <td>столовая</td>\n",
       "      <td>город Москва, Авиамоторная улица, дом 8, строе...</td>\n",
       "      <td>120</td>\n",
       "    </tr>\n",
       "  </tbody>\n",
       "</table>\n",
       "</div>"
      ],
      "text/plain": [
       "       id              object_name chain object_type  \\\n",
       "0  151635                  Сметана   нет        кафе   \n",
       "1   77874                   Родник   нет        кафе   \n",
       "2   24309            Кафе академия   нет        кафе   \n",
       "3   21894               Пиццетория    да        кафе   \n",
       "4  119365     Кафе вишневая метель   нет        кафе   \n",
       "5   27429  Стол при гоу сош № 1051   нет    столовая   \n",
       "6  148815                 Брусника    да        кафе   \n",
       "7   20957              Буфет мтуси   нет    столовая   \n",
       "8   20958              Кпф семья-1   нет    столовая   \n",
       "9   28858           Столовая мтуси   нет    столовая   \n",
       "\n",
       "                                             address  number  \n",
       "0         город Москва, улица Егора Абакумова, дом 9      48  \n",
       "1  город Москва, улица Талалихина, дом 2/1, корпус 1      35  \n",
       "2          город Москва, Абельмановская улица, дом 6      95  \n",
       "3            город Москва, Абрамцевская улица, дом 1      40  \n",
       "4  город Москва, Абрамцевская улица, дом 9, корпус 1      50  \n",
       "5  город Москва, Абрамцевская улица, дом 15, корп...     240  \n",
       "6      город Москва, переулок Сивцев Вражек, дом 6/2      10  \n",
       "7  город Москва, Авиамоторная улица, дом 8, строе...      90  \n",
       "8  город Москва, Авиамоторная улица, дом 8, строе...     150  \n",
       "9  город Москва, Авиамоторная улица, дом 8, строе...     120  "
      ]
     },
     "execution_count": 5,
     "metadata": {},
     "output_type": "execute_result"
    }
   ],
   "source": [
    "# применим к столбцу датафрейма\n",
    "data['object_name'] = data['object_name'].apply(str_func)\n",
    "data.head(10)"
   ]
  },
  {
   "cell_type": "code",
   "execution_count": 6,
   "metadata": {},
   "outputs": [
    {
     "data": {
      "text/html": [
       "<div>\n",
       "<style scoped>\n",
       "    .dataframe tbody tr th:only-of-type {\n",
       "        vertical-align: middle;\n",
       "    }\n",
       "\n",
       "    .dataframe tbody tr th {\n",
       "        vertical-align: top;\n",
       "    }\n",
       "\n",
       "    .dataframe thead th {\n",
       "        text-align: right;\n",
       "    }\n",
       "</style>\n",
       "<table border=\"1\" class=\"dataframe\">\n",
       "  <thead>\n",
       "    <tr style=\"text-align: right;\">\n",
       "      <th></th>\n",
       "      <th>id</th>\n",
       "      <th>object_name</th>\n",
       "      <th>chain</th>\n",
       "      <th>object_type</th>\n",
       "      <th>address</th>\n",
       "      <th>number</th>\n",
       "    </tr>\n",
       "  </thead>\n",
       "  <tbody>\n",
       "  </tbody>\n",
       "</table>\n",
       "</div>"
      ],
      "text/plain": [
       "Empty DataFrame\n",
       "Columns: [id, object_name, chain, object_type, address, number]\n",
       "Index: []"
      ]
     },
     "execution_count": 6,
     "metadata": {},
     "output_type": "execute_result"
    }
   ],
   "source": [
    "# проверим, для всех ли строк удалось провести преобразование\n",
    "data[data['object_name'] == 'name_undefind']"
   ]
  },
  {
   "cell_type": "markdown",
   "metadata": {},
   "source": [
    "Теперь поищем в таблице дубликаты. Сначала выполним поиск неуникальных id"
   ]
  },
  {
   "cell_type": "code",
   "execution_count": 7,
   "metadata": {
    "scrolled": true
   },
   "outputs": [
    {
     "data": {
      "text/plain": [
       "0"
      ]
     },
     "execution_count": 7,
     "metadata": {},
     "output_type": "execute_result"
    }
   ],
   "source": [
    "data['id'].duplicated().sum()"
   ]
  },
  {
   "cell_type": "markdown",
   "metadata": {},
   "source": [
    "Дубликатов по id нет - уже хорошо, ведь id по умолчанию должен быть уникальным. Исключим этот столбец и посмотрим, не могли ли попасть в таблицу одинаковые строки под разными id"
   ]
  },
  {
   "cell_type": "code",
   "execution_count": 8,
   "metadata": {
    "scrolled": true
   },
   "outputs": [
    {
     "data": {
      "text/plain": [
       "85"
      ]
     },
     "execution_count": 8,
     "metadata": {},
     "output_type": "execute_result"
    }
   ],
   "source": [
    "data[['object_name', 'chain', 'object_type', 'address', 'number']].duplicated().sum()"
   ]
  },
  {
   "cell_type": "markdown",
   "metadata": {},
   "source": [
    "Да, такие строки есть. Возможно, дубликаты в датасете появились из-за того, что данные в итоговую таблицу собирали из разных источников. Удалим найденные дубликаты."
   ]
  },
  {
   "cell_type": "code",
   "execution_count": 9,
   "metadata": {},
   "outputs": [],
   "source": [
    "data[['object_name', 'chain', 'object_type', 'address', 'number']] = data[['object_name', 'chain', 'object_type', 'address', 'number']].drop_duplicates()\n",
    "data = data[~data['object_name'].isna()]"
   ]
  },
  {
   "cell_type": "markdown",
   "metadata": {},
   "source": [
    "Далее пройдем по всем полям и изучим занчения в них."
   ]
  },
  {
   "cell_type": "code",
   "execution_count": 10,
   "metadata": {},
   "outputs": [
    {
     "data": {
      "text/plain": [
       "array(['кафе', 'столовая', 'закусочная',\n",
       "       'предприятие быстрого обслуживания', 'ресторан', 'кафетерий',\n",
       "       'буфет', 'бар', 'магазин (отдел кулинарии)'], dtype=object)"
      ]
     },
     "execution_count": 10,
     "metadata": {},
     "output_type": "execute_result"
    }
   ],
   "source": [
    "# тип заведения\n",
    "data['object_type'].unique()"
   ]
  },
  {
   "cell_type": "code",
   "execution_count": 11,
   "metadata": {},
   "outputs": [
    {
     "data": {
      "text/plain": [
       "array(['нет', 'да'], dtype=object)"
      ]
     },
     "execution_count": 11,
     "metadata": {},
     "output_type": "execute_result"
    }
   ],
   "source": [
    "# принадлежность к сетевому типу\n",
    "data['chain'].unique()"
   ]
  },
  {
   "cell_type": "markdown",
   "metadata": {},
   "source": [
    "Столбец chain имеет всего два значения - ресторан либо сетевой, либо нет. Изменим тип столбца на bool.\n"
   ]
  },
  {
   "cell_type": "code",
   "execution_count": 12,
   "metadata": {},
   "outputs": [],
   "source": [
    "data['chain'] = data['chain'].apply(lambda x: True if x == 'да' else False).astype('bool')"
   ]
  },
  {
   "cell_type": "code",
   "execution_count": 13,
   "metadata": {},
   "outputs": [
    {
     "data": {
      "text/html": [
       "<div>\n",
       "<style scoped>\n",
       "    .dataframe tbody tr th:only-of-type {\n",
       "        vertical-align: middle;\n",
       "    }\n",
       "\n",
       "    .dataframe tbody tr th {\n",
       "        vertical-align: top;\n",
       "    }\n",
       "\n",
       "    .dataframe thead th {\n",
       "        text-align: right;\n",
       "    }\n",
       "</style>\n",
       "<table border=\"1\" class=\"dataframe\">\n",
       "  <thead>\n",
       "    <tr style=\"text-align: right;\">\n",
       "      <th></th>\n",
       "      <th>id</th>\n",
       "      <th>object_name</th>\n",
       "      <th>chain</th>\n",
       "      <th>object_type</th>\n",
       "      <th>address</th>\n",
       "      <th>number</th>\n",
       "    </tr>\n",
       "  </thead>\n",
       "  <tbody>\n",
       "    <tr>\n",
       "      <th>0</th>\n",
       "      <td>151635</td>\n",
       "      <td>Сметана</td>\n",
       "      <td>False</td>\n",
       "      <td>кафе</td>\n",
       "      <td>город Москва, улица Егора Абакумова, дом 9</td>\n",
       "      <td>48.0</td>\n",
       "    </tr>\n",
       "    <tr>\n",
       "      <th>1</th>\n",
       "      <td>77874</td>\n",
       "      <td>Родник</td>\n",
       "      <td>False</td>\n",
       "      <td>кафе</td>\n",
       "      <td>город Москва, улица Талалихина, дом 2/1, корпус 1</td>\n",
       "      <td>35.0</td>\n",
       "    </tr>\n",
       "    <tr>\n",
       "      <th>2</th>\n",
       "      <td>24309</td>\n",
       "      <td>Кафе академия</td>\n",
       "      <td>False</td>\n",
       "      <td>кафе</td>\n",
       "      <td>город Москва, Абельмановская улица, дом 6</td>\n",
       "      <td>95.0</td>\n",
       "    </tr>\n",
       "    <tr>\n",
       "      <th>3</th>\n",
       "      <td>21894</td>\n",
       "      <td>Пиццетория</td>\n",
       "      <td>True</td>\n",
       "      <td>кафе</td>\n",
       "      <td>город Москва, Абрамцевская улица, дом 1</td>\n",
       "      <td>40.0</td>\n",
       "    </tr>\n",
       "    <tr>\n",
       "      <th>4</th>\n",
       "      <td>119365</td>\n",
       "      <td>Кафе вишневая метель</td>\n",
       "      <td>False</td>\n",
       "      <td>кафе</td>\n",
       "      <td>город Москва, Абрамцевская улица, дом 9, корпус 1</td>\n",
       "      <td>50.0</td>\n",
       "    </tr>\n",
       "    <tr>\n",
       "      <th>5</th>\n",
       "      <td>27429</td>\n",
       "      <td>Стол при гоу сош № 1051</td>\n",
       "      <td>False</td>\n",
       "      <td>столовая</td>\n",
       "      <td>город Москва, Абрамцевская улица, дом 15, корп...</td>\n",
       "      <td>240.0</td>\n",
       "    </tr>\n",
       "    <tr>\n",
       "      <th>6</th>\n",
       "      <td>148815</td>\n",
       "      <td>Брусника</td>\n",
       "      <td>True</td>\n",
       "      <td>кафе</td>\n",
       "      <td>город Москва, переулок Сивцев Вражек, дом 6/2</td>\n",
       "      <td>10.0</td>\n",
       "    </tr>\n",
       "    <tr>\n",
       "      <th>7</th>\n",
       "      <td>20957</td>\n",
       "      <td>Буфет мтуси</td>\n",
       "      <td>False</td>\n",
       "      <td>столовая</td>\n",
       "      <td>город Москва, Авиамоторная улица, дом 8, строе...</td>\n",
       "      <td>90.0</td>\n",
       "    </tr>\n",
       "    <tr>\n",
       "      <th>8</th>\n",
       "      <td>20958</td>\n",
       "      <td>Кпф семья-1</td>\n",
       "      <td>False</td>\n",
       "      <td>столовая</td>\n",
       "      <td>город Москва, Авиамоторная улица, дом 8, строе...</td>\n",
       "      <td>150.0</td>\n",
       "    </tr>\n",
       "    <tr>\n",
       "      <th>9</th>\n",
       "      <td>28858</td>\n",
       "      <td>Столовая мтуси</td>\n",
       "      <td>False</td>\n",
       "      <td>столовая</td>\n",
       "      <td>город Москва, Авиамоторная улица, дом 8, строе...</td>\n",
       "      <td>120.0</td>\n",
       "    </tr>\n",
       "  </tbody>\n",
       "</table>\n",
       "</div>"
      ],
      "text/plain": [
       "       id              object_name  chain object_type  \\\n",
       "0  151635                  Сметана  False        кафе   \n",
       "1   77874                   Родник  False        кафе   \n",
       "2   24309            Кафе академия  False        кафе   \n",
       "3   21894               Пиццетория   True        кафе   \n",
       "4  119365     Кафе вишневая метель  False        кафе   \n",
       "5   27429  Стол при гоу сош № 1051  False    столовая   \n",
       "6  148815                 Брусника   True        кафе   \n",
       "7   20957              Буфет мтуси  False    столовая   \n",
       "8   20958              Кпф семья-1  False    столовая   \n",
       "9   28858           Столовая мтуси  False    столовая   \n",
       "\n",
       "                                             address  number  \n",
       "0         город Москва, улица Егора Абакумова, дом 9    48.0  \n",
       "1  город Москва, улица Талалихина, дом 2/1, корпус 1    35.0  \n",
       "2          город Москва, Абельмановская улица, дом 6    95.0  \n",
       "3            город Москва, Абрамцевская улица, дом 1    40.0  \n",
       "4  город Москва, Абрамцевская улица, дом 9, корпус 1    50.0  \n",
       "5  город Москва, Абрамцевская улица, дом 15, корп...   240.0  \n",
       "6      город Москва, переулок Сивцев Вражек, дом 6/2    10.0  \n",
       "7  город Москва, Авиамоторная улица, дом 8, строе...    90.0  \n",
       "8  город Москва, Авиамоторная улица, дом 8, строе...   150.0  \n",
       "9  город Москва, Авиамоторная улица, дом 8, строе...   120.0  "
      ]
     },
     "execution_count": 13,
     "metadata": {},
     "output_type": "execute_result"
    }
   ],
   "source": [
    "data.head(10)"
   ]
  },
  {
   "cell_type": "markdown",
   "metadata": {},
   "source": [
    "Итак, мы провели необходимую подготовку данных их к анализу. Удалили дубликаты из таблицы, привели столбцы к подходящему типу. Теперь можно начинать исследование.\n"
   ]
  },
  {
   "cell_type": "markdown",
   "metadata": {},
   "source": [
    "## Исследовательский анализ данных"
   ]
  },
  {
   "cell_type": "markdown",
   "metadata": {},
   "source": [
    "<b><i>Исследуем соотношение видов объектов общественного питания по количеству. "
   ]
  },
  {
   "cell_type": "code",
   "execution_count": 14,
   "metadata": {
    "scrolled": true
   },
   "outputs": [
    {
     "data": {
      "text/plain": [
       "кафе                                 6071\n",
       "столовая                             2584\n",
       "ресторан                             2282\n",
       "предприятие быстрого обслуживания    1897\n",
       "бар                                   855\n",
       "буфет                                 576\n",
       "кафетерий                             395\n",
       "закусочная                            348\n",
       "магазин (отдел кулинарии)             273\n",
       "Name: object_type, dtype: int64"
      ]
     },
     "execution_count": 14,
     "metadata": {},
     "output_type": "execute_result"
    }
   ],
   "source": [
    "data['object_type'].value_counts()"
   ]
  },
  {
   "cell_type": "code",
   "execution_count": 15,
   "metadata": {
    "scrolled": false
   },
   "outputs": [
    {
     "data": {
      "image/png": "[encoded data removed]",
      "text/plain": [
       "<Figure size 576x360 with 1 Axes>"
      ]
     },
     "metadata": {
      "needs_background": "light"
     },
     "output_type": "display_data"
    }
   ],
   "source": [
    "fig, ax = plt.subplots(figsize=(8, 5))\n",
    "\n",
    "ax = data['object_type'].value_counts().plot(kind='barh', color= '#6495ED')\n",
    "\n",
    "ax.set_title('Распределение видов объектов общественного питания по количеству',\n",
    "             fontsize = 12,  fontweight='bold', loc = 'center', pad = 20\n",
    "            )\n",
    "\n",
    "#  Устанавливаем интервал основных делений:\n",
    "ax.xaxis.set_major_locator(ticker.MultipleLocator(500))\n",
    "ax.tick_params(axis='x', rotation=90)\n",
    "ax.grid(linestyle = ':')\n",
    "\n",
    "ax.set_xlabel('Количество заведений')\n",
    "plt.show()"
   ]
  },
  {
   "cell_type": "markdown",
   "metadata": {},
   "source": [
    "По графику мы видим, что больше всего заведений по типу -  кафе. Меньше всего - кафетериев, закусочных и отделов кулинарии в магазинах. Посмотрим, какую долю составляют заведения каждого типа. Построим круговую диаграмму."
   ]
  },
  {
   "cell_type": "code",
   "execution_count": 16,
   "metadata": {},
   "outputs": [
    {
     "data": {
      "text/html": [
       "<div>\n",
       "<style scoped>\n",
       "    .dataframe tbody tr th:only-of-type {\n",
       "        vertical-align: middle;\n",
       "    }\n",
       "\n",
       "    .dataframe tbody tr th {\n",
       "        vertical-align: top;\n",
       "    }\n",
       "\n",
       "    .dataframe thead th {\n",
       "        text-align: right;\n",
       "    }\n",
       "</style>\n",
       "<table border=\"1\" class=\"dataframe\">\n",
       "  <thead>\n",
       "    <tr style=\"text-align: right;\">\n",
       "      <th></th>\n",
       "      <th>object_type</th>\n",
       "      <th>id</th>\n",
       "    </tr>\n",
       "  </thead>\n",
       "  <tbody>\n",
       "    <tr>\n",
       "      <th>0</th>\n",
       "      <td>кафе</td>\n",
       "      <td>6071</td>\n",
       "    </tr>\n",
       "    <tr>\n",
       "      <th>1</th>\n",
       "      <td>столовая</td>\n",
       "      <td>2584</td>\n",
       "    </tr>\n",
       "    <tr>\n",
       "      <th>2</th>\n",
       "      <td>ресторан</td>\n",
       "      <td>2282</td>\n",
       "    </tr>\n",
       "    <tr>\n",
       "      <th>3</th>\n",
       "      <td>предприятие быстрого обслуживания</td>\n",
       "      <td>1897</td>\n",
       "    </tr>\n",
       "    <tr>\n",
       "      <th>4</th>\n",
       "      <td>бар</td>\n",
       "      <td>855</td>\n",
       "    </tr>\n",
       "    <tr>\n",
       "      <th>5</th>\n",
       "      <td>буфет</td>\n",
       "      <td>576</td>\n",
       "    </tr>\n",
       "    <tr>\n",
       "      <th>6</th>\n",
       "      <td>кафетерий</td>\n",
       "      <td>395</td>\n",
       "    </tr>\n",
       "    <tr>\n",
       "      <th>7</th>\n",
       "      <td>закусочная</td>\n",
       "      <td>348</td>\n",
       "    </tr>\n",
       "    <tr>\n",
       "      <th>8</th>\n",
       "      <td>магазин (отдел кулинарии)</td>\n",
       "      <td>273</td>\n",
       "    </tr>\n",
       "  </tbody>\n",
       "</table>\n",
       "</div>"
      ],
      "text/plain": [
       "                         object_type    id\n",
       "0                               кафе  6071\n",
       "1                           столовая  2584\n",
       "2                           ресторан  2282\n",
       "3  предприятие быстрого обслуживания  1897\n",
       "4                                бар   855\n",
       "5                              буфет   576\n",
       "6                          кафетерий   395\n",
       "7                         закусочная   348\n",
       "8          магазин (отдел кулинарии)   273"
      ]
     },
     "execution_count": 16,
     "metadata": {},
     "output_type": "execute_result"
    }
   ],
   "source": [
    "# для удобства соберем нужные данные в отдельную табличку\n",
    "object_type_pivot = data.pivot_table(index='object_type', values='id', aggfunc='count').sort_values(by='id', ascending=False).reset_index()\n",
    "object_type_pivot"
   ]
  },
  {
   "cell_type": "code",
   "execution_count": 17,
   "metadata": {
    "scrolled": true
   },
   "outputs": [
    {
     "data": {
      "text/plain": [
       "2447"
      ]
     },
     "execution_count": 17,
     "metadata": {},
     "output_type": "execute_result"
    }
   ],
   "source": [
    "# соберем малочисленные категории в общее значени other\n",
    "other = object_type_pivot['id'].tail(5).sum()\n",
    "other"
   ]
  },
  {
   "cell_type": "code",
   "execution_count": 18,
   "metadata": {
    "scrolled": true
   },
   "outputs": [
    {
     "name": "stderr",
     "output_type": "stream",
     "text": [
      "C:\\Users\\evges\\AppData\\Local\\Temp\\ipykernel_13884\\123412411.py:1: FutureWarning: The frame.append method is deprecated and will be removed from pandas in a future version. Use pandas.concat instead.\n",
      "  object_type_pivot = object_type_pivot.head(4).append({'object_type': 'остальные заведения', 'id': other}, ignore_index=True)\n"
     ]
    },
    {
     "data": {
      "text/html": [
       "<div>\n",
       "<style scoped>\n",
       "    .dataframe tbody tr th:only-of-type {\n",
       "        vertical-align: middle;\n",
       "    }\n",
       "\n",
       "    .dataframe tbody tr th {\n",
       "        vertical-align: top;\n",
       "    }\n",
       "\n",
       "    .dataframe thead th {\n",
       "        text-align: right;\n",
       "    }\n",
       "</style>\n",
       "<table border=\"1\" class=\"dataframe\">\n",
       "  <thead>\n",
       "    <tr style=\"text-align: right;\">\n",
       "      <th></th>\n",
       "      <th>object_type</th>\n",
       "      <th>id</th>\n",
       "    </tr>\n",
       "  </thead>\n",
       "  <tbody>\n",
       "    <tr>\n",
       "      <th>0</th>\n",
       "      <td>кафе</td>\n",
       "      <td>6071</td>\n",
       "    </tr>\n",
       "    <tr>\n",
       "      <th>1</th>\n",
       "      <td>столовая</td>\n",
       "      <td>2584</td>\n",
       "    </tr>\n",
       "    <tr>\n",
       "      <th>2</th>\n",
       "      <td>ресторан</td>\n",
       "      <td>2282</td>\n",
       "    </tr>\n",
       "    <tr>\n",
       "      <th>3</th>\n",
       "      <td>предприятие быстрого обслуживания</td>\n",
       "      <td>1897</td>\n",
       "    </tr>\n",
       "    <tr>\n",
       "      <th>4</th>\n",
       "      <td>остальные заведения</td>\n",
       "      <td>2447</td>\n",
       "    </tr>\n",
       "  </tbody>\n",
       "</table>\n",
       "</div>"
      ],
      "text/plain": [
       "                         object_type    id\n",
       "0                               кафе  6071\n",
       "1                           столовая  2584\n",
       "2                           ресторан  2282\n",
       "3  предприятие быстрого обслуживания  1897\n",
       "4                остальные заведения  2447"
      ]
     },
     "execution_count": 18,
     "metadata": {},
     "output_type": "execute_result"
    }
   ],
   "source": [
    "object_type_pivot = object_type_pivot.head(4).append({'object_type': 'остальные заведения', 'id': other}, ignore_index=True)\n",
    "object_type_pivot"
   ]
  },
  {
   "cell_type": "code",
   "execution_count": 19,
   "metadata": {},
   "outputs": [
    {
     "data": {
      "image/png": "[encoded data removed]",
      "text/plain": [
       "<Figure size 504x504 with 1 Axes>"
      ]
     },
     "metadata": {},
     "output_type": "display_data"
    }
   ],
   "source": [
    "fig, ax = plt.subplots(figsize=(7, 7))\n",
    "ax.set_title('Cоотношение видов объектов общественного питания по количеству',\n",
    "             fontsize = 14,  fontweight='bold', loc = 'center', pad = 20\n",
    "            )\n",
    "ax.pie(object_type_pivot['id'],\n",
    "       colors=sns.color_palette(\"coolwarm\"),\n",
    "       labels=object_type_pivot['object_type'],\n",
    "       autopct='%1.1f%%',\n",
    "       textprops={'fontsize': 14}\n",
    "       )\n",
    "\n",
    "plt.show()"
   ]
  },
  {
   "cell_type": "markdown",
   "metadata": {},
   "source": [
    "По круговой диаграмме видно, что почти 40% заведений общепита - это кафе. Еще по 12-17% приходится на столовые, рестораны и предприятия быстрого обслуживания, и оставшиеся 16% - на все остальное."
   ]
  },
  {
   "cell_type": "markdown",
   "metadata": {},
   "source": [
    "<b><i>Исследуем соотношение сетевых и несетевых заведений по количеству. </b></i>\n",
    "\n",
    "Выясним, для какого вида объекта общественного питания наиболее характерно сетевое распространение."
   ]
  },
  {
   "cell_type": "code",
   "execution_count": 20,
   "metadata": {
    "scrolled": true
   },
   "outputs": [
    {
     "data": {
      "text/plain": [
       "chain\n",
       "False    12317\n",
       "True      2964\n",
       "Name: id, dtype: int64"
      ]
     },
     "execution_count": 20,
     "metadata": {},
     "output_type": "execute_result"
    }
   ],
   "source": [
    "data.groupby('chain')['id'].count()"
   ]
  },
  {
   "cell_type": "code",
   "execution_count": 21,
   "metadata": {
    "scrolled": false
   },
   "outputs": [
    {
     "data": {
      "text/html": [
       "<div>\n",
       "<style scoped>\n",
       "    .dataframe tbody tr th:only-of-type {\n",
       "        vertical-align: middle;\n",
       "    }\n",
       "\n",
       "    .dataframe tbody tr th {\n",
       "        vertical-align: top;\n",
       "    }\n",
       "\n",
       "    .dataframe thead th {\n",
       "        text-align: right;\n",
       "    }\n",
       "</style>\n",
       "<table border=\"1\" class=\"dataframe\">\n",
       "  <thead>\n",
       "    <tr style=\"text-align: right;\">\n",
       "      <th></th>\n",
       "      <th>object_type</th>\n",
       "      <th>chain</th>\n",
       "      <th>id</th>\n",
       "    </tr>\n",
       "  </thead>\n",
       "  <tbody>\n",
       "    <tr>\n",
       "      <th>0</th>\n",
       "      <td>бар</td>\n",
       "      <td>False</td>\n",
       "      <td>818</td>\n",
       "    </tr>\n",
       "    <tr>\n",
       "      <th>1</th>\n",
       "      <td>бар</td>\n",
       "      <td>True</td>\n",
       "      <td>37</td>\n",
       "    </tr>\n",
       "    <tr>\n",
       "      <th>2</th>\n",
       "      <td>буфет</td>\n",
       "      <td>False</td>\n",
       "      <td>565</td>\n",
       "    </tr>\n",
       "    <tr>\n",
       "      <th>3</th>\n",
       "      <td>буфет</td>\n",
       "      <td>True</td>\n",
       "      <td>11</td>\n",
       "    </tr>\n",
       "    <tr>\n",
       "      <th>4</th>\n",
       "      <td>закусочная</td>\n",
       "      <td>False</td>\n",
       "      <td>292</td>\n",
       "    </tr>\n",
       "    <tr>\n",
       "      <th>5</th>\n",
       "      <td>закусочная</td>\n",
       "      <td>True</td>\n",
       "      <td>56</td>\n",
       "    </tr>\n",
       "    <tr>\n",
       "      <th>6</th>\n",
       "      <td>кафе</td>\n",
       "      <td>False</td>\n",
       "      <td>4675</td>\n",
       "    </tr>\n",
       "    <tr>\n",
       "      <th>7</th>\n",
       "      <td>кафе</td>\n",
       "      <td>True</td>\n",
       "      <td>1396</td>\n",
       "    </tr>\n",
       "    <tr>\n",
       "      <th>8</th>\n",
       "      <td>кафетерий</td>\n",
       "      <td>False</td>\n",
       "      <td>343</td>\n",
       "    </tr>\n",
       "    <tr>\n",
       "      <th>9</th>\n",
       "      <td>кафетерий</td>\n",
       "      <td>True</td>\n",
       "      <td>52</td>\n",
       "    </tr>\n",
       "    <tr>\n",
       "      <th>10</th>\n",
       "      <td>магазин (отдел кулинарии)</td>\n",
       "      <td>False</td>\n",
       "      <td>195</td>\n",
       "    </tr>\n",
       "    <tr>\n",
       "      <th>11</th>\n",
       "      <td>магазин (отдел кулинарии)</td>\n",
       "      <td>True</td>\n",
       "      <td>78</td>\n",
       "    </tr>\n",
       "    <tr>\n",
       "      <th>12</th>\n",
       "      <td>предприятие быстрого обслуживания</td>\n",
       "      <td>False</td>\n",
       "      <td>1109</td>\n",
       "    </tr>\n",
       "    <tr>\n",
       "      <th>13</th>\n",
       "      <td>предприятие быстрого обслуживания</td>\n",
       "      <td>True</td>\n",
       "      <td>788</td>\n",
       "    </tr>\n",
       "    <tr>\n",
       "      <th>14</th>\n",
       "      <td>ресторан</td>\n",
       "      <td>False</td>\n",
       "      <td>1739</td>\n",
       "    </tr>\n",
       "    <tr>\n",
       "      <th>15</th>\n",
       "      <td>ресторан</td>\n",
       "      <td>True</td>\n",
       "      <td>543</td>\n",
       "    </tr>\n",
       "    <tr>\n",
       "      <th>16</th>\n",
       "      <td>столовая</td>\n",
       "      <td>False</td>\n",
       "      <td>2581</td>\n",
       "    </tr>\n",
       "    <tr>\n",
       "      <th>17</th>\n",
       "      <td>столовая</td>\n",
       "      <td>True</td>\n",
       "      <td>3</td>\n",
       "    </tr>\n",
       "  </tbody>\n",
       "</table>\n",
       "</div>"
      ],
      "text/plain": [
       "                          object_type  chain    id\n",
       "0                                 бар  False   818\n",
       "1                                 бар   True    37\n",
       "2                               буфет  False   565\n",
       "3                               буфет   True    11\n",
       "4                          закусочная  False   292\n",
       "5                          закусочная   True    56\n",
       "6                                кафе  False  4675\n",
       "7                                кафе   True  1396\n",
       "8                           кафетерий  False   343\n",
       "9                           кафетерий   True    52\n",
       "10          магазин (отдел кулинарии)  False   195\n",
       "11          магазин (отдел кулинарии)   True    78\n",
       "12  предприятие быстрого обслуживания  False  1109\n",
       "13  предприятие быстрого обслуживания   True   788\n",
       "14                           ресторан  False  1739\n",
       "15                           ресторан   True   543\n",
       "16                           столовая  False  2581\n",
       "17                           столовая   True     3"
      ]
     },
     "execution_count": 21,
     "metadata": {},
     "output_type": "execute_result"
    }
   ],
   "source": [
    "object_type_chain_pivot =data.pivot_table(index=['object_type', 'chain'], \n",
    "                                         values='id', \n",
    "                                         aggfunc='count').reset_index()\n",
    "object_type_chain_pivot"
   ]
  },
  {
   "cell_type": "code",
   "execution_count": 22,
   "metadata": {},
   "outputs": [
    {
     "data": {
      "text/html": [
       "<div>\n",
       "<style scoped>\n",
       "    .dataframe tbody tr th:only-of-type {\n",
       "        vertical-align: middle;\n",
       "    }\n",
       "\n",
       "    .dataframe tbody tr th {\n",
       "        vertical-align: top;\n",
       "    }\n",
       "\n",
       "    .dataframe thead th {\n",
       "        text-align: right;\n",
       "    }\n",
       "</style>\n",
       "<table border=\"1\" class=\"dataframe\">\n",
       "  <thead>\n",
       "    <tr style=\"text-align: right;\">\n",
       "      <th></th>\n",
       "      <th>object_type</th>\n",
       "      <th>id</th>\n",
       "      <th>chain</th>\n",
       "      <th>not_chain</th>\n",
       "    </tr>\n",
       "  </thead>\n",
       "  <tbody>\n",
       "    <tr>\n",
       "      <th>0</th>\n",
       "      <td>бар</td>\n",
       "      <td>855</td>\n",
       "      <td>0.043275</td>\n",
       "      <td>0.956725</td>\n",
       "    </tr>\n",
       "    <tr>\n",
       "      <th>1</th>\n",
       "      <td>буфет</td>\n",
       "      <td>576</td>\n",
       "      <td>0.019097</td>\n",
       "      <td>0.980903</td>\n",
       "    </tr>\n",
       "    <tr>\n",
       "      <th>2</th>\n",
       "      <td>закусочная</td>\n",
       "      <td>348</td>\n",
       "      <td>0.160920</td>\n",
       "      <td>0.839080</td>\n",
       "    </tr>\n",
       "    <tr>\n",
       "      <th>3</th>\n",
       "      <td>кафе</td>\n",
       "      <td>6071</td>\n",
       "      <td>0.229946</td>\n",
       "      <td>0.770054</td>\n",
       "    </tr>\n",
       "    <tr>\n",
       "      <th>4</th>\n",
       "      <td>кафетерий</td>\n",
       "      <td>395</td>\n",
       "      <td>0.131646</td>\n",
       "      <td>0.868354</td>\n",
       "    </tr>\n",
       "    <tr>\n",
       "      <th>5</th>\n",
       "      <td>магазин (отдел кулинарии)</td>\n",
       "      <td>273</td>\n",
       "      <td>0.285714</td>\n",
       "      <td>0.714286</td>\n",
       "    </tr>\n",
       "    <tr>\n",
       "      <th>6</th>\n",
       "      <td>предприятие быстрого обслуживания</td>\n",
       "      <td>1897</td>\n",
       "      <td>0.415393</td>\n",
       "      <td>0.584607</td>\n",
       "    </tr>\n",
       "    <tr>\n",
       "      <th>7</th>\n",
       "      <td>ресторан</td>\n",
       "      <td>2282</td>\n",
       "      <td>0.237949</td>\n",
       "      <td>0.762051</td>\n",
       "    </tr>\n",
       "    <tr>\n",
       "      <th>8</th>\n",
       "      <td>столовая</td>\n",
       "      <td>2584</td>\n",
       "      <td>0.001161</td>\n",
       "      <td>0.998839</td>\n",
       "    </tr>\n",
       "  </tbody>\n",
       "</table>\n",
       "</div>"
      ],
      "text/plain": [
       "                         object_type    id     chain  not_chain\n",
       "0                                бар   855  0.043275   0.956725\n",
       "1                              буфет   576  0.019097   0.980903\n",
       "2                         закусочная   348  0.160920   0.839080\n",
       "3                               кафе  6071  0.229946   0.770054\n",
       "4                          кафетерий   395  0.131646   0.868354\n",
       "5          магазин (отдел кулинарии)   273  0.285714   0.714286\n",
       "6  предприятие быстрого обслуживания  1897  0.415393   0.584607\n",
       "7                           ресторан  2282  0.237949   0.762051\n",
       "8                           столовая  2584  0.001161   0.998839"
      ]
     },
     "execution_count": 22,
     "metadata": {},
     "output_type": "execute_result"
    }
   ],
   "source": [
    "stats = data.groupby('object_type', as_index=False).agg({'id': 'count', 'chain': 'mean'})\n",
    "stats['not_chain'] = 1 - stats['chain']\n",
    "stats"
   ]
  },
  {
   "cell_type": "code",
   "execution_count": 23,
   "metadata": {},
   "outputs": [
    {
     "data": {
      "image/png": "[encoded data removed]",
      "text/plain": [
       "<Figure size 1296x432 with 2 Axes>"
      ]
     },
     "metadata": {
      "needs_background": "light"
     },
     "output_type": "display_data"
    }
   ],
   "source": [
    "fig = plt.figure(figsize=(18, 6))\n",
    "\n",
    "ax1 = fig.add_subplot(1,2,2)\n",
    "ax2 = fig.add_subplot(1,2,1)\n",
    "\n",
    "ax1.set_title('Cоотношение сетевых и несетевых заведений по количеству',\n",
    "             fontsize = 14,  fontweight='bold', loc = 'center', pad = 20\n",
    "            )\n",
    "ax1.pie(data.groupby('chain')['id'].count(),\n",
    "       colors=sns.color_palette(\"coolwarm\"),\n",
    "       autopct='%1.1f%%',\n",
    "       textprops={'fontsize': 14}\n",
    "       )\n",
    "ax1.legend(['Несетевые заведения', 'Сетевые заведения'],\n",
    "           loc='best',\n",
    "           prop={'size': 12}           \n",
    "          )\n",
    "\n",
    "\n",
    "ax2.set_title('Cоотношение сетевых и несетевых заведений по типу объектов',\n",
    "             fontsize = 14,  fontweight='bold', loc = 'center', pad = 20\n",
    "            )\n",
    "ax2 = sns.barplot(y='object_type', \n",
    "                  x='id', \n",
    "                  data=data,\n",
    "                  estimator=len,\n",
    "                  hue='chain',\n",
    "                  palette=sns.color_palette(\"coolwarm\")\n",
    "                                   \n",
    "                 )\n",
    "ax2.set_ylabel('')\n",
    "ax2.set_xlabel('Количество заведений')\n",
    "#  Устанавливаем интервал основных делений:\n",
    "ax2.xaxis.set_major_locator(ticker.MultipleLocator(500))\n",
    "ax2.legend(prop={'size': 16})\n",
    "ax2.tick_params(axis='y', labelsize=12)\n",
    "ax2.tick_params(axis='x', labelsize=14)\n",
    "ax2.grid(linestyle = ':')\n",
    "plt.show()"
   ]
  },
  {
   "cell_type": "markdown",
   "metadata": {},
   "source": [
    "По круговой диаграмме видно, что более 80% заведений - несетевые. В разбивке по типам объектов можно заметить, что сетевые заведения чаще всего бывают кафе, ресторанами или предприятиями быстрого обслуживания. В то же время в остальных категориях общепита сетевые объекты встречаются лишь в единичных случаях."
   ]
  },
  {
   "cell_type": "markdown",
   "metadata": {},
   "source": [
    "Дополнительно <b><i>исследуем сетевые заведения</b></i> и попробуем ответить на вопрос, что для них более характерно: много заведений с небольшим числом посадочных мест в каждом или мало заведений с большим количеством посадочных мест? "
   ]
  },
  {
   "cell_type": "code",
   "execution_count": 24,
   "metadata": {
    "scrolled": true
   },
   "outputs": [
    {
     "data": {
      "text/html": [
       "<div>\n",
       "<style scoped>\n",
       "    .dataframe tbody tr th:only-of-type {\n",
       "        vertical-align: middle;\n",
       "    }\n",
       "\n",
       "    .dataframe tbody tr th {\n",
       "        vertical-align: top;\n",
       "    }\n",
       "\n",
       "    .dataframe thead th {\n",
       "        text-align: right;\n",
       "    }\n",
       "</style>\n",
       "<table border=\"1\" class=\"dataframe\">\n",
       "  <thead>\n",
       "    <tr style=\"text-align: right;\">\n",
       "      <th></th>\n",
       "      <th>Название сети</th>\n",
       "      <th>Количество заведений</th>\n",
       "      <th>Среднее число мест</th>\n",
       "    </tr>\n",
       "  </thead>\n",
       "  <tbody>\n",
       "    <tr>\n",
       "      <th>0</th>\n",
       "      <td>Beverly hills diner</td>\n",
       "      <td>1</td>\n",
       "      <td>88.000000</td>\n",
       "    </tr>\n",
       "    <tr>\n",
       "      <th>1</th>\n",
       "      <td>Bierloga</td>\n",
       "      <td>1</td>\n",
       "      <td>75.000000</td>\n",
       "    </tr>\n",
       "    <tr>\n",
       "      <th>2</th>\n",
       "      <td>Black &amp; white</td>\n",
       "      <td>1</td>\n",
       "      <td>40.000000</td>\n",
       "    </tr>\n",
       "    <tr>\n",
       "      <th>3</th>\n",
       "      <td>Bocconcino</td>\n",
       "      <td>3</td>\n",
       "      <td>66.666667</td>\n",
       "    </tr>\n",
       "    <tr>\n",
       "      <th>4</th>\n",
       "      <td>Boobo</td>\n",
       "      <td>1</td>\n",
       "      <td>46.000000</td>\n",
       "    </tr>\n",
       "  </tbody>\n",
       "</table>\n",
       "</div>"
      ],
      "text/plain": [
       "         Название сети  Количество заведений  Среднее число мест\n",
       "0  Beverly hills diner                     1           88.000000\n",
       "1             Bierloga                     1           75.000000\n",
       "2        Black & white                     1           40.000000\n",
       "3           Bocconcino                     3           66.666667\n",
       "4                Boobo                     1           46.000000"
      ]
     },
     "execution_count": 24,
     "metadata": {},
     "output_type": "execute_result"
    }
   ],
   "source": [
    "# Построим сводную таблицу по сетям с количеством заведений и средним числом мест\n",
    "chain_true_pivot = data[data['chain']].pivot_table(index='object_name', \n",
    "                                values= 'number', \n",
    "                                aggfunc=['count', 'mean']).reset_index()\n",
    "chain_true_pivot.columns=['Название сети','Количество заведений','Среднее число мест']\n",
    "chain_true_pivot.head()"
   ]
  },
  {
   "cell_type": "code",
   "execution_count": 25,
   "metadata": {
    "scrolled": true
   },
   "outputs": [
    {
     "data": {
      "text/plain": [
       "(304, 553)"
      ]
     },
     "execution_count": 25,
     "metadata": {},
     "output_type": "execute_result"
    }
   ],
   "source": [
    "chain_true_pivot[chain_true_pivot['Количество заведений'] == 1].shape[0], chain_true_pivot.shape[0]"
   ]
  },
  {
   "cell_type": "markdown",
   "metadata": {},
   "source": [
    "Больше половины заведений, отмеченных как сетевые имеют всего по одному заведению в сети. Возможно, остальные их объекты не попали в нашу базу, т.к расположены в других городах, или находятся на стадии открытия. В любом случае, этот момент следует учесть в дальнейшем анализе."
   ]
  },
  {
   "cell_type": "code",
   "execution_count": 26,
   "metadata": {},
   "outputs": [],
   "source": [
    "#chain_true_pivot = chain_true_pivot[chain_true_pivot['Количество заведений'] > 1]"
   ]
  },
  {
   "cell_type": "code",
   "execution_count": 27,
   "metadata": {},
   "outputs": [
    {
     "data": {
      "image/png": "[encoded data removed]",
      "text/plain": [
       "<Figure size 864x504 with 1 Axes>"
      ]
     },
     "metadata": {
      "needs_background": "light"
     },
     "output_type": "display_data"
    }
   ],
   "source": [
    "fig, ax = plt.subplots(figsize=(12, 7))\n",
    "\n",
    "ax = sns.scatterplot(data=chain_true_pivot,\n",
    "                     x='Среднее число мест',\n",
    "                     y='Количество заведений',\n",
    "                     palette=sns.color_palette(\"coolwarm\"),\n",
    "                     \n",
    "                    )\n",
    "ax.set_title('Распределение сетей по количеству объектов и среднему числу мест',\n",
    "             fontsize = 12,  fontweight='bold', loc = 'center', pad = 20\n",
    "            )\n",
    "plt.show()"
   ]
  },
  {
   "cell_type": "markdown",
   "metadata": {},
   "source": [
    "По графику видно, что большинство сетей имеют до 20 объектов и до 150 посадочных мест. Попробуем разобраться сколько в цифрах - много/мало объектов, много/мало мест. Для этого рассчитаем медианные значения по столбцам. Однако, мы помним, что больше половины сетей в таблице имеют по 1 объекту - исключим их из расчетов."
   ]
  },
  {
   "cell_type": "code",
   "execution_count": 28,
   "metadata": {
    "scrolled": true
   },
   "outputs": [
    {
     "name": "stderr",
     "output_type": "stream",
     "text": [
      "C:\\Users\\evges\\AppData\\Local\\Temp\\ipykernel_13884\\1997390887.py:1: FutureWarning: Dropping of nuisance columns in DataFrame reductions (with 'numeric_only=None') is deprecated; in a future version this will raise TypeError.  Select only valid columns before calling the reduction.\n",
      "  chain_true_pivot[chain_true_pivot['Количество заведений'] > 1].median(), chain_true_pivot['Среднее число мест'].median()\n"
     ]
    },
    {
     "data": {
      "text/plain": [
       "(Количество заведений     4.0\n",
       " Среднее число мест      44.0\n",
       " dtype: float64,\n",
       " 44.56666666666667)"
      ]
     },
     "execution_count": 28,
     "metadata": {},
     "output_type": "execute_result"
    }
   ],
   "source": [
    "chain_true_pivot[chain_true_pivot['Количество заведений'] > 1].median(), chain_true_pivot['Среднее число мест'].median()"
   ]
  },
  {
   "cell_type": "markdown",
   "metadata": {},
   "source": [
    "Примем медианные значения за границы разделения на мало и много и добавим в сводную таблицу столбец с соответствующей категорией каждой сети. Затем отразим эти изменения на графике."
   ]
  },
  {
   "cell_type": "code",
   "execution_count": 29,
   "metadata": {},
   "outputs": [],
   "source": [
    "def func(row):\n",
    "    res = ''\n",
    "    if row['Количество заведений'] < 4:\n",
    "        res += 'Мало заведений, '\n",
    "    else:\n",
    "        res += 'Много заведений, '\n",
    "    if row['Среднее число мест'] < 44: \n",
    "        res += 'мало мест'\n",
    "    else:\n",
    "        res += 'много мест'\n",
    "    \n",
    "    return res"
   ]
  },
  {
   "cell_type": "code",
   "execution_count": 30,
   "metadata": {},
   "outputs": [
    {
     "data": {
      "text/html": [
       "<div>\n",
       "<style scoped>\n",
       "    .dataframe tbody tr th:only-of-type {\n",
       "        vertical-align: middle;\n",
       "    }\n",
       "\n",
       "    .dataframe tbody tr th {\n",
       "        vertical-align: top;\n",
       "    }\n",
       "\n",
       "    .dataframe thead th {\n",
       "        text-align: right;\n",
       "    }\n",
       "</style>\n",
       "<table border=\"1\" class=\"dataframe\">\n",
       "  <thead>\n",
       "    <tr style=\"text-align: right;\">\n",
       "      <th></th>\n",
       "      <th>Название сети</th>\n",
       "      <th>Количество заведений</th>\n",
       "      <th>Среднее число мест</th>\n",
       "      <th>Категория</th>\n",
       "    </tr>\n",
       "  </thead>\n",
       "  <tbody>\n",
       "    <tr>\n",
       "      <th>0</th>\n",
       "      <td>Beverly hills diner</td>\n",
       "      <td>1</td>\n",
       "      <td>88.000000</td>\n",
       "      <td>Мало заведений, много мест</td>\n",
       "    </tr>\n",
       "    <tr>\n",
       "      <th>1</th>\n",
       "      <td>Bierloga</td>\n",
       "      <td>1</td>\n",
       "      <td>75.000000</td>\n",
       "      <td>Мало заведений, много мест</td>\n",
       "    </tr>\n",
       "    <tr>\n",
       "      <th>2</th>\n",
       "      <td>Black &amp; white</td>\n",
       "      <td>1</td>\n",
       "      <td>40.000000</td>\n",
       "      <td>Мало заведений, мало мест</td>\n",
       "    </tr>\n",
       "    <tr>\n",
       "      <th>3</th>\n",
       "      <td>Bocconcino</td>\n",
       "      <td>3</td>\n",
       "      <td>66.666667</td>\n",
       "      <td>Мало заведений, много мест</td>\n",
       "    </tr>\n",
       "    <tr>\n",
       "      <th>4</th>\n",
       "      <td>Boobo</td>\n",
       "      <td>1</td>\n",
       "      <td>46.000000</td>\n",
       "      <td>Мало заведений, много мест</td>\n",
       "    </tr>\n",
       "  </tbody>\n",
       "</table>\n",
       "</div>"
      ],
      "text/plain": [
       "         Название сети  Количество заведений  Среднее число мест  \\\n",
       "0  Beverly hills diner                     1           88.000000   \n",
       "1             Bierloga                     1           75.000000   \n",
       "2        Black & white                     1           40.000000   \n",
       "3           Bocconcino                     3           66.666667   \n",
       "4                Boobo                     1           46.000000   \n",
       "\n",
       "                    Категория  \n",
       "0  Мало заведений, много мест  \n",
       "1  Мало заведений, много мест  \n",
       "2   Мало заведений, мало мест  \n",
       "3  Мало заведений, много мест  \n",
       "4  Мало заведений, много мест  "
      ]
     },
     "execution_count": 30,
     "metadata": {},
     "output_type": "execute_result"
    }
   ],
   "source": [
    "chain_true_pivot['Категория'] = chain_true_pivot.apply(func,  axis=1) \n",
    "chain_true_pivot.head()"
   ]
  },
  {
   "cell_type": "code",
   "execution_count": 31,
   "metadata": {
    "scrolled": false
   },
   "outputs": [
    {
     "data": {
      "image/png": "[encoded data removed]",
      "text/plain": [
       "<Figure size 1296x432 with 2 Axes>"
      ]
     },
     "metadata": {
      "needs_background": "light"
     },
     "output_type": "display_data"
    }
   ],
   "source": [
    "fig = plt.figure(figsize=(18, 6))\n",
    "fig.suptitle('Распределение сетей по количеству объектов и среднему числу мест',\n",
    "             fontsize = 12,  fontweight='bold'\n",
    "            )\n",
    "\n",
    "ax2 = fig.add_subplot(1,2,1)\n",
    "ax1 = fig.add_subplot(1,2,2)\n",
    "\n",
    "ax1 = sns.scatterplot(data=chain_true_pivot,\n",
    "                     x='Среднее число мест',\n",
    "                     y='Количество заведений',\n",
    "                     palette= {'Мало заведений, много мест':'#0000CD',\n",
    "                               'Мало заведений, мало мест':'#ADD8E6',\n",
    "                               'Много заведений, много мест':'#ADD8E6',\n",
    "                               'Много заведений, мало мест': '#2F4F4F'},\n",
    "                     hue='Категория'\n",
    "                \n",
    "                    \n",
    "                    )\n",
    "\n",
    "ax2.pie(chain_true_pivot.groupby('Категория')['Название сети'].count(),\n",
    "       colors=sns.color_palette(\"coolwarm\"),\n",
    "       autopct='%1.1f%%',\n",
    "       textprops={'fontsize': 14}        \n",
    "       )\n",
    "\n",
    "ax2.legend(chain_true_pivot['Категория'].unique())\n",
    "plt.show()"
   ]
  },
  {
   "cell_type": "markdown",
   "metadata": {},
   "source": [
    "По круговой диаграмме хорошо видно, что сетей в категории \"Мало заведений, много мест\" гораздо больше, чем \"Много заведений, мало мест\". Кроме того, характеристика \"Мало заведений, мало мест\" тоже является довольно характерной для сетевых общепитов."
   ]
  },
  {
   "cell_type": "markdown",
   "metadata": {},
   "source": [
    "Для каждого вида объекта общественного питания <i><b>опишем среднее количество посадочных мест</i></b> и выясним, какой тип заведений предоставляет в среднем самое большое количество посадочных мест."
   ]
  },
  {
   "cell_type": "code",
   "execution_count": 32,
   "metadata": {},
   "outputs": [
    {
     "data": {
      "text/plain": [
       "object_type\n",
       "бар                                   43.533333\n",
       "буфет                                 51.425347\n",
       "закусочная                             7.847701\n",
       "кафе                                  39.785703\n",
       "кафетерий                              9.184810\n",
       "магазин (отдел кулинарии)              5.589744\n",
       "предприятие быстрого обслуживания     20.808645\n",
       "ресторан                              96.884750\n",
       "столовая                             130.337848\n",
       "Name: number, dtype: float64"
      ]
     },
     "execution_count": 32,
     "metadata": {},
     "output_type": "execute_result"
    }
   ],
   "source": [
    "data.groupby('object_type')['number'].mean()"
   ]
  },
  {
   "cell_type": "code",
   "execution_count": 33,
   "metadata": {},
   "outputs": [
    {
     "data": {
      "image/png": "[encoded data removed]",
      "text/plain": [
       "<Figure size 720x360 with 1 Axes>"
      ]
     },
     "metadata": {
      "needs_background": "light"
     },
     "output_type": "display_data"
    }
   ],
   "source": [
    "fig, ax = plt.subplots(figsize=(10, 5))\n",
    "ax.set_title('Среднее количество посадочных мест для разных типов объектов общественного питания',\n",
    "             fontsize = 14,  fontweight='bold', loc = 'center', pad = 30\n",
    "            )\n",
    "ax = sns.barplot(y='object_type', \n",
    "                  x='number', \n",
    "                  data=data,\n",
    "                  estimator=np.mean,\n",
    "                  palette= ['#6495ED']\n",
    "                                   \n",
    "                 )\n",
    "ax.set_ylabel('')\n",
    "ax.set_xlabel('Среднее количество посадочных мест', fontsize = 12)\n",
    "#  Устанавливаем интервал основных делений:\n",
    "ax.xaxis.set_major_locator(ticker.MultipleLocator(10))\n",
    "ax.tick_params(axis='y', labelsize=12)\n",
    "ax.tick_params(axis='x', labelsize=14)\n",
    "ax.grid(linestyle = ':')\n",
    "plt.show()"
   ]
  },
  {
   "cell_type": "markdown",
   "metadata": {},
   "source": [
    "По столбчатой диаграмме видно, что больше всего посадочных мест бывает в столовых и ресторанах - в эту категорию попали столовые при школах и других гос.учреждениях. Меньше всего - в отделах кулинарии в магазинах или в закусочных. Тут тоже все логично, люди берут еду с собой. Для самой распространной категории общепита - кафе - среднее количество посадочных мест - около 40."
   ]
  },
  {
   "cell_type": "markdown",
   "metadata": {},
   "source": [
    "Выделим в отдельный столбец информацию об улице из столбца address. Автоматизируем этот процесс при помощи функции парсинга."
   ]
  },
  {
   "cell_type": "code",
   "execution_count": 34,
   "metadata": {},
   "outputs": [
    {
     "data": {
      "text/html": [
       "<div>\n",
       "<style scoped>\n",
       "    .dataframe tbody tr th:only-of-type {\n",
       "        vertical-align: middle;\n",
       "    }\n",
       "\n",
       "    .dataframe tbody tr th {\n",
       "        vertical-align: top;\n",
       "    }\n",
       "\n",
       "    .dataframe thead th {\n",
       "        text-align: right;\n",
       "    }\n",
       "</style>\n",
       "<table border=\"1\" class=\"dataframe\">\n",
       "  <thead>\n",
       "    <tr style=\"text-align: right;\">\n",
       "      <th></th>\n",
       "      <th>id</th>\n",
       "      <th>object_name</th>\n",
       "      <th>chain</th>\n",
       "      <th>object_type</th>\n",
       "      <th>address</th>\n",
       "      <th>number</th>\n",
       "      <th>street</th>\n",
       "    </tr>\n",
       "  </thead>\n",
       "  <tbody>\n",
       "    <tr>\n",
       "      <th>0</th>\n",
       "      <td>151635</td>\n",
       "      <td>Сметана</td>\n",
       "      <td>False</td>\n",
       "      <td>кафе</td>\n",
       "      <td>город Москва, улица Егора Абакумова, дом 9</td>\n",
       "      <td>48.0</td>\n",
       "      <td>улица Егора Абакумова</td>\n",
       "    </tr>\n",
       "    <tr>\n",
       "      <th>1</th>\n",
       "      <td>77874</td>\n",
       "      <td>Родник</td>\n",
       "      <td>False</td>\n",
       "      <td>кафе</td>\n",
       "      <td>город Москва, улица Талалихина, дом 2/1, корпус 1</td>\n",
       "      <td>35.0</td>\n",
       "      <td>улица Талалихина</td>\n",
       "    </tr>\n",
       "    <tr>\n",
       "      <th>2</th>\n",
       "      <td>24309</td>\n",
       "      <td>Кафе академия</td>\n",
       "      <td>False</td>\n",
       "      <td>кафе</td>\n",
       "      <td>город Москва, Абельмановская улица, дом 6</td>\n",
       "      <td>95.0</td>\n",
       "      <td>Абельмановская улица</td>\n",
       "    </tr>\n",
       "    <tr>\n",
       "      <th>3</th>\n",
       "      <td>21894</td>\n",
       "      <td>Пиццетория</td>\n",
       "      <td>True</td>\n",
       "      <td>кафе</td>\n",
       "      <td>город Москва, Абрамцевская улица, дом 1</td>\n",
       "      <td>40.0</td>\n",
       "      <td>Абрамцевская улица</td>\n",
       "    </tr>\n",
       "    <tr>\n",
       "      <th>4</th>\n",
       "      <td>119365</td>\n",
       "      <td>Кафе вишневая метель</td>\n",
       "      <td>False</td>\n",
       "      <td>кафе</td>\n",
       "      <td>город Москва, Абрамцевская улица, дом 9, корпус 1</td>\n",
       "      <td>50.0</td>\n",
       "      <td>Абрамцевская улица</td>\n",
       "    </tr>\n",
       "  </tbody>\n",
       "</table>\n",
       "</div>"
      ],
      "text/plain": [
       "       id           object_name  chain object_type  \\\n",
       "0  151635               Сметана  False        кафе   \n",
       "1   77874                Родник  False        кафе   \n",
       "2   24309         Кафе академия  False        кафе   \n",
       "3   21894            Пиццетория   True        кафе   \n",
       "4  119365  Кафе вишневая метель  False        кафе   \n",
       "\n",
       "                                             address  number  \\\n",
       "0         город Москва, улица Егора Абакумова, дом 9    48.0   \n",
       "1  город Москва, улица Талалихина, дом 2/1, корпус 1    35.0   \n",
       "2          город Москва, Абельмановская улица, дом 6    95.0   \n",
       "3            город Москва, Абрамцевская улица, дом 1    40.0   \n",
       "4  город Москва, Абрамцевская улица, дом 9, корпус 1    50.0   \n",
       "\n",
       "                  street  \n",
       "0  улица Егора Абакумова  \n",
       "1       улица Талалихина  \n",
       "2   Абельмановская улица  \n",
       "3     Абрамцевская улица  \n",
       "4     Абрамцевская улица  "
      ]
     },
     "execution_count": 34,
     "metadata": {},
     "output_type": "execute_result"
    }
   ],
   "source": [
    "data['street'] = data['address'].apply(lambda x: x.split(', ')[1])\n",
    "data.head()"
   ]
  },
  {
   "cell_type": "markdown",
   "metadata": {},
   "source": [
    "Построим график <i><b>топ-10 улиц по количеству объектов общественного питания</i></b>. "
   ]
  },
  {
   "cell_type": "code",
   "execution_count": 35,
   "metadata": {
    "scrolled": false
   },
   "outputs": [
    {
     "data": {
      "text/html": [
       "<div>\n",
       "<style scoped>\n",
       "    .dataframe tbody tr th:only-of-type {\n",
       "        vertical-align: middle;\n",
       "    }\n",
       "\n",
       "    .dataframe tbody tr th {\n",
       "        vertical-align: top;\n",
       "    }\n",
       "\n",
       "    .dataframe thead th {\n",
       "        text-align: right;\n",
       "    }\n",
       "</style>\n",
       "<table border=\"1\" class=\"dataframe\">\n",
       "  <thead>\n",
       "    <tr style=\"text-align: right;\">\n",
       "      <th></th>\n",
       "      <th>street</th>\n",
       "      <th>id</th>\n",
       "    </tr>\n",
       "  </thead>\n",
       "  <tbody>\n",
       "    <tr>\n",
       "      <th>1334</th>\n",
       "      <td>город Зеленоград</td>\n",
       "      <td>232</td>\n",
       "    </tr>\n",
       "    <tr>\n",
       "      <th>1452</th>\n",
       "      <td>проспект Мира</td>\n",
       "      <td>203</td>\n",
       "    </tr>\n",
       "    <tr>\n",
       "      <th>993</th>\n",
       "      <td>Профсоюзная улица</td>\n",
       "      <td>181</td>\n",
       "    </tr>\n",
       "    <tr>\n",
       "      <th>683</th>\n",
       "      <td>Ленинградский проспект</td>\n",
       "      <td>170</td>\n",
       "    </tr>\n",
       "    <tr>\n",
       "      <th>979</th>\n",
       "      <td>Пресненская набережная</td>\n",
       "      <td>167</td>\n",
       "    </tr>\n",
       "    <tr>\n",
       "      <th>407</th>\n",
       "      <td>Варшавское шоссе</td>\n",
       "      <td>161</td>\n",
       "    </tr>\n",
       "    <tr>\n",
       "      <th>686</th>\n",
       "      <td>Ленинский проспект</td>\n",
       "      <td>147</td>\n",
       "    </tr>\n",
       "    <tr>\n",
       "      <th>1419</th>\n",
       "      <td>поселение Сосенское</td>\n",
       "      <td>137</td>\n",
       "    </tr>\n",
       "    <tr>\n",
       "      <th>1449</th>\n",
       "      <td>проспект Вернадского</td>\n",
       "      <td>128</td>\n",
       "    </tr>\n",
       "    <tr>\n",
       "      <th>674</th>\n",
       "      <td>Кутузовский проспект</td>\n",
       "      <td>114</td>\n",
       "    </tr>\n",
       "  </tbody>\n",
       "</table>\n",
       "</div>"
      ],
      "text/plain": [
       "                      street   id\n",
       "1334        город Зеленоград  232\n",
       "1452           проспект Мира  203\n",
       "993        Профсоюзная улица  181\n",
       "683   Ленинградский проспект  170\n",
       "979   Пресненская набережная  167\n",
       "407         Варшавское шоссе  161\n",
       "686       Ленинский проспект  147\n",
       "1419     поселение Сосенское  137\n",
       "1449    проспект Вернадского  128\n",
       "674     Кутузовский проспект  114"
      ]
     },
     "execution_count": 35,
     "metadata": {},
     "output_type": "execute_result"
    }
   ],
   "source": [
    "top_10_streets = data.pivot_table(index='street', \n",
    "                                  values='id', \n",
    "                                  aggfunc='count').reset_index().sort_values(by='id', ascending=False)\n",
    "top_10_streets.head(10)"
   ]
  },
  {
   "cell_type": "code",
   "execution_count": 36,
   "metadata": {},
   "outputs": [
    {
     "data": {
      "text/html": [
       "<div>\n",
       "<style scoped>\n",
       "    .dataframe tbody tr th:only-of-type {\n",
       "        vertical-align: middle;\n",
       "    }\n",
       "\n",
       "    .dataframe tbody tr th {\n",
       "        vertical-align: top;\n",
       "    }\n",
       "\n",
       "    .dataframe thead th {\n",
       "        text-align: right;\n",
       "    }\n",
       "</style>\n",
       "<table border=\"1\" class=\"dataframe\">\n",
       "  <thead>\n",
       "    <tr style=\"text-align: right;\">\n",
       "      <th></th>\n",
       "      <th>id</th>\n",
       "      <th>object_name</th>\n",
       "      <th>chain</th>\n",
       "      <th>object_type</th>\n",
       "      <th>address</th>\n",
       "      <th>number</th>\n",
       "      <th>street</th>\n",
       "    </tr>\n",
       "  </thead>\n",
       "  <tbody>\n",
       "    <tr>\n",
       "      <th>1386</th>\n",
       "      <td>22331</td>\n",
       "      <td>Столовая миэт</td>\n",
       "      <td>False</td>\n",
       "      <td>столовая</td>\n",
       "      <td>город Москва, город Зеленоград, улица Юности, ...</td>\n",
       "      <td>56.0</td>\n",
       "      <td>город Зеленоград</td>\n",
       "    </tr>\n",
       "    <tr>\n",
       "      <th>1405</th>\n",
       "      <td>20199</td>\n",
       "      <td>Это</td>\n",
       "      <td>False</td>\n",
       "      <td>кафе</td>\n",
       "      <td>город Москва, город Зеленоград, корпус 401</td>\n",
       "      <td>35.0</td>\n",
       "      <td>город Зеленоград</td>\n",
       "    </tr>\n",
       "    <tr>\n",
       "      <th>1406</th>\n",
       "      <td>68113</td>\n",
       "      <td>Френдс</td>\n",
       "      <td>False</td>\n",
       "      <td>кафе</td>\n",
       "      <td>город Москва, город Зеленоград, корпус 435</td>\n",
       "      <td>34.0</td>\n",
       "      <td>город Зеленоград</td>\n",
       "    </tr>\n",
       "    <tr>\n",
       "      <th>1407</th>\n",
       "      <td>20105</td>\n",
       "      <td>Кафе граф монте-кристо</td>\n",
       "      <td>False</td>\n",
       "      <td>кафе</td>\n",
       "      <td>город Москва, город Зеленоград, корпус 436</td>\n",
       "      <td>40.0</td>\n",
       "      <td>город Зеленоград</td>\n",
       "    </tr>\n",
       "    <tr>\n",
       "      <th>1408</th>\n",
       "      <td>22982</td>\n",
       "      <td>Альфорно</td>\n",
       "      <td>False</td>\n",
       "      <td>кафе</td>\n",
       "      <td>город Москва, город Зеленоград, корпус 438</td>\n",
       "      <td>49.0</td>\n",
       "      <td>город Зеленоград</td>\n",
       "    </tr>\n",
       "  </tbody>\n",
       "</table>\n",
       "</div>"
      ],
      "text/plain": [
       "         id             object_name  chain object_type  \\\n",
       "1386  22331           Столовая миэт  False    столовая   \n",
       "1405  20199                     Это  False        кафе   \n",
       "1406  68113                  Френдс  False        кафе   \n",
       "1407  20105  Кафе граф монте-кристо  False        кафе   \n",
       "1408  22982                Альфорно  False        кафе   \n",
       "\n",
       "                                                address  number  \\\n",
       "1386  город Москва, город Зеленоград, улица Юности, ...    56.0   \n",
       "1405         город Москва, город Зеленоград, корпус 401    35.0   \n",
       "1406         город Москва, город Зеленоград, корпус 435    34.0   \n",
       "1407         город Москва, город Зеленоград, корпус 436    40.0   \n",
       "1408         город Москва, город Зеленоград, корпус 438    49.0   \n",
       "\n",
       "                street  \n",
       "1386  город Зеленоград  \n",
       "1405  город Зеленоград  \n",
       "1406  город Зеленоград  \n",
       "1407  город Зеленоград  \n",
       "1408  город Зеленоград  "
      ]
     },
     "execution_count": 36,
     "metadata": {},
     "output_type": "execute_result"
    }
   ],
   "source": [
    "data[data['street'] == 'город Зеленоград'].head()"
   ]
  },
  {
   "cell_type": "markdown",
   "metadata": {},
   "source": [
    "В результате парсинга в таблицу ошибочно попал город Зеленоград. Исключим его из таблицы и построим график топ-10 улиц "
   ]
  },
  {
   "cell_type": "code",
   "execution_count": 37,
   "metadata": {},
   "outputs": [
    {
     "data": {
      "text/html": [
       "<div>\n",
       "<style scoped>\n",
       "    .dataframe tbody tr th:only-of-type {\n",
       "        vertical-align: middle;\n",
       "    }\n",
       "\n",
       "    .dataframe tbody tr th {\n",
       "        vertical-align: top;\n",
       "    }\n",
       "\n",
       "    .dataframe thead th {\n",
       "        text-align: right;\n",
       "    }\n",
       "</style>\n",
       "<table border=\"1\" class=\"dataframe\">\n",
       "  <thead>\n",
       "    <tr style=\"text-align: right;\">\n",
       "      <th></th>\n",
       "      <th>street</th>\n",
       "      <th>id</th>\n",
       "    </tr>\n",
       "  </thead>\n",
       "  <tbody>\n",
       "    <tr>\n",
       "      <th>1452</th>\n",
       "      <td>проспект Мира</td>\n",
       "      <td>203</td>\n",
       "    </tr>\n",
       "    <tr>\n",
       "      <th>993</th>\n",
       "      <td>Профсоюзная улица</td>\n",
       "      <td>181</td>\n",
       "    </tr>\n",
       "    <tr>\n",
       "      <th>683</th>\n",
       "      <td>Ленинградский проспект</td>\n",
       "      <td>170</td>\n",
       "    </tr>\n",
       "    <tr>\n",
       "      <th>979</th>\n",
       "      <td>Пресненская набережная</td>\n",
       "      <td>167</td>\n",
       "    </tr>\n",
       "    <tr>\n",
       "      <th>407</th>\n",
       "      <td>Варшавское шоссе</td>\n",
       "      <td>161</td>\n",
       "    </tr>\n",
       "    <tr>\n",
       "      <th>686</th>\n",
       "      <td>Ленинский проспект</td>\n",
       "      <td>147</td>\n",
       "    </tr>\n",
       "    <tr>\n",
       "      <th>1419</th>\n",
       "      <td>поселение Сосенское</td>\n",
       "      <td>137</td>\n",
       "    </tr>\n",
       "    <tr>\n",
       "      <th>1449</th>\n",
       "      <td>проспект Вернадского</td>\n",
       "      <td>128</td>\n",
       "    </tr>\n",
       "    <tr>\n",
       "      <th>674</th>\n",
       "      <td>Кутузовский проспект</td>\n",
       "      <td>114</td>\n",
       "    </tr>\n",
       "    <tr>\n",
       "      <th>600</th>\n",
       "      <td>Каширское шоссе</td>\n",
       "      <td>111</td>\n",
       "    </tr>\n",
       "  </tbody>\n",
       "</table>\n",
       "</div>"
      ],
      "text/plain": [
       "                      street   id\n",
       "1452           проспект Мира  203\n",
       "993        Профсоюзная улица  181\n",
       "683   Ленинградский проспект  170\n",
       "979   Пресненская набережная  167\n",
       "407         Варшавское шоссе  161\n",
       "686       Ленинский проспект  147\n",
       "1419     поселение Сосенское  137\n",
       "1449    проспект Вернадского  128\n",
       "674     Кутузовский проспект  114\n",
       "600          Каширское шоссе  111"
      ]
     },
     "execution_count": 37,
     "metadata": {},
     "output_type": "execute_result"
    }
   ],
   "source": [
    "top_10_streets = top_10_streets[top_10_streets['street'] != 'город Зеленоград'].head(10)\n",
    "top_10_streets"
   ]
  },
  {
   "cell_type": "code",
   "execution_count": 38,
   "metadata": {},
   "outputs": [
    {
     "data": {
      "image/png": "[encoded data removed]",
      "text/plain": [
       "<Figure size 864x432 with 1 Axes>"
      ]
     },
     "metadata": {
      "needs_background": "light"
     },
     "output_type": "display_data"
    }
   ],
   "source": [
    "fig, ax = plt.subplots(figsize=(12, 6))\n",
    "ax.set_title('ТОП-10 улиц с самым большим количеством заведений общественного питания',\n",
    "             fontsize = 14,  fontweight='bold', loc = 'center', pad = 30\n",
    "            )\n",
    "ax = sns.barplot(x='street', \n",
    "                  y='id', \n",
    "                  data=top_10_streets,\n",
    "                  palette= ['#6495ED']\n",
    "                                   \n",
    "                 )\n",
    "ax.set_ylabel('Количество заведений', fontsize = 12)\n",
    "ax.set_xlabel('Название улицы', fontsize = 12)\n",
    "\n",
    "ax.tick_params(axis='y', labelsize=12)\n",
    "ax.tick_params(axis='x', labelsize=12, rotation=90)\n",
    "\n",
    "plt.show()"
   ]
  },
  {
   "cell_type": "markdown",
   "metadata": {},
   "source": [
    "Воспользуемся внешней информацией и ответим на вопрос — <b><i>в каких районах Москвы находятся эти улицы?</b></i> Загрузим датасет с платными парковками с Портала открытых данных правительства Москвы. В этом датасете найдем необходимую информацию по соответствию улиц и районов."
   ]
  },
  {
   "cell_type": "code",
   "execution_count": 39,
   "metadata": {},
   "outputs": [
    {
     "data": {
      "text/html": [
       "<div>\n",
       "<style scoped>\n",
       "    .dataframe tbody tr th:only-of-type {\n",
       "        vertical-align: middle;\n",
       "    }\n",
       "\n",
       "    .dataframe tbody tr th {\n",
       "        vertical-align: top;\n",
       "    }\n",
       "\n",
       "    .dataframe thead th {\n",
       "        text-align: right;\n",
       "    }\n",
       "</style>\n",
       "<table border=\"1\" class=\"dataframe\">\n",
       "  <thead>\n",
       "    <tr style=\"text-align: right;\">\n",
       "      <th></th>\n",
       "      <th>ID</th>\n",
       "      <th>ParkingName</th>\n",
       "      <th>ParkingZoneNumber</th>\n",
       "      <th>global_id</th>\n",
       "      <th>AdmArea</th>\n",
       "      <th>District</th>\n",
       "      <th>Address</th>\n",
       "      <th>CarCapacity</th>\n",
       "      <th>CarCapacityDisabled</th>\n",
       "      <th>Tariffs</th>\n",
       "      <th>Longitude_WGS84</th>\n",
       "      <th>Latitude_WGS84</th>\n",
       "      <th>Coordinates</th>\n",
       "      <th>geodata_center</th>\n",
       "      <th>geoarea</th>\n",
       "    </tr>\n",
       "  </thead>\n",
       "  <tbody>\n",
       "    <tr>\n",
       "      <th>0</th>\n",
       "      <td>Локальный идентификатор</td>\n",
       "      <td>Наименование парковки</td>\n",
       "      <td>Номер парковочной зоны</td>\n",
       "      <td>global_id</td>\n",
       "      <td>Административный округ</td>\n",
       "      <td>Район</td>\n",
       "      <td>Адрес</td>\n",
       "      <td>Общее количество парковочных мест</td>\n",
       "      <td>Количество парковочных мест для инвалидов</td>\n",
       "      <td>Тарифы</td>\n",
       "      <td>Долгота в WGS-84</td>\n",
       "      <td>Широта в WGS-84</td>\n",
       "      <td>Координаты линии</td>\n",
       "      <td>geodata_center</td>\n",
       "      <td>geoarea</td>\n",
       "    </tr>\n",
       "    <tr>\n",
       "      <th>1</th>\n",
       "      <td>15906</td>\n",
       "      <td>Парковка №0302 (2)</td>\n",
       "      <td>0302</td>\n",
       "      <td>1032914612</td>\n",
       "      <td>Центральный административный округ</td>\n",
       "      <td>район Арбат</td>\n",
       "      <td>город Москва, улица Арбат, дом 54/2, строение 1</td>\n",
       "      <td>5</td>\n",
       "      <td>5</td>\n",
       "      <td>TariffType:дифференцированный тариф\\nTimeRange...</td>\n",
       "      <td>37.583607</td>\n",
       "      <td>55.747075</td>\n",
       "      <td>55.746957,37.583203|55.747193,37.584011</td>\n",
       "      <td>{\"coordinates\":[37.584011,55.747193],\"type\":\"P...</td>\n",
       "      <td>NaN</td>\n",
       "    </tr>\n",
       "    <tr>\n",
       "      <th>2</th>\n",
       "      <td>15908</td>\n",
       "      <td>Парковка №0302 (3)</td>\n",
       "      <td>0302</td>\n",
       "      <td>1032914613</td>\n",
       "      <td>Центральный административный округ</td>\n",
       "      <td>район Арбат</td>\n",
       "      <td>город Москва, улица Арбат, дом 54/2, строение 2</td>\n",
       "      <td>43</td>\n",
       "      <td>0</td>\n",
       "      <td>TariffType:дифференцированный тариф\\nTimeRange...</td>\n",
       "      <td>37.58390300000001</td>\n",
       "      <td>55.7470695</td>\n",
       "      <td>55.746827,37.583077|55.747312,37.584729</td>\n",
       "      <td>{\"coordinates\":[37.584729,55.747312],\"type\":\"P...</td>\n",
       "      <td>NaN</td>\n",
       "    </tr>\n",
       "    <tr>\n",
       "      <th>3</th>\n",
       "      <td>15918</td>\n",
       "      <td>Парковка №0302 (4)</td>\n",
       "      <td>0302</td>\n",
       "      <td>1032914614</td>\n",
       "      <td>Центральный административный округ</td>\n",
       "      <td>район Арбат</td>\n",
       "      <td>город Москва, Большой Николопесковский переуло...</td>\n",
       "      <td>2</td>\n",
       "      <td>0</td>\n",
       "      <td>TariffType:дифференцированный тариф\\nTimeRange...</td>\n",
       "      <td>37.590497</td>\n",
       "      <td>55.751013</td>\n",
       "      <td>55.751004,37.59043|55.751022,37.590564</td>\n",
       "      <td>{\"coordinates\":[37.59043,55.751004],\"type\":\"Po...</td>\n",
       "      <td>NaN</td>\n",
       "    </tr>\n",
       "    <tr>\n",
       "      <th>4</th>\n",
       "      <td>15919</td>\n",
       "      <td>Парковка №0302 (5)</td>\n",
       "      <td>0302</td>\n",
       "      <td>1032914616</td>\n",
       "      <td>Центральный административный округ</td>\n",
       "      <td>район Арбат</td>\n",
       "      <td>город Москва, Малый Николопесковский переулок,...</td>\n",
       "      <td>8</td>\n",
       "      <td>1</td>\n",
       "      <td>TariffType:дифференцированный тариф\\nTimeRange...</td>\n",
       "      <td>37.591532</td>\n",
       "      <td>55.751147</td>\n",
       "      <td>55.751103,37.591159|55.751191,37.591905</td>\n",
       "      <td>{\"coordinates\":[37.591905,55.751191],\"type\":\"P...</td>\n",
       "      <td>NaN</td>\n",
       "    </tr>\n",
       "  </tbody>\n",
       "</table>\n",
       "</div>"
      ],
      "text/plain": [
       "                        ID            ParkingName       ParkingZoneNumber  \\\n",
       "0  Локальный идентификатор  Наименование парковки  Номер парковочной зоны   \n",
       "1                    15906     Парковка №0302 (2)                    0302   \n",
       "2                    15908     Парковка №0302 (3)                    0302   \n",
       "3                    15918     Парковка №0302 (4)                    0302   \n",
       "4                    15919     Парковка №0302 (5)                    0302   \n",
       "\n",
       "    global_id                             AdmArea     District  \\\n",
       "0   global_id              Административный округ        Район   \n",
       "1  1032914612  Центральный административный округ  район Арбат   \n",
       "2  1032914613  Центральный административный округ  район Арбат   \n",
       "3  1032914614  Центральный административный округ  район Арбат   \n",
       "4  1032914616  Центральный административный округ  район Арбат   \n",
       "\n",
       "                                             Address  \\\n",
       "0                                              Адрес   \n",
       "1    город Москва, улица Арбат, дом 54/2, строение 1   \n",
       "2    город Москва, улица Арбат, дом 54/2, строение 2   \n",
       "3  город Москва, Большой Николопесковский переуло...   \n",
       "4  город Москва, Малый Николопесковский переулок,...   \n",
       "\n",
       "                         CarCapacity  \\\n",
       "0  Общее количество парковочных мест   \n",
       "1                                  5   \n",
       "2                                 43   \n",
       "3                                  2   \n",
       "4                                  8   \n",
       "\n",
       "                         CarCapacityDisabled  \\\n",
       "0  Количество парковочных мест для инвалидов   \n",
       "1                                          5   \n",
       "2                                          0   \n",
       "3                                          0   \n",
       "4                                          1   \n",
       "\n",
       "                                             Tariffs    Longitude_WGS84  \\\n",
       "0                                             Тарифы   Долгота в WGS-84   \n",
       "1  TariffType:дифференцированный тариф\\nTimeRange...          37.583607   \n",
       "2  TariffType:дифференцированный тариф\\nTimeRange...  37.58390300000001   \n",
       "3  TariffType:дифференцированный тариф\\nTimeRange...          37.590497   \n",
       "4  TariffType:дифференцированный тариф\\nTimeRange...          37.591532   \n",
       "\n",
       "    Latitude_WGS84                              Coordinates  \\\n",
       "0  Широта в WGS-84                         Координаты линии   \n",
       "1        55.747075  55.746957,37.583203|55.747193,37.584011   \n",
       "2       55.7470695  55.746827,37.583077|55.747312,37.584729   \n",
       "3        55.751013   55.751004,37.59043|55.751022,37.590564   \n",
       "4        55.751147  55.751103,37.591159|55.751191,37.591905   \n",
       "\n",
       "                                      geodata_center  geoarea  \n",
       "0                                     geodata_center  geoarea  \n",
       "1  {\"coordinates\":[37.584011,55.747193],\"type\":\"P...      NaN  \n",
       "2  {\"coordinates\":[37.584729,55.747312],\"type\":\"P...      NaN  \n",
       "3  {\"coordinates\":[37.59043,55.751004],\"type\":\"Po...      NaN  \n",
       "4  {\"coordinates\":[37.591905,55.751191],\"type\":\"P...      NaN  "
      ]
     },
     "execution_count": 39,
     "metadata": {},
     "output_type": "execute_result"
    }
   ],
   "source": [
    "spreadsheet_id = '1jIZegksBfczOkYFNg3DEtXmheshCY58iUJ4L1x3OswI'\n",
    "file_name = 'https://docs.google.com/spreadsheets/d/{}/export?format=csv'.format(spreadsheet_id)\n",
    "r = requests.get(file_name)\n",
    "df = pd.read_csv(BytesIO(r.content))\n",
    "df.head()"
   ]
  },
  {
   "cell_type": "code",
   "execution_count": 40,
   "metadata": {
    "scrolled": true
   },
   "outputs": [
    {
     "data": {
      "text/html": [
       "<div>\n",
       "<style scoped>\n",
       "    .dataframe tbody tr th:only-of-type {\n",
       "        vertical-align: middle;\n",
       "    }\n",
       "\n",
       "    .dataframe tbody tr th {\n",
       "        vertical-align: top;\n",
       "    }\n",
       "\n",
       "    .dataframe thead th {\n",
       "        text-align: right;\n",
       "    }\n",
       "</style>\n",
       "<table border=\"1\" class=\"dataframe\">\n",
       "  <thead>\n",
       "    <tr style=\"text-align: right;\">\n",
       "      <th></th>\n",
       "      <th>distinct</th>\n",
       "      <th>address</th>\n",
       "      <th>street</th>\n",
       "    </tr>\n",
       "  </thead>\n",
       "  <tbody>\n",
       "    <tr>\n",
       "      <th>0</th>\n",
       "      <td>Район</td>\n",
       "      <td>Адрес</td>\n",
       "      <td>улица Егора Абакумова</td>\n",
       "    </tr>\n",
       "    <tr>\n",
       "      <th>1</th>\n",
       "      <td>район Арбат</td>\n",
       "      <td>город Москва, улица Арбат, дом 54/2, строение 1</td>\n",
       "      <td>улица Талалихина</td>\n",
       "    </tr>\n",
       "    <tr>\n",
       "      <th>2</th>\n",
       "      <td>район Арбат</td>\n",
       "      <td>город Москва, улица Арбат, дом 54/2, строение 2</td>\n",
       "      <td>Абельмановская улица</td>\n",
       "    </tr>\n",
       "    <tr>\n",
       "      <th>3</th>\n",
       "      <td>район Арбат</td>\n",
       "      <td>город Москва, Большой Николопесковский переуло...</td>\n",
       "      <td>Абрамцевская улица</td>\n",
       "    </tr>\n",
       "    <tr>\n",
       "      <th>4</th>\n",
       "      <td>район Арбат</td>\n",
       "      <td>город Москва, Малый Николопесковский переулок,...</td>\n",
       "      <td>Абрамцевская улица</td>\n",
       "    </tr>\n",
       "  </tbody>\n",
       "</table>\n",
       "</div>"
      ],
      "text/plain": [
       "      distinct                                            address  \\\n",
       "0        Район                                              Адрес   \n",
       "1  район Арбат    город Москва, улица Арбат, дом 54/2, строение 1   \n",
       "2  район Арбат    город Москва, улица Арбат, дом 54/2, строение 2   \n",
       "3  район Арбат  город Москва, Большой Николопесковский переуло...   \n",
       "4  район Арбат  город Москва, Малый Николопесковский переулок,...   \n",
       "\n",
       "                  street  \n",
       "0  улица Егора Абакумова  \n",
       "1       улица Талалихина  \n",
       "2   Абельмановская улица  \n",
       "3     Абрамцевская улица  \n",
       "4     Абрамцевская улица  "
      ]
     },
     "execution_count": 40,
     "metadata": {},
     "output_type": "execute_result"
    }
   ],
   "source": [
    "# оставим в датасете только необходимую информацию об адресах и районах\n",
    "df = df[['District', 'Address']]\n",
    "# приведем названия столбцов к формату snake_case\n",
    "df.columns = ['distinct', 'address']\n",
    "# выделим улицы в отдельный столбец\n",
    "df['street'] = data['address'].apply(lambda x: x.split(', ')[1])\n",
    "df.head()        "
   ]
  },
  {
   "cell_type": "code",
   "execution_count": 41,
   "metadata": {},
   "outputs": [
    {
     "data": {
      "text/html": [
       "<div>\n",
       "<style scoped>\n",
       "    .dataframe tbody tr th:only-of-type {\n",
       "        vertical-align: middle;\n",
       "    }\n",
       "\n",
       "    .dataframe tbody tr th {\n",
       "        vertical-align: top;\n",
       "    }\n",
       "\n",
       "    .dataframe thead th {\n",
       "        text-align: right;\n",
       "    }\n",
       "</style>\n",
       "<table border=\"1\" class=\"dataframe\">\n",
       "  <thead>\n",
       "    <tr style=\"text-align: right;\">\n",
       "      <th></th>\n",
       "      <th>distinct</th>\n",
       "      <th>street</th>\n",
       "    </tr>\n",
       "  </thead>\n",
       "  <tbody>\n",
       "    <tr>\n",
       "      <th>0</th>\n",
       "      <td>Район</td>\n",
       "      <td>улица Егора Абакумова</td>\n",
       "    </tr>\n",
       "    <tr>\n",
       "      <th>1</th>\n",
       "      <td>район Арбат</td>\n",
       "      <td>улица Талалихина</td>\n",
       "    </tr>\n",
       "    <tr>\n",
       "      <th>2</th>\n",
       "      <td>район Арбат</td>\n",
       "      <td>Абельмановская улица</td>\n",
       "    </tr>\n",
       "    <tr>\n",
       "      <th>3</th>\n",
       "      <td>район Арбат</td>\n",
       "      <td>Абрамцевская улица</td>\n",
       "    </tr>\n",
       "    <tr>\n",
       "      <th>6</th>\n",
       "      <td>район Арбат</td>\n",
       "      <td>переулок Сивцев Вражек</td>\n",
       "    </tr>\n",
       "  </tbody>\n",
       "</table>\n",
       "</div>"
      ],
      "text/plain": [
       "      distinct                  street\n",
       "0        Район   улица Егора Абакумова\n",
       "1  район Арбат        улица Талалихина\n",
       "2  район Арбат    Абельмановская улица\n",
       "3  район Арбат      Абрамцевская улица\n",
       "6  район Арбат  переулок Сивцев Вражек"
      ]
     },
     "execution_count": 41,
     "metadata": {},
     "output_type": "execute_result"
    }
   ],
   "source": [
    "# оставим в датасете только необходимую информацию об улицах и районах и удалим дубликаты\n",
    "df = df[['distinct', 'street']].drop_duplicates()\n",
    "df.head()"
   ]
  },
  {
   "cell_type": "code",
   "execution_count": 42,
   "metadata": {},
   "outputs": [
    {
     "data": {
      "text/html": [
       "<div>\n",
       "<style scoped>\n",
       "    .dataframe tbody tr th:only-of-type {\n",
       "        vertical-align: middle;\n",
       "    }\n",
       "\n",
       "    .dataframe tbody tr th {\n",
       "        vertical-align: top;\n",
       "    }\n",
       "\n",
       "    .dataframe thead th {\n",
       "        text-align: right;\n",
       "    }\n",
       "</style>\n",
       "<table border=\"1\" class=\"dataframe\">\n",
       "  <thead>\n",
       "    <tr style=\"text-align: right;\">\n",
       "      <th></th>\n",
       "      <th>street</th>\n",
       "      <th>id</th>\n",
       "      <th>distinct</th>\n",
       "    </tr>\n",
       "  </thead>\n",
       "  <tbody>\n",
       "    <tr>\n",
       "      <th>0</th>\n",
       "      <td>проспект Мира</td>\n",
       "      <td>203</td>\n",
       "      <td>Пресненский район</td>\n",
       "    </tr>\n",
       "    <tr>\n",
       "      <th>1</th>\n",
       "      <td>проспект Мира</td>\n",
       "      <td>203</td>\n",
       "      <td>Тверской район</td>\n",
       "    </tr>\n",
       "    <tr>\n",
       "      <th>2</th>\n",
       "      <td>проспект Мира</td>\n",
       "      <td>203</td>\n",
       "      <td>Таганский район</td>\n",
       "    </tr>\n",
       "    <tr>\n",
       "      <th>3</th>\n",
       "      <td>проспект Мира</td>\n",
       "      <td>203</td>\n",
       "      <td>район Чертаново Центральное</td>\n",
       "    </tr>\n",
       "    <tr>\n",
       "      <th>4</th>\n",
       "      <td>проспект Мира</td>\n",
       "      <td>203</td>\n",
       "      <td>район Черёмушки</td>\n",
       "    </tr>\n",
       "  </tbody>\n",
       "</table>\n",
       "</div>"
      ],
      "text/plain": [
       "          street   id                     distinct\n",
       "0  проспект Мира  203            Пресненский район\n",
       "1  проспект Мира  203               Тверской район\n",
       "2  проспект Мира  203              Таганский район\n",
       "3  проспект Мира  203  район Чертаново Центральное\n",
       "4  проспект Мира  203              район Черёмушки"
      ]
     },
     "execution_count": 42,
     "metadata": {},
     "output_type": "execute_result"
    }
   ],
   "source": [
    "#добавим столбец с районом в таблицу top_10_streets\n",
    "top_10_streets = top_10_streets.merge(df[['distinct', 'street']], on='street', how='left')\n",
    "top_10_streets.head()"
   ]
  },
  {
   "cell_type": "code",
   "execution_count": 43,
   "metadata": {},
   "outputs": [
    {
     "data": {
      "image/png": "[encoded data removed]",
      "text/plain": [
       "<Figure size 1584x360 with 1 Axes>"
      ]
     },
     "metadata": {
      "needs_background": "light"
     },
     "output_type": "display_data"
    }
   ],
   "source": [
    "fig, ax = plt.subplots(figsize=(22, 5))\n",
    "ax.set_title('Соответствие улиц с самым большим количеством заведений общественного питания районам Москвы',\n",
    "             fontsize = 14,  fontweight='bold', loc = 'center', pad = 20\n",
    "            )\n",
    "ax = sns.scatterplot(y='street', \n",
    "                  x='distinct', \n",
    "                  data=top_10_streets.sort_values(by='distinct'),\n",
    "                  palette= ['#6495ED']\n",
    "                                   \n",
    "                 )\n",
    "ax.set_xlabel('Район', fontsize = 12)\n",
    "ax.set_ylabel('Улица', fontsize = 12)\n",
    "\n",
    "ax.tick_params(axis='y', labelsize=14)\n",
    "ax.tick_params(axis='x', labelsize=12, rotation=90)\n",
    "ax.grid(linestyle = ':')\n",
    "\n",
    "plt.show()"
   ]
  },
  {
   "cell_type": "markdown",
   "metadata": {},
   "source": [
    "Из полученного графика любопытный читатель сможет узнать, через какие районы Москвы проходят 10 улиц с самым большим количеством заведений общепита :) Популярность этих улиц объясняется тем, что они довольно длинные, и, соответственно, на них может разместиться больше заведений, чем на коротких улицах."
   ]
  },
  {
   "cell_type": "markdown",
   "metadata": {},
   "source": [
    "Найдем число <b><i>улиц с всего одним объектом общественного питания</b></i>. Воспользуемся внешней информацией и ответим на вопрос — в каких районах Москвы находятся эти улицы?"
   ]
  },
  {
   "cell_type": "code",
   "execution_count": 44,
   "metadata": {},
   "outputs": [
    {
     "data": {
      "text/html": [
       "<div>\n",
       "<style scoped>\n",
       "    .dataframe tbody tr th:only-of-type {\n",
       "        vertical-align: middle;\n",
       "    }\n",
       "\n",
       "    .dataframe tbody tr th {\n",
       "        vertical-align: top;\n",
       "    }\n",
       "\n",
       "    .dataframe thead th {\n",
       "        text-align: right;\n",
       "    }\n",
       "</style>\n",
       "<table border=\"1\" class=\"dataframe\">\n",
       "  <thead>\n",
       "    <tr style=\"text-align: right;\">\n",
       "      <th></th>\n",
       "      <th>street</th>\n",
       "      <th>id</th>\n",
       "    </tr>\n",
       "  </thead>\n",
       "  <tbody>\n",
       "    <tr>\n",
       "      <th>1586</th>\n",
       "      <td>улица Демьяна Бедного</td>\n",
       "      <td>1</td>\n",
       "    </tr>\n",
       "    <tr>\n",
       "      <th>259</th>\n",
       "      <td>Андреево-Забелинская улица</td>\n",
       "      <td>1</td>\n",
       "    </tr>\n",
       "    <tr>\n",
       "      <th>35</th>\n",
       "      <td>1-й Саратовский проезд</td>\n",
       "      <td>1</td>\n",
       "    </tr>\n",
       "    <tr>\n",
       "      <th>260</th>\n",
       "      <td>Андроньевская площадь</td>\n",
       "      <td>1</td>\n",
       "    </tr>\n",
       "    <tr>\n",
       "      <th>113</th>\n",
       "      <td>2-й Стрелецкий проезд</td>\n",
       "      <td>1</td>\n",
       "    </tr>\n",
       "    <tr>\n",
       "      <th>...</th>\n",
       "      <td>...</td>\n",
       "      <td>...</td>\n",
       "    </tr>\n",
       "    <tr>\n",
       "      <th>1343</th>\n",
       "      <td>дом 1</td>\n",
       "      <td>1</td>\n",
       "    </tr>\n",
       "    <tr>\n",
       "      <th>1345</th>\n",
       "      <td>дом 10</td>\n",
       "      <td>1</td>\n",
       "    </tr>\n",
       "    <tr>\n",
       "      <th>1346</th>\n",
       "      <td>дом 11</td>\n",
       "      <td>1</td>\n",
       "    </tr>\n",
       "    <tr>\n",
       "      <th>1347</th>\n",
       "      <td>дом 118Б</td>\n",
       "      <td>1</td>\n",
       "    </tr>\n",
       "    <tr>\n",
       "      <th>458</th>\n",
       "      <td>Гвардейская улица</td>\n",
       "      <td>1</td>\n",
       "    </tr>\n",
       "  </tbody>\n",
       "</table>\n",
       "<p>579 rows × 2 columns</p>\n",
       "</div>"
      ],
      "text/plain": [
       "                          street  id\n",
       "1586       улица Демьяна Бедного   1\n",
       "259   Андреево-Забелинская улица   1\n",
       "35        1-й Саратовский проезд   1\n",
       "260        Андроньевская площадь   1\n",
       "113        2-й Стрелецкий проезд   1\n",
       "...                          ...  ..\n",
       "1343                       дом 1   1\n",
       "1345                      дом 10   1\n",
       "1346                      дом 11   1\n",
       "1347                    дом 118Б   1\n",
       "458            Гвардейская улица   1\n",
       "\n",
       "[579 rows x 2 columns]"
      ]
     },
     "execution_count": 44,
     "metadata": {},
     "output_type": "execute_result"
    }
   ],
   "source": [
    "one_object_streets = data.pivot_table(index='street', \n",
    "                                  values='id', \n",
    "                                  aggfunc='count').reset_index().sort_values(by='id', ascending=False)\n",
    "one_object_streets = one_object_streets[one_object_streets['id'] == 1]\n",
    "one_object_streets"
   ]
  },
  {
   "cell_type": "code",
   "execution_count": 45,
   "metadata": {},
   "outputs": [
    {
     "data": {
      "text/plain": [
       "array(['улица Демьяна Бедного', 'Андреево-Забелинская улица',\n",
       "       '1-й Саратовский проезд', 'Андроньевская площадь',\n",
       "       '2-й Стрелецкий проезд', '1-й Рижский переулок',\n",
       "       '1-й Обыденский переулок', 'Богоявленский переулок',\n",
       "       'улица Паперника', '3-й Дорожный проезд', 'Анненская улица',\n",
       "       'улица Немчинова', '1-й Новокузнецкий переулок',\n",
       "       '1-й Сельскохозяйственный проезд', '1-й Николощеповский переулок',\n",
       "       '26-й километр Московской Кольцевой Автодороги',\n",
       "       'улица Девятая Рота', 'Анненский проезд', '2-я улица Энтузиастов',\n",
       "       '2-й Хуторской переулок', 'улица Новая Дорога',\n",
       "       'Армавирская улица', '3-й Кадашёвский переулок', 'улица Шумилова',\n",
       "       '1-й Сетуньский проезд', '1-й Басманный переулок',\n",
       "       'улица Жебрунова', '1-й проезд Марьиной Рощи',\n",
       "       '1-й Тушинский проезд', 'улица Екатерины Будановой',\n",
       "       '3-й Лучевой просек', 'шоссе Фрезер',\n",
       "       '1-й Спасоналивковский переулок', '1-й Балтийский переулок',\n",
       "       '3-й Лихачёвский переулок', 'Авиационный переулок', 'улица Дубки',\n",
       "       'улица Уткина', 'Большая Бутовская улица', 'улица Медведева',\n",
       "       'Автомобильный проезд', 'улица Медиков', 'улица Достоевского',\n",
       "       '1-й Ботанический проезд', 'Больничный переулок',\n",
       "       '3-й Кожуховский проезд', '1-й Силикатный проезд',\n",
       "       'Алымов переулок', '1-й Монетчиковский переулок', 'улица Щорса',\n",
       "       '2-я улица Марьиной Рощи', 'улица Шумкина',\n",
       "       '1-й Голутвинский переулок', 'Банный проезд',\n",
       "       'Барабанный переулок', '1-й Кожевнический переулок',\n",
       "       '2-я Гражданская улица', '2-я Дубровская улица',\n",
       "       '1-й Кирпичный переулок', '2-я Филёвская улица', 'Басовская улица',\n",
       "       '2-я Прядильная улица', '1-й Зачатьевский переулок',\n",
       "       '1-й Кожуховский проезд', 'улица Недорубова',\n",
       "       'Берниковская набережная', 'улица Шеногина', 'улица Гамалеи',\n",
       "       'Бескудниковский переулок', 'Бескудниковский проезд',\n",
       "       'улица Высоцкого', '2-я Квесисская улица', 'Библиотечная улица',\n",
       "       '2-я Напрудная улица', 'Балтийская улица',\n",
       "       'улица Генерала Ермолова', '2-я Сокольническая улица',\n",
       "       'Ащеулов переулок', 'Архангельский переулок',\n",
       "       'улица Можайский Вал', 'Астрадамский проезд', 'улица Фадеева',\n",
       "       '1-й Магистральный тупик', '1-й Люсиновский переулок',\n",
       "       'улица Фонвизина', '2-й Щемиловский переулок', 'улица Жуковского',\n",
       "       '1-й Курьяновский проезд', 'улица Гончарова', 'Базовая улица',\n",
       "       '1-й Вешняковский проезд', 'улица Хабарова',\n",
       "       '1-й Краснокурсантский проезд', 'улица Павла Андреева',\n",
       "       'Аэрофлотская улица', '2-я улица Бухвостова', 'Бабаевская улица',\n",
       "       '2-я Ямская улица', '1-й Котельнический переулок',\n",
       "       '1-й Коптельский переулок', '1-й Лучевой просек',\n",
       "       '2-й Кадашёвский переулок', 'улица Захарьинские Дворики',\n",
       "       'улица Крутицкий Вал', '4-й Кожевнический переулок',\n",
       "       'улица Кутузова', 'улица Рокотова', 'улица Рословка',\n",
       "       '12-й проезд Марьиной Рощи', '2-й Красносельский переулок',\n",
       "       'улица Кубинка', 'улица Ротерта', 'улица Рудневой',\n",
       "       'улица Полины Осипенко', '11-я Парковая улица',\n",
       "       '4-й Рощинский проезд', '2-й Курьяновский проезд',\n",
       "       '3-й Павловский переулок', '4-я Гражданская улица',\n",
       "       'улица Красных Зорь', '2-й Лучевой просек', 'улица Савельева',\n",
       "       '104-й километр Московской Кольцевой Автодороги',\n",
       "       '4-я Кабельная улица', 'улица Сайкина', '2-й Магистральный тупик',\n",
       "       'улица Малые Каменщики', '2-й Неопалимовский переулок',\n",
       "       '42-й километр Калужского шоссе', 'улица Подвойского',\n",
       "       'улица Кухмистерова', '14-я Парковая улица',\n",
       "       '4-й Вятский переулок', '17-й проезд Марьиной Рощи',\n",
       "       '3-я Черепковская улица', 'улица Льва Яшина',\n",
       "       '2-й Кабельный проезд', 'улица Максимова',\n",
       "       '31-й километр Московской Кольцевой Автодороги',\n",
       "       '2-й Иртышский проезд', 'улица Пржевальского', 'улица Раевского',\n",
       "       '2-й Вышеславцев переулок',\n",
       "       '34-й километр Московской Кольцевой Автодороги',\n",
       "       'улица Малая Ордынка', '2-й Колобовский переулок',\n",
       "       'улица Ращупкина', 'улица Ремизова',\n",
       "       'улица Линии Октябрьской Железной Дороги',\n",
       "       '2-й Верхний Михайловский проезд', 'улица Лефортовский Вал',\n",
       "       '2-й Боткинский проезд', '3-я Северная линия',\n",
       "       '38-й километр Московской Кольцевой Автодороги',\n",
       "       '4-й Вешняковский проезд', 'улица Рогова', 'улица Лапина',\n",
       "       '2-й Балтийский переулок', 'улица Рогожский Посёлок',\n",
       "       '42-й километр Московской Кольцевой Автодороги', 'улица Кошкина',\n",
       "       'улица Саляма Адиля',\n",
       "       '67-й километр Московской Кольцевой Автодороги',\n",
       "       '7-й Ростовский переулок', '7-я Северная линия',\n",
       "       '7-я улица Лазенки', 'улица Инессы Арманд',\n",
       "       '2-й Обыденский переулок', '3-й Угрешский проезд',\n",
       "       '1-я Карачаровская улица', '3-й Стрелецкий проезд',\n",
       "       '1-я Гражданская улица', '1-я Боевская улица',\n",
       "       'улица Старые Кузьминки', '2-й Полевой переулок',\n",
       "       'улица Пивченкова', '1-я Аэропортовская улица',\n",
       "       '78-й километр Московской Кольцевой Автодороги',\n",
       "       '8-й проезд Марьиной Рощи', '8-я улица Соколиной Горы',\n",
       "       '2-й Рощинский проезд', '2-й Сельскохозяйственный проезд',\n",
       "       'улица Знаменские Садки', 'улица Степана Шутова',\n",
       "       '80-й километр Московской Кольцевой Автодороги',\n",
       "       'улица Зенитчиков',\n",
       "       '30-й километр Московской Кольцевой Автодороги',\n",
       "       '2-й Сетуньский проезд', 'улица Капотня',\n",
       "       '2-й Новоподмосковный переулок', '3-я Подрезковская улица',\n",
       "       '1-я Миусская улица', '5-й Котельнический переулок',\n",
       "       '5-й Монетчиковский переулок', '5-й Рощинский проезд',\n",
       "       '3-я Песчаная улица', '3-я Новоостанкинская улица',\n",
       "       '5-й проезд Марьиной Рощи', '5-й проезд Подбельского',\n",
       "       'улица Константинова', '2-й Новокузнецкий переулок',\n",
       "       '1-я линия Хорошёвского Серебряного Бора',\n",
       "       '3-я Железногорская улица', '1-я Чоботовская аллея',\n",
       "       '3-й проезд Подбельского', '1-я Пугачёвская улица',\n",
       "       '1-я Напрудная улица', 'улица Клочкова', 'улица Маршала Мерецкова',\n",
       "       '56-й километр Московской Кольцевой Автодороги',\n",
       "       'улица Советской Армии', '6-й Лучевой просек',\n",
       "       'улица Маршала Новикова', '6-я Кожуховская улица',\n",
       "       '6-я улица Лазенки', '6-я улица Новые Сады',\n",
       "       '65-й километр Московской Кольцевой Автодороги', 'улица Николаева',\n",
       "       'Петровско-Разумовская аллея', 'Большая Внуковская улица',\n",
       "       'Малый Казённый переулок', 'Стрельбищенский переулок',\n",
       "       'Малый Ивановский переулок', 'Малый Знаменский переулок',\n",
       "       'Малый Златоустинский переулок', 'Стройковская улица',\n",
       "       'Стромынский переулок', 'Малый Власьевский переулок',\n",
       "       'Малая Тульская улица', 'Малая Переяславская улица',\n",
       "       'Сумская улица', 'Малая Андроньевская улица', 'Таганрогская улица',\n",
       "       'Мажоров переулок', 'Магаданская улица', 'Лыщиков переулок',\n",
       "       'Лужнецкий проезд', 'Таможенный проезд', 'Тарусская улица',\n",
       "       'Тарханская улица', 'Стрелецкая улица', 'Малый Каретный переулок',\n",
       "       'улица Васильцовский Стан', 'Столовый переулок',\n",
       "       'Средний Овчинниковский переулок', 'Средняя Калитниковская улица',\n",
       "       'Мамоновский переулок', 'Сретенский тупик',\n",
       "       'Малый Толмачёвский переулок', 'Стандартная улица',\n",
       "       'Малый Татарский переулок', 'Староалексеевская улица',\n",
       "       'Малый Саввинский переулок', 'Малый Путинковский переулок',\n",
       "       'Малый Полуярославский переулок',\n",
       "       'Малый Николопесковский переулок', 'Старомарьинское шоссе',\n",
       "       'Старомонетный переулок', 'Староникольская улица',\n",
       "       'Малый Лёвшинский переулок', 'Малый Коптевский проезд',\n",
       "       'Старослободская улица', 'Малый Конюшковский переулок',\n",
       "       'Лосевская улица', 'Лонгиновская улица', 'Таёжная улица',\n",
       "       'Линейный проезд', 'Кремлёвская набережная', 'Уржумская улица',\n",
       "       'Успенский переулок', 'Красноказарменный проезд', 'Утренняя улица',\n",
       "       'Учинская улица', 'Фармацевтический проезд',\n",
       "       'Красногвардейский бульвар', 'Федоскинская улица',\n",
       "       'Феодосийская улица', 'Филипповский переулок',\n",
       "       'Костомаровская набережная', 'Фролов переулок', 'Фруктовая улица',\n",
       "       'Коптевский бульвар', 'Кооперативная улица', 'Хавская улица',\n",
       "       'Кондрашёвский тупик', 'Конаковский проезд',\n",
       "       'Кривоарбатский переулок', 'Кузьминская улица',\n",
       "       'Тургеневская площадь', 'Тихая улица', 'Театральная аллея',\n",
       "       'Лечебная улица', 'Тенистый проезд', 'Тессинский переулок',\n",
       "       'Тестовская улица', 'Тетеринский переулок',\n",
       "       'Лефортовский переулок', 'Тимирязевский проезд',\n",
       "       'Тихвинский переулок', 'Кулаков переулок', 'Тихий тупик',\n",
       "       'Лениногорская улица', 'Ландышевая улица', 'Триумфальная площадь',\n",
       "       'Троилинский переулок', 'Кучин переулок', 'Курганская улица',\n",
       "       'Кунцевская улица', 'Средний Кондратьевский переулок',\n",
       "       'Спортивный проезд', 'Мансуровский переулок',\n",
       "       'Русаковская набережная', 'Оренбургская улица', 'Олонецкий проезд',\n",
       "       'Проточный переулок', 'Прохладная улица', 'Пуговишников переулок',\n",
       "       'Пулковская улица', 'Норильская улица', 'Пыжёвский переулок',\n",
       "       'Пяловская улица', 'Новохорошёвский проезд', 'Новосибирская улица',\n",
       "       'Новорублёвская улица', 'Радужная улица', 'Рижский проезд',\n",
       "       'Новопресненский переулок', 'Родниковая улица',\n",
       "       'Новоостаповская улица', 'Новолучанская улица',\n",
       "       'Ростокинская улица', 'Орехово-Зуевский проезд', 'Прокатная улица',\n",
       "       'Производственная улица', 'Пожарский переулок', 'Платовская улица',\n",
       "       'Плетешковский переулок', 'Петроверигский переулок',\n",
       "       'Песчаный переулок', 'Песчаная улица', 'Пестовский переулок',\n",
       "       'Подольская улица', 'Подсосенский переулок', 'Перовский проезд',\n",
       "       'Причальный проезд', 'Пенягинская улица', 'Педагогическая улица',\n",
       "       'Полтавская улица', 'Попов проезд', 'Парусный проезд',\n",
       "       'Посланников переулок', 'Отрадный проезд', 'Прибрежный проезд',\n",
       "       'Рубцов переулок', 'Нововладыкинский проезд',\n",
       "       'Спартаковский переулок', 'Новобутовский проезд',\n",
       "       'Мрузовский переулок', 'Скорняжный переулок', 'Молодёжная улица',\n",
       "       'Мишина улица', 'Михневский проезд', 'Миусская площадь',\n",
       "       'Мирской переулок', 'Минаевский переулок', 'Миллионная улица',\n",
       "       'Соймоновский проезд', 'Мерзляковский переулок',\n",
       "       'Солнечногорский проезд', 'Международная улица',\n",
       "       'Машкинское шоссе', 'Сормовский проезд', 'Сосновая аллея',\n",
       "       'Софийская набережная', 'Союзный проспект', 'Мариупольская улица',\n",
       "       'Скатертный переулок', 'Синельниковская улица',\n",
       "       'Симферопольский проезд', 'Сверчков переулок',\n",
       "       'Никитский переулок', 'Садовая-Сухаревская улица',\n",
       "       'Нижний Кисельный переулок', 'Нижний Журавлёв переулок',\n",
       "       'Садовнический проезд', 'Несвижский переулок', 'Неманский проезд',\n",
       "       'Нелидовская улица', 'Научный проезд', 'Нагорный бульвар',\n",
       "       'Народный проспект', 'Северодвинская улица',\n",
       "       'Наро-Фоминская улица', 'Нарвская улица', 'Напрудный переулок',\n",
       "       'Сеченовский переулок', 'Сибирский проезд', 'Сивашская улица',\n",
       "       'Композиторская улица', 'Хвалынский бульвар', 'Хилков переулок',\n",
       "       'Верхняя улица', 'Гжатская улица', 'посёлок Акулово',\n",
       "       'Печорская улица', 'Гаражная улица', 'Газгольдерная улица',\n",
       "       'проезд Добролюбова', 'проезд Донелайтиса', 'проезд Досфлота',\n",
       "       'проезд Нансена', 'Вяземская улица', 'Высокая улица',\n",
       "       'проезд Черепановых', 'Выползов переулок', 'проезд Якушкина',\n",
       "       'проектируемый проезд № 1980', 'проспект 40 лет Октября',\n",
       "       'Врачебный проезд', 'Воротниковский переулок', 'Волоцкой переулок',\n",
       "       'поселение Филимонковское', 'Гжельский переулок',\n",
       "       'Глазовский переулок', 'площадь Журавлёва', 'домовладение 11',\n",
       "       'переулок Васнецова', 'переулок Красина', 'переулок Маяковского',\n",
       "       'переулок Расковой', 'Денежный переулок', 'переулок Хользунова',\n",
       "       'Делегатская улица', 'Дегтярный переулок', 'Глебовская улица',\n",
       "       'Гродненская улица', 'Гранатный переулок', 'Госпитальный переулок',\n",
       "       'Городская улица', 'Гончарная набережная', 'Гольяновская улица',\n",
       "       'Глинищевский переулок', 'Глинистый переулок', 'Винницкая улица',\n",
       "       'Верхний Золоторожский переулок', 'дом 9', 'улица 9 Мая',\n",
       "       'улица Артюхиной', 'Большой Трёхсвятительский переулок',\n",
       "       'улица Атарбекова', 'Большой Строченовский переулок',\n",
       "       'Большой Симоновский переулок', 'Большой Предтеченский переулок',\n",
       "       'улица Благуша', 'улица Богданова', 'улица Богородский Вал',\n",
       "       'Большой Полуярославский переулок',\n",
       "       'Большой Николопесковский переулок', 'Большой Кисельный переулок',\n",
       "       'Большой Казённый переулок', 'улица Бориса Жигулёнкова',\n",
       "       'Большой Знаменский переулок', 'улица Брусилова',\n",
       "       'Большой Афанасьевский переулок', 'Большая Юшуньская улица',\n",
       "       'Большая Ширяевская улица', 'Боровая улица',\n",
       "       'улица Анатолия Живова', 'Боровский проезд', 'Будайский проезд',\n",
       "       'улица Авиаконструктора Микояна', 'Вербная улица',\n",
       "       'Варсонофьевский переулок', 'улица Айвазовского',\n",
       "       'улица Академика Арцимовича', 'Вагоноремонтная улица',\n",
       "       'Бутиковский переулок', 'улица Академика Комарова',\n",
       "       'Будайская улица', 'улица Алексея Дикого',\n",
       "       'улица Академика Опарина', 'улица Академика Павлова',\n",
       "       'улица Академика Петровского', 'улица Академика Понтрягина',\n",
       "       'улица Академика Семёнова', 'Брошевский переулок',\n",
       "       'Бродников переулок', 'Ботанический переулок', 'дом 90',\n",
       "       'дом 8А/5', 'Хитровский переулок', 'Ясногорская улица',\n",
       "       'Шепелюгинская улица', 'Икшинская улица', 'Измайловская площадь',\n",
       "       'Известковый переулок', 'Штурвальная улица', 'Шубинский переулок',\n",
       "       'Изваринская улица', 'Ижорский проезд', 'Щёлковский проезд',\n",
       "       'Иваньковское шоссе', 'Электрический переулок', 'Зюзинская улица',\n",
       "       'Зубарев переулок', 'Юрловский проезд', 'Звонарский переулок',\n",
       "       'Якиманский переулок', 'Ялтинская улица', 'Янтарный проезд',\n",
       "       'Зарайская улица', 'Институтский переулок',\n",
       "       'Интернациональная улица', 'Чуксин тупик', 'Челюскинская улица',\n",
       "       'Хлебный переулок', 'Козицкий переулок', 'Хлыновский тупик',\n",
       "       'Хованская улица', 'Кожевнический проезд', 'Хохловский переулок',\n",
       "       'Кирпичная улица', 'Каскадная улица', 'Карельский бульвар',\n",
       "       'Чукотский проезд', 'Чермянская улица', 'Чермянский проезд',\n",
       "       'Черниговский переулок', 'Черницынский проезд',\n",
       "       'Черноморский бульвар', 'Канатчиковский проезд',\n",
       "       'Калошин переулок', 'Калибровская улица', 'Заводской проезд',\n",
       "       'Жуков проезд', 'дом 8', 'Яузский бульвар', 'дом 2/34', 'дом 20',\n",
       "       'дом 20/1/27', 'дом 23', 'дом 26/1', 'дом 28',\n",
       "       'Дмитровский переулок', 'дом 29/66', 'дом 3', 'дом 37',\n",
       "       'дом 38/14/23', 'дом 39', 'дом 4', 'дом 46', 'дом 5/14', 'дом 52А',\n",
       "       'дом 58/23', 'дом 6', 'Дивизионная улица', 'дом 19/20', 'дом 19',\n",
       "       'дом 16', 'владение 99А', 'Яхромская улица', 'Жигулёвская улица',\n",
       "       'Живарев переулок', 'Есенинский бульвар', 'Елоховский проезд',\n",
       "       'Егорьевский проезд', 'владение 164', 'владение 32Б',\n",
       "       'Докучаев переулок', 'дом 14', 'деревня Давыдково',\n",
       "       'деревня Дудкино', 'деревня Сенькино-Секерино', 'деревня Столбово',\n",
       "       'дом 1', 'дом 10', 'дом 11', 'дом 118Б', 'Гвардейская улица'],\n",
       "      dtype=object)"
      ]
     },
     "execution_count": 45,
     "metadata": {},
     "output_type": "execute_result"
    }
   ],
   "source": [
    "one_object_streets['street'].unique()"
   ]
  },
  {
   "cell_type": "markdown",
   "metadata": {},
   "source": [
    "При внимательном рассмотрении полученной таблицы снова увидим ошибки парсинга. В некоторых адресах не были указаны улицы, а только номера домов - эти значения тоже попали в таблицу. Отсеим их. "
   ]
  },
  {
   "cell_type": "code",
   "execution_count": 46,
   "metadata": {},
   "outputs": [],
   "source": [
    "# напишем функцию, которая будет принимать строку и искать в ней наименование типов улиц, \n",
    "# и если их нет, возвращать строку error\n",
    "def street_names_func(street_name):\n",
    "    flag = False\n",
    "    street_types_dict = ['улица', 'переулок', 'бульвар', 'проезд', 'площадь', 'шоссе', 'просек', 'тупик', 'проспект', 'набережная' ]\n",
    "    for i in street_types_dict:\n",
    "        if street_name.find(i) != -1:\n",
    "            flag = True\n",
    "    if flag:\n",
    "        res = street_name\n",
    "    else:\n",
    "        res = 'error'\n",
    "    return res"
   ]
  },
  {
   "cell_type": "code",
   "execution_count": 47,
   "metadata": {},
   "outputs": [
    {
     "data": {
      "text/html": [
       "<div>\n",
       "<style scoped>\n",
       "    .dataframe tbody tr th:only-of-type {\n",
       "        vertical-align: middle;\n",
       "    }\n",
       "\n",
       "    .dataframe tbody tr th {\n",
       "        vertical-align: top;\n",
       "    }\n",
       "\n",
       "    .dataframe thead th {\n",
       "        text-align: right;\n",
       "    }\n",
       "</style>\n",
       "<table border=\"1\" class=\"dataframe\">\n",
       "  <thead>\n",
       "    <tr style=\"text-align: right;\">\n",
       "      <th></th>\n",
       "      <th>street</th>\n",
       "      <th>id</th>\n",
       "    </tr>\n",
       "  </thead>\n",
       "  <tbody>\n",
       "    <tr>\n",
       "      <th>1586</th>\n",
       "      <td>улица Демьяна Бедного</td>\n",
       "      <td>1</td>\n",
       "    </tr>\n",
       "    <tr>\n",
       "      <th>259</th>\n",
       "      <td>Андреево-Забелинская улица</td>\n",
       "      <td>1</td>\n",
       "    </tr>\n",
       "    <tr>\n",
       "      <th>35</th>\n",
       "      <td>1-й Саратовский проезд</td>\n",
       "      <td>1</td>\n",
       "    </tr>\n",
       "    <tr>\n",
       "      <th>260</th>\n",
       "      <td>Андроньевская площадь</td>\n",
       "      <td>1</td>\n",
       "    </tr>\n",
       "    <tr>\n",
       "      <th>113</th>\n",
       "      <td>2-й Стрелецкий проезд</td>\n",
       "      <td>1</td>\n",
       "    </tr>\n",
       "    <tr>\n",
       "      <th>...</th>\n",
       "      <td>...</td>\n",
       "      <td>...</td>\n",
       "    </tr>\n",
       "    <tr>\n",
       "      <th>529</th>\n",
       "      <td>Есенинский бульвар</td>\n",
       "      <td>1</td>\n",
       "    </tr>\n",
       "    <tr>\n",
       "      <th>524</th>\n",
       "      <td>Елоховский проезд</td>\n",
       "      <td>1</td>\n",
       "    </tr>\n",
       "    <tr>\n",
       "      <th>522</th>\n",
       "      <td>Егорьевский проезд</td>\n",
       "      <td>1</td>\n",
       "    </tr>\n",
       "    <tr>\n",
       "      <th>505</th>\n",
       "      <td>Докучаев переулок</td>\n",
       "      <td>1</td>\n",
       "    </tr>\n",
       "    <tr>\n",
       "      <th>458</th>\n",
       "      <td>Гвардейская улица</td>\n",
       "      <td>1</td>\n",
       "    </tr>\n",
       "  </tbody>\n",
       "</table>\n",
       "<p>521 rows × 2 columns</p>\n",
       "</div>"
      ],
      "text/plain": [
       "                          street  id\n",
       "1586       улица Демьяна Бедного   1\n",
       "259   Андреево-Забелинская улица   1\n",
       "35        1-й Саратовский проезд   1\n",
       "260        Андроньевская площадь   1\n",
       "113        2-й Стрелецкий проезд   1\n",
       "...                          ...  ..\n",
       "529           Есенинский бульвар   1\n",
       "524            Елоховский проезд   1\n",
       "522           Егорьевский проезд   1\n",
       "505            Докучаев переулок   1\n",
       "458            Гвардейская улица   1\n",
       "\n",
       "[521 rows x 2 columns]"
      ]
     },
     "execution_count": 47,
     "metadata": {},
     "output_type": "execute_result"
    }
   ],
   "source": [
    "one_object_streets['street'] = one_object_streets['street'].apply(street_names_func)\n",
    "one_object_streets = one_object_streets[one_object_streets['street'] != 'error']\n",
    "one_object_streets"
   ]
  },
  {
   "cell_type": "markdown",
   "metadata": {},
   "source": [
    "Итак, мы получили 521 улицу с всего 1 объектом общепита. Вероятно, конкурентность на таких улицах меньше - у голодных клиентов просто нет альтернатив:) Посмотрим, в каких районах находятся эти улицы"
   ]
  },
  {
   "cell_type": "code",
   "execution_count": 48,
   "metadata": {},
   "outputs": [
    {
     "data": {
      "text/html": [
       "<div>\n",
       "<style scoped>\n",
       "    .dataframe tbody tr th:only-of-type {\n",
       "        vertical-align: middle;\n",
       "    }\n",
       "\n",
       "    .dataframe tbody tr th {\n",
       "        vertical-align: top;\n",
       "    }\n",
       "\n",
       "    .dataframe thead th {\n",
       "        text-align: right;\n",
       "    }\n",
       "</style>\n",
       "<table border=\"1\" class=\"dataframe\">\n",
       "  <thead>\n",
       "    <tr style=\"text-align: right;\">\n",
       "      <th></th>\n",
       "      <th>street</th>\n",
       "      <th>id</th>\n",
       "      <th>distinct</th>\n",
       "    </tr>\n",
       "  </thead>\n",
       "  <tbody>\n",
       "    <tr>\n",
       "      <th>0</th>\n",
       "      <td>улица Демьяна Бедного</td>\n",
       "      <td>1</td>\n",
       "      <td>район Арбат</td>\n",
       "    </tr>\n",
       "    <tr>\n",
       "      <th>1</th>\n",
       "      <td>Андреево-Забелинская улица</td>\n",
       "      <td>1</td>\n",
       "      <td>Донской район</td>\n",
       "    </tr>\n",
       "    <tr>\n",
       "      <th>2</th>\n",
       "      <td>1-й Саратовский проезд</td>\n",
       "      <td>1</td>\n",
       "      <td>район Перово</td>\n",
       "    </tr>\n",
       "    <tr>\n",
       "      <th>3</th>\n",
       "      <td>Андроньевская площадь</td>\n",
       "      <td>1</td>\n",
       "      <td>район Преображенское</td>\n",
       "    </tr>\n",
       "    <tr>\n",
       "      <th>4</th>\n",
       "      <td>2-й Стрелецкий проезд</td>\n",
       "      <td>1</td>\n",
       "      <td>район Замоскворечье</td>\n",
       "    </tr>\n",
       "  </tbody>\n",
       "</table>\n",
       "</div>"
      ],
      "text/plain": [
       "                       street  id              distinct\n",
       "0       улица Демьяна Бедного   1           район Арбат\n",
       "1  Андреево-Забелинская улица   1         Донской район\n",
       "2      1-й Саратовский проезд   1          район Перово\n",
       "3       Андроньевская площадь   1  район Преображенское\n",
       "4       2-й Стрелецкий проезд   1   район Замоскворечье"
      ]
     },
     "execution_count": 48,
     "metadata": {},
     "output_type": "execute_result"
    }
   ],
   "source": [
    "one_object_streets = one_object_streets.merge(df[['distinct', 'street']], on='street', how='left')\n",
    "one_object_streets.head()"
   ]
  },
  {
   "cell_type": "code",
   "execution_count": 49,
   "metadata": {},
   "outputs": [
    {
     "data": {
      "text/html": [
       "<div>\n",
       "<style scoped>\n",
       "    .dataframe tbody tr th:only-of-type {\n",
       "        vertical-align: middle;\n",
       "    }\n",
       "\n",
       "    .dataframe tbody tr th {\n",
       "        vertical-align: top;\n",
       "    }\n",
       "\n",
       "    .dataframe thead th {\n",
       "        text-align: right;\n",
       "    }\n",
       "</style>\n",
       "<table border=\"1\" class=\"dataframe\">\n",
       "  <thead>\n",
       "    <tr style=\"text-align: right;\">\n",
       "      <th></th>\n",
       "      <th>distinct</th>\n",
       "      <th>street</th>\n",
       "    </tr>\n",
       "  </thead>\n",
       "  <tbody>\n",
       "    <tr>\n",
       "      <th>0</th>\n",
       "      <td>Академический район</td>\n",
       "      <td>9</td>\n",
       "    </tr>\n",
       "    <tr>\n",
       "      <th>1</th>\n",
       "      <td>Алексеевский район</td>\n",
       "      <td>1</td>\n",
       "    </tr>\n",
       "    <tr>\n",
       "      <th>2</th>\n",
       "      <td>Басманный район</td>\n",
       "      <td>28</td>\n",
       "    </tr>\n",
       "    <tr>\n",
       "      <th>3</th>\n",
       "      <td>Бутырский район</td>\n",
       "      <td>5</td>\n",
       "    </tr>\n",
       "    <tr>\n",
       "      <th>4</th>\n",
       "      <td>Войковский район</td>\n",
       "      <td>5</td>\n",
       "    </tr>\n",
       "    <tr>\n",
       "      <th>...</th>\n",
       "      <td>...</td>\n",
       "      <td>...</td>\n",
       "    </tr>\n",
       "    <tr>\n",
       "      <th>57</th>\n",
       "      <td>район Чертаново Центральное</td>\n",
       "      <td>10</td>\n",
       "    </tr>\n",
       "    <tr>\n",
       "      <th>58</th>\n",
       "      <td>район Черёмушки</td>\n",
       "      <td>2</td>\n",
       "    </tr>\n",
       "    <tr>\n",
       "      <th>59</th>\n",
       "      <td>район Щукино</td>\n",
       "      <td>6</td>\n",
       "    </tr>\n",
       "    <tr>\n",
       "      <th>60</th>\n",
       "      <td>район Южное Тушино</td>\n",
       "      <td>2</td>\n",
       "    </tr>\n",
       "    <tr>\n",
       "      <th>61</th>\n",
       "      <td>район Якиманка</td>\n",
       "      <td>7</td>\n",
       "    </tr>\n",
       "  </tbody>\n",
       "</table>\n",
       "<p>62 rows × 2 columns</p>\n",
       "</div>"
      ],
      "text/plain": [
       "                       distinct  street\n",
       "0           Академический район       9\n",
       "1            Алексеевский район       1\n",
       "2               Басманный район      28\n",
       "3               Бутырский район       5\n",
       "4              Войковский район       5\n",
       "..                          ...     ...\n",
       "57  район Чертаново Центральное      10\n",
       "58              район Черёмушки       2\n",
       "59                 район Щукино       6\n",
       "60           район Южное Тушино       2\n",
       "61               район Якиманка       7\n",
       "\n",
       "[62 rows x 2 columns]"
      ]
     },
     "execution_count": 49,
     "metadata": {},
     "output_type": "execute_result"
    }
   ],
   "source": [
    "one_object_streets.pivot_table(index='distinct',\n",
    "                              values='street',\n",
    "                              aggfunc='count').reset_index()"
   ]
  },
  {
   "cell_type": "code",
   "execution_count": 50,
   "metadata": {
    "scrolled": false
   },
   "outputs": [
    {
     "data": {
      "image/png": "[encoded data removed]",
      "text/plain": [
       "<Figure size 1584x360 with 1 Axes>"
      ]
     },
     "metadata": {
      "needs_background": "light"
     },
     "output_type": "display_data"
    }
   ],
   "source": [
    "fig, ax = plt.subplots(figsize=(22, 5))\n",
    "ax.set_title('Распределение улиц с одним заведением общественного питания районам Москвы',\n",
    "             fontsize = 14,  fontweight='bold', loc = 'center', pad = 20\n",
    "            )\n",
    "ax = sns.barplot(x='distinct',\n",
    "                     y='street',\n",
    "                  data=one_object_streets.pivot_table(index='distinct',\n",
    "                              values='street',\n",
    "                              aggfunc='count').reset_index(),\n",
    "                  palette= ['#6495ED'],\n",
    "                                                   \n",
    "                 )\n",
    "ax.set_xlabel('Район', fontsize = 12)\n",
    "ax.set_ylabel('Количество улиц', fontsize = 12)\n",
    "\n",
    "ax.tick_params(axis='x', labelsize=12, rotation=90)\n",
    "\n",
    "plt.show()"
   ]
  },
  {
   "cell_type": "markdown",
   "metadata": {},
   "source": [
    "По полученной столбчатой диаграмме видно, как распределены улицы с всего одним заведением по районам Москвы. Большая их часть распологается в центральных районах города. Однако такой график мало что может нам рассказать о том, насколько переспективны эти районы как потенциальное место расположения кафе. Попробуем отразить на этом же графике распределение улиц с большим количеством заведений."
   ]
  },
  {
   "cell_type": "code",
   "execution_count": 51,
   "metadata": {},
   "outputs": [
    {
     "data": {
      "text/html": [
       "<div>\n",
       "<style scoped>\n",
       "    .dataframe tbody tr th:only-of-type {\n",
       "        vertical-align: middle;\n",
       "    }\n",
       "\n",
       "    .dataframe tbody tr th {\n",
       "        vertical-align: top;\n",
       "    }\n",
       "\n",
       "    .dataframe thead th {\n",
       "        text-align: right;\n",
       "    }\n",
       "</style>\n",
       "<table border=\"1\" class=\"dataframe\">\n",
       "  <thead>\n",
       "    <tr style=\"text-align: right;\">\n",
       "      <th></th>\n",
       "      <th>street</th>\n",
       "      <th>id</th>\n",
       "    </tr>\n",
       "  </thead>\n",
       "  <tbody>\n",
       "    <tr>\n",
       "      <th>1334</th>\n",
       "      <td>город Зеленоград</td>\n",
       "      <td>232</td>\n",
       "    </tr>\n",
       "    <tr>\n",
       "      <th>1452</th>\n",
       "      <td>проспект Мира</td>\n",
       "      <td>203</td>\n",
       "    </tr>\n",
       "    <tr>\n",
       "      <th>993</th>\n",
       "      <td>Профсоюзная улица</td>\n",
       "      <td>181</td>\n",
       "    </tr>\n",
       "    <tr>\n",
       "      <th>683</th>\n",
       "      <td>Ленинградский проспект</td>\n",
       "      <td>170</td>\n",
       "    </tr>\n",
       "    <tr>\n",
       "      <th>979</th>\n",
       "      <td>Пресненская набережная</td>\n",
       "      <td>167</td>\n",
       "    </tr>\n",
       "    <tr>\n",
       "      <th>...</th>\n",
       "      <td>...</td>\n",
       "      <td>...</td>\n",
       "    </tr>\n",
       "    <tr>\n",
       "      <th>369</th>\n",
       "      <td>Большой Саввинский переулок</td>\n",
       "      <td>14</td>\n",
       "    </tr>\n",
       "    <tr>\n",
       "      <th>1529</th>\n",
       "      <td>улица Бутлерова</td>\n",
       "      <td>14</td>\n",
       "    </tr>\n",
       "    <tr>\n",
       "      <th>1068</th>\n",
       "      <td>Сигнальный проезд</td>\n",
       "      <td>14</td>\n",
       "    </tr>\n",
       "    <tr>\n",
       "      <th>696</th>\n",
       "      <td>Липецкая улица</td>\n",
       "      <td>14</td>\n",
       "    </tr>\n",
       "    <tr>\n",
       "      <th>1186</th>\n",
       "      <td>Тимирязевская улица</td>\n",
       "      <td>14</td>\n",
       "    </tr>\n",
       "  </tbody>\n",
       "</table>\n",
       "<p>250 rows × 2 columns</p>\n",
       "</div>"
      ],
      "text/plain": [
       "                           street   id\n",
       "1334             город Зеленоград  232\n",
       "1452                проспект Мира  203\n",
       "993             Профсоюзная улица  181\n",
       "683        Ленинградский проспект  170\n",
       "979        Пресненская набережная  167\n",
       "...                           ...  ...\n",
       "369   Большой Саввинский переулок   14\n",
       "1529              улица Бутлерова   14\n",
       "1068            Сигнальный проезд   14\n",
       "696                Липецкая улица   14\n",
       "1186          Тимирязевская улица   14\n",
       "\n",
       "[250 rows x 2 columns]"
      ]
     },
     "execution_count": 51,
     "metadata": {},
     "output_type": "execute_result"
    }
   ],
   "source": [
    "# выделим 300 улиц с самым большим количеством объектов\n",
    "many_object_streets = data.pivot_table(index='street', \n",
    "                                  values='id', \n",
    "                                  aggfunc='count').reset_index().sort_values(by='id', ascending=False).head(250)\n",
    "many_object_streets"
   ]
  },
  {
   "cell_type": "code",
   "execution_count": 52,
   "metadata": {},
   "outputs": [
    {
     "data": {
      "text/html": [
       "<div>\n",
       "<style scoped>\n",
       "    .dataframe tbody tr th:only-of-type {\n",
       "        vertical-align: middle;\n",
       "    }\n",
       "\n",
       "    .dataframe tbody tr th {\n",
       "        vertical-align: top;\n",
       "    }\n",
       "\n",
       "    .dataframe thead th {\n",
       "        text-align: right;\n",
       "    }\n",
       "</style>\n",
       "<table border=\"1\" class=\"dataframe\">\n",
       "  <thead>\n",
       "    <tr style=\"text-align: right;\">\n",
       "      <th></th>\n",
       "      <th>street</th>\n",
       "      <th>id</th>\n",
       "    </tr>\n",
       "  </thead>\n",
       "  <tbody>\n",
       "    <tr>\n",
       "      <th>1452</th>\n",
       "      <td>проспект Мира</td>\n",
       "      <td>203</td>\n",
       "    </tr>\n",
       "    <tr>\n",
       "      <th>993</th>\n",
       "      <td>Профсоюзная улица</td>\n",
       "      <td>181</td>\n",
       "    </tr>\n",
       "    <tr>\n",
       "      <th>683</th>\n",
       "      <td>Ленинградский проспект</td>\n",
       "      <td>170</td>\n",
       "    </tr>\n",
       "    <tr>\n",
       "      <th>979</th>\n",
       "      <td>Пресненская набережная</td>\n",
       "      <td>167</td>\n",
       "    </tr>\n",
       "    <tr>\n",
       "      <th>407</th>\n",
       "      <td>Варшавское шоссе</td>\n",
       "      <td>161</td>\n",
       "    </tr>\n",
       "    <tr>\n",
       "      <th>...</th>\n",
       "      <td>...</td>\n",
       "      <td>...</td>\n",
       "    </tr>\n",
       "    <tr>\n",
       "      <th>369</th>\n",
       "      <td>Большой Саввинский переулок</td>\n",
       "      <td>14</td>\n",
       "    </tr>\n",
       "    <tr>\n",
       "      <th>1529</th>\n",
       "      <td>улица Бутлерова</td>\n",
       "      <td>14</td>\n",
       "    </tr>\n",
       "    <tr>\n",
       "      <th>1068</th>\n",
       "      <td>Сигнальный проезд</td>\n",
       "      <td>14</td>\n",
       "    </tr>\n",
       "    <tr>\n",
       "      <th>696</th>\n",
       "      <td>Липецкая улица</td>\n",
       "      <td>14</td>\n",
       "    </tr>\n",
       "    <tr>\n",
       "      <th>1186</th>\n",
       "      <td>Тимирязевская улица</td>\n",
       "      <td>14</td>\n",
       "    </tr>\n",
       "  </tbody>\n",
       "</table>\n",
       "<p>235 rows × 2 columns</p>\n",
       "</div>"
      ],
      "text/plain": [
       "                           street   id\n",
       "1452                проспект Мира  203\n",
       "993             Профсоюзная улица  181\n",
       "683        Ленинградский проспект  170\n",
       "979        Пресненская набережная  167\n",
       "407              Варшавское шоссе  161\n",
       "...                           ...  ...\n",
       "369   Большой Саввинский переулок   14\n",
       "1529              улица Бутлерова   14\n",
       "1068            Сигнальный проезд   14\n",
       "696                Липецкая улица   14\n",
       "1186          Тимирязевская улица   14\n",
       "\n",
       "[235 rows x 2 columns]"
      ]
     },
     "execution_count": 52,
     "metadata": {},
     "output_type": "execute_result"
    }
   ],
   "source": [
    "# применим к полученной таблице ранее написанную функцию устранения ошибок парсинга\n",
    "many_object_streets['street'] = many_object_streets['street'].apply(street_names_func)\n",
    "many_object_streets = many_object_streets[many_object_streets['street'] != 'error']\n",
    "many_object_streets"
   ]
  },
  {
   "cell_type": "code",
   "execution_count": 53,
   "metadata": {},
   "outputs": [
    {
     "data": {
      "text/html": [
       "<div>\n",
       "<style scoped>\n",
       "    .dataframe tbody tr th:only-of-type {\n",
       "        vertical-align: middle;\n",
       "    }\n",
       "\n",
       "    .dataframe tbody tr th {\n",
       "        vertical-align: top;\n",
       "    }\n",
       "\n",
       "    .dataframe thead th {\n",
       "        text-align: right;\n",
       "    }\n",
       "</style>\n",
       "<table border=\"1\" class=\"dataframe\">\n",
       "  <thead>\n",
       "    <tr style=\"text-align: right;\">\n",
       "      <th></th>\n",
       "      <th>street</th>\n",
       "      <th>id</th>\n",
       "      <th>distinct</th>\n",
       "    </tr>\n",
       "  </thead>\n",
       "  <tbody>\n",
       "    <tr>\n",
       "      <th>0</th>\n",
       "      <td>проспект Мира</td>\n",
       "      <td>203</td>\n",
       "      <td>Пресненский район</td>\n",
       "    </tr>\n",
       "    <tr>\n",
       "      <th>1</th>\n",
       "      <td>проспект Мира</td>\n",
       "      <td>203</td>\n",
       "      <td>Тверской район</td>\n",
       "    </tr>\n",
       "    <tr>\n",
       "      <th>2</th>\n",
       "      <td>проспект Мира</td>\n",
       "      <td>203</td>\n",
       "      <td>Таганский район</td>\n",
       "    </tr>\n",
       "    <tr>\n",
       "      <th>3</th>\n",
       "      <td>проспект Мира</td>\n",
       "      <td>203</td>\n",
       "      <td>район Чертаново Центральное</td>\n",
       "    </tr>\n",
       "    <tr>\n",
       "      <th>4</th>\n",
       "      <td>проспект Мира</td>\n",
       "      <td>203</td>\n",
       "      <td>район Черёмушки</td>\n",
       "    </tr>\n",
       "  </tbody>\n",
       "</table>\n",
       "</div>"
      ],
      "text/plain": [
       "          street   id                     distinct\n",
       "0  проспект Мира  203            Пресненский район\n",
       "1  проспект Мира  203               Тверской район\n",
       "2  проспект Мира  203              Таганский район\n",
       "3  проспект Мира  203  район Чертаново Центральное\n",
       "4  проспект Мира  203              район Черёмушки"
      ]
     },
     "execution_count": 53,
     "metadata": {},
     "output_type": "execute_result"
    }
   ],
   "source": [
    "# добавим названия районов\n",
    "many_object_streets = many_object_streets.merge(df[['distinct', 'street']], on='street', how='left')\n",
    "many_object_streets.head()"
   ]
  },
  {
   "cell_type": "code",
   "execution_count": 54,
   "metadata": {},
   "outputs": [
    {
     "data": {
      "text/html": [
       "<div>\n",
       "<style scoped>\n",
       "    .dataframe tbody tr th:only-of-type {\n",
       "        vertical-align: middle;\n",
       "    }\n",
       "\n",
       "    .dataframe tbody tr th {\n",
       "        vertical-align: top;\n",
       "    }\n",
       "\n",
       "    .dataframe thead th {\n",
       "        text-align: right;\n",
       "    }\n",
       "</style>\n",
       "<table border=\"1\" class=\"dataframe\">\n",
       "  <thead>\n",
       "    <tr style=\"text-align: right;\">\n",
       "      <th></th>\n",
       "      <th>distinct</th>\n",
       "      <th>street</th>\n",
       "      <th>flag</th>\n",
       "    </tr>\n",
       "  </thead>\n",
       "  <tbody>\n",
       "    <tr>\n",
       "      <th>0</th>\n",
       "      <td>Академический район</td>\n",
       "      <td>7</td>\n",
       "      <td>True</td>\n",
       "    </tr>\n",
       "    <tr>\n",
       "      <th>1</th>\n",
       "      <td>Алексеевский район</td>\n",
       "      <td>4</td>\n",
       "      <td>True</td>\n",
       "    </tr>\n",
       "    <tr>\n",
       "      <th>2</th>\n",
       "      <td>Алтуфьевский район</td>\n",
       "      <td>1</td>\n",
       "      <td>True</td>\n",
       "    </tr>\n",
       "    <tr>\n",
       "      <th>3</th>\n",
       "      <td>Бабушкинский район</td>\n",
       "      <td>2</td>\n",
       "      <td>True</td>\n",
       "    </tr>\n",
       "    <tr>\n",
       "      <th>4</th>\n",
       "      <td>Басманный район</td>\n",
       "      <td>94</td>\n",
       "      <td>True</td>\n",
       "    </tr>\n",
       "    <tr>\n",
       "      <th>...</th>\n",
       "      <td>...</td>\n",
       "      <td>...</td>\n",
       "      <td>...</td>\n",
       "    </tr>\n",
       "    <tr>\n",
       "      <th>81</th>\n",
       "      <td>район Черёмушки</td>\n",
       "      <td>8</td>\n",
       "      <td>True</td>\n",
       "    </tr>\n",
       "    <tr>\n",
       "      <th>82</th>\n",
       "      <td>район Щукино</td>\n",
       "      <td>4</td>\n",
       "      <td>True</td>\n",
       "    </tr>\n",
       "    <tr>\n",
       "      <th>83</th>\n",
       "      <td>район Южное Тушино</td>\n",
       "      <td>9</td>\n",
       "      <td>True</td>\n",
       "    </tr>\n",
       "    <tr>\n",
       "      <th>84</th>\n",
       "      <td>район Якиманка</td>\n",
       "      <td>40</td>\n",
       "      <td>True</td>\n",
       "    </tr>\n",
       "    <tr>\n",
       "      <th>85</th>\n",
       "      <td>район Ясенево</td>\n",
       "      <td>4</td>\n",
       "      <td>True</td>\n",
       "    </tr>\n",
       "  </tbody>\n",
       "</table>\n",
       "<p>86 rows × 3 columns</p>\n",
       "</div>"
      ],
      "text/plain": [
       "               distinct  street  flag\n",
       "0   Академический район       7  True\n",
       "1    Алексеевский район       4  True\n",
       "2    Алтуфьевский район       1  True\n",
       "3    Бабушкинский район       2  True\n",
       "4       Басманный район      94  True\n",
       "..                  ...     ...   ...\n",
       "81      район Черёмушки       8  True\n",
       "82         район Щукино       4  True\n",
       "83   район Южное Тушино       9  True\n",
       "84       район Якиманка      40  True\n",
       "85        район Ясенево       4  True\n",
       "\n",
       "[86 rows x 3 columns]"
      ]
     },
     "execution_count": 54,
     "metadata": {},
     "output_type": "execute_result"
    }
   ],
   "source": [
    "#  соберем сводную таблицу. В столбец flag поместим логическое значение :\n",
    "# True - улицы с большим количеством заведений, False - улицы с 1 заведением\n",
    "# этот столбец нам понадобится при построении графика\n",
    "distinct_pivot = many_object_streets.pivot_table(index='distinct',\n",
    "                              values='street',\n",
    "                              aggfunc='count').reset_index()\n",
    "distinct_pivot['flag'] = True \n",
    "distinct_pivot"
   ]
  },
  {
   "cell_type": "code",
   "execution_count": 55,
   "metadata": {
    "scrolled": true
   },
   "outputs": [
    {
     "data": {
      "text/html": [
       "<div>\n",
       "<style scoped>\n",
       "    .dataframe tbody tr th:only-of-type {\n",
       "        vertical-align: middle;\n",
       "    }\n",
       "\n",
       "    .dataframe tbody tr th {\n",
       "        vertical-align: top;\n",
       "    }\n",
       "\n",
       "    .dataframe thead th {\n",
       "        text-align: right;\n",
       "    }\n",
       "</style>\n",
       "<table border=\"1\" class=\"dataframe\">\n",
       "  <thead>\n",
       "    <tr style=\"text-align: right;\">\n",
       "      <th></th>\n",
       "      <th>distinct</th>\n",
       "      <th>street</th>\n",
       "      <th>flag</th>\n",
       "    </tr>\n",
       "  </thead>\n",
       "  <tbody>\n",
       "    <tr>\n",
       "      <th>0</th>\n",
       "      <td>Академический район</td>\n",
       "      <td>9</td>\n",
       "      <td>False</td>\n",
       "    </tr>\n",
       "    <tr>\n",
       "      <th>1</th>\n",
       "      <td>Алексеевский район</td>\n",
       "      <td>1</td>\n",
       "      <td>False</td>\n",
       "    </tr>\n",
       "    <tr>\n",
       "      <th>2</th>\n",
       "      <td>Басманный район</td>\n",
       "      <td>28</td>\n",
       "      <td>False</td>\n",
       "    </tr>\n",
       "    <tr>\n",
       "      <th>3</th>\n",
       "      <td>Бутырский район</td>\n",
       "      <td>5</td>\n",
       "      <td>False</td>\n",
       "    </tr>\n",
       "    <tr>\n",
       "      <th>4</th>\n",
       "      <td>Войковский район</td>\n",
       "      <td>5</td>\n",
       "      <td>False</td>\n",
       "    </tr>\n",
       "    <tr>\n",
       "      <th>...</th>\n",
       "      <td>...</td>\n",
       "      <td>...</td>\n",
       "      <td>...</td>\n",
       "    </tr>\n",
       "    <tr>\n",
       "      <th>57</th>\n",
       "      <td>район Чертаново Центральное</td>\n",
       "      <td>10</td>\n",
       "      <td>False</td>\n",
       "    </tr>\n",
       "    <tr>\n",
       "      <th>58</th>\n",
       "      <td>район Черёмушки</td>\n",
       "      <td>2</td>\n",
       "      <td>False</td>\n",
       "    </tr>\n",
       "    <tr>\n",
       "      <th>59</th>\n",
       "      <td>район Щукино</td>\n",
       "      <td>6</td>\n",
       "      <td>False</td>\n",
       "    </tr>\n",
       "    <tr>\n",
       "      <th>60</th>\n",
       "      <td>район Южное Тушино</td>\n",
       "      <td>2</td>\n",
       "      <td>False</td>\n",
       "    </tr>\n",
       "    <tr>\n",
       "      <th>61</th>\n",
       "      <td>район Якиманка</td>\n",
       "      <td>7</td>\n",
       "      <td>False</td>\n",
       "    </tr>\n",
       "  </tbody>\n",
       "</table>\n",
       "<p>62 rows × 3 columns</p>\n",
       "</div>"
      ],
      "text/plain": [
       "                       distinct  street   flag\n",
       "0           Академический район       9  False\n",
       "1            Алексеевский район       1  False\n",
       "2               Басманный район      28  False\n",
       "3               Бутырский район       5  False\n",
       "4              Войковский район       5  False\n",
       "..                          ...     ...    ...\n",
       "57  район Чертаново Центральное      10  False\n",
       "58              район Черёмушки       2  False\n",
       "59                 район Щукино       6  False\n",
       "60           район Южное Тушино       2  False\n",
       "61               район Якиманка       7  False\n",
       "\n",
       "[62 rows x 3 columns]"
      ]
     },
     "execution_count": 55,
     "metadata": {},
     "output_type": "execute_result"
    }
   ],
   "source": [
    "# проведем все те же манипуляции для улиц с 1 объектом\n",
    "temp = one_object_streets.pivot_table(index='distinct',\n",
    "                               values='street',\n",
    "                               aggfunc='count').reset_index()\n",
    "temp['flag'] = False\n",
    "temp"
   ]
  },
  {
   "cell_type": "code",
   "execution_count": 56,
   "metadata": {},
   "outputs": [
    {
     "data": {
      "text/html": [
       "<div>\n",
       "<style scoped>\n",
       "    .dataframe tbody tr th:only-of-type {\n",
       "        vertical-align: middle;\n",
       "    }\n",
       "\n",
       "    .dataframe tbody tr th {\n",
       "        vertical-align: top;\n",
       "    }\n",
       "\n",
       "    .dataframe thead th {\n",
       "        text-align: right;\n",
       "    }\n",
       "</style>\n",
       "<table border=\"1\" class=\"dataframe\">\n",
       "  <thead>\n",
       "    <tr style=\"text-align: right;\">\n",
       "      <th></th>\n",
       "      <th>distinct</th>\n",
       "      <th>street</th>\n",
       "      <th>flag</th>\n",
       "    </tr>\n",
       "  </thead>\n",
       "  <tbody>\n",
       "    <tr>\n",
       "      <th>0</th>\n",
       "      <td>Академический район</td>\n",
       "      <td>7</td>\n",
       "      <td>True</td>\n",
       "    </tr>\n",
       "    <tr>\n",
       "      <th>86</th>\n",
       "      <td>Академический район</td>\n",
       "      <td>9</td>\n",
       "      <td>False</td>\n",
       "    </tr>\n",
       "    <tr>\n",
       "      <th>1</th>\n",
       "      <td>Алексеевский район</td>\n",
       "      <td>4</td>\n",
       "      <td>True</td>\n",
       "    </tr>\n",
       "    <tr>\n",
       "      <th>87</th>\n",
       "      <td>Алексеевский район</td>\n",
       "      <td>1</td>\n",
       "      <td>False</td>\n",
       "    </tr>\n",
       "    <tr>\n",
       "      <th>2</th>\n",
       "      <td>Алтуфьевский район</td>\n",
       "      <td>1</td>\n",
       "      <td>True</td>\n",
       "    </tr>\n",
       "    <tr>\n",
       "      <th>...</th>\n",
       "      <td>...</td>\n",
       "      <td>...</td>\n",
       "      <td>...</td>\n",
       "    </tr>\n",
       "    <tr>\n",
       "      <th>146</th>\n",
       "      <td>район Южное Тушино</td>\n",
       "      <td>2</td>\n",
       "      <td>False</td>\n",
       "    </tr>\n",
       "    <tr>\n",
       "      <th>83</th>\n",
       "      <td>район Южное Тушино</td>\n",
       "      <td>9</td>\n",
       "      <td>True</td>\n",
       "    </tr>\n",
       "    <tr>\n",
       "      <th>84</th>\n",
       "      <td>район Якиманка</td>\n",
       "      <td>40</td>\n",
       "      <td>True</td>\n",
       "    </tr>\n",
       "    <tr>\n",
       "      <th>147</th>\n",
       "      <td>район Якиманка</td>\n",
       "      <td>7</td>\n",
       "      <td>False</td>\n",
       "    </tr>\n",
       "    <tr>\n",
       "      <th>85</th>\n",
       "      <td>район Ясенево</td>\n",
       "      <td>4</td>\n",
       "      <td>True</td>\n",
       "    </tr>\n",
       "  </tbody>\n",
       "</table>\n",
       "<p>148 rows × 3 columns</p>\n",
       "</div>"
      ],
      "text/plain": [
       "                distinct  street   flag\n",
       "0    Академический район       7   True\n",
       "86   Академический район       9  False\n",
       "1     Алексеевский район       4   True\n",
       "87    Алексеевский район       1  False\n",
       "2     Алтуфьевский район       1   True\n",
       "..                   ...     ...    ...\n",
       "146   район Южное Тушино       2  False\n",
       "83    район Южное Тушино       9   True\n",
       "84        район Якиманка      40   True\n",
       "147       район Якиманка       7  False\n",
       "85         район Ясенево       4   True\n",
       "\n",
       "[148 rows x 3 columns]"
      ]
     },
     "execution_count": 56,
     "metadata": {},
     "output_type": "execute_result"
    }
   ],
   "source": [
    "# соберем общую сводную таблицу\n",
    "distinct_pivot = pd.concat([distinct_pivot, temp], ignore_index=True)\n",
    "distinct_pivot.sort_values(by='distinct')"
   ]
  },
  {
   "cell_type": "code",
   "execution_count": 57,
   "metadata": {},
   "outputs": [
    {
     "data": {
      "image/png": "[encoded data removed]",
      "text/plain": [
       "<Figure size 1584x360 with 1 Axes>"
      ]
     },
     "metadata": {
      "needs_background": "light"
     },
     "output_type": "display_data"
    }
   ],
   "source": [
    "fig, ax = plt.subplots(figsize=(22, 5))\n",
    "ax.set_title('Распределение улиц с разным количеством объектов общественного питания районам Москвы',\n",
    "             fontsize = 14,  fontweight='bold', loc = 'center', pad = 20\n",
    "            )\n",
    "ax = sns.barplot(x='distinct',\n",
    "                 y='street',\n",
    "                 hue='flag',\n",
    "                 data=distinct_pivot,\n",
    "                 palette= ['#40E0D0', '#4682B4']                                                   \n",
    "                 )\n",
    "ax.set_xlabel('Район', fontsize = 12)\n",
    "ax.set_ylabel('Количество улиц', fontsize = 12)\n",
    "\n",
    "ax.tick_params(axis='x', labelsize=12, rotation=90)\n",
    "\n",
    "plt.show()"
   ]
  },
  {
   "cell_type": "markdown",
   "metadata": {},
   "source": [
    "Полученный график выглядит довольно тяжелым для восприятия: нужно присмотреться, чтобы понять что в нем происходит. Однако, если все же это сделать, можно заметить некоторые закономерности, которые могут стать хорошей почвой для дальнейшего более детального исследования в поиске максимально удачного места для нового заведения. \n",
    "\n",
    "Так, например, мы можем заметить, что есть районы, где сосредоточено очень много улиц с большим количеством заведений и мало улиц с 1 заведением (Басманский, Пресненский, Таганский, Тверской, Хамовники). Это означает, что эти районы имеют достаточную проходимость, а значит потенциально прибыльны. Но с другой стороны, и конкурентность в них значительно выше. Возможно, имеет смысл рассматривать улицы с 1 заведением общепита в этом районе, как потенциальные места для открытия нового заведения, ведь на этих улицах мы имеем совокупность факторов: \"проходимый район\" + \"меньше конкурентов на одной улице\". \n",
    "\n",
    "Однако, эти районы находятся в самом центре Москвы - открытие заведения там будет стоить очень дорого. С точки зрения \"удешевления\" проекта, можно рассмотреть районы немного смещенные от центра. Хорошими вариантами могут быть - Даниловский, Аэропорт, Беговой, Дорогомилово, Марьина Роща, Соколиная гора, Сокольники.\n",
    "\n",
    "Разумеется, далее следует более детально изучить расположение и специфику перечисленных районов, и только после этого принимать решение об открытии новой точки общепита."
   ]
  },
  {
   "cell_type": "markdown",
   "metadata": {},
   "source": [
    "## Вывод"
   ]
  },
  {
   "cell_type": "markdown",
   "metadata": {},
   "source": [
    "Концепция кафе с роботами-официантами выглядит весьма необычной и многообещающей. Для успешной ее реализации следует принять во внимание основные тенденции в сфере общепита на сегодняшний день, и тогда это может принести хороший результат.\n",
    "\n",
    "1. Выбор открытия именно кафе, а не другого типа заведения, очень хорош. На рынке предприятий общественного питания 40% объектов - как раз кафе. Они успешно работают, а значит, клиенты охотно туда приходят.\n",
    "2. Согласно исследованию, оптимальное количество посадочных мест в кафе - около 40. \n",
    "3. Если рассматривается вариант об открытии сети заведений, стоит начать с развития небольшого количества филиалов (1-3). Как показывает практика, такие небольшие сети более распространены, а значит, они лучше удерживаются на рынке.\n",
    "4. В качестве места для нового кафе следует искать район, где проходимость клиентов как можно больше, а конкурентность - как можно меньше. Тут можно обратить внимание на районы: Басманский, Пресненский, Таганский, Тверской, Хамовники. Это центральные районы, в них всегда большая проходимость клиентов, однако, согласно исследованию, в них есть улицы с совсем небольшим числом заведений, а значит, конкурентность на таких улицах ниже - и они могут быть перспективными.\n",
    "5. Если открытие заведения в самом сердце Москвы пока финансово не осуществимо, можно обратить внимание на чуть более отдаленные районы - Даниловский, Аэропорт, Беговой, Дорогомилово, Марьина Роща, Соколиная гора, Сокольники. Эти районы тоже достаточно проходимы и там тоже есть улицы с меньшей конкуренцией, которые могут быть потенциально интересны.\n",
    "\n"
   ]
  },
  {
   "cell_type": "markdown",
   "metadata": {},
   "source": [
    "Презентация для инвесторов, которая расскажет о текущем положении дел на рынке общепита:\n",
    "<https://drive.google.com/file/d/12br0Z0hq4IYVyi3mJuaG_HYmkHJ7h4se/view?usp=sharing>"
   ]
  },
  {
   "cell_type": "code",
   "execution_count": null,
   "metadata": {},
   "outputs": [],
   "source": []
  }
 ],
 "metadata": {
  "ExecuteTimeLog": [
   {
    "duration": 441,
    "start_time": "2022-06-07T12:37:51.913Z"
   },
   {
    "duration": 151,
    "start_time": "2022-06-07T12:38:22.215Z"
   },
   {
    "duration": 84,
    "start_time": "2022-06-07T12:38:37.288Z"
   },
   {
    "duration": 88,
    "start_time": "2022-06-07T12:38:46.757Z"
   },
   {
    "duration": 72,
    "start_time": "2022-06-07T12:38:50.171Z"
   },
   {
    "duration": 108,
    "start_time": "2022-06-07T12:38:57.000Z"
   },
   {
    "duration": 95,
    "start_time": "2022-06-07T12:39:02.862Z"
   },
   {
    "duration": 12,
    "start_time": "2022-06-07T12:49:55.777Z"
   },
   {
    "duration": 7,
    "start_time": "2022-06-07T13:04:18.220Z"
   },
   {
    "duration": 42,
    "start_time": "2022-06-07T13:04:30.621Z"
   },
   {
    "duration": 12,
    "start_time": "2022-06-07T13:05:02.366Z"
   },
   {
    "duration": 4,
    "start_time": "2022-06-07T13:05:10.418Z"
   },
   {
    "duration": 13,
    "start_time": "2022-06-07T13:05:19.577Z"
   },
   {
    "duration": 95,
    "start_time": "2022-06-07T13:06:16.573Z"
   },
   {
    "duration": 95,
    "start_time": "2022-06-07T13:06:24.225Z"
   },
   {
    "duration": 4,
    "start_time": "2022-06-07T13:06:32.781Z"
   },
   {
    "duration": 13,
    "start_time": "2022-06-07T13:06:37.410Z"
   },
   {
    "duration": 21,
    "start_time": "2022-06-07T13:07:04.569Z"
   },
   {
    "duration": 4,
    "start_time": "2022-06-07T13:15:50.932Z"
   },
   {
    "duration": 12,
    "start_time": "2022-06-07T13:17:30.028Z"
   },
   {
    "duration": 45,
    "start_time": "2022-06-07T13:24:06.437Z"
   },
   {
    "duration": 9,
    "start_time": "2022-06-07T13:24:15.511Z"
   },
   {
    "duration": 8,
    "start_time": "2022-06-07T13:24:50.580Z"
   },
   {
    "duration": 7,
    "start_time": "2022-06-07T13:25:12.677Z"
   },
   {
    "duration": 7,
    "start_time": "2022-06-07T13:25:25.436Z"
   },
   {
    "duration": 6,
    "start_time": "2022-06-07T13:25:44.520Z"
   },
   {
    "duration": 6,
    "start_time": "2022-06-07T13:26:12.428Z"
   },
   {
    "duration": 7,
    "start_time": "2022-06-07T13:27:53.864Z"
   },
   {
    "duration": 6,
    "start_time": "2022-06-07T13:28:09.564Z"
   },
   {
    "duration": 596,
    "start_time": "2022-06-08T13:59:14.743Z"
   },
   {
    "duration": 5,
    "start_time": "2022-06-08T13:59:18.961Z"
   },
   {
    "duration": 26,
    "start_time": "2022-06-08T13:59:20.846Z"
   },
   {
    "duration": 5,
    "start_time": "2022-06-08T13:59:31.854Z"
   },
   {
    "duration": 26,
    "start_time": "2022-06-08T14:06:56.647Z"
   },
   {
    "duration": 31,
    "start_time": "2022-06-08T14:07:05.235Z"
   },
   {
    "duration": 4,
    "start_time": "2022-06-08T14:07:52.374Z"
   },
   {
    "duration": 4,
    "start_time": "2022-06-08T14:08:23.422Z"
   },
   {
    "duration": 19,
    "start_time": "2022-06-08T14:08:44.561Z"
   },
   {
    "duration": 5,
    "start_time": "2022-06-08T14:09:29.903Z"
   },
   {
    "duration": 6,
    "start_time": "2022-06-08T14:09:39.948Z"
   },
   {
    "duration": 6,
    "start_time": "2022-06-08T14:15:25.999Z"
   },
   {
    "duration": 2,
    "start_time": "2022-06-08T14:21:04.554Z"
   },
   {
    "duration": 73,
    "start_time": "2022-06-08T14:24:21.864Z"
   },
   {
    "duration": 263,
    "start_time": "2022-06-08T14:24:46.017Z"
   },
   {
    "duration": 10,
    "start_time": "2022-06-08T14:24:58.261Z"
   },
   {
    "duration": 8,
    "start_time": "2022-06-08T14:25:35.838Z"
   },
   {
    "duration": 7,
    "start_time": "2022-06-08T14:25:45.128Z"
   },
   {
    "duration": 20,
    "start_time": "2022-06-08T14:25:55.472Z"
   },
   {
    "duration": 3,
    "start_time": "2022-06-08T14:26:08.176Z"
   },
   {
    "duration": 464,
    "start_time": "2022-06-08T14:26:30.611Z"
   },
   {
    "duration": 4606,
    "start_time": "2022-06-08T14:26:31.077Z"
   },
   {
    "duration": 3689,
    "start_time": "2022-06-08T14:26:35.685Z"
   },
   {
    "duration": 1181,
    "start_time": "2022-06-08T14:26:39.377Z"
   },
   {
    "duration": 2272,
    "start_time": "2022-06-08T14:26:40.560Z"
   },
   {
    "duration": 38,
    "start_time": "2022-06-08T14:26:42.833Z"
   },
   {
    "duration": 51,
    "start_time": "2022-06-08T14:26:42.873Z"
   },
   {
    "duration": 15,
    "start_time": "2022-06-08T14:26:42.927Z"
   },
   {
    "duration": 16,
    "start_time": "2022-06-08T14:26:42.944Z"
   },
   {
    "duration": 43,
    "start_time": "2022-06-08T14:26:42.962Z"
   },
   {
    "duration": 525,
    "start_time": "2022-06-08T14:27:33.853Z"
   },
   {
    "duration": 451,
    "start_time": "2022-06-08T14:27:51.847Z"
   },
   {
    "duration": 417,
    "start_time": "2022-06-08T14:28:03.754Z"
   },
   {
    "duration": 15,
    "start_time": "2022-06-08T14:30:51.095Z"
   },
   {
    "duration": 531,
    "start_time": "2022-06-29T16:15:56.083Z"
   },
   {
    "duration": 15,
    "start_time": "2022-06-29T16:15:56.616Z"
   },
   {
    "duration": 17,
    "start_time": "2022-06-29T16:15:56.632Z"
   },
   {
    "duration": 24,
    "start_time": "2022-06-29T16:15:56.651Z"
   },
   {
    "duration": 90,
    "start_time": "2022-06-29T16:15:56.677Z"
   },
   {
    "duration": 0,
    "start_time": "2022-06-29T16:15:56.772Z"
   },
   {
    "duration": 0,
    "start_time": "2022-06-29T16:15:56.774Z"
   },
   {
    "duration": 0,
    "start_time": "2022-06-29T16:15:56.775Z"
   },
   {
    "duration": 0,
    "start_time": "2022-06-29T16:15:56.777Z"
   },
   {
    "duration": 0,
    "start_time": "2022-06-29T16:15:56.778Z"
   },
   {
    "duration": 0,
    "start_time": "2022-06-29T16:15:56.779Z"
   },
   {
    "duration": 0,
    "start_time": "2022-06-29T16:15:56.780Z"
   },
   {
    "duration": 0,
    "start_time": "2022-06-29T16:15:56.782Z"
   },
   {
    "duration": 0,
    "start_time": "2022-06-29T16:15:56.783Z"
   },
   {
    "duration": 0,
    "start_time": "2022-06-29T16:15:56.784Z"
   },
   {
    "duration": 0,
    "start_time": "2022-06-29T16:15:56.785Z"
   },
   {
    "duration": 0,
    "start_time": "2022-06-29T16:15:56.786Z"
   },
   {
    "duration": 0,
    "start_time": "2022-06-29T16:15:56.787Z"
   },
   {
    "duration": 0,
    "start_time": "2022-06-29T16:15:56.788Z"
   },
   {
    "duration": 0,
    "start_time": "2022-06-29T16:15:56.789Z"
   },
   {
    "duration": 0,
    "start_time": "2022-06-29T16:15:56.790Z"
   },
   {
    "duration": 0,
    "start_time": "2022-06-29T16:15:56.791Z"
   },
   {
    "duration": 0,
    "start_time": "2022-06-29T16:15:56.792Z"
   },
   {
    "duration": 0,
    "start_time": "2022-06-29T16:15:56.793Z"
   },
   {
    "duration": 0,
    "start_time": "2022-06-29T16:15:56.794Z"
   },
   {
    "duration": 0,
    "start_time": "2022-06-29T16:15:56.795Z"
   },
   {
    "duration": 0,
    "start_time": "2022-06-29T16:15:56.796Z"
   },
   {
    "duration": 0,
    "start_time": "2022-06-29T16:15:56.797Z"
   },
   {
    "duration": 0,
    "start_time": "2022-06-29T16:15:56.798Z"
   },
   {
    "duration": 0,
    "start_time": "2022-06-29T16:15:56.799Z"
   },
   {
    "duration": 0,
    "start_time": "2022-06-29T16:15:56.800Z"
   },
   {
    "duration": 0,
    "start_time": "2022-06-29T16:15:56.855Z"
   },
   {
    "duration": 0,
    "start_time": "2022-06-29T16:15:56.856Z"
   },
   {
    "duration": 0,
    "start_time": "2022-06-29T16:15:56.857Z"
   },
   {
    "duration": 0,
    "start_time": "2022-06-29T16:15:56.858Z"
   },
   {
    "duration": 0,
    "start_time": "2022-06-29T16:15:56.859Z"
   },
   {
    "duration": 0,
    "start_time": "2022-06-29T16:15:56.860Z"
   },
   {
    "duration": 0,
    "start_time": "2022-06-29T16:15:56.861Z"
   },
   {
    "duration": 0,
    "start_time": "2022-06-29T16:15:56.861Z"
   },
   {
    "duration": 0,
    "start_time": "2022-06-29T16:15:56.862Z"
   },
   {
    "duration": 0,
    "start_time": "2022-06-29T16:15:56.866Z"
   },
   {
    "duration": 0,
    "start_time": "2022-06-29T16:15:56.868Z"
   },
   {
    "duration": 0,
    "start_time": "2022-06-29T16:15:56.869Z"
   },
   {
    "duration": 0,
    "start_time": "2022-06-29T16:15:56.870Z"
   },
   {
    "duration": 0,
    "start_time": "2022-06-29T16:15:56.872Z"
   },
   {
    "duration": 0,
    "start_time": "2022-06-29T16:15:56.873Z"
   },
   {
    "duration": 1,
    "start_time": "2022-06-29T16:15:56.874Z"
   },
   {
    "duration": 0,
    "start_time": "2022-06-29T16:15:56.876Z"
   },
   {
    "duration": 0,
    "start_time": "2022-06-29T16:15:56.878Z"
   },
   {
    "duration": 0,
    "start_time": "2022-06-29T16:15:56.879Z"
   },
   {
    "duration": 0,
    "start_time": "2022-06-29T16:15:56.880Z"
   },
   {
    "duration": 82,
    "start_time": "2022-06-29T16:16:24.068Z"
   },
   {
    "duration": 22,
    "start_time": "2022-06-29T16:16:24.153Z"
   },
   {
    "duration": 16,
    "start_time": "2022-06-29T16:16:24.178Z"
   },
   {
    "duration": 14,
    "start_time": "2022-06-29T16:16:24.196Z"
   },
   {
    "duration": 13,
    "start_time": "2022-06-29T16:16:24.212Z"
   },
   {
    "duration": 0,
    "start_time": "2022-06-29T16:16:24.228Z"
   },
   {
    "duration": 0,
    "start_time": "2022-06-29T16:16:24.229Z"
   },
   {
    "duration": 0,
    "start_time": "2022-06-29T16:16:24.253Z"
   },
   {
    "duration": 0,
    "start_time": "2022-06-29T16:16:24.254Z"
   },
   {
    "duration": 0,
    "start_time": "2022-06-29T16:16:24.255Z"
   },
   {
    "duration": 0,
    "start_time": "2022-06-29T16:16:24.256Z"
   },
   {
    "duration": 0,
    "start_time": "2022-06-29T16:16:24.257Z"
   },
   {
    "duration": 0,
    "start_time": "2022-06-29T16:16:24.258Z"
   },
   {
    "duration": 0,
    "start_time": "2022-06-29T16:16:24.259Z"
   },
   {
    "duration": 0,
    "start_time": "2022-06-29T16:16:24.260Z"
   },
   {
    "duration": 0,
    "start_time": "2022-06-29T16:16:24.261Z"
   },
   {
    "duration": 0,
    "start_time": "2022-06-29T16:16:24.262Z"
   },
   {
    "duration": 0,
    "start_time": "2022-06-29T16:16:24.263Z"
   },
   {
    "duration": 0,
    "start_time": "2022-06-29T16:16:24.264Z"
   },
   {
    "duration": 1,
    "start_time": "2022-06-29T16:16:24.265Z"
   },
   {
    "duration": 0,
    "start_time": "2022-06-29T16:16:24.267Z"
   },
   {
    "duration": 0,
    "start_time": "2022-06-29T16:16:24.267Z"
   },
   {
    "duration": 0,
    "start_time": "2022-06-29T16:16:24.268Z"
   },
   {
    "duration": 0,
    "start_time": "2022-06-29T16:16:24.269Z"
   },
   {
    "duration": 0,
    "start_time": "2022-06-29T16:16:24.272Z"
   },
   {
    "duration": 0,
    "start_time": "2022-06-29T16:16:24.273Z"
   },
   {
    "duration": 0,
    "start_time": "2022-06-29T16:16:24.275Z"
   },
   {
    "duration": 0,
    "start_time": "2022-06-29T16:16:24.276Z"
   },
   {
    "duration": 0,
    "start_time": "2022-06-29T16:16:24.277Z"
   },
   {
    "duration": 0,
    "start_time": "2022-06-29T16:16:24.279Z"
   },
   {
    "duration": 0,
    "start_time": "2022-06-29T16:16:24.280Z"
   },
   {
    "duration": 0,
    "start_time": "2022-06-29T16:16:24.281Z"
   },
   {
    "duration": 0,
    "start_time": "2022-06-29T16:16:24.282Z"
   },
   {
    "duration": 0,
    "start_time": "2022-06-29T16:16:24.283Z"
   },
   {
    "duration": 0,
    "start_time": "2022-06-29T16:16:24.284Z"
   },
   {
    "duration": 0,
    "start_time": "2022-06-29T16:16:24.286Z"
   },
   {
    "duration": 0,
    "start_time": "2022-06-29T16:16:24.286Z"
   },
   {
    "duration": 0,
    "start_time": "2022-06-29T16:16:24.287Z"
   },
   {
    "duration": 0,
    "start_time": "2022-06-29T16:16:24.289Z"
   },
   {
    "duration": 0,
    "start_time": "2022-06-29T16:16:24.290Z"
   },
   {
    "duration": 0,
    "start_time": "2022-06-29T16:16:24.291Z"
   },
   {
    "duration": 0,
    "start_time": "2022-06-29T16:16:24.292Z"
   },
   {
    "duration": 0,
    "start_time": "2022-06-29T16:16:24.293Z"
   },
   {
    "duration": 0,
    "start_time": "2022-06-29T16:16:24.294Z"
   },
   {
    "duration": 0,
    "start_time": "2022-06-29T16:16:24.295Z"
   },
   {
    "duration": 0,
    "start_time": "2022-06-29T16:16:24.352Z"
   },
   {
    "duration": 0,
    "start_time": "2022-06-29T16:16:24.354Z"
   },
   {
    "duration": 0,
    "start_time": "2022-06-29T16:16:24.355Z"
   },
   {
    "duration": 0,
    "start_time": "2022-06-29T16:16:24.356Z"
   },
   {
    "duration": 0,
    "start_time": "2022-06-29T16:16:24.357Z"
   },
   {
    "duration": 0,
    "start_time": "2022-06-29T16:16:24.357Z"
   },
   {
    "duration": 653,
    "start_time": "2022-06-29T16:16:50.627Z"
   },
   {
    "duration": 632,
    "start_time": "2022-06-29T16:16:56.153Z"
   },
   {
    "duration": 617,
    "start_time": "2022-06-29T16:17:13.365Z"
   },
   {
    "duration": 865,
    "start_time": "2022-06-29T16:17:46.865Z"
   },
   {
    "duration": 646,
    "start_time": "2022-06-29T16:17:53.215Z"
   },
   {
    "duration": 504,
    "start_time": "2022-06-29T16:18:40.252Z"
   },
   {
    "duration": 604,
    "start_time": "2022-06-29T16:18:52.810Z"
   },
   {
    "duration": 575,
    "start_time": "2022-06-29T16:18:56.301Z"
   },
   {
    "duration": 9,
    "start_time": "2022-06-29T16:19:56.631Z"
   },
   {
    "duration": 94,
    "start_time": "2022-06-29T16:20:04.845Z"
   },
   {
    "duration": 594,
    "start_time": "2022-06-29T16:20:04.941Z"
   },
   {
    "duration": 18,
    "start_time": "2022-06-29T16:20:05.537Z"
   },
   {
    "duration": 16,
    "start_time": "2022-06-29T16:20:05.557Z"
   },
   {
    "duration": 15,
    "start_time": "2022-06-29T16:20:05.575Z"
   },
   {
    "duration": 14,
    "start_time": "2022-06-29T16:20:05.592Z"
   },
   {
    "duration": 0,
    "start_time": "2022-06-29T16:20:05.609Z"
   },
   {
    "duration": 0,
    "start_time": "2022-06-29T16:20:05.610Z"
   },
   {
    "duration": 0,
    "start_time": "2022-06-29T16:20:05.611Z"
   },
   {
    "duration": 0,
    "start_time": "2022-06-29T16:20:05.612Z"
   },
   {
    "duration": 0,
    "start_time": "2022-06-29T16:20:05.613Z"
   },
   {
    "duration": 0,
    "start_time": "2022-06-29T16:20:05.614Z"
   },
   {
    "duration": 0,
    "start_time": "2022-06-29T16:20:05.615Z"
   },
   {
    "duration": 0,
    "start_time": "2022-06-29T16:20:05.616Z"
   },
   {
    "duration": 0,
    "start_time": "2022-06-29T16:20:05.617Z"
   },
   {
    "duration": 0,
    "start_time": "2022-06-29T16:20:05.619Z"
   },
   {
    "duration": 0,
    "start_time": "2022-06-29T16:20:05.619Z"
   },
   {
    "duration": 0,
    "start_time": "2022-06-29T16:20:05.620Z"
   },
   {
    "duration": 0,
    "start_time": "2022-06-29T16:20:05.651Z"
   },
   {
    "duration": 0,
    "start_time": "2022-06-29T16:20:05.653Z"
   },
   {
    "duration": 0,
    "start_time": "2022-06-29T16:20:05.654Z"
   },
   {
    "duration": 0,
    "start_time": "2022-06-29T16:20:05.655Z"
   },
   {
    "duration": 0,
    "start_time": "2022-06-29T16:20:05.657Z"
   },
   {
    "duration": 0,
    "start_time": "2022-06-29T16:20:05.658Z"
   },
   {
    "duration": 0,
    "start_time": "2022-06-29T16:20:05.658Z"
   },
   {
    "duration": 0,
    "start_time": "2022-06-29T16:20:05.659Z"
   },
   {
    "duration": 0,
    "start_time": "2022-06-29T16:20:05.660Z"
   },
   {
    "duration": 0,
    "start_time": "2022-06-29T16:20:05.661Z"
   },
   {
    "duration": 0,
    "start_time": "2022-06-29T16:20:05.662Z"
   },
   {
    "duration": 0,
    "start_time": "2022-06-29T16:20:05.663Z"
   },
   {
    "duration": 0,
    "start_time": "2022-06-29T16:20:05.664Z"
   },
   {
    "duration": 0,
    "start_time": "2022-06-29T16:20:05.665Z"
   },
   {
    "duration": 0,
    "start_time": "2022-06-29T16:20:05.667Z"
   },
   {
    "duration": 0,
    "start_time": "2022-06-29T16:20:05.667Z"
   },
   {
    "duration": 0,
    "start_time": "2022-06-29T16:20:05.668Z"
   },
   {
    "duration": 0,
    "start_time": "2022-06-29T16:20:05.669Z"
   },
   {
    "duration": 0,
    "start_time": "2022-06-29T16:20:05.671Z"
   },
   {
    "duration": 0,
    "start_time": "2022-06-29T16:20:05.672Z"
   },
   {
    "duration": 0,
    "start_time": "2022-06-29T16:20:05.674Z"
   },
   {
    "duration": 0,
    "start_time": "2022-06-29T16:20:05.675Z"
   },
   {
    "duration": 0,
    "start_time": "2022-06-29T16:20:05.676Z"
   },
   {
    "duration": 1,
    "start_time": "2022-06-29T16:20:05.677Z"
   },
   {
    "duration": 0,
    "start_time": "2022-06-29T16:20:05.679Z"
   },
   {
    "duration": 0,
    "start_time": "2022-06-29T16:20:05.680Z"
   },
   {
    "duration": 0,
    "start_time": "2022-06-29T16:20:05.682Z"
   },
   {
    "duration": 0,
    "start_time": "2022-06-29T16:20:05.684Z"
   },
   {
    "duration": 0,
    "start_time": "2022-06-29T16:20:05.685Z"
   },
   {
    "duration": 0,
    "start_time": "2022-06-29T16:20:05.686Z"
   },
   {
    "duration": 0,
    "start_time": "2022-06-29T16:20:05.687Z"
   },
   {
    "duration": 0,
    "start_time": "2022-06-29T16:20:05.689Z"
   },
   {
    "duration": 0,
    "start_time": "2022-06-29T16:20:05.690Z"
   },
   {
    "duration": 0,
    "start_time": "2022-06-29T16:20:05.691Z"
   },
   {
    "duration": 7,
    "start_time": "2022-06-29T16:20:44.864Z"
   },
   {
    "duration": 4,
    "start_time": "2022-06-29T16:20:48.133Z"
   },
   {
    "duration": 196,
    "start_time": "2022-06-29T16:21:27.023Z"
   },
   {
    "duration": 573,
    "start_time": "2022-06-29T16:21:27.221Z"
   },
   {
    "duration": 17,
    "start_time": "2022-06-29T16:21:27.795Z"
   },
   {
    "duration": 15,
    "start_time": "2022-06-29T16:21:27.814Z"
   },
   {
    "duration": 13,
    "start_time": "2022-06-29T16:21:27.831Z"
   },
   {
    "duration": 20,
    "start_time": "2022-06-29T16:21:27.846Z"
   },
   {
    "duration": 0,
    "start_time": "2022-06-29T16:21:27.868Z"
   },
   {
    "duration": 0,
    "start_time": "2022-06-29T16:21:27.869Z"
   },
   {
    "duration": 0,
    "start_time": "2022-06-29T16:21:27.870Z"
   },
   {
    "duration": 0,
    "start_time": "2022-06-29T16:21:27.871Z"
   },
   {
    "duration": 0,
    "start_time": "2022-06-29T16:21:27.873Z"
   },
   {
    "duration": 0,
    "start_time": "2022-06-29T16:21:27.874Z"
   },
   {
    "duration": 0,
    "start_time": "2022-06-29T16:21:27.875Z"
   },
   {
    "duration": 0,
    "start_time": "2022-06-29T16:21:27.876Z"
   },
   {
    "duration": 0,
    "start_time": "2022-06-29T16:21:27.877Z"
   },
   {
    "duration": 0,
    "start_time": "2022-06-29T16:21:27.878Z"
   },
   {
    "duration": 0,
    "start_time": "2022-06-29T16:21:27.879Z"
   },
   {
    "duration": 0,
    "start_time": "2022-06-29T16:21:27.880Z"
   },
   {
    "duration": 0,
    "start_time": "2022-06-29T16:21:27.881Z"
   },
   {
    "duration": 0,
    "start_time": "2022-06-29T16:21:27.882Z"
   },
   {
    "duration": 0,
    "start_time": "2022-06-29T16:21:27.883Z"
   },
   {
    "duration": 0,
    "start_time": "2022-06-29T16:21:27.884Z"
   },
   {
    "duration": 0,
    "start_time": "2022-06-29T16:21:27.885Z"
   },
   {
    "duration": 0,
    "start_time": "2022-06-29T16:21:27.886Z"
   },
   {
    "duration": 0,
    "start_time": "2022-06-29T16:21:27.887Z"
   },
   {
    "duration": 0,
    "start_time": "2022-06-29T16:21:27.888Z"
   },
   {
    "duration": 0,
    "start_time": "2022-06-29T16:21:27.889Z"
   },
   {
    "duration": 0,
    "start_time": "2022-06-29T16:21:27.890Z"
   },
   {
    "duration": 1,
    "start_time": "2022-06-29T16:21:27.891Z"
   },
   {
    "duration": 0,
    "start_time": "2022-06-29T16:21:27.893Z"
   },
   {
    "duration": 0,
    "start_time": "2022-06-29T16:21:27.894Z"
   },
   {
    "duration": 0,
    "start_time": "2022-06-29T16:21:27.895Z"
   },
   {
    "duration": 0,
    "start_time": "2022-06-29T16:21:27.896Z"
   },
   {
    "duration": 0,
    "start_time": "2022-06-29T16:21:27.897Z"
   },
   {
    "duration": 0,
    "start_time": "2022-06-29T16:21:27.898Z"
   },
   {
    "duration": 0,
    "start_time": "2022-06-29T16:21:27.952Z"
   },
   {
    "duration": 0,
    "start_time": "2022-06-29T16:21:27.953Z"
   },
   {
    "duration": 0,
    "start_time": "2022-06-29T16:21:27.955Z"
   },
   {
    "duration": 0,
    "start_time": "2022-06-29T16:21:27.956Z"
   },
   {
    "duration": 0,
    "start_time": "2022-06-29T16:21:27.957Z"
   },
   {
    "duration": 0,
    "start_time": "2022-06-29T16:21:27.958Z"
   },
   {
    "duration": 0,
    "start_time": "2022-06-29T16:21:27.960Z"
   },
   {
    "duration": 0,
    "start_time": "2022-06-29T16:21:27.961Z"
   },
   {
    "duration": 0,
    "start_time": "2022-06-29T16:21:27.962Z"
   },
   {
    "duration": 0,
    "start_time": "2022-06-29T16:21:27.963Z"
   },
   {
    "duration": 0,
    "start_time": "2022-06-29T16:21:27.964Z"
   },
   {
    "duration": 0,
    "start_time": "2022-06-29T16:21:27.966Z"
   },
   {
    "duration": 0,
    "start_time": "2022-06-29T16:21:27.967Z"
   },
   {
    "duration": 0,
    "start_time": "2022-06-29T16:21:27.968Z"
   },
   {
    "duration": 0,
    "start_time": "2022-06-29T16:21:27.969Z"
   },
   {
    "duration": 0,
    "start_time": "2022-06-29T16:21:27.970Z"
   },
   {
    "duration": 0,
    "start_time": "2022-06-29T16:21:27.971Z"
   },
   {
    "duration": 0,
    "start_time": "2022-06-29T16:21:27.972Z"
   },
   {
    "duration": 151,
    "start_time": "2022-06-29T16:21:43.571Z"
   },
   {
    "duration": 584,
    "start_time": "2022-06-29T16:21:43.724Z"
   },
   {
    "duration": 17,
    "start_time": "2022-06-29T16:21:44.311Z"
   },
   {
    "duration": 28,
    "start_time": "2022-06-29T16:21:44.330Z"
   },
   {
    "duration": 15,
    "start_time": "2022-06-29T16:21:44.359Z"
   },
   {
    "duration": 13,
    "start_time": "2022-06-29T16:21:44.376Z"
   },
   {
    "duration": 7,
    "start_time": "2022-06-29T16:21:44.390Z"
   },
   {
    "duration": 15,
    "start_time": "2022-06-29T16:21:44.398Z"
   },
   {
    "duration": 37,
    "start_time": "2022-06-29T16:21:44.415Z"
   },
   {
    "duration": 404,
    "start_time": "2022-06-29T16:21:44.455Z"
   },
   {
    "duration": 15,
    "start_time": "2022-06-29T16:21:44.861Z"
   },
   {
    "duration": 16,
    "start_time": "2022-06-29T16:21:44.877Z"
   },
   {
    "duration": 0,
    "start_time": "2022-06-29T16:21:44.896Z"
   },
   {
    "duration": 0,
    "start_time": "2022-06-29T16:21:44.897Z"
   },
   {
    "duration": 0,
    "start_time": "2022-06-29T16:21:44.898Z"
   },
   {
    "duration": 0,
    "start_time": "2022-06-29T16:21:44.899Z"
   },
   {
    "duration": 0,
    "start_time": "2022-06-29T16:21:44.900Z"
   },
   {
    "duration": 0,
    "start_time": "2022-06-29T16:21:44.901Z"
   },
   {
    "duration": 0,
    "start_time": "2022-06-29T16:21:44.902Z"
   },
   {
    "duration": 0,
    "start_time": "2022-06-29T16:21:44.903Z"
   },
   {
    "duration": 0,
    "start_time": "2022-06-29T16:21:44.904Z"
   },
   {
    "duration": 0,
    "start_time": "2022-06-29T16:21:44.905Z"
   },
   {
    "duration": 0,
    "start_time": "2022-06-29T16:21:44.907Z"
   },
   {
    "duration": 0,
    "start_time": "2022-06-29T16:21:44.908Z"
   },
   {
    "duration": 0,
    "start_time": "2022-06-29T16:21:44.909Z"
   },
   {
    "duration": 0,
    "start_time": "2022-06-29T16:21:44.910Z"
   },
   {
    "duration": 0,
    "start_time": "2022-06-29T16:21:44.911Z"
   },
   {
    "duration": 0,
    "start_time": "2022-06-29T16:21:44.912Z"
   },
   {
    "duration": 0,
    "start_time": "2022-06-29T16:21:44.913Z"
   },
   {
    "duration": 0,
    "start_time": "2022-06-29T16:21:44.914Z"
   },
   {
    "duration": 0,
    "start_time": "2022-06-29T16:21:44.952Z"
   },
   {
    "duration": 0,
    "start_time": "2022-06-29T16:21:44.953Z"
   },
   {
    "duration": 0,
    "start_time": "2022-06-29T16:21:44.954Z"
   },
   {
    "duration": 0,
    "start_time": "2022-06-29T16:21:44.955Z"
   },
   {
    "duration": 0,
    "start_time": "2022-06-29T16:21:44.956Z"
   },
   {
    "duration": 0,
    "start_time": "2022-06-29T16:21:44.958Z"
   },
   {
    "duration": 0,
    "start_time": "2022-06-29T16:21:44.959Z"
   },
   {
    "duration": 0,
    "start_time": "2022-06-29T16:21:44.960Z"
   },
   {
    "duration": 0,
    "start_time": "2022-06-29T16:21:44.961Z"
   },
   {
    "duration": 0,
    "start_time": "2022-06-29T16:21:44.962Z"
   },
   {
    "duration": 0,
    "start_time": "2022-06-29T16:21:44.963Z"
   },
   {
    "duration": 0,
    "start_time": "2022-06-29T16:21:44.964Z"
   },
   {
    "duration": 0,
    "start_time": "2022-06-29T16:21:44.965Z"
   },
   {
    "duration": 0,
    "start_time": "2022-06-29T16:21:44.967Z"
   },
   {
    "duration": 0,
    "start_time": "2022-06-29T16:21:44.968Z"
   },
   {
    "duration": 0,
    "start_time": "2022-06-29T16:21:44.969Z"
   },
   {
    "duration": 0,
    "start_time": "2022-06-29T16:21:44.970Z"
   },
   {
    "duration": 0,
    "start_time": "2022-06-29T16:21:45.068Z"
   },
   {
    "duration": 0,
    "start_time": "2022-06-29T16:21:45.070Z"
   },
   {
    "duration": 0,
    "start_time": "2022-06-29T16:21:45.070Z"
   },
   {
    "duration": 0,
    "start_time": "2022-06-29T16:21:45.071Z"
   },
   {
    "duration": 0,
    "start_time": "2022-06-29T16:21:45.072Z"
   },
   {
    "duration": 0,
    "start_time": "2022-06-29T16:21:45.074Z"
   },
   {
    "duration": 17,
    "start_time": "2022-06-29T16:26:41.239Z"
   },
   {
    "duration": 13,
    "start_time": "2022-06-29T16:26:49.805Z"
   },
   {
    "duration": 5,
    "start_time": "2022-06-29T16:26:49.820Z"
   },
   {
    "duration": 7,
    "start_time": "2022-06-29T16:26:49.826Z"
   },
   {
    "duration": 5,
    "start_time": "2022-06-29T16:26:49.835Z"
   },
   {
    "duration": 5,
    "start_time": "2022-06-29T16:26:49.841Z"
   },
   {
    "duration": 6,
    "start_time": "2022-06-29T16:26:49.847Z"
   },
   {
    "duration": 6,
    "start_time": "2022-06-29T16:26:49.855Z"
   },
   {
    "duration": 19,
    "start_time": "2022-06-29T16:26:49.863Z"
   },
   {
    "duration": 5,
    "start_time": "2022-06-29T16:26:49.884Z"
   },
   {
    "duration": 21,
    "start_time": "2022-06-29T16:26:49.892Z"
   },
   {
    "duration": 39,
    "start_time": "2022-06-29T16:26:49.915Z"
   },
   {
    "duration": 10,
    "start_time": "2022-06-29T16:26:49.955Z"
   },
   {
    "duration": 14,
    "start_time": "2022-06-29T16:26:49.967Z"
   },
   {
    "duration": 32,
    "start_time": "2022-06-29T16:26:49.983Z"
   },
   {
    "duration": 53,
    "start_time": "2022-06-29T16:26:50.018Z"
   },
   {
    "duration": 367,
    "start_time": "2022-06-29T16:26:50.074Z"
   },
   {
    "duration": 20,
    "start_time": "2022-06-29T16:26:50.443Z"
   },
   {
    "duration": 22,
    "start_time": "2022-06-29T16:26:50.465Z"
   },
   {
    "duration": 495,
    "start_time": "2022-06-29T16:26:50.489Z"
   },
   {
    "duration": 68,
    "start_time": "2022-06-29T16:26:50.985Z"
   },
   {
    "duration": 4,
    "start_time": "2022-06-29T16:26:51.055Z"
   },
   {
    "duration": 1106,
    "start_time": "2022-06-29T16:26:51.061Z"
   },
   {
    "duration": 10,
    "start_time": "2022-06-29T16:26:52.168Z"
   },
   {
    "duration": 382,
    "start_time": "2022-06-29T16:26:52.180Z"
   },
   {
    "duration": 963,
    "start_time": "2022-06-29T16:26:52.565Z"
   },
   {
    "duration": 279,
    "start_time": "2022-06-29T16:26:53.530Z"
   },
   {
    "duration": 172,
    "start_time": "2022-06-29T16:26:53.811Z"
   },
   {
    "duration": 337,
    "start_time": "2022-06-29T16:26:53.987Z"
   },
   {
    "duration": 13,
    "start_time": "2022-06-29T16:26:54.326Z"
   },
   {
    "duration": 340,
    "start_time": "2022-06-29T16:26:54.351Z"
   },
   {
    "duration": 10,
    "start_time": "2022-06-29T16:26:54.693Z"
   },
   {
    "duration": 60,
    "start_time": "2022-06-29T16:26:54.705Z"
   },
   {
    "duration": 10,
    "start_time": "2022-06-29T16:26:54.766Z"
   },
   {
    "duration": 212,
    "start_time": "2022-06-29T16:26:54.778Z"
   },
   {
    "duration": 369,
    "start_time": "2022-06-29T16:26:54.992Z"
   },
   {
    "duration": 688,
    "start_time": "2022-06-29T16:26:55.365Z"
   },
   {
    "duration": 495,
    "start_time": "2022-06-29T16:26:56.054Z"
   },
   {
    "duration": 336,
    "start_time": "2022-06-29T16:26:56.551Z"
   },
   {
    "duration": 10,
    "start_time": "2022-06-29T16:26:56.889Z"
   },
   {
    "duration": 11,
    "start_time": "2022-06-29T16:26:56.901Z"
   },
   {
    "duration": 12,
    "start_time": "2022-06-29T16:26:56.914Z"
   },
   {
    "duration": 12,
    "start_time": "2022-06-29T16:26:56.951Z"
   },
   {
    "duration": 1731,
    "start_time": "2022-06-29T16:38:01.109Z"
   },
   {
    "duration": 128,
    "start_time": "2022-06-29T16:38:08.161Z"
   },
   {
    "duration": 129,
    "start_time": "2022-06-29T16:38:18.781Z"
   },
   {
    "duration": 128,
    "start_time": "2022-06-29T16:38:24.346Z"
   },
   {
    "duration": 202,
    "start_time": "2022-06-29T16:38:34.412Z"
   },
   {
    "duration": 149,
    "start_time": "2022-06-29T16:39:14.209Z"
   },
   {
    "duration": 108,
    "start_time": "2022-06-29T16:40:07.307Z"
   },
   {
    "duration": 107,
    "start_time": "2022-06-29T16:40:12.024Z"
   },
   {
    "duration": 108,
    "start_time": "2022-06-29T16:40:30.552Z"
   },
   {
    "duration": 106,
    "start_time": "2022-06-29T16:40:42.062Z"
   },
   {
    "duration": 104,
    "start_time": "2022-06-29T16:41:08.141Z"
   },
   {
    "duration": 39,
    "start_time": "2022-06-29T16:45:55.593Z"
   },
   {
    "duration": 39,
    "start_time": "2022-06-29T16:46:01.192Z"
   },
   {
    "duration": 93,
    "start_time": "2022-06-29T16:46:51.255Z"
   },
   {
    "duration": 43,
    "start_time": "2022-06-29T16:47:15.781Z"
   },
   {
    "duration": 40,
    "start_time": "2022-06-29T16:47:30.845Z"
   },
   {
    "duration": 40,
    "start_time": "2022-06-29T16:47:38.036Z"
   },
   {
    "duration": 43,
    "start_time": "2022-06-29T16:47:43.660Z"
   },
   {
    "duration": 9554,
    "start_time": "2022-07-01T12:21:43.272Z"
   },
   {
    "duration": 44,
    "start_time": "2022-07-01T12:23:39.874Z"
   },
   {
    "duration": 2231,
    "start_time": "2022-07-01T12:23:43.213Z"
   },
   {
    "duration": 818,
    "start_time": "2022-07-01T12:23:45.447Z"
   },
   {
    "duration": 18,
    "start_time": "2022-07-01T12:23:46.267Z"
   },
   {
    "duration": 17,
    "start_time": "2022-07-01T12:23:46.287Z"
   },
   {
    "duration": 39,
    "start_time": "2022-07-01T12:23:46.306Z"
   },
   {
    "duration": 11,
    "start_time": "2022-07-01T12:23:46.348Z"
   },
   {
    "duration": 13,
    "start_time": "2022-07-01T12:23:46.360Z"
   },
   {
    "duration": 12,
    "start_time": "2022-07-01T12:23:46.374Z"
   },
   {
    "duration": 8,
    "start_time": "2022-07-01T12:23:46.387Z"
   },
   {
    "duration": 8397,
    "start_time": "2022-07-01T12:23:46.396Z"
   },
   {
    "duration": 10,
    "start_time": "2022-07-01T12:23:54.796Z"
   },
   {
    "duration": 29,
    "start_time": "2022-07-01T12:23:54.808Z"
   },
   {
    "duration": 11,
    "start_time": "2022-07-01T12:23:54.839Z"
   },
   {
    "duration": 13,
    "start_time": "2022-07-01T12:23:54.854Z"
   },
   {
    "duration": 8,
    "start_time": "2022-07-01T12:23:54.868Z"
   },
   {
    "duration": 14,
    "start_time": "2022-07-01T12:23:54.878Z"
   },
   {
    "duration": 11,
    "start_time": "2022-07-01T12:23:54.894Z"
   },
   {
    "duration": 28,
    "start_time": "2022-07-01T12:23:54.906Z"
   },
   {
    "duration": 11,
    "start_time": "2022-07-01T12:23:54.937Z"
   },
   {
    "duration": 6,
    "start_time": "2022-07-01T12:23:54.950Z"
   },
   {
    "duration": 19,
    "start_time": "2022-07-01T12:23:54.958Z"
   },
   {
    "duration": 94,
    "start_time": "2022-07-01T12:23:54.979Z"
   },
   {
    "duration": 0,
    "start_time": "2022-07-01T12:23:55.075Z"
   },
   {
    "duration": 0,
    "start_time": "2022-07-01T12:23:55.076Z"
   },
   {
    "duration": 0,
    "start_time": "2022-07-01T12:23:55.077Z"
   },
   {
    "duration": 0,
    "start_time": "2022-07-01T12:23:55.079Z"
   },
   {
    "duration": 0,
    "start_time": "2022-07-01T12:23:55.080Z"
   },
   {
    "duration": 0,
    "start_time": "2022-07-01T12:23:55.081Z"
   },
   {
    "duration": 0,
    "start_time": "2022-07-01T12:23:55.082Z"
   },
   {
    "duration": 0,
    "start_time": "2022-07-01T12:23:55.083Z"
   },
   {
    "duration": 0,
    "start_time": "2022-07-01T12:23:55.083Z"
   },
   {
    "duration": 0,
    "start_time": "2022-07-01T12:23:55.084Z"
   },
   {
    "duration": 0,
    "start_time": "2022-07-01T12:23:55.086Z"
   },
   {
    "duration": 0,
    "start_time": "2022-07-01T12:23:55.087Z"
   },
   {
    "duration": 0,
    "start_time": "2022-07-01T12:23:55.088Z"
   },
   {
    "duration": 0,
    "start_time": "2022-07-01T12:23:55.089Z"
   },
   {
    "duration": 0,
    "start_time": "2022-07-01T12:23:55.090Z"
   },
   {
    "duration": 0,
    "start_time": "2022-07-01T12:23:55.091Z"
   },
   {
    "duration": 0,
    "start_time": "2022-07-01T12:23:55.092Z"
   },
   {
    "duration": 0,
    "start_time": "2022-07-01T12:23:55.093Z"
   },
   {
    "duration": 0,
    "start_time": "2022-07-01T12:23:55.094Z"
   },
   {
    "duration": 0,
    "start_time": "2022-07-01T12:23:55.095Z"
   },
   {
    "duration": 0,
    "start_time": "2022-07-01T12:23:55.096Z"
   },
   {
    "duration": 0,
    "start_time": "2022-07-01T12:23:55.128Z"
   },
   {
    "duration": 0,
    "start_time": "2022-07-01T12:23:55.129Z"
   },
   {
    "duration": 0,
    "start_time": "2022-07-01T12:23:55.130Z"
   },
   {
    "duration": 0,
    "start_time": "2022-07-01T12:23:55.130Z"
   },
   {
    "duration": 0,
    "start_time": "2022-07-01T12:23:55.133Z"
   },
   {
    "duration": 0,
    "start_time": "2022-07-01T12:23:55.133Z"
   },
   {
    "duration": 0,
    "start_time": "2022-07-01T12:23:55.134Z"
   },
   {
    "duration": 0,
    "start_time": "2022-07-01T12:23:55.135Z"
   },
   {
    "duration": 0,
    "start_time": "2022-07-01T12:23:55.135Z"
   },
   {
    "duration": 0,
    "start_time": "2022-07-01T12:23:55.136Z"
   },
   {
    "duration": 0,
    "start_time": "2022-07-01T12:23:55.137Z"
   },
   {
    "duration": 0,
    "start_time": "2022-07-01T12:23:55.138Z"
   },
   {
    "duration": 1,
    "start_time": "2022-07-01T12:23:55.140Z"
   },
   {
    "duration": 0,
    "start_time": "2022-07-01T12:23:55.141Z"
   },
   {
    "duration": 0,
    "start_time": "2022-07-01T12:23:55.142Z"
   },
   {
    "duration": 0,
    "start_time": "2022-07-01T12:23:55.143Z"
   },
   {
    "duration": 0,
    "start_time": "2022-07-01T12:23:55.144Z"
   },
   {
    "duration": 0,
    "start_time": "2022-07-01T12:23:55.145Z"
   },
   {
    "duration": 0,
    "start_time": "2022-07-01T12:23:55.147Z"
   },
   {
    "duration": 19,
    "start_time": "2022-07-01T12:24:10.200Z"
   },
   {
    "duration": 28,
    "start_time": "2022-07-01T12:24:14.326Z"
   },
   {
    "duration": 5,
    "start_time": "2022-07-01T12:24:14.355Z"
   },
   {
    "duration": 22,
    "start_time": "2022-07-01T12:24:14.362Z"
   },
   {
    "duration": 6,
    "start_time": "2022-07-01T12:24:14.386Z"
   },
   {
    "duration": 47,
    "start_time": "2022-07-01T12:24:14.394Z"
   },
   {
    "duration": 4,
    "start_time": "2022-07-01T12:24:14.443Z"
   },
   {
    "duration": 16,
    "start_time": "2022-07-01T12:24:14.449Z"
   },
   {
    "duration": 16,
    "start_time": "2022-07-01T12:24:14.467Z"
   },
   {
    "duration": 17,
    "start_time": "2022-07-01T12:24:14.484Z"
   },
   {
    "duration": 176,
    "start_time": "2022-07-01T12:24:14.503Z"
   },
   {
    "duration": 334,
    "start_time": "2022-07-01T12:24:14.681Z"
   },
   {
    "duration": 28,
    "start_time": "2022-07-01T12:24:15.017Z"
   },
   {
    "duration": 22,
    "start_time": "2022-07-01T12:24:15.047Z"
   },
   {
    "duration": 436,
    "start_time": "2022-07-01T12:24:15.071Z"
   },
   {
    "duration": 13,
    "start_time": "2022-07-01T12:24:15.509Z"
   },
   {
    "duration": 5,
    "start_time": "2022-07-01T12:24:15.524Z"
   },
   {
    "duration": 811,
    "start_time": "2022-07-01T12:24:15.530Z"
   },
   {
    "duration": 13,
    "start_time": "2022-07-01T12:24:16.343Z"
   },
   {
    "duration": 1307,
    "start_time": "2022-07-01T12:24:16.358Z"
   },
   {
    "duration": 257,
    "start_time": "2022-07-01T12:24:17.667Z"
   },
   {
    "duration": 260,
    "start_time": "2022-07-01T12:24:17.927Z"
   },
   {
    "duration": 293,
    "start_time": "2022-07-01T12:24:18.189Z"
   },
   {
    "duration": 173,
    "start_time": "2022-07-01T12:24:18.483Z"
   },
   {
    "duration": 283,
    "start_time": "2022-07-01T12:24:18.657Z"
   },
   {
    "duration": 9,
    "start_time": "2022-07-01T12:24:18.941Z"
   },
   {
    "duration": 441,
    "start_time": "2022-07-01T12:24:18.951Z"
   },
   {
    "duration": 8,
    "start_time": "2022-07-01T12:24:19.393Z"
   },
   {
    "duration": 62,
    "start_time": "2022-07-01T12:24:19.404Z"
   },
   {
    "duration": 10,
    "start_time": "2022-07-01T12:24:19.468Z"
   },
   {
    "duration": 45,
    "start_time": "2022-07-01T12:24:19.480Z"
   },
   {
    "duration": 232,
    "start_time": "2022-07-01T12:24:19.528Z"
   },
   {
    "duration": 82,
    "start_time": "2022-07-01T12:24:19.762Z"
   },
   {
    "duration": 397,
    "start_time": "2022-07-01T12:24:19.846Z"
   },
   {
    "duration": 31,
    "start_time": "2022-07-01T12:24:20.246Z"
   },
   {
    "duration": 287,
    "start_time": "2022-07-01T12:24:20.279Z"
   },
   {
    "duration": 476,
    "start_time": "2022-07-01T12:24:20.568Z"
   },
   {
    "duration": 280,
    "start_time": "2022-07-01T12:24:21.046Z"
   },
   {
    "duration": 14,
    "start_time": "2022-07-01T12:24:21.331Z"
   },
   {
    "duration": 13,
    "start_time": "2022-07-01T12:24:21.346Z"
   },
   {
    "duration": 7,
    "start_time": "2022-07-01T12:24:21.361Z"
   },
   {
    "duration": 8,
    "start_time": "2022-07-01T12:24:21.369Z"
   },
   {
    "duration": 1156,
    "start_time": "2022-09-03T15:28:35.034Z"
   },
   {
    "duration": 24,
    "start_time": "2022-09-03T15:28:36.192Z"
   },
   {
    "duration": 19,
    "start_time": "2022-09-03T15:28:36.220Z"
   },
   {
    "duration": 13,
    "start_time": "2022-09-03T15:28:36.241Z"
   },
   {
    "duration": 10,
    "start_time": "2022-09-03T15:28:36.255Z"
   },
   {
    "duration": 227,
    "start_time": "2022-09-03T15:28:36.266Z"
   },
   {
    "duration": 31,
    "start_time": "2022-09-03T15:28:36.494Z"
   },
   {
    "duration": 9,
    "start_time": "2022-09-03T15:28:36.527Z"
   },
   {
    "duration": 11,
    "start_time": "2022-09-03T15:28:36.537Z"
   },
   {
    "duration": 9,
    "start_time": "2022-09-03T15:28:36.550Z"
   },
   {
    "duration": 5,
    "start_time": "2022-09-03T15:28:36.561Z"
   },
   {
    "duration": 13,
    "start_time": "2022-09-03T15:28:36.568Z"
   },
   {
    "duration": 8,
    "start_time": "2022-09-03T15:28:36.583Z"
   },
   {
    "duration": 28,
    "start_time": "2022-09-03T15:28:36.593Z"
   },
   {
    "duration": 7,
    "start_time": "2022-09-03T15:28:36.623Z"
   },
   {
    "duration": 12,
    "start_time": "2022-09-03T15:28:36.631Z"
   },
   {
    "duration": 7,
    "start_time": "2022-09-03T15:28:36.644Z"
   },
   {
    "duration": 5,
    "start_time": "2022-09-03T15:28:36.652Z"
   },
   {
    "duration": 6,
    "start_time": "2022-09-03T15:28:36.658Z"
   },
   {
    "duration": 282,
    "start_time": "2022-09-03T15:28:36.665Z"
   },
   {
    "duration": 236,
    "start_time": "2022-09-03T15:28:36.948Z"
   },
   {
    "duration": 167,
    "start_time": "2022-09-03T15:28:37.186Z"
   },
   {
    "duration": 206,
    "start_time": "2022-09-03T15:28:37.354Z"
   },
   {
    "duration": 164,
    "start_time": "2022-09-03T15:28:37.562Z"
   },
   {
    "duration": 284,
    "start_time": "2022-09-03T15:28:37.728Z"
   },
   {
    "duration": 12,
    "start_time": "2022-09-03T15:28:38.013Z"
   },
   {
    "duration": 118,
    "start_time": "2022-09-03T15:28:38.026Z"
   },
   {
    "duration": 4,
    "start_time": "2022-09-03T15:28:38.147Z"
   },
   {
    "duration": 109,
    "start_time": "2022-09-03T15:28:38.152Z"
   },
   {
    "duration": 126,
    "start_time": "2022-09-03T15:28:38.262Z"
   },
   {
    "duration": 16,
    "start_time": "2022-09-03T15:28:38.408Z"
   },
   {
    "duration": 132,
    "start_time": "2022-09-03T15:28:38.426Z"
   },
   {
    "duration": 7,
    "start_time": "2022-09-03T15:28:38.559Z"
   },
   {
    "duration": 20,
    "start_time": "2022-09-03T15:28:38.567Z"
   },
   {
    "duration": 66,
    "start_time": "2022-09-03T15:28:38.588Z"
   },
   {
    "duration": 10,
    "start_time": "2022-09-03T15:28:38.655Z"
   },
   {
    "duration": 12,
    "start_time": "2022-09-03T15:28:38.666Z"
   },
   {
    "duration": 30,
    "start_time": "2022-09-03T15:28:38.679Z"
   },
   {
    "duration": 29,
    "start_time": "2022-09-03T15:28:38.717Z"
   },
   {
    "duration": 12,
    "start_time": "2022-09-03T15:28:38.748Z"
   },
   {
    "duration": 1100,
    "start_time": "2022-09-03T16:12:36.248Z"
   },
   {
    "duration": 10,
    "start_time": "2022-09-03T16:12:37.350Z"
   },
   {
    "duration": 9,
    "start_time": "2022-09-03T16:12:37.362Z"
   },
   {
    "duration": 12,
    "start_time": "2022-09-03T16:12:37.372Z"
   },
   {
    "duration": 11,
    "start_time": "2022-09-03T16:12:37.387Z"
   },
   {
    "duration": 72,
    "start_time": "2022-09-03T16:12:37.399Z"
   },
   {
    "duration": 7,
    "start_time": "2022-09-03T16:12:37.473Z"
   },
   {
    "duration": 15,
    "start_time": "2022-09-03T16:12:37.482Z"
   },
   {
    "duration": 16,
    "start_time": "2022-09-03T16:12:37.498Z"
   },
   {
    "duration": 12,
    "start_time": "2022-09-03T16:12:37.515Z"
   },
   {
    "duration": 5,
    "start_time": "2022-09-03T16:12:37.529Z"
   },
   {
    "duration": 13,
    "start_time": "2022-09-03T16:12:37.535Z"
   },
   {
    "duration": 9,
    "start_time": "2022-09-03T16:12:37.549Z"
   },
   {
    "duration": 14,
    "start_time": "2022-09-03T16:12:37.561Z"
   },
   {
    "duration": 3,
    "start_time": "2022-09-03T16:12:37.598Z"
   },
   {
    "duration": 13,
    "start_time": "2022-09-03T16:12:37.602Z"
   },
   {
    "duration": 5,
    "start_time": "2022-09-03T16:12:37.616Z"
   },
   {
    "duration": 4,
    "start_time": "2022-09-03T16:12:37.623Z"
   },
   {
    "duration": 6,
    "start_time": "2022-09-03T16:12:37.629Z"
   },
   {
    "duration": 285,
    "start_time": "2022-09-03T16:12:37.636Z"
   },
   {
    "duration": 238,
    "start_time": "2022-09-03T16:12:37.923Z"
   },
   {
    "duration": 163,
    "start_time": "2022-09-03T16:12:38.163Z"
   },
   {
    "duration": 239,
    "start_time": "2022-09-03T16:12:38.327Z"
   },
   {
    "duration": 155,
    "start_time": "2022-09-03T16:12:38.567Z"
   },
   {
    "duration": 259,
    "start_time": "2022-09-03T16:12:38.724Z"
   },
   {
    "duration": 19,
    "start_time": "2022-09-03T16:12:38.984Z"
   },
   {
    "duration": 114,
    "start_time": "2022-09-03T16:12:39.005Z"
   },
   {
    "duration": 4,
    "start_time": "2022-09-03T16:12:39.121Z"
   },
   {
    "duration": 115,
    "start_time": "2022-09-03T16:12:39.126Z"
   },
   {
    "duration": 114,
    "start_time": "2022-09-03T16:12:39.242Z"
   },
   {
    "duration": 4,
    "start_time": "2022-09-03T16:12:39.358Z"
   },
   {
    "duration": 122,
    "start_time": "2022-09-03T16:12:39.363Z"
   },
   {
    "duration": 12,
    "start_time": "2022-09-03T16:12:39.486Z"
   },
   {
    "duration": 22,
    "start_time": "2022-09-03T16:12:39.500Z"
   },
   {
    "duration": 79,
    "start_time": "2022-09-03T16:12:39.524Z"
   },
   {
    "duration": 9,
    "start_time": "2022-09-03T16:12:39.605Z"
   },
   {
    "duration": 6,
    "start_time": "2022-09-03T16:12:39.616Z"
   },
   {
    "duration": 8,
    "start_time": "2022-09-03T16:12:39.624Z"
   },
   {
    "duration": 18,
    "start_time": "2022-09-03T16:12:39.634Z"
   },
   {
    "duration": 13,
    "start_time": "2022-09-03T16:12:39.654Z"
   },
   {
    "duration": 1483,
    "start_time": "2022-09-09T10:28:53.119Z"
   },
   {
    "duration": 14,
    "start_time": "2022-09-09T10:28:54.604Z"
   },
   {
    "duration": 17,
    "start_time": "2022-09-09T10:28:54.619Z"
   },
   {
    "duration": 4,
    "start_time": "2022-09-09T10:28:54.638Z"
   },
   {
    "duration": 33,
    "start_time": "2022-09-09T10:28:54.643Z"
   },
   {
    "duration": 8,
    "start_time": "2022-09-09T10:28:54.677Z"
   },
   {
    "duration": 6,
    "start_time": "2022-09-09T10:28:54.686Z"
   },
   {
    "duration": 18,
    "start_time": "2022-09-09T10:28:54.694Z"
   },
   {
    "duration": 19,
    "start_time": "2022-09-09T10:28:54.713Z"
   },
   {
    "duration": 16,
    "start_time": "2022-09-09T10:28:54.755Z"
   },
   {
    "duration": 7,
    "start_time": "2022-09-09T10:28:54.773Z"
   },
   {
    "duration": 7,
    "start_time": "2022-09-09T10:28:54.782Z"
   },
   {
    "duration": 9,
    "start_time": "2022-09-09T10:28:54.790Z"
   },
   {
    "duration": 15,
    "start_time": "2022-09-09T10:28:54.800Z"
   },
   {
    "duration": 9,
    "start_time": "2022-09-09T10:28:54.817Z"
   },
   {
    "duration": 30,
    "start_time": "2022-09-09T10:28:54.827Z"
   },
   {
    "duration": 212,
    "start_time": "2022-09-09T10:28:54.859Z"
   },
   {
    "duration": 15,
    "start_time": "2022-09-09T10:28:55.073Z"
   },
   {
    "duration": 4,
    "start_time": "2022-09-09T10:28:55.089Z"
   },
   {
    "duration": 11,
    "start_time": "2022-09-09T10:28:55.094Z"
   },
   {
    "duration": 134,
    "start_time": "2022-09-09T10:28:55.106Z"
   },
   {
    "duration": 13,
    "start_time": "2022-09-09T10:28:55.242Z"
   },
   {
    "duration": 13,
    "start_time": "2022-09-09T10:28:55.257Z"
   },
   {
    "duration": 681,
    "start_time": "2022-09-09T10:28:55.272Z"
   },
   {
    "duration": 22,
    "start_time": "2022-09-09T10:28:55.955Z"
   },
   {
    "duration": 5,
    "start_time": "2022-09-09T10:28:55.979Z"
   },
   {
    "duration": 6,
    "start_time": "2022-09-09T10:28:55.986Z"
   },
   {
    "duration": 183,
    "start_time": "2022-09-09T10:28:55.995Z"
   },
   {
    "duration": 8,
    "start_time": "2022-09-09T10:28:56.180Z"
   },
   {
    "duration": 5,
    "start_time": "2022-09-09T10:28:56.189Z"
   },
   {
    "duration": 17,
    "start_time": "2022-09-09T10:28:56.195Z"
   },
   {
    "duration": 422,
    "start_time": "2022-09-09T10:28:56.213Z"
   },
   {
    "duration": 7,
    "start_time": "2022-09-09T10:28:56.637Z"
   },
   {
    "duration": 481,
    "start_time": "2022-09-09T10:28:56.655Z"
   },
   {
    "duration": 21,
    "start_time": "2022-09-09T10:28:57.137Z"
   },
   {
    "duration": 21,
    "start_time": "2022-09-09T10:28:57.159Z"
   },
   {
    "duration": 10,
    "start_time": "2022-09-09T10:28:57.182Z"
   },
   {
    "duration": 10,
    "start_time": "2022-09-09T10:28:57.193Z"
   },
   {
    "duration": 338,
    "start_time": "2022-09-09T10:28:57.204Z"
   },
   {
    "duration": 2123,
    "start_time": "2022-09-09T10:28:57.544Z"
   },
   {
    "duration": 17,
    "start_time": "2022-09-09T10:28:59.669Z"
   },
   {
    "duration": 11,
    "start_time": "2022-09-09T10:28:59.688Z"
   },
   {
    "duration": 10,
    "start_time": "2022-09-09T10:28:59.700Z"
   },
   {
    "duration": 1149,
    "start_time": "2022-09-09T10:28:59.711Z"
   },
   {
    "duration": 19,
    "start_time": "2022-09-09T10:29:00.862Z"
   },
   {
    "duration": 8,
    "start_time": "2022-09-09T10:29:00.883Z"
   },
   {
    "duration": 11,
    "start_time": "2022-09-09T10:29:00.892Z"
   },
   {
    "duration": 15,
    "start_time": "2022-09-09T10:29:00.904Z"
   },
   {
    "duration": 14,
    "start_time": "2022-09-09T10:29:00.920Z"
   },
   {
    "duration": 13,
    "start_time": "2022-09-09T10:29:00.954Z"
   },
   {
    "duration": 1281,
    "start_time": "2022-09-09T10:29:00.969Z"
   },
   {
    "duration": 17,
    "start_time": "2022-09-09T10:29:02.252Z"
   },
   {
    "duration": 9,
    "start_time": "2022-09-09T10:29:02.270Z"
   },
   {
    "duration": 11,
    "start_time": "2022-09-09T10:29:02.281Z"
   },
   {
    "duration": 13,
    "start_time": "2022-09-09T10:29:02.294Z"
   },
   {
    "duration": 14,
    "start_time": "2022-09-09T10:29:02.309Z"
   },
   {
    "duration": 10,
    "start_time": "2022-09-09T10:29:02.355Z"
   },
   {
    "duration": 2411,
    "start_time": "2022-09-09T10:29:02.366Z"
   }
  ],
  "kernelspec": {
   "display_name": "Python 3 (ipykernel)",
   "language": "python",
   "name": "python3"
  },
  "language_info": {
   "codemirror_mode": {
    "name": "ipython",
    "version": 3
   },
   "file_extension": ".py",
   "mimetype": "text/x-python",
   "name": "python",
   "nbconvert_exporter": "python",
   "pygments_lexer": "ipython3",
   "version": "3.9.12"
  },
  "toc": {
   "base_numbering": 1,
   "nav_menu": {},
   "number_sections": true,
   "sideBar": true,
   "skip_h1_title": true,
   "title_cell": "Содержание",
   "title_sidebar": "Contents",
   "toc_cell": true,
   "toc_position": {},
   "toc_section_display": true,
   "toc_window_display": false
  }
 },
 "nbformat": 4,
 "nbformat_minor": 4
}
