{
 "cells": [
  {
   "cell_type": "markdown",
   "metadata": {
    "toc": true
   },
   "source": [
    "<h1>Содержание<span class=\"tocSkip\"></span></h1>\n",
    "<div class=\"toc\"><ul class=\"toc-item\"><li><span><a href=\"#Загрузка-данных\" data-toc-modified-id=\"Загрузка-данных-1\"><span class=\"toc-item-num\">1&nbsp;&nbsp;</span>Загрузка данных</a></span></li><li><span><a href=\"#Исследовательский-анализ-данных-(EDA)\" data-toc-modified-id=\"Исследовательский-анализ-данных-(EDA)-2\"><span class=\"toc-item-num\">2&nbsp;&nbsp;</span>Исследовательский анализ данных (EDA)</a></span></li><li><span><a href=\"#Модель-прогнозирования-оттока-клиентов\" data-toc-modified-id=\"Модель-прогнозирования-оттока-клиентов-3\"><span class=\"toc-item-num\">3&nbsp;&nbsp;</span>Модель прогнозирования оттока клиентов</a></span></li><li><span><a href=\"#Кластеризация-клиентов\" data-toc-modified-id=\"Кластеризация-клиентов-4\"><span class=\"toc-item-num\">4&nbsp;&nbsp;</span>Кластеризация клиентов</a></span></li><li><span><a href=\"#Выводы-и-рекомендации\" data-toc-modified-id=\"Выводы-и-рекомендации-5\"><span class=\"toc-item-num\">5&nbsp;&nbsp;</span>Выводы и рекомендации</a></span></li></ul></div>"
   ]
  },
  {
   "cell_type": "markdown",
   "metadata": {},
   "source": [
    "# Прогнозирование вероятности оттока клиентов фитнес-центра\n"
   ]
  },
  {
   "cell_type": "markdown",
   "metadata": {},
   "source": [
    "Сеть фитнес-центров «Культурист-датасаентист» разрабатывает стратегию взаимодействия с клиентами на основе аналитических данных. Заказчик подготовил данные, которые содержат данные на месяц до оттока и факт оттока на определённый месяц. Изучим эти данные и попробуем разработать модель, которая сможет предсказывать факт оттока для каждого клиента, и на основании этого предлагать ему более выгодные условия, которые \"удержат\" его в фитнес-клубе."
   ]
  },
  {
   "cell_type": "markdown",
   "metadata": {},
   "source": [
    "## Цели и задачи"
   ]
  },
  {
   "cell_type": "markdown",
   "metadata": {},
   "source": [
    "<b> Цель проекта:</b> научиться выявлять клиентов, склонных к оттоку, и своевременно предпринимать меры, направленные на предотвращение оттока.\n",
    "\n",
    "<b> Задачи:</b>\n",
    "\n",
    "    1. Проанализировать имеющиеся данные\n",
    "    2. На основе имеющихся данных создать обученную модель, способную прогнозировать склонность клиентов к оттоку\n",
    "    3. Разработать стратегию по удержанию клиентов"
   ]
  },
  {
   "cell_type": "markdown",
   "metadata": {},
   "source": [
    "## Описание данных"
   ]
  },
  {
   "cell_type": "markdown",
   "metadata": {},
   "source": [
    "Согласно описанию, мы имеем следующие поля:\n",
    "\n",
    "1. Данные клиента за предыдущий до проверки факта оттока месяц:\n",
    "    - 'gender' — пол;\n",
    "    - 'Near_Location' — проживание или работа в районе, где находится фитнес-центр;\n",
    "    -'Partner' — сотрудник компании-партнёра клуба (сотрудничество с компаниями, чьи сотрудники могут получать скидки на абонемент — в таком случае фитнес-центр хранит информацию о работодателе клиента);\n",
    "    - Promo_friends — факт первоначальной записи в рамках акции «приведи друга» (использовал промо-код от знакомого при оплате первого абонемента);\n",
    "    - 'Phone' — наличие контактного телефона;\n",
    "    - 'Age' — возраст;\n",
    "    - 'Lifetime' — время с момента первого обращения в фитнес-центр (в месяцах).\n",
    "2. Информация на основе журнала посещений, покупок и информация о текущем статусе абонемента клиента:\n",
    "    - 'Contract_period' — длительность текущего действующего абонемента (месяц, 6 месяцев, год);\n",
    "    - 'Month_to_end_contract' — срок до окончания текущего действующего абонемента (в месяцах);\n",
    "    - 'Group_visits' — факт посещения групповых занятий;\n",
    "    - 'Avg_class_frequency_total' — средняя частота посещений в неделю за все время с начала действия абонемента;\n",
    "    - 'Avg_class_frequency_current_month' — средняя частота посещений в неделю за предыдущий месяц;\n",
    "    - 'Avg_additional_charges_total' — суммарная выручка от других услуг фитнес-центра: кафе, спорттовары, косметический и массажный салон.\n",
    "3. 'Churn' — факт оттока в текущем месяце."
   ]
  },
  {
   "cell_type": "markdown",
   "metadata": {},
   "source": [
    "## Загрузка данных\n"
   ]
  },
  {
   "cell_type": "markdown",
   "metadata": {},
   "source": [
    "Импортируем все необходимые библиотеки. Загрузим имеющийся файл и откроем его\n"
   ]
  },
  {
   "cell_type": "code",
   "execution_count": 1,
   "metadata": {},
   "outputs": [],
   "source": [
    "import pandas as pd\n",
    "import seaborn as sns\n",
    "import matplotlib.pyplot as plt\n",
    "import numpy as np\n",
    "from sklearn.model_selection import train_test_split\n",
    "from sklearn.linear_model import LogisticRegression\n",
    "from sklearn.preprocessing import StandardScaler\n",
    "from sklearn.ensemble import RandomForestClassifier\n",
    "from sklearn.cluster import KMeans\n",
    "from sklearn.metrics import accuracy_score, precision_score, recall_score, f1_score\n",
    "from sklearn.metrics import roc_auc_score\n",
    "from scipy.cluster.hierarchy import dendrogram, linkage\n",
    "import itertools"
   ]
  },
  {
   "cell_type": "code",
   "execution_count": 2,
   "metadata": {
    "scrolled": true
   },
   "outputs": [],
   "source": [
    "try:\n",
    "    data = pd.read_csv('gym_churn.csv')\n",
    "except FileNotFoundError:\n",
    "    data = pd.read_csv('/datasets/gym_churn.csv')\n",
    "    \n",
    "    \n"
   ]
  },
  {
   "cell_type": "code",
   "execution_count": 3,
   "metadata": {},
   "outputs": [
    {
     "data": {
      "text/html": [
       "<div>\n",
       "<style scoped>\n",
       "    .dataframe tbody tr th:only-of-type {\n",
       "        vertical-align: middle;\n",
       "    }\n",
       "\n",
       "    .dataframe tbody tr th {\n",
       "        vertical-align: top;\n",
       "    }\n",
       "\n",
       "    .dataframe thead th {\n",
       "        text-align: right;\n",
       "    }\n",
       "</style>\n",
       "<table border=\"1\" class=\"dataframe\">\n",
       "  <thead>\n",
       "    <tr style=\"text-align: right;\">\n",
       "      <th></th>\n",
       "      <th>gender</th>\n",
       "      <th>Near_Location</th>\n",
       "      <th>Partner</th>\n",
       "      <th>Promo_friends</th>\n",
       "      <th>Phone</th>\n",
       "      <th>Contract_period</th>\n",
       "      <th>Group_visits</th>\n",
       "      <th>Age</th>\n",
       "      <th>Avg_additional_charges_total</th>\n",
       "      <th>Month_to_end_contract</th>\n",
       "      <th>Lifetime</th>\n",
       "      <th>Avg_class_frequency_total</th>\n",
       "      <th>Avg_class_frequency_current_month</th>\n",
       "      <th>Churn</th>\n",
       "    </tr>\n",
       "  </thead>\n",
       "  <tbody>\n",
       "    <tr>\n",
       "      <th>0</th>\n",
       "      <td>1</td>\n",
       "      <td>1</td>\n",
       "      <td>1</td>\n",
       "      <td>1</td>\n",
       "      <td>0</td>\n",
       "      <td>6</td>\n",
       "      <td>1</td>\n",
       "      <td>29</td>\n",
       "      <td>14.227470</td>\n",
       "      <td>5.0</td>\n",
       "      <td>3</td>\n",
       "      <td>0.020398</td>\n",
       "      <td>0.000000</td>\n",
       "      <td>0</td>\n",
       "    </tr>\n",
       "    <tr>\n",
       "      <th>1</th>\n",
       "      <td>0</td>\n",
       "      <td>1</td>\n",
       "      <td>0</td>\n",
       "      <td>0</td>\n",
       "      <td>1</td>\n",
       "      <td>12</td>\n",
       "      <td>1</td>\n",
       "      <td>31</td>\n",
       "      <td>113.202938</td>\n",
       "      <td>12.0</td>\n",
       "      <td>7</td>\n",
       "      <td>1.922936</td>\n",
       "      <td>1.910244</td>\n",
       "      <td>0</td>\n",
       "    </tr>\n",
       "    <tr>\n",
       "      <th>2</th>\n",
       "      <td>0</td>\n",
       "      <td>1</td>\n",
       "      <td>1</td>\n",
       "      <td>0</td>\n",
       "      <td>1</td>\n",
       "      <td>1</td>\n",
       "      <td>0</td>\n",
       "      <td>28</td>\n",
       "      <td>129.448479</td>\n",
       "      <td>1.0</td>\n",
       "      <td>2</td>\n",
       "      <td>1.859098</td>\n",
       "      <td>1.736502</td>\n",
       "      <td>0</td>\n",
       "    </tr>\n",
       "    <tr>\n",
       "      <th>3</th>\n",
       "      <td>0</td>\n",
       "      <td>1</td>\n",
       "      <td>1</td>\n",
       "      <td>1</td>\n",
       "      <td>1</td>\n",
       "      <td>12</td>\n",
       "      <td>1</td>\n",
       "      <td>33</td>\n",
       "      <td>62.669863</td>\n",
       "      <td>12.0</td>\n",
       "      <td>2</td>\n",
       "      <td>3.205633</td>\n",
       "      <td>3.357215</td>\n",
       "      <td>0</td>\n",
       "    </tr>\n",
       "    <tr>\n",
       "      <th>4</th>\n",
       "      <td>1</td>\n",
       "      <td>1</td>\n",
       "      <td>1</td>\n",
       "      <td>1</td>\n",
       "      <td>1</td>\n",
       "      <td>1</td>\n",
       "      <td>0</td>\n",
       "      <td>26</td>\n",
       "      <td>198.362265</td>\n",
       "      <td>1.0</td>\n",
       "      <td>3</td>\n",
       "      <td>1.113884</td>\n",
       "      <td>1.120078</td>\n",
       "      <td>0</td>\n",
       "    </tr>\n",
       "  </tbody>\n",
       "</table>\n",
       "</div>"
      ],
      "text/plain": [
       "   gender  Near_Location  Partner  Promo_friends  Phone  Contract_period  \\\n",
       "0       1              1        1              1      0                6   \n",
       "1       0              1        0              0      1               12   \n",
       "2       0              1        1              0      1                1   \n",
       "3       0              1        1              1      1               12   \n",
       "4       1              1        1              1      1                1   \n",
       "\n",
       "   Group_visits  Age  Avg_additional_charges_total  Month_to_end_contract  \\\n",
       "0             1   29                     14.227470                    5.0   \n",
       "1             1   31                    113.202938                   12.0   \n",
       "2             0   28                    129.448479                    1.0   \n",
       "3             1   33                     62.669863                   12.0   \n",
       "4             0   26                    198.362265                    1.0   \n",
       "\n",
       "   Lifetime  Avg_class_frequency_total  Avg_class_frequency_current_month  \\\n",
       "0         3                   0.020398                           0.000000   \n",
       "1         7                   1.922936                           1.910244   \n",
       "2         2                   1.859098                           1.736502   \n",
       "3         2                   3.205633                           3.357215   \n",
       "4         3                   1.113884                           1.120078   \n",
       "\n",
       "   Churn  \n",
       "0      0  \n",
       "1      0  \n",
       "2      0  \n",
       "3      0  \n",
       "4      0  "
      ]
     },
     "execution_count": 3,
     "metadata": {},
     "output_type": "execute_result"
    }
   ],
   "source": [
    "data.head()"
   ]
  },
  {
   "cell_type": "code",
   "execution_count": 4,
   "metadata": {
    "scrolled": true
   },
   "outputs": [
    {
     "name": "stdout",
     "output_type": "stream",
     "text": [
      "<class 'pandas.core.frame.DataFrame'>\n",
      "RangeIndex: 4000 entries, 0 to 3999\n",
      "Data columns (total 14 columns):\n",
      " #   Column                             Non-Null Count  Dtype  \n",
      "---  ------                             --------------  -----  \n",
      " 0   gender                             4000 non-null   int64  \n",
      " 1   Near_Location                      4000 non-null   int64  \n",
      " 2   Partner                            4000 non-null   int64  \n",
      " 3   Promo_friends                      4000 non-null   int64  \n",
      " 4   Phone                              4000 non-null   int64  \n",
      " 5   Contract_period                    4000 non-null   int64  \n",
      " 6   Group_visits                       4000 non-null   int64  \n",
      " 7   Age                                4000 non-null   int64  \n",
      " 8   Avg_additional_charges_total       4000 non-null   float64\n",
      " 9   Month_to_end_contract              4000 non-null   float64\n",
      " 10  Lifetime                           4000 non-null   int64  \n",
      " 11  Avg_class_frequency_total          4000 non-null   float64\n",
      " 12  Avg_class_frequency_current_month  4000 non-null   float64\n",
      " 13  Churn                              4000 non-null   int64  \n",
      "dtypes: float64(4), int64(10)\n",
      "memory usage: 437.6 KB\n"
     ]
    }
   ],
   "source": [
    "data.info()"
   ]
  },
  {
   "cell_type": "markdown",
   "metadata": {},
   "source": [
    "Итак, мы загрузили данные  и видим, что у нас есть информация о 4 тыс. клиентов. Явных пропусков в таблице нет. Все поля имеют числовой тип, при этом значения в некоторых из них - бинарные."
   ]
  },
  {
   "cell_type": "markdown",
   "metadata": {},
   "source": [
    "## Исследовательский анализ данных (EDA)"
   ]
  },
  {
   "cell_type": "markdown",
   "metadata": {},
   "source": [
    "При вызове метода info() мы не обнаружили в датасете явных пропусков. Изучим средние значения и стандартные отклонения по столбцам при помощи метода describe()."
   ]
  },
  {
   "cell_type": "code",
   "execution_count": 5,
   "metadata": {
    "scrolled": true
   },
   "outputs": [
    {
     "data": {
      "text/html": [
       "<div>\n",
       "<style scoped>\n",
       "    .dataframe tbody tr th:only-of-type {\n",
       "        vertical-align: middle;\n",
       "    }\n",
       "\n",
       "    .dataframe tbody tr th {\n",
       "        vertical-align: top;\n",
       "    }\n",
       "\n",
       "    .dataframe thead th {\n",
       "        text-align: right;\n",
       "    }\n",
       "</style>\n",
       "<table border=\"1\" class=\"dataframe\">\n",
       "  <thead>\n",
       "    <tr style=\"text-align: right;\">\n",
       "      <th></th>\n",
       "      <th>gender</th>\n",
       "      <th>Near_Location</th>\n",
       "      <th>Partner</th>\n",
       "      <th>Promo_friends</th>\n",
       "      <th>Phone</th>\n",
       "      <th>Contract_period</th>\n",
       "      <th>Group_visits</th>\n",
       "      <th>Age</th>\n",
       "      <th>Avg_additional_charges_total</th>\n",
       "      <th>Month_to_end_contract</th>\n",
       "      <th>Lifetime</th>\n",
       "      <th>Avg_class_frequency_total</th>\n",
       "      <th>Avg_class_frequency_current_month</th>\n",
       "      <th>Churn</th>\n",
       "    </tr>\n",
       "  </thead>\n",
       "  <tbody>\n",
       "    <tr>\n",
       "      <th>count</th>\n",
       "      <td>4000.000000</td>\n",
       "      <td>4000.000000</td>\n",
       "      <td>4000.000000</td>\n",
       "      <td>4000.000000</td>\n",
       "      <td>4000.000000</td>\n",
       "      <td>4000.000000</td>\n",
       "      <td>4000.000000</td>\n",
       "      <td>4000.000000</td>\n",
       "      <td>4000.000000</td>\n",
       "      <td>4000.000000</td>\n",
       "      <td>4000.000000</td>\n",
       "      <td>4000.000000</td>\n",
       "      <td>4000.000000</td>\n",
       "      <td>4000.000000</td>\n",
       "    </tr>\n",
       "    <tr>\n",
       "      <th>mean</th>\n",
       "      <td>0.510250</td>\n",
       "      <td>0.845250</td>\n",
       "      <td>0.486750</td>\n",
       "      <td>0.308500</td>\n",
       "      <td>0.903500</td>\n",
       "      <td>4.681250</td>\n",
       "      <td>0.412250</td>\n",
       "      <td>29.184250</td>\n",
       "      <td>146.943728</td>\n",
       "      <td>4.322750</td>\n",
       "      <td>3.724750</td>\n",
       "      <td>1.879020</td>\n",
       "      <td>1.767052</td>\n",
       "      <td>0.265250</td>\n",
       "    </tr>\n",
       "    <tr>\n",
       "      <th>std</th>\n",
       "      <td>0.499957</td>\n",
       "      <td>0.361711</td>\n",
       "      <td>0.499887</td>\n",
       "      <td>0.461932</td>\n",
       "      <td>0.295313</td>\n",
       "      <td>4.549706</td>\n",
       "      <td>0.492301</td>\n",
       "      <td>3.258367</td>\n",
       "      <td>96.355602</td>\n",
       "      <td>4.191297</td>\n",
       "      <td>3.749267</td>\n",
       "      <td>0.972245</td>\n",
       "      <td>1.052906</td>\n",
       "      <td>0.441521</td>\n",
       "    </tr>\n",
       "    <tr>\n",
       "      <th>min</th>\n",
       "      <td>0.000000</td>\n",
       "      <td>0.000000</td>\n",
       "      <td>0.000000</td>\n",
       "      <td>0.000000</td>\n",
       "      <td>0.000000</td>\n",
       "      <td>1.000000</td>\n",
       "      <td>0.000000</td>\n",
       "      <td>18.000000</td>\n",
       "      <td>0.148205</td>\n",
       "      <td>1.000000</td>\n",
       "      <td>0.000000</td>\n",
       "      <td>0.000000</td>\n",
       "      <td>0.000000</td>\n",
       "      <td>0.000000</td>\n",
       "    </tr>\n",
       "    <tr>\n",
       "      <th>25%</th>\n",
       "      <td>0.000000</td>\n",
       "      <td>1.000000</td>\n",
       "      <td>0.000000</td>\n",
       "      <td>0.000000</td>\n",
       "      <td>1.000000</td>\n",
       "      <td>1.000000</td>\n",
       "      <td>0.000000</td>\n",
       "      <td>27.000000</td>\n",
       "      <td>68.868830</td>\n",
       "      <td>1.000000</td>\n",
       "      <td>1.000000</td>\n",
       "      <td>1.180875</td>\n",
       "      <td>0.963003</td>\n",
       "      <td>0.000000</td>\n",
       "    </tr>\n",
       "    <tr>\n",
       "      <th>50%</th>\n",
       "      <td>1.000000</td>\n",
       "      <td>1.000000</td>\n",
       "      <td>0.000000</td>\n",
       "      <td>0.000000</td>\n",
       "      <td>1.000000</td>\n",
       "      <td>1.000000</td>\n",
       "      <td>0.000000</td>\n",
       "      <td>29.000000</td>\n",
       "      <td>136.220159</td>\n",
       "      <td>1.000000</td>\n",
       "      <td>3.000000</td>\n",
       "      <td>1.832768</td>\n",
       "      <td>1.719574</td>\n",
       "      <td>0.000000</td>\n",
       "    </tr>\n",
       "    <tr>\n",
       "      <th>75%</th>\n",
       "      <td>1.000000</td>\n",
       "      <td>1.000000</td>\n",
       "      <td>1.000000</td>\n",
       "      <td>1.000000</td>\n",
       "      <td>1.000000</td>\n",
       "      <td>6.000000</td>\n",
       "      <td>1.000000</td>\n",
       "      <td>31.000000</td>\n",
       "      <td>210.949625</td>\n",
       "      <td>6.000000</td>\n",
       "      <td>5.000000</td>\n",
       "      <td>2.536078</td>\n",
       "      <td>2.510336</td>\n",
       "      <td>1.000000</td>\n",
       "    </tr>\n",
       "    <tr>\n",
       "      <th>max</th>\n",
       "      <td>1.000000</td>\n",
       "      <td>1.000000</td>\n",
       "      <td>1.000000</td>\n",
       "      <td>1.000000</td>\n",
       "      <td>1.000000</td>\n",
       "      <td>12.000000</td>\n",
       "      <td>1.000000</td>\n",
       "      <td>41.000000</td>\n",
       "      <td>552.590740</td>\n",
       "      <td>12.000000</td>\n",
       "      <td>31.000000</td>\n",
       "      <td>6.023668</td>\n",
       "      <td>6.146783</td>\n",
       "      <td>1.000000</td>\n",
       "    </tr>\n",
       "  </tbody>\n",
       "</table>\n",
       "</div>"
      ],
      "text/plain": [
       "            gender  Near_Location      Partner  Promo_friends        Phone  \\\n",
       "count  4000.000000    4000.000000  4000.000000    4000.000000  4000.000000   \n",
       "mean      0.510250       0.845250     0.486750       0.308500     0.903500   \n",
       "std       0.499957       0.361711     0.499887       0.461932     0.295313   \n",
       "min       0.000000       0.000000     0.000000       0.000000     0.000000   \n",
       "25%       0.000000       1.000000     0.000000       0.000000     1.000000   \n",
       "50%       1.000000       1.000000     0.000000       0.000000     1.000000   \n",
       "75%       1.000000       1.000000     1.000000       1.000000     1.000000   \n",
       "max       1.000000       1.000000     1.000000       1.000000     1.000000   \n",
       "\n",
       "       Contract_period  Group_visits          Age  \\\n",
       "count      4000.000000   4000.000000  4000.000000   \n",
       "mean          4.681250      0.412250    29.184250   \n",
       "std           4.549706      0.492301     3.258367   \n",
       "min           1.000000      0.000000    18.000000   \n",
       "25%           1.000000      0.000000    27.000000   \n",
       "50%           1.000000      0.000000    29.000000   \n",
       "75%           6.000000      1.000000    31.000000   \n",
       "max          12.000000      1.000000    41.000000   \n",
       "\n",
       "       Avg_additional_charges_total  Month_to_end_contract     Lifetime  \\\n",
       "count                   4000.000000            4000.000000  4000.000000   \n",
       "mean                     146.943728               4.322750     3.724750   \n",
       "std                       96.355602               4.191297     3.749267   \n",
       "min                        0.148205               1.000000     0.000000   \n",
       "25%                       68.868830               1.000000     1.000000   \n",
       "50%                      136.220159               1.000000     3.000000   \n",
       "75%                      210.949625               6.000000     5.000000   \n",
       "max                      552.590740              12.000000    31.000000   \n",
       "\n",
       "       Avg_class_frequency_total  Avg_class_frequency_current_month  \\\n",
       "count                4000.000000                        4000.000000   \n",
       "mean                    1.879020                           1.767052   \n",
       "std                     0.972245                           1.052906   \n",
       "min                     0.000000                           0.000000   \n",
       "25%                     1.180875                           0.963003   \n",
       "50%                     1.832768                           1.719574   \n",
       "75%                     2.536078                           2.510336   \n",
       "max                     6.023668                           6.146783   \n",
       "\n",
       "             Churn  \n",
       "count  4000.000000  \n",
       "mean      0.265250  \n",
       "std       0.441521  \n",
       "min       0.000000  \n",
       "25%       0.000000  \n",
       "50%       0.000000  \n",
       "75%       1.000000  \n",
       "max       1.000000  "
      ]
     },
     "execution_count": 5,
     "metadata": {},
     "output_type": "execute_result"
    }
   ],
   "source": [
    "data.describe()"
   ]
  },
  {
   "cell_type": "markdown",
   "metadata": {},
   "source": [
    "Изучать статистики для столбцов с бинарными значениями довольно бессмысленно, их следует анализировать иначе. Рассмотрим распределение значений в остальных полях. Для визуализации построим графики boxplot."
   ]
  },
  {
   "cell_type": "code",
   "execution_count": 6,
   "metadata": {},
   "outputs": [
    {
     "data": {
      "image/png": "[encoded data removed]",
      "text/plain": [
       "<Figure size 1296x216 with 7 Axes>"
      ]
     },
     "metadata": {
      "needs_background": "light"
     },
     "output_type": "display_data"
    }
   ],
   "source": [
    "fig = plt.figure(figsize=(18, 3))\n",
    "\n",
    "i = 0\n",
    "for col in data.columns:\n",
    "    if sorted(data[col].unique()) != [0, 1]:\n",
    "        i+=1\n",
    "        ax=fig.add_subplot(1,7,i)\n",
    "        sns.boxplot(\n",
    "                    data=data[col],\n",
    "                    ax=ax\n",
    "                   )\n",
    "        ax.set_title(col, rotation = 15)\n",
    "        \n",
    "\n",
    "plt.show()\n",
    "        "
   ]
  },
  {
   "cell_type": "markdown",
   "metadata": {},
   "source": [
    "По полученным ящичкам с усами  мы можем сформулировать первые наблюдения:\n",
    "1. Средний возраст посетителей фитнес-центра - 29 лет. Большинство клиентов - люди в возрасте от 21 до 37 лет. При этом половине из них - от 27 до 31 лет. \n",
    "2. На остальные услуги клиенты в среднем тратят 146 рублей. Большинство таких трат суммарно не превышают 400 рублей, более высокие суммы встречаются, но редко.\n",
    "3. У 75% клиентов приобретены абонементы на срок 1 или 6 месяцев. Также у 75% клиентов до завершения абонемента остается от 1 до 6 месяцев.\n",
    "4. Средний lifetime клиентов - 4 месяца.Клиенты, посещающие фитнес-центр больше года - единичные экземпляры. \n",
    "5. Графики средней частоты недельных посещений за прошлый месяц и весь период - очень похожи. В среднем люди ходят заниматься спортом 2 раза в неделю, однако встречаются уникумы, которые приходят и по 5-6 раз. Может они там работают?:)"
   ]
  },
  {
   "cell_type": "markdown",
   "metadata": {},
   "source": [
    "Посмотрим на средние значения признаков в двух группах — тех, кто ушел в отток и тех, кто остался."
   ]
  },
  {
   "cell_type": "code",
   "execution_count": 7,
   "metadata": {
    "scrolled": true
   },
   "outputs": [
    {
     "data": {
      "text/html": [
       "<div>\n",
       "<style scoped>\n",
       "    .dataframe tbody tr th:only-of-type {\n",
       "        vertical-align: middle;\n",
       "    }\n",
       "\n",
       "    .dataframe tbody tr th {\n",
       "        vertical-align: top;\n",
       "    }\n",
       "\n",
       "    .dataframe thead th {\n",
       "        text-align: right;\n",
       "    }\n",
       "</style>\n",
       "<table border=\"1\" class=\"dataframe\">\n",
       "  <thead>\n",
       "    <tr style=\"text-align: right;\">\n",
       "      <th></th>\n",
       "      <th>gender</th>\n",
       "      <th>Near_Location</th>\n",
       "      <th>Partner</th>\n",
       "      <th>Promo_friends</th>\n",
       "      <th>Phone</th>\n",
       "      <th>Contract_period</th>\n",
       "      <th>Group_visits</th>\n",
       "      <th>Age</th>\n",
       "      <th>Avg_additional_charges_total</th>\n",
       "      <th>Month_to_end_contract</th>\n",
       "      <th>Lifetime</th>\n",
       "      <th>Avg_class_frequency_total</th>\n",
       "      <th>Avg_class_frequency_current_month</th>\n",
       "    </tr>\n",
       "    <tr>\n",
       "      <th>Churn</th>\n",
       "      <th></th>\n",
       "      <th></th>\n",
       "      <th></th>\n",
       "      <th></th>\n",
       "      <th></th>\n",
       "      <th></th>\n",
       "      <th></th>\n",
       "      <th></th>\n",
       "      <th></th>\n",
       "      <th></th>\n",
       "      <th></th>\n",
       "      <th></th>\n",
       "      <th></th>\n",
       "    </tr>\n",
       "  </thead>\n",
       "  <tbody>\n",
       "    <tr>\n",
       "      <th>0</th>\n",
       "      <td>0.510037</td>\n",
       "      <td>0.873086</td>\n",
       "      <td>0.534195</td>\n",
       "      <td>0.353522</td>\n",
       "      <td>0.903709</td>\n",
       "      <td>5.747193</td>\n",
       "      <td>0.464103</td>\n",
       "      <td>29.976523</td>\n",
       "      <td>158.445715</td>\n",
       "      <td>5.283089</td>\n",
       "      <td>4.711807</td>\n",
       "      <td>2.024876</td>\n",
       "      <td>2.027882</td>\n",
       "    </tr>\n",
       "    <tr>\n",
       "      <th>1</th>\n",
       "      <td>0.510839</td>\n",
       "      <td>0.768143</td>\n",
       "      <td>0.355325</td>\n",
       "      <td>0.183789</td>\n",
       "      <td>0.902922</td>\n",
       "      <td>1.728558</td>\n",
       "      <td>0.268615</td>\n",
       "      <td>26.989632</td>\n",
       "      <td>115.082899</td>\n",
       "      <td>1.662582</td>\n",
       "      <td>0.990575</td>\n",
       "      <td>1.474995</td>\n",
       "      <td>1.044546</td>\n",
       "    </tr>\n",
       "  </tbody>\n",
       "</table>\n",
       "</div>"
      ],
      "text/plain": [
       "         gender  Near_Location   Partner  Promo_friends     Phone  \\\n",
       "Churn                                                               \n",
       "0      0.510037       0.873086  0.534195       0.353522  0.903709   \n",
       "1      0.510839       0.768143  0.355325       0.183789  0.902922   \n",
       "\n",
       "       Contract_period  Group_visits        Age  Avg_additional_charges_total  \\\n",
       "Churn                                                                           \n",
       "0             5.747193      0.464103  29.976523                    158.445715   \n",
       "1             1.728558      0.268615  26.989632                    115.082899   \n",
       "\n",
       "       Month_to_end_contract  Lifetime  Avg_class_frequency_total  \\\n",
       "Churn                                                               \n",
       "0                   5.283089  4.711807                   2.024876   \n",
       "1                   1.662582  0.990575                   1.474995   \n",
       "\n",
       "       Avg_class_frequency_current_month  \n",
       "Churn                                     \n",
       "0                               2.027882  \n",
       "1                               1.044546  "
      ]
     },
     "execution_count": 7,
     "metadata": {},
     "output_type": "execute_result"
    }
   ],
   "source": [
    "data.groupby('Churn').mean()"
   ]
  },
  {
   "cell_type": "code",
   "execution_count": 8,
   "metadata": {},
   "outputs": [
    {
     "data": {
      "image/png": "[encoded data removed]",
      "text/plain": [
       "<Figure size 1224x504 with 13 Axes>"
      ]
     },
     "metadata": {
      "needs_background": "light"
     },
     "output_type": "display_data"
    }
   ],
   "source": [
    "fig = plt.figure(figsize=(17, 7))\n",
    "i = 0\n",
    "\n",
    "for col in data.drop('Churn', axis=1).columns:\n",
    "    i+=1\n",
    "    ax=fig.add_subplot(2,7,i)\n",
    "    data.groupby('Churn')[col].mean().plot(kind='bar')\n",
    "    ax.set_xlabel(' ')\n",
    "    ax.set_title(col, fontsize = 9)\n",
    "        \n",
    "plt.show()\n",
    "\n",
    "\n"
   ]
  },
  {
   "cell_type": "markdown",
   "metadata": {},
   "source": [
    "Мы можем заметить, что практически для всех признаков средние значения \"оттекающих\" клиентов заметно ниже, чем для активных. У небинарных признаков эта разница выражена сильнее, у бинарных - слабее. Все логично - это связано с диапазоном значений. "
   ]
  },
  {
   "cell_type": "markdown",
   "metadata": {},
   "source": [
    "Построим столбчатые гистограммы и распределения признаков для тех, кто ушёл (отток) и тех, кто остался (не попали в отток)."
   ]
  },
  {
   "cell_type": "code",
   "execution_count": 9,
   "metadata": {
    "scrolled": false
   },
   "outputs": [
    {
     "data": {
      "image/png": "[encoded data removed]",
      "text/plain": [
       "<Figure size 1224x1584 with 13 Axes>"
      ]
     },
     "metadata": {
      "needs_background": "light"
     },
     "output_type": "display_data"
    }
   ],
   "source": [
    "fig = plt.figure(figsize=(17, 22))\n",
    "i = 0\n",
    "\n",
    "for col in data.drop('Churn', axis=1).columns:\n",
    "    i+=1\n",
    "    ax=fig.add_subplot(4,4,i)\n",
    "    sns.histplot(x=col, \n",
    "                 data=data, \n",
    "                 hue=\"Churn\", \n",
    "                 element=\"step\",\n",
    "                 ax=ax\n",
    "                 )\n",
    "    ax.set_title(col)\n",
    "    ax.set_xlabel(' ')\n",
    "    ax.set_ylabel(' ')\n",
    "      \n",
    "plt.show()"
   ]
  },
  {
   "cell_type": "markdown",
   "metadata": {},
   "source": [
    "Мы можем заметить, что оттекающих клиентов по всем признакам меньше, чем активных. Почти вовсех случаях синий график активных клиентов перекрывает оранжевый, для небинарных признаков колокол синего графика всегда шире - это означает, что клиенты не склонные к оттоку \"выигривают\" по всем признакам. Исключение составляют оранжевые выросы в районе 0 на графиках с недельной посещаемостью и lifetime - это те клиенты, которые начали ходить однажды и больше не вернулись. График распределения по возрасту чуть смещен - молодые люди оттекают чаще, чем старшие.\n",
    "\n"
   ]
  },
  {
   "cell_type": "markdown",
   "metadata": {},
   "source": [
    "Теперь построим матрицу корреляций и отобразим её."
   ]
  },
  {
   "cell_type": "code",
   "execution_count": 10,
   "metadata": {},
   "outputs": [
    {
     "data": {
      "image/png": "[encoded data removed]",
      "text/plain": [
       "<Figure size 864x864 with 2 Axes>"
      ]
     },
     "metadata": {
      "needs_background": "light"
     },
     "output_type": "display_data"
    }
   ],
   "source": [
    "corr_m = data.corr()\n",
    "\n",
    "plt.figure(figsize=(12,12))\n",
    "sns.heatmap(corr_m,\n",
    "           square = True, \n",
    "           annot = True\n",
    "           )\n",
    "\n",
    "plt.show()"
   ]
  },
  {
   "cell_type": "markdown",
   "metadata": {},
   "source": [
    "По тепловой карте видны две пары сильно коррелирующих признаков: \n",
    "\n",
    "    - 'Contract_period' / 'Month_to_end_contract' \n",
    "    - 'Avg_class_frequency_total' / 'Avg_class_frequency_current_month\n",
    "    \n",
    "Чтобы избавиться от мультиколлинеарности, удалим из датафрейма по одному признаку из каждой пары. Оставим те, что больше коррелируют с целевой переменной."
   ]
  },
  {
   "cell_type": "code",
   "execution_count": 11,
   "metadata": {},
   "outputs": [],
   "source": [
    "data.drop(['Avg_class_frequency_total', 'Month_to_end_contract'], axis = 1, inplace = True) "
   ]
  },
  {
   "cell_type": "markdown",
   "metadata": {},
   "source": [
    "## Модель прогнозирования оттока клиентов"
   ]
  },
  {
   "cell_type": "markdown",
   "metadata": {},
   "source": [
    "Построим модель бинарной классификации клиентов, где целевой признак — факт оттока клиента в следующем месяце. Для начала разобьем данные на обучающую и валидационную выборку функцией train_test_split() и стандартизируем данные."
   ]
  },
  {
   "cell_type": "code",
   "execution_count": 12,
   "metadata": {},
   "outputs": [],
   "source": [
    "# разделим наши данные на признаки (матрица X) и целевую переменную (y)\n",
    "X = data.drop(columns=['Churn'])\n",
    "y = data['Churn']\n",
    "\n",
    "# разделяем модель на обучающую и валидационную выборку\n",
    "X_train, X_test, y_train, y_test = train_test_split(X, y, test_size=0.2, random_state=0)"
   ]
  },
  {
   "cell_type": "code",
   "execution_count": 13,
   "metadata": {},
   "outputs": [],
   "source": [
    "# стандартизируем данные \n",
    "scaler = StandardScaler()\n",
    "scaler.fit(X_train)# обучите scaler на обучающей выборке методом fit\n",
    "X_train_st = scaler.transform(X_train) # стандартизируем обучающую выборку методом transform scaler \n",
    "X_test_st = scaler.transform(X_test) # стандартизируем тестовую выборку методом transform scaler"
   ]
  },
  {
   "cell_type": "markdown",
   "metadata": {},
   "source": [
    "Обучим модель на train-выборке логистической регрессией.\n"
   ]
  },
  {
   "cell_type": "code",
   "execution_count": 14,
   "metadata": {},
   "outputs": [],
   "source": [
    "# зададим алгоритм для модели логистической регрессии\n",
    "lr_model = LogisticRegression(random_state=0) \n",
    "\n",
    "# обучим модель\n",
    "lr_model.fit(X_train_st, y_train)\n",
    "\n",
    "# воспользуемся уже обученной моделью, чтобы сделать прогнозы\n",
    "lr_predictions = lr_model.predict(X_test_st)\n",
    "lr_probabilities = lr_model.predict_proba(X_test_st)[:, 1]\n"
   ]
  },
  {
   "cell_type": "markdown",
   "metadata": {},
   "source": [
    "Теперь обучим модель на train-выборке случайным лесом."
   ]
  },
  {
   "cell_type": "code",
   "execution_count": 15,
   "metadata": {},
   "outputs": [],
   "source": [
    "# зададим алгоритм для новой модели на основе алгоритма случайного леса\n",
    "rf_model = RandomForestClassifier(n_estimators = 100, random_state = 0) \n",
    "\n",
    "# обучим модель случайного леса\n",
    "rf_model.fit(X_train_st, y_train)\n",
    "\n",
    "# воспользуемся уже обученной моделью, чтобы сделать прогнозы\n",
    "rf_predictions = rf_model.predict(X_test_st)\n",
    "rf_probabilities = rf_model.predict_proba(X_test_st)[:, 1]\n"
   ]
  },
  {
   "cell_type": "markdown",
   "metadata": {},
   "source": [
    "Оценим метрики accuracy, precision и recall для обеих моделей на валидационной выборке и сравните по ним модели. Для удобства  реализуем функцию вывода метрик."
   ]
  },
  {
   "cell_type": "code",
   "execution_count": 16,
   "metadata": {},
   "outputs": [],
   "source": [
    "def print_all_metrics(y_true, y_pred, y_proba, title='Метрики классификации'):\n",
    "    print(title)\n",
    "    print('\\tAccuracy: {:.2f}'.format(accuracy_score(y_true, y_pred)))\n",
    "    print('\\tPrecision: {:.2f}'.format(precision_score(y_true, y_pred)))\n",
    "    print('\\tRecall: {:.2f}'.format(recall_score(y_true, y_pred)))\n"
   ]
  },
  {
   "cell_type": "code",
   "execution_count": 17,
   "metadata": {
    "scrolled": true
   },
   "outputs": [
    {
     "name": "stdout",
     "output_type": "stream",
     "text": [
      "Метрики для модели логистической регрессии:\n",
      "\tAccuracy: 0.90\n",
      "\tPrecision: 0.79\n",
      "\tRecall: 0.82\n",
      "Метрики для модели случайного леса:\n",
      "\tAccuracy: 0.90\n",
      "\tPrecision: 0.81\n",
      "\tRecall: 0.75\n"
     ]
    }
   ],
   "source": [
    "# вызовем функцию два раза, чтобы вывести все метрики по обеим моделям\n",
    "print_all_metrics(\n",
    "    y_test,\n",
    "    lr_predictions,\n",
    "    lr_probabilities,\n",
    "    title='Метрики для модели логистической регрессии:',\n",
    ")\n",
    "\n",
    "print_all_metrics(\n",
    "    y_test,\n",
    "    rf_predictions,\n",
    "    rf_probabilities,\n",
    "    title='Метрики для модели случайного леса:'\n",
    ")"
   ]
  },
  {
   "cell_type": "markdown",
   "metadata": {},
   "source": [
    "Доля правильных ответов одинаковая для обеих моделей, а вот точность и полнота, хоть и незначительно, отличаются - как мы знаем, оптимизация одной из этих метрик часто приводит к ухудшению другой. В данном случае это подтверждается."
   ]
  },
  {
   "cell_type": "markdown",
   "metadata": {},
   "source": [
    "По выбраннам метрикам модели выглядят одинаковыми. Сравним дополнительные метрики - F1-меру и площадь под кривой ошибок, чтобы принять решение."
   ]
  },
  {
   "cell_type": "code",
   "execution_count": 18,
   "metadata": {},
   "outputs": [],
   "source": [
    "def print_more_metrics(y_true, y_pred, y_proba, title='Метрики классификации'):\n",
    "    print(title)\n",
    "    print('\\tF1: {:.2f}'.format(f1_score(y_true, y_pred)))\n",
    "    print('\\tROC_AUC: {:.2f}'.format(roc_auc_score(y_true, y_proba)))"
   ]
  },
  {
   "cell_type": "code",
   "execution_count": 19,
   "metadata": {},
   "outputs": [
    {
     "name": "stdout",
     "output_type": "stream",
     "text": [
      "Метрики для модели логистической регрессии:\n",
      "\tF1: 0.81\n",
      "\tROC_AUC: 0.96\n",
      "Метрики для модели случайного леса:\n",
      "\tF1: 0.78\n",
      "\tROC_AUC: 0.95\n"
     ]
    }
   ],
   "source": [
    "# вызовем функцию два раза, чтобы вывести все метрики по обеим моделям\n",
    "print_more_metrics(\n",
    "    y_test,\n",
    "    lr_predictions,\n",
    "    lr_probabilities,\n",
    "    title='Метрики для модели логистической регрессии:',\n",
    ")\n",
    "\n",
    "print_more_metrics(\n",
    "    y_test,\n",
    "    rf_predictions,\n",
    "    rf_probabilities,\n",
    "    title='Метрики для модели случайного леса:'\n",
    ")"
   ]
  },
  {
   "cell_type": "markdown",
   "metadata": {},
   "source": [
    "Итак, оценка метрик нам показывает, что модель логистической регрессии лучше - остановимся на ней."
   ]
  },
  {
   "cell_type": "markdown",
   "metadata": {},
   "source": [
    "## Кластеризация клиентов"
   ]
  },
  {
   "cell_type": "markdown",
   "metadata": {},
   "source": [
    "Отложим в сторону столбец с оттоком и проведем кластеризацию клиентов. Сначала стандартизируем данные. На выходе получим преобразованные таблицы объект-признак для обучающего и валидационного набора. И уже их будем применять для обучения и прогнозирования."
   ]
  },
  {
   "cell_type": "code",
   "execution_count": 20,
   "metadata": {},
   "outputs": [],
   "source": [
    "scaler = StandardScaler() # создаём объект класса scaler (нормализатор)\n",
    "x_sc = scaler.fit_transform(data.drop(columns = ['Churn'])) # обучаем нормализатор и преобразуем набор данных "
   ]
  },
  {
   "cell_type": "markdown",
   "metadata": {},
   "source": [
    "Построим матрицу расстояний функцией linkage() на стандартизованной матрице признаков и нарисуем дендрограмму. "
   ]
  },
  {
   "cell_type": "code",
   "execution_count": 21,
   "metadata": {},
   "outputs": [
    {
     "data": {
      "image/png": "[encoded data removed]",
      "text/plain": [
       "<Figure size 1080x720 with 1 Axes>"
      ]
     },
     "metadata": {
      "needs_background": "light"
     },
     "output_type": "display_data"
    }
   ],
   "source": [
    "linked = linkage(x_sc, method = 'ward') \n",
    "plt.figure(figsize=(15, 10))  \n",
    "dendrogram(linked, orientation='top', no_labels=True)\n",
    "plt.title('Иерархическая кластеризация')\n",
    "plt.show() "
   ]
  },
  {
   "cell_type": "markdown",
   "metadata": {},
   "source": [
    "По полученной дендрограмме можно выделить 4 кластера  — четыре разных цвета на графике."
   ]
  },
  {
   "cell_type": "markdown",
   "metadata": {},
   "source": [
    "Обучим модель кластеризации на основании алгоритма K-Means и спрогнозируем кластеры клиентов. Договоримся за число кластеров принять n=4, согласно распределению на дендограмме."
   ]
  },
  {
   "cell_type": "code",
   "execution_count": 26,
   "metadata": {},
   "outputs": [
    {
     "data": {
      "text/html": [
       "<div>\n",
       "<style scoped>\n",
       "    .dataframe tbody tr th:only-of-type {\n",
       "        vertical-align: middle;\n",
       "    }\n",
       "\n",
       "    .dataframe tbody tr th {\n",
       "        vertical-align: top;\n",
       "    }\n",
       "\n",
       "    .dataframe thead th {\n",
       "        text-align: right;\n",
       "    }\n",
       "</style>\n",
       "<table border=\"1\" class=\"dataframe\">\n",
       "  <thead>\n",
       "    <tr style=\"text-align: right;\">\n",
       "      <th></th>\n",
       "      <th>gender</th>\n",
       "      <th>Near_Location</th>\n",
       "      <th>Partner</th>\n",
       "      <th>Promo_friends</th>\n",
       "      <th>Phone</th>\n",
       "      <th>Contract_period</th>\n",
       "      <th>Group_visits</th>\n",
       "      <th>Age</th>\n",
       "      <th>Avg_additional_charges_total</th>\n",
       "      <th>Lifetime</th>\n",
       "      <th>Avg_class_frequency_current_month</th>\n",
       "      <th>Churn</th>\n",
       "    </tr>\n",
       "    <tr>\n",
       "      <th>cluster</th>\n",
       "      <th></th>\n",
       "      <th></th>\n",
       "      <th></th>\n",
       "      <th></th>\n",
       "      <th></th>\n",
       "      <th></th>\n",
       "      <th></th>\n",
       "      <th></th>\n",
       "      <th></th>\n",
       "      <th></th>\n",
       "      <th></th>\n",
       "      <th></th>\n",
       "    </tr>\n",
       "  </thead>\n",
       "  <tbody>\n",
       "    <tr>\n",
       "      <th>2</th>\n",
       "      <td>0.527</td>\n",
       "      <td>0.922</td>\n",
       "      <td>0.370</td>\n",
       "      <td>0.004</td>\n",
       "      <td>1.0</td>\n",
       "      <td>5.894</td>\n",
       "      <td>0.536</td>\n",
       "      <td>30.572</td>\n",
       "      <td>173.536</td>\n",
       "      <td>5.134</td>\n",
       "      <td>2.254</td>\n",
       "      <td>0.032</td>\n",
       "    </tr>\n",
       "    <tr>\n",
       "      <th>3</th>\n",
       "      <td>0.504</td>\n",
       "      <td>0.967</td>\n",
       "      <td>0.868</td>\n",
       "      <td>1.000</td>\n",
       "      <td>1.0</td>\n",
       "      <td>6.638</td>\n",
       "      <td>0.517</td>\n",
       "      <td>29.544</td>\n",
       "      <td>151.932</td>\n",
       "      <td>4.246</td>\n",
       "      <td>1.902</td>\n",
       "      <td>0.129</td>\n",
       "    </tr>\n",
       "    <tr>\n",
       "      <th>0</th>\n",
       "      <td>0.523</td>\n",
       "      <td>0.863</td>\n",
       "      <td>0.472</td>\n",
       "      <td>0.306</td>\n",
       "      <td>0.0</td>\n",
       "      <td>4.777</td>\n",
       "      <td>0.427</td>\n",
       "      <td>29.298</td>\n",
       "      <td>144.208</td>\n",
       "      <td>3.940</td>\n",
       "      <td>1.724</td>\n",
       "      <td>0.267</td>\n",
       "    </tr>\n",
       "    <tr>\n",
       "      <th>1</th>\n",
       "      <td>0.495</td>\n",
       "      <td>0.671</td>\n",
       "      <td>0.297</td>\n",
       "      <td>0.044</td>\n",
       "      <td>1.0</td>\n",
       "      <td>1.946</td>\n",
       "      <td>0.208</td>\n",
       "      <td>27.555</td>\n",
       "      <td>118.680</td>\n",
       "      <td>1.917</td>\n",
       "      <td>1.213</td>\n",
       "      <td>0.593</td>\n",
       "    </tr>\n",
       "  </tbody>\n",
       "</table>\n",
       "</div>"
      ],
      "text/plain": [
       "         gender  Near_Location  Partner  Promo_friends  Phone  \\\n",
       "cluster                                                         \n",
       "2         0.527          0.922    0.370          0.004    1.0   \n",
       "3         0.504          0.967    0.868          1.000    1.0   \n",
       "0         0.523          0.863    0.472          0.306    0.0   \n",
       "1         0.495          0.671    0.297          0.044    1.0   \n",
       "\n",
       "         Contract_period  Group_visits     Age  Avg_additional_charges_total  \\\n",
       "cluster                                                                        \n",
       "2                  5.894         0.536  30.572                       173.536   \n",
       "3                  6.638         0.517  29.544                       151.932   \n",
       "0                  4.777         0.427  29.298                       144.208   \n",
       "1                  1.946         0.208  27.555                       118.680   \n",
       "\n",
       "         Lifetime  Avg_class_frequency_current_month  Churn  \n",
       "cluster                                                      \n",
       "2           5.134                              2.254  0.032  \n",
       "3           4.246                              1.902  0.129  \n",
       "0           3.940                              1.724  0.267  \n",
       "1           1.917                              1.213  0.593  "
      ]
     },
     "execution_count": 26,
     "metadata": {},
     "output_type": "execute_result"
    }
   ],
   "source": [
    "# задаём модель k_means с числом кластеров 4 и фиксируем значение random_state\n",
    "km = KMeans(n_clusters=4, random_state=0) \n",
    "# прогнозируем кластеры для наблюдений (алгоритм присваивает им номера от 0 до 3)\n",
    "labels = km.fit_predict(x_sc)\n",
    "\n",
    "# сохраняем метки кластера в поле нашего датасета\n",
    "data['cluster'] = labels\n",
    "\n",
    "# выводим статистику по средним значениям наших признаков по кластеру, отсортировав по значению Churn\n",
    "round(data.groupby('cluster').mean().sort_values(by='Churn'),3)"
   ]
  },
  {
   "cell_type": "markdown",
   "metadata": {},
   "source": [
    "Выше мы вывели средние значения признаков для кластеров, отсортировав по возрастанию среднего значения Churn. Т.е в верхней строке кластер клиентов \"в среднем менее склонных к оттоку\", а в нижней - \"в среднем более склонных к оттоку\". Можем заметить, что почти по всем небинарным признакам наблюдается тенденция уменьшения значения сверху-вниз. \n",
    "\n",
    "Таким образом, клиенты в кластере более склонных к оттоку - в среднем реже посещают зал за неделю, меньше тратят на дополнительные услуги. Их средний lifetime в клубе короче, а средняя длительность абонементов - меньше. Еще, как ни странно, они в среднем моложе."
   ]
  },
  {
   "cell_type": "markdown",
   "metadata": {},
   "source": [
    "Визуализируем распределения признаков для кластеров с помощью графиков violinplot."
   ]
  },
  {
   "cell_type": "code",
   "execution_count": 27,
   "metadata": {
    "scrolled": false
   },
   "outputs": [
    {
     "data": {
      "image/png": "[encoded data removed]",
      "text/plain": [
       "<Figure size 1296x2880 with 11 Axes>"
      ]
     },
     "metadata": {
      "needs_background": "light"
     },
     "output_type": "display_data"
    }
   ],
   "source": [
    "fig = plt.figure(figsize=(18, 40))\n",
    "i = 0\n",
    "\n",
    "for col in data.drop(['cluster', 'Churn'], axis=1).columns:\n",
    "    i+=1\n",
    "    ax=fig.add_subplot(6,2,i)\n",
    "    sns.violinplot(x='cluster',\n",
    "                   y=col,\n",
    "                   data=data,\n",
    "                   hue='Churn',\n",
    "                   split=True,\n",
    "                   ax=ax\n",
    "                      ) \n",
    "    \n",
    "\n",
    "    plt.grid()\n",
    "     \n",
    "plt.show()        \n",
    "    \n",
    "   "
   ]
  },
  {
   "cell_type": "markdown",
   "metadata": {},
   "source": [
    "\n",
    "Из полученных графиков мы можем заметить следующие интересные закономерности:\n",
    "   1. Нет существенных \"перекосов\" по половому признаку ни в одном из кластеров - мужчины и женщины остаются активными или \"оттекают\" одинаково.\n",
    "   2. Похожая картина наблюдается в распределении по признаку сотрудника компании-партнера: партнеры и непартнеры оттекают \"симметрично\". \n",
    "   3. Во всех кластерах чаще перестают ходить в фитнес-клуб клиенты с маленьким сроком абонемента (1 месяц).\n",
    "   4. Чем моложе клиенты - тем они больше склонны к оттоку \n",
    "   5. Клиенты, которые недавно начали посещать фитнес-клуб - чаще перестают в него ходить. (Довольно очевидный факт, но на графике он подтверждается )\n",
    "   6. \"Оттекающие\" клиенты имеют меньшую недельную частоту посещений, чем активные.\n",
    "    \n",
    "       \n",
    "       "
   ]
  },
  {
   "cell_type": "markdown",
   "metadata": {},
   "source": [
    "Для каждого полученного кластера посчитаем долю оттока (методом groupby()). "
   ]
  },
  {
   "cell_type": "code",
   "execution_count": 28,
   "metadata": {
    "scrolled": true
   },
   "outputs": [
    {
     "data": {
      "image/png": "[encoded data removed]",
      "text/plain": [
       "<Figure size 432x288 with 1 Axes>"
      ]
     },
     "metadata": {
      "needs_background": "light"
     },
     "output_type": "display_data"
    }
   ],
   "source": [
    "data.groupby('cluster')['Churn'].mean().sort_values().plot(kind='bar')\n",
    "plt.show()"
   ]
  },
  {
   "cell_type": "markdown",
   "metadata": {},
   "source": [
    "Как мы отмечали ранее - доля оттока разная во всех кластерах. Кластеры 1 и 0 - более склонны к оттоку, а кластеры 2 и 3 - более надежны."
   ]
  },
  {
   "cell_type": "markdown",
   "metadata": {},
   "source": [
    "## Выводы и рекомендации"
   ]
  },
  {
   "cell_type": "markdown",
   "metadata": {},
   "source": [
    "Мы провели исследование данных месячной активности клиентов, и выявили, что активных клиентов значительно больше, чем склонных к оттоку. При этом к оттоку более склонны люди, которые недавно начали посещать фитнес-клуб (меньше 2 месяцев),взяли абонемент на короткий срок (1 месяц) или редко ходят(менее 2 раз в неделю). В то же время, молодые люди (до 25 лет) чаще бросают заниматься спортом. Исходя из полученных наблюдений, можем предположить, что повысить удержание клиентов можно следующим образом:\n",
    "1. Привлекать людей более зрелого возраста\n",
    "2. Увеличить минимальный срок абонемента - возможно, мотивация клиентов вырастет, если они потратят на абонемент больше денег\n",
    "3. Внедрить персональную систему поощрений для ленивых клиентов за более частые посещения (например, сходил 3 раза в неделю- 4й бесплатно). Для всех клиентов такую акцию проводить не выгодно - многие итак хорошо ходят, но для некоторых могло бы быть эффективно\n",
    "\n"
   ]
  }
 ],
 "metadata": {
  "ExecuteTimeLog": [
   {
    "duration": 441,
    "start_time": "2022-06-07T12:37:51.913Z"
   },
   {
    "duration": 151,
    "start_time": "2022-06-07T12:38:22.215Z"
   },
   {
    "duration": 84,
    "start_time": "2022-06-07T12:38:37.288Z"
   },
   {
    "duration": 88,
    "start_time": "2022-06-07T12:38:46.757Z"
   },
   {
    "duration": 72,
    "start_time": "2022-06-07T12:38:50.171Z"
   },
   {
    "duration": 108,
    "start_time": "2022-06-07T12:38:57.000Z"
   },
   {
    "duration": 95,
    "start_time": "2022-06-07T12:39:02.862Z"
   },
   {
    "duration": 12,
    "start_time": "2022-06-07T12:49:55.777Z"
   },
   {
    "duration": 7,
    "start_time": "2022-06-07T13:04:18.220Z"
   },
   {
    "duration": 42,
    "start_time": "2022-06-07T13:04:30.621Z"
   },
   {
    "duration": 12,
    "start_time": "2022-06-07T13:05:02.366Z"
   },
   {
    "duration": 4,
    "start_time": "2022-06-07T13:05:10.418Z"
   },
   {
    "duration": 13,
    "start_time": "2022-06-07T13:05:19.577Z"
   },
   {
    "duration": 95,
    "start_time": "2022-06-07T13:06:16.573Z"
   },
   {
    "duration": 95,
    "start_time": "2022-06-07T13:06:24.225Z"
   },
   {
    "duration": 4,
    "start_time": "2022-06-07T13:06:32.781Z"
   },
   {
    "duration": 13,
    "start_time": "2022-06-07T13:06:37.410Z"
   },
   {
    "duration": 21,
    "start_time": "2022-06-07T13:07:04.569Z"
   },
   {
    "duration": 4,
    "start_time": "2022-06-07T13:15:50.932Z"
   },
   {
    "duration": 12,
    "start_time": "2022-06-07T13:17:30.028Z"
   },
   {
    "duration": 45,
    "start_time": "2022-06-07T13:24:06.437Z"
   },
   {
    "duration": 9,
    "start_time": "2022-06-07T13:24:15.511Z"
   },
   {
    "duration": 8,
    "start_time": "2022-06-07T13:24:50.580Z"
   },
   {
    "duration": 7,
    "start_time": "2022-06-07T13:25:12.677Z"
   },
   {
    "duration": 7,
    "start_time": "2022-06-07T13:25:25.436Z"
   },
   {
    "duration": 6,
    "start_time": "2022-06-07T13:25:44.520Z"
   },
   {
    "duration": 6,
    "start_time": "2022-06-07T13:26:12.428Z"
   },
   {
    "duration": 7,
    "start_time": "2022-06-07T13:27:53.864Z"
   },
   {
    "duration": 6,
    "start_time": "2022-06-07T13:28:09.564Z"
   },
   {
    "duration": 596,
    "start_time": "2022-06-08T13:59:14.743Z"
   },
   {
    "duration": 5,
    "start_time": "2022-06-08T13:59:18.961Z"
   },
   {
    "duration": 26,
    "start_time": "2022-06-08T13:59:20.846Z"
   },
   {
    "duration": 5,
    "start_time": "2022-06-08T13:59:31.854Z"
   },
   {
    "duration": 26,
    "start_time": "2022-06-08T14:06:56.647Z"
   },
   {
    "duration": 31,
    "start_time": "2022-06-08T14:07:05.235Z"
   },
   {
    "duration": 4,
    "start_time": "2022-06-08T14:07:52.374Z"
   },
   {
    "duration": 4,
    "start_time": "2022-06-08T14:08:23.422Z"
   },
   {
    "duration": 19,
    "start_time": "2022-06-08T14:08:44.561Z"
   },
   {
    "duration": 5,
    "start_time": "2022-06-08T14:09:29.903Z"
   },
   {
    "duration": 6,
    "start_time": "2022-06-08T14:09:39.948Z"
   },
   {
    "duration": 6,
    "start_time": "2022-06-08T14:15:25.999Z"
   },
   {
    "duration": 2,
    "start_time": "2022-06-08T14:21:04.554Z"
   },
   {
    "duration": 73,
    "start_time": "2022-06-08T14:24:21.864Z"
   },
   {
    "duration": 263,
    "start_time": "2022-06-08T14:24:46.017Z"
   },
   {
    "duration": 10,
    "start_time": "2022-06-08T14:24:58.261Z"
   },
   {
    "duration": 8,
    "start_time": "2022-06-08T14:25:35.838Z"
   },
   {
    "duration": 7,
    "start_time": "2022-06-08T14:25:45.128Z"
   },
   {
    "duration": 20,
    "start_time": "2022-06-08T14:25:55.472Z"
   },
   {
    "duration": 3,
    "start_time": "2022-06-08T14:26:08.176Z"
   },
   {
    "duration": 464,
    "start_time": "2022-06-08T14:26:30.611Z"
   },
   {
    "duration": 4606,
    "start_time": "2022-06-08T14:26:31.077Z"
   },
   {
    "duration": 3689,
    "start_time": "2022-06-08T14:26:35.685Z"
   },
   {
    "duration": 1181,
    "start_time": "2022-06-08T14:26:39.377Z"
   },
   {
    "duration": 2272,
    "start_time": "2022-06-08T14:26:40.560Z"
   },
   {
    "duration": 38,
    "start_time": "2022-06-08T14:26:42.833Z"
   },
   {
    "duration": 51,
    "start_time": "2022-06-08T14:26:42.873Z"
   },
   {
    "duration": 15,
    "start_time": "2022-06-08T14:26:42.927Z"
   },
   {
    "duration": 16,
    "start_time": "2022-06-08T14:26:42.944Z"
   },
   {
    "duration": 43,
    "start_time": "2022-06-08T14:26:42.962Z"
   },
   {
    "duration": 525,
    "start_time": "2022-06-08T14:27:33.853Z"
   },
   {
    "duration": 451,
    "start_time": "2022-06-08T14:27:51.847Z"
   },
   {
    "duration": 417,
    "start_time": "2022-06-08T14:28:03.754Z"
   },
   {
    "duration": 15,
    "start_time": "2022-06-08T14:30:51.095Z"
   },
   {
    "duration": 531,
    "start_time": "2022-06-29T16:15:56.083Z"
   },
   {
    "duration": 15,
    "start_time": "2022-06-29T16:15:56.616Z"
   },
   {
    "duration": 17,
    "start_time": "2022-06-29T16:15:56.632Z"
   },
   {
    "duration": 24,
    "start_time": "2022-06-29T16:15:56.651Z"
   },
   {
    "duration": 90,
    "start_time": "2022-06-29T16:15:56.677Z"
   },
   {
    "duration": 0,
    "start_time": "2022-06-29T16:15:56.772Z"
   },
   {
    "duration": 0,
    "start_time": "2022-06-29T16:15:56.774Z"
   },
   {
    "duration": 0,
    "start_time": "2022-06-29T16:15:56.775Z"
   },
   {
    "duration": 0,
    "start_time": "2022-06-29T16:15:56.777Z"
   },
   {
    "duration": 0,
    "start_time": "2022-06-29T16:15:56.778Z"
   },
   {
    "duration": 0,
    "start_time": "2022-06-29T16:15:56.779Z"
   },
   {
    "duration": 0,
    "start_time": "2022-06-29T16:15:56.780Z"
   },
   {
    "duration": 0,
    "start_time": "2022-06-29T16:15:56.782Z"
   },
   {
    "duration": 0,
    "start_time": "2022-06-29T16:15:56.783Z"
   },
   {
    "duration": 0,
    "start_time": "2022-06-29T16:15:56.784Z"
   },
   {
    "duration": 0,
    "start_time": "2022-06-29T16:15:56.785Z"
   },
   {
    "duration": 0,
    "start_time": "2022-06-29T16:15:56.786Z"
   },
   {
    "duration": 0,
    "start_time": "2022-06-29T16:15:56.787Z"
   },
   {
    "duration": 0,
    "start_time": "2022-06-29T16:15:56.788Z"
   },
   {
    "duration": 0,
    "start_time": "2022-06-29T16:15:56.789Z"
   },
   {
    "duration": 0,
    "start_time": "2022-06-29T16:15:56.790Z"
   },
   {
    "duration": 0,
    "start_time": "2022-06-29T16:15:56.791Z"
   },
   {
    "duration": 0,
    "start_time": "2022-06-29T16:15:56.792Z"
   },
   {
    "duration": 0,
    "start_time": "2022-06-29T16:15:56.793Z"
   },
   {
    "duration": 0,
    "start_time": "2022-06-29T16:15:56.794Z"
   },
   {
    "duration": 0,
    "start_time": "2022-06-29T16:15:56.795Z"
   },
   {
    "duration": 0,
    "start_time": "2022-06-29T16:15:56.796Z"
   },
   {
    "duration": 0,
    "start_time": "2022-06-29T16:15:56.797Z"
   },
   {
    "duration": 0,
    "start_time": "2022-06-29T16:15:56.798Z"
   },
   {
    "duration": 0,
    "start_time": "2022-06-29T16:15:56.799Z"
   },
   {
    "duration": 0,
    "start_time": "2022-06-29T16:15:56.800Z"
   },
   {
    "duration": 0,
    "start_time": "2022-06-29T16:15:56.855Z"
   },
   {
    "duration": 0,
    "start_time": "2022-06-29T16:15:56.856Z"
   },
   {
    "duration": 0,
    "start_time": "2022-06-29T16:15:56.857Z"
   },
   {
    "duration": 0,
    "start_time": "2022-06-29T16:15:56.858Z"
   },
   {
    "duration": 0,
    "start_time": "2022-06-29T16:15:56.859Z"
   },
   {
    "duration": 0,
    "start_time": "2022-06-29T16:15:56.860Z"
   },
   {
    "duration": 0,
    "start_time": "2022-06-29T16:15:56.861Z"
   },
   {
    "duration": 0,
    "start_time": "2022-06-29T16:15:56.861Z"
   },
   {
    "duration": 0,
    "start_time": "2022-06-29T16:15:56.862Z"
   },
   {
    "duration": 0,
    "start_time": "2022-06-29T16:15:56.866Z"
   },
   {
    "duration": 0,
    "start_time": "2022-06-29T16:15:56.868Z"
   },
   {
    "duration": 0,
    "start_time": "2022-06-29T16:15:56.869Z"
   },
   {
    "duration": 0,
    "start_time": "2022-06-29T16:15:56.870Z"
   },
   {
    "duration": 0,
    "start_time": "2022-06-29T16:15:56.872Z"
   },
   {
    "duration": 0,
    "start_time": "2022-06-29T16:15:56.873Z"
   },
   {
    "duration": 1,
    "start_time": "2022-06-29T16:15:56.874Z"
   },
   {
    "duration": 0,
    "start_time": "2022-06-29T16:15:56.876Z"
   },
   {
    "duration": 0,
    "start_time": "2022-06-29T16:15:56.878Z"
   },
   {
    "duration": 0,
    "start_time": "2022-06-29T16:15:56.879Z"
   },
   {
    "duration": 0,
    "start_time": "2022-06-29T16:15:56.880Z"
   },
   {
    "duration": 82,
    "start_time": "2022-06-29T16:16:24.068Z"
   },
   {
    "duration": 22,
    "start_time": "2022-06-29T16:16:24.153Z"
   },
   {
    "duration": 16,
    "start_time": "2022-06-29T16:16:24.178Z"
   },
   {
    "duration": 14,
    "start_time": "2022-06-29T16:16:24.196Z"
   },
   {
    "duration": 13,
    "start_time": "2022-06-29T16:16:24.212Z"
   },
   {
    "duration": 0,
    "start_time": "2022-06-29T16:16:24.228Z"
   },
   {
    "duration": 0,
    "start_time": "2022-06-29T16:16:24.229Z"
   },
   {
    "duration": 0,
    "start_time": "2022-06-29T16:16:24.253Z"
   },
   {
    "duration": 0,
    "start_time": "2022-06-29T16:16:24.254Z"
   },
   {
    "duration": 0,
    "start_time": "2022-06-29T16:16:24.255Z"
   },
   {
    "duration": 0,
    "start_time": "2022-06-29T16:16:24.256Z"
   },
   {
    "duration": 0,
    "start_time": "2022-06-29T16:16:24.257Z"
   },
   {
    "duration": 0,
    "start_time": "2022-06-29T16:16:24.258Z"
   },
   {
    "duration": 0,
    "start_time": "2022-06-29T16:16:24.259Z"
   },
   {
    "duration": 0,
    "start_time": "2022-06-29T16:16:24.260Z"
   },
   {
    "duration": 0,
    "start_time": "2022-06-29T16:16:24.261Z"
   },
   {
    "duration": 0,
    "start_time": "2022-06-29T16:16:24.262Z"
   },
   {
    "duration": 0,
    "start_time": "2022-06-29T16:16:24.263Z"
   },
   {
    "duration": 0,
    "start_time": "2022-06-29T16:16:24.264Z"
   },
   {
    "duration": 1,
    "start_time": "2022-06-29T16:16:24.265Z"
   },
   {
    "duration": 0,
    "start_time": "2022-06-29T16:16:24.267Z"
   },
   {
    "duration": 0,
    "start_time": "2022-06-29T16:16:24.267Z"
   },
   {
    "duration": 0,
    "start_time": "2022-06-29T16:16:24.268Z"
   },
   {
    "duration": 0,
    "start_time": "2022-06-29T16:16:24.269Z"
   },
   {
    "duration": 0,
    "start_time": "2022-06-29T16:16:24.272Z"
   },
   {
    "duration": 0,
    "start_time": "2022-06-29T16:16:24.273Z"
   },
   {
    "duration": 0,
    "start_time": "2022-06-29T16:16:24.275Z"
   },
   {
    "duration": 0,
    "start_time": "2022-06-29T16:16:24.276Z"
   },
   {
    "duration": 0,
    "start_time": "2022-06-29T16:16:24.277Z"
   },
   {
    "duration": 0,
    "start_time": "2022-06-29T16:16:24.279Z"
   },
   {
    "duration": 0,
    "start_time": "2022-06-29T16:16:24.280Z"
   },
   {
    "duration": 0,
    "start_time": "2022-06-29T16:16:24.281Z"
   },
   {
    "duration": 0,
    "start_time": "2022-06-29T16:16:24.282Z"
   },
   {
    "duration": 0,
    "start_time": "2022-06-29T16:16:24.283Z"
   },
   {
    "duration": 0,
    "start_time": "2022-06-29T16:16:24.284Z"
   },
   {
    "duration": 0,
    "start_time": "2022-06-29T16:16:24.286Z"
   },
   {
    "duration": 0,
    "start_time": "2022-06-29T16:16:24.286Z"
   },
   {
    "duration": 0,
    "start_time": "2022-06-29T16:16:24.287Z"
   },
   {
    "duration": 0,
    "start_time": "2022-06-29T16:16:24.289Z"
   },
   {
    "duration": 0,
    "start_time": "2022-06-29T16:16:24.290Z"
   },
   {
    "duration": 0,
    "start_time": "2022-06-29T16:16:24.291Z"
   },
   {
    "duration": 0,
    "start_time": "2022-06-29T16:16:24.292Z"
   },
   {
    "duration": 0,
    "start_time": "2022-06-29T16:16:24.293Z"
   },
   {
    "duration": 0,
    "start_time": "2022-06-29T16:16:24.294Z"
   },
   {
    "duration": 0,
    "start_time": "2022-06-29T16:16:24.295Z"
   },
   {
    "duration": 0,
    "start_time": "2022-06-29T16:16:24.352Z"
   },
   {
    "duration": 0,
    "start_time": "2022-06-29T16:16:24.354Z"
   },
   {
    "duration": 0,
    "start_time": "2022-06-29T16:16:24.355Z"
   },
   {
    "duration": 0,
    "start_time": "2022-06-29T16:16:24.356Z"
   },
   {
    "duration": 0,
    "start_time": "2022-06-29T16:16:24.357Z"
   },
   {
    "duration": 0,
    "start_time": "2022-06-29T16:16:24.357Z"
   },
   {
    "duration": 653,
    "start_time": "2022-06-29T16:16:50.627Z"
   },
   {
    "duration": 632,
    "start_time": "2022-06-29T16:16:56.153Z"
   },
   {
    "duration": 617,
    "start_time": "2022-06-29T16:17:13.365Z"
   },
   {
    "duration": 865,
    "start_time": "2022-06-29T16:17:46.865Z"
   },
   {
    "duration": 646,
    "start_time": "2022-06-29T16:17:53.215Z"
   },
   {
    "duration": 504,
    "start_time": "2022-06-29T16:18:40.252Z"
   },
   {
    "duration": 604,
    "start_time": "2022-06-29T16:18:52.810Z"
   },
   {
    "duration": 575,
    "start_time": "2022-06-29T16:18:56.301Z"
   },
   {
    "duration": 9,
    "start_time": "2022-06-29T16:19:56.631Z"
   },
   {
    "duration": 94,
    "start_time": "2022-06-29T16:20:04.845Z"
   },
   {
    "duration": 594,
    "start_time": "2022-06-29T16:20:04.941Z"
   },
   {
    "duration": 18,
    "start_time": "2022-06-29T16:20:05.537Z"
   },
   {
    "duration": 16,
    "start_time": "2022-06-29T16:20:05.557Z"
   },
   {
    "duration": 15,
    "start_time": "2022-06-29T16:20:05.575Z"
   },
   {
    "duration": 14,
    "start_time": "2022-06-29T16:20:05.592Z"
   },
   {
    "duration": 0,
    "start_time": "2022-06-29T16:20:05.609Z"
   },
   {
    "duration": 0,
    "start_time": "2022-06-29T16:20:05.610Z"
   },
   {
    "duration": 0,
    "start_time": "2022-06-29T16:20:05.611Z"
   },
   {
    "duration": 0,
    "start_time": "2022-06-29T16:20:05.612Z"
   },
   {
    "duration": 0,
    "start_time": "2022-06-29T16:20:05.613Z"
   },
   {
    "duration": 0,
    "start_time": "2022-06-29T16:20:05.614Z"
   },
   {
    "duration": 0,
    "start_time": "2022-06-29T16:20:05.615Z"
   },
   {
    "duration": 0,
    "start_time": "2022-06-29T16:20:05.616Z"
   },
   {
    "duration": 0,
    "start_time": "2022-06-29T16:20:05.617Z"
   },
   {
    "duration": 0,
    "start_time": "2022-06-29T16:20:05.619Z"
   },
   {
    "duration": 0,
    "start_time": "2022-06-29T16:20:05.619Z"
   },
   {
    "duration": 0,
    "start_time": "2022-06-29T16:20:05.620Z"
   },
   {
    "duration": 0,
    "start_time": "2022-06-29T16:20:05.651Z"
   },
   {
    "duration": 0,
    "start_time": "2022-06-29T16:20:05.653Z"
   },
   {
    "duration": 0,
    "start_time": "2022-06-29T16:20:05.654Z"
   },
   {
    "duration": 0,
    "start_time": "2022-06-29T16:20:05.655Z"
   },
   {
    "duration": 0,
    "start_time": "2022-06-29T16:20:05.657Z"
   },
   {
    "duration": 0,
    "start_time": "2022-06-29T16:20:05.658Z"
   },
   {
    "duration": 0,
    "start_time": "2022-06-29T16:20:05.658Z"
   },
   {
    "duration": 0,
    "start_time": "2022-06-29T16:20:05.659Z"
   },
   {
    "duration": 0,
    "start_time": "2022-06-29T16:20:05.660Z"
   },
   {
    "duration": 0,
    "start_time": "2022-06-29T16:20:05.661Z"
   },
   {
    "duration": 0,
    "start_time": "2022-06-29T16:20:05.662Z"
   },
   {
    "duration": 0,
    "start_time": "2022-06-29T16:20:05.663Z"
   },
   {
    "duration": 0,
    "start_time": "2022-06-29T16:20:05.664Z"
   },
   {
    "duration": 0,
    "start_time": "2022-06-29T16:20:05.665Z"
   },
   {
    "duration": 0,
    "start_time": "2022-06-29T16:20:05.667Z"
   },
   {
    "duration": 0,
    "start_time": "2022-06-29T16:20:05.667Z"
   },
   {
    "duration": 0,
    "start_time": "2022-06-29T16:20:05.668Z"
   },
   {
    "duration": 0,
    "start_time": "2022-06-29T16:20:05.669Z"
   },
   {
    "duration": 0,
    "start_time": "2022-06-29T16:20:05.671Z"
   },
   {
    "duration": 0,
    "start_time": "2022-06-29T16:20:05.672Z"
   },
   {
    "duration": 0,
    "start_time": "2022-06-29T16:20:05.674Z"
   },
   {
    "duration": 0,
    "start_time": "2022-06-29T16:20:05.675Z"
   },
   {
    "duration": 0,
    "start_time": "2022-06-29T16:20:05.676Z"
   },
   {
    "duration": 1,
    "start_time": "2022-06-29T16:20:05.677Z"
   },
   {
    "duration": 0,
    "start_time": "2022-06-29T16:20:05.679Z"
   },
   {
    "duration": 0,
    "start_time": "2022-06-29T16:20:05.680Z"
   },
   {
    "duration": 0,
    "start_time": "2022-06-29T16:20:05.682Z"
   },
   {
    "duration": 0,
    "start_time": "2022-06-29T16:20:05.684Z"
   },
   {
    "duration": 0,
    "start_time": "2022-06-29T16:20:05.685Z"
   },
   {
    "duration": 0,
    "start_time": "2022-06-29T16:20:05.686Z"
   },
   {
    "duration": 0,
    "start_time": "2022-06-29T16:20:05.687Z"
   },
   {
    "duration": 0,
    "start_time": "2022-06-29T16:20:05.689Z"
   },
   {
    "duration": 0,
    "start_time": "2022-06-29T16:20:05.690Z"
   },
   {
    "duration": 0,
    "start_time": "2022-06-29T16:20:05.691Z"
   },
   {
    "duration": 7,
    "start_time": "2022-06-29T16:20:44.864Z"
   },
   {
    "duration": 4,
    "start_time": "2022-06-29T16:20:48.133Z"
   },
   {
    "duration": 196,
    "start_time": "2022-06-29T16:21:27.023Z"
   },
   {
    "duration": 573,
    "start_time": "2022-06-29T16:21:27.221Z"
   },
   {
    "duration": 17,
    "start_time": "2022-06-29T16:21:27.795Z"
   },
   {
    "duration": 15,
    "start_time": "2022-06-29T16:21:27.814Z"
   },
   {
    "duration": 13,
    "start_time": "2022-06-29T16:21:27.831Z"
   },
   {
    "duration": 20,
    "start_time": "2022-06-29T16:21:27.846Z"
   },
   {
    "duration": 0,
    "start_time": "2022-06-29T16:21:27.868Z"
   },
   {
    "duration": 0,
    "start_time": "2022-06-29T16:21:27.869Z"
   },
   {
    "duration": 0,
    "start_time": "2022-06-29T16:21:27.870Z"
   },
   {
    "duration": 0,
    "start_time": "2022-06-29T16:21:27.871Z"
   },
   {
    "duration": 0,
    "start_time": "2022-06-29T16:21:27.873Z"
   },
   {
    "duration": 0,
    "start_time": "2022-06-29T16:21:27.874Z"
   },
   {
    "duration": 0,
    "start_time": "2022-06-29T16:21:27.875Z"
   },
   {
    "duration": 0,
    "start_time": "2022-06-29T16:21:27.876Z"
   },
   {
    "duration": 0,
    "start_time": "2022-06-29T16:21:27.877Z"
   },
   {
    "duration": 0,
    "start_time": "2022-06-29T16:21:27.878Z"
   },
   {
    "duration": 0,
    "start_time": "2022-06-29T16:21:27.879Z"
   },
   {
    "duration": 0,
    "start_time": "2022-06-29T16:21:27.880Z"
   },
   {
    "duration": 0,
    "start_time": "2022-06-29T16:21:27.881Z"
   },
   {
    "duration": 0,
    "start_time": "2022-06-29T16:21:27.882Z"
   },
   {
    "duration": 0,
    "start_time": "2022-06-29T16:21:27.883Z"
   },
   {
    "duration": 0,
    "start_time": "2022-06-29T16:21:27.884Z"
   },
   {
    "duration": 0,
    "start_time": "2022-06-29T16:21:27.885Z"
   },
   {
    "duration": 0,
    "start_time": "2022-06-29T16:21:27.886Z"
   },
   {
    "duration": 0,
    "start_time": "2022-06-29T16:21:27.887Z"
   },
   {
    "duration": 0,
    "start_time": "2022-06-29T16:21:27.888Z"
   },
   {
    "duration": 0,
    "start_time": "2022-06-29T16:21:27.889Z"
   },
   {
    "duration": 0,
    "start_time": "2022-06-29T16:21:27.890Z"
   },
   {
    "duration": 1,
    "start_time": "2022-06-29T16:21:27.891Z"
   },
   {
    "duration": 0,
    "start_time": "2022-06-29T16:21:27.893Z"
   },
   {
    "duration": 0,
    "start_time": "2022-06-29T16:21:27.894Z"
   },
   {
    "duration": 0,
    "start_time": "2022-06-29T16:21:27.895Z"
   },
   {
    "duration": 0,
    "start_time": "2022-06-29T16:21:27.896Z"
   },
   {
    "duration": 0,
    "start_time": "2022-06-29T16:21:27.897Z"
   },
   {
    "duration": 0,
    "start_time": "2022-06-29T16:21:27.898Z"
   },
   {
    "duration": 0,
    "start_time": "2022-06-29T16:21:27.952Z"
   },
   {
    "duration": 0,
    "start_time": "2022-06-29T16:21:27.953Z"
   },
   {
    "duration": 0,
    "start_time": "2022-06-29T16:21:27.955Z"
   },
   {
    "duration": 0,
    "start_time": "2022-06-29T16:21:27.956Z"
   },
   {
    "duration": 0,
    "start_time": "2022-06-29T16:21:27.957Z"
   },
   {
    "duration": 0,
    "start_time": "2022-06-29T16:21:27.958Z"
   },
   {
    "duration": 0,
    "start_time": "2022-06-29T16:21:27.960Z"
   },
   {
    "duration": 0,
    "start_time": "2022-06-29T16:21:27.961Z"
   },
   {
    "duration": 0,
    "start_time": "2022-06-29T16:21:27.962Z"
   },
   {
    "duration": 0,
    "start_time": "2022-06-29T16:21:27.963Z"
   },
   {
    "duration": 0,
    "start_time": "2022-06-29T16:21:27.964Z"
   },
   {
    "duration": 0,
    "start_time": "2022-06-29T16:21:27.966Z"
   },
   {
    "duration": 0,
    "start_time": "2022-06-29T16:21:27.967Z"
   },
   {
    "duration": 0,
    "start_time": "2022-06-29T16:21:27.968Z"
   },
   {
    "duration": 0,
    "start_time": "2022-06-29T16:21:27.969Z"
   },
   {
    "duration": 0,
    "start_time": "2022-06-29T16:21:27.970Z"
   },
   {
    "duration": 0,
    "start_time": "2022-06-29T16:21:27.971Z"
   },
   {
    "duration": 0,
    "start_time": "2022-06-29T16:21:27.972Z"
   },
   {
    "duration": 151,
    "start_time": "2022-06-29T16:21:43.571Z"
   },
   {
    "duration": 584,
    "start_time": "2022-06-29T16:21:43.724Z"
   },
   {
    "duration": 17,
    "start_time": "2022-06-29T16:21:44.311Z"
   },
   {
    "duration": 28,
    "start_time": "2022-06-29T16:21:44.330Z"
   },
   {
    "duration": 15,
    "start_time": "2022-06-29T16:21:44.359Z"
   },
   {
    "duration": 13,
    "start_time": "2022-06-29T16:21:44.376Z"
   },
   {
    "duration": 7,
    "start_time": "2022-06-29T16:21:44.390Z"
   },
   {
    "duration": 15,
    "start_time": "2022-06-29T16:21:44.398Z"
   },
   {
    "duration": 37,
    "start_time": "2022-06-29T16:21:44.415Z"
   },
   {
    "duration": 404,
    "start_time": "2022-06-29T16:21:44.455Z"
   },
   {
    "duration": 15,
    "start_time": "2022-06-29T16:21:44.861Z"
   },
   {
    "duration": 16,
    "start_time": "2022-06-29T16:21:44.877Z"
   },
   {
    "duration": 0,
    "start_time": "2022-06-29T16:21:44.896Z"
   },
   {
    "duration": 0,
    "start_time": "2022-06-29T16:21:44.897Z"
   },
   {
    "duration": 0,
    "start_time": "2022-06-29T16:21:44.898Z"
   },
   {
    "duration": 0,
    "start_time": "2022-06-29T16:21:44.899Z"
   },
   {
    "duration": 0,
    "start_time": "2022-06-29T16:21:44.900Z"
   },
   {
    "duration": 0,
    "start_time": "2022-06-29T16:21:44.901Z"
   },
   {
    "duration": 0,
    "start_time": "2022-06-29T16:21:44.902Z"
   },
   {
    "duration": 0,
    "start_time": "2022-06-29T16:21:44.903Z"
   },
   {
    "duration": 0,
    "start_time": "2022-06-29T16:21:44.904Z"
   },
   {
    "duration": 0,
    "start_time": "2022-06-29T16:21:44.905Z"
   },
   {
    "duration": 0,
    "start_time": "2022-06-29T16:21:44.907Z"
   },
   {
    "duration": 0,
    "start_time": "2022-06-29T16:21:44.908Z"
   },
   {
    "duration": 0,
    "start_time": "2022-06-29T16:21:44.909Z"
   },
   {
    "duration": 0,
    "start_time": "2022-06-29T16:21:44.910Z"
   },
   {
    "duration": 0,
    "start_time": "2022-06-29T16:21:44.911Z"
   },
   {
    "duration": 0,
    "start_time": "2022-06-29T16:21:44.912Z"
   },
   {
    "duration": 0,
    "start_time": "2022-06-29T16:21:44.913Z"
   },
   {
    "duration": 0,
    "start_time": "2022-06-29T16:21:44.914Z"
   },
   {
    "duration": 0,
    "start_time": "2022-06-29T16:21:44.952Z"
   },
   {
    "duration": 0,
    "start_time": "2022-06-29T16:21:44.953Z"
   },
   {
    "duration": 0,
    "start_time": "2022-06-29T16:21:44.954Z"
   },
   {
    "duration": 0,
    "start_time": "2022-06-29T16:21:44.955Z"
   },
   {
    "duration": 0,
    "start_time": "2022-06-29T16:21:44.956Z"
   },
   {
    "duration": 0,
    "start_time": "2022-06-29T16:21:44.958Z"
   },
   {
    "duration": 0,
    "start_time": "2022-06-29T16:21:44.959Z"
   },
   {
    "duration": 0,
    "start_time": "2022-06-29T16:21:44.960Z"
   },
   {
    "duration": 0,
    "start_time": "2022-06-29T16:21:44.961Z"
   },
   {
    "duration": 0,
    "start_time": "2022-06-29T16:21:44.962Z"
   },
   {
    "duration": 0,
    "start_time": "2022-06-29T16:21:44.963Z"
   },
   {
    "duration": 0,
    "start_time": "2022-06-29T16:21:44.964Z"
   },
   {
    "duration": 0,
    "start_time": "2022-06-29T16:21:44.965Z"
   },
   {
    "duration": 0,
    "start_time": "2022-06-29T16:21:44.967Z"
   },
   {
    "duration": 0,
    "start_time": "2022-06-29T16:21:44.968Z"
   },
   {
    "duration": 0,
    "start_time": "2022-06-29T16:21:44.969Z"
   },
   {
    "duration": 0,
    "start_time": "2022-06-29T16:21:44.970Z"
   },
   {
    "duration": 0,
    "start_time": "2022-06-29T16:21:45.068Z"
   },
   {
    "duration": 0,
    "start_time": "2022-06-29T16:21:45.070Z"
   },
   {
    "duration": 0,
    "start_time": "2022-06-29T16:21:45.070Z"
   },
   {
    "duration": 0,
    "start_time": "2022-06-29T16:21:45.071Z"
   },
   {
    "duration": 0,
    "start_time": "2022-06-29T16:21:45.072Z"
   },
   {
    "duration": 0,
    "start_time": "2022-06-29T16:21:45.074Z"
   },
   {
    "duration": 17,
    "start_time": "2022-06-29T16:26:41.239Z"
   },
   {
    "duration": 13,
    "start_time": "2022-06-29T16:26:49.805Z"
   },
   {
    "duration": 5,
    "start_time": "2022-06-29T16:26:49.820Z"
   },
   {
    "duration": 7,
    "start_time": "2022-06-29T16:26:49.826Z"
   },
   {
    "duration": 5,
    "start_time": "2022-06-29T16:26:49.835Z"
   },
   {
    "duration": 5,
    "start_time": "2022-06-29T16:26:49.841Z"
   },
   {
    "duration": 6,
    "start_time": "2022-06-29T16:26:49.847Z"
   },
   {
    "duration": 6,
    "start_time": "2022-06-29T16:26:49.855Z"
   },
   {
    "duration": 19,
    "start_time": "2022-06-29T16:26:49.863Z"
   },
   {
    "duration": 5,
    "start_time": "2022-06-29T16:26:49.884Z"
   },
   {
    "duration": 21,
    "start_time": "2022-06-29T16:26:49.892Z"
   },
   {
    "duration": 39,
    "start_time": "2022-06-29T16:26:49.915Z"
   },
   {
    "duration": 10,
    "start_time": "2022-06-29T16:26:49.955Z"
   },
   {
    "duration": 14,
    "start_time": "2022-06-29T16:26:49.967Z"
   },
   {
    "duration": 32,
    "start_time": "2022-06-29T16:26:49.983Z"
   },
   {
    "duration": 53,
    "start_time": "2022-06-29T16:26:50.018Z"
   },
   {
    "duration": 367,
    "start_time": "2022-06-29T16:26:50.074Z"
   },
   {
    "duration": 20,
    "start_time": "2022-06-29T16:26:50.443Z"
   },
   {
    "duration": 22,
    "start_time": "2022-06-29T16:26:50.465Z"
   },
   {
    "duration": 495,
    "start_time": "2022-06-29T16:26:50.489Z"
   },
   {
    "duration": 68,
    "start_time": "2022-06-29T16:26:50.985Z"
   },
   {
    "duration": 4,
    "start_time": "2022-06-29T16:26:51.055Z"
   },
   {
    "duration": 1106,
    "start_time": "2022-06-29T16:26:51.061Z"
   },
   {
    "duration": 10,
    "start_time": "2022-06-29T16:26:52.168Z"
   },
   {
    "duration": 382,
    "start_time": "2022-06-29T16:26:52.180Z"
   },
   {
    "duration": 963,
    "start_time": "2022-06-29T16:26:52.565Z"
   },
   {
    "duration": 279,
    "start_time": "2022-06-29T16:26:53.530Z"
   },
   {
    "duration": 172,
    "start_time": "2022-06-29T16:26:53.811Z"
   },
   {
    "duration": 337,
    "start_time": "2022-06-29T16:26:53.987Z"
   },
   {
    "duration": 13,
    "start_time": "2022-06-29T16:26:54.326Z"
   },
   {
    "duration": 340,
    "start_time": "2022-06-29T16:26:54.351Z"
   },
   {
    "duration": 10,
    "start_time": "2022-06-29T16:26:54.693Z"
   },
   {
    "duration": 60,
    "start_time": "2022-06-29T16:26:54.705Z"
   },
   {
    "duration": 10,
    "start_time": "2022-06-29T16:26:54.766Z"
   },
   {
    "duration": 212,
    "start_time": "2022-06-29T16:26:54.778Z"
   },
   {
    "duration": 369,
    "start_time": "2022-06-29T16:26:54.992Z"
   },
   {
    "duration": 688,
    "start_time": "2022-06-29T16:26:55.365Z"
   },
   {
    "duration": 495,
    "start_time": "2022-06-29T16:26:56.054Z"
   },
   {
    "duration": 336,
    "start_time": "2022-06-29T16:26:56.551Z"
   },
   {
    "duration": 10,
    "start_time": "2022-06-29T16:26:56.889Z"
   },
   {
    "duration": 11,
    "start_time": "2022-06-29T16:26:56.901Z"
   },
   {
    "duration": 12,
    "start_time": "2022-06-29T16:26:56.914Z"
   },
   {
    "duration": 12,
    "start_time": "2022-06-29T16:26:56.951Z"
   },
   {
    "duration": 1731,
    "start_time": "2022-06-29T16:38:01.109Z"
   },
   {
    "duration": 128,
    "start_time": "2022-06-29T16:38:08.161Z"
   },
   {
    "duration": 129,
    "start_time": "2022-06-29T16:38:18.781Z"
   },
   {
    "duration": 128,
    "start_time": "2022-06-29T16:38:24.346Z"
   },
   {
    "duration": 202,
    "start_time": "2022-06-29T16:38:34.412Z"
   },
   {
    "duration": 149,
    "start_time": "2022-06-29T16:39:14.209Z"
   },
   {
    "duration": 108,
    "start_time": "2022-06-29T16:40:07.307Z"
   },
   {
    "duration": 107,
    "start_time": "2022-06-29T16:40:12.024Z"
   },
   {
    "duration": 108,
    "start_time": "2022-06-29T16:40:30.552Z"
   },
   {
    "duration": 106,
    "start_time": "2022-06-29T16:40:42.062Z"
   },
   {
    "duration": 104,
    "start_time": "2022-06-29T16:41:08.141Z"
   },
   {
    "duration": 39,
    "start_time": "2022-06-29T16:45:55.593Z"
   },
   {
    "duration": 39,
    "start_time": "2022-06-29T16:46:01.192Z"
   },
   {
    "duration": 93,
    "start_time": "2022-06-29T16:46:51.255Z"
   },
   {
    "duration": 43,
    "start_time": "2022-06-29T16:47:15.781Z"
   },
   {
    "duration": 40,
    "start_time": "2022-06-29T16:47:30.845Z"
   },
   {
    "duration": 40,
    "start_time": "2022-06-29T16:47:38.036Z"
   },
   {
    "duration": 43,
    "start_time": "2022-06-29T16:47:43.660Z"
   },
   {
    "duration": 9554,
    "start_time": "2022-07-01T12:21:43.272Z"
   },
   {
    "duration": 44,
    "start_time": "2022-07-01T12:23:39.874Z"
   },
   {
    "duration": 2231,
    "start_time": "2022-07-01T12:23:43.213Z"
   },
   {
    "duration": 818,
    "start_time": "2022-07-01T12:23:45.447Z"
   },
   {
    "duration": 18,
    "start_time": "2022-07-01T12:23:46.267Z"
   },
   {
    "duration": 17,
    "start_time": "2022-07-01T12:23:46.287Z"
   },
   {
    "duration": 39,
    "start_time": "2022-07-01T12:23:46.306Z"
   },
   {
    "duration": 11,
    "start_time": "2022-07-01T12:23:46.348Z"
   },
   {
    "duration": 13,
    "start_time": "2022-07-01T12:23:46.360Z"
   },
   {
    "duration": 12,
    "start_time": "2022-07-01T12:23:46.374Z"
   },
   {
    "duration": 8,
    "start_time": "2022-07-01T12:23:46.387Z"
   },
   {
    "duration": 8397,
    "start_time": "2022-07-01T12:23:46.396Z"
   },
   {
    "duration": 10,
    "start_time": "2022-07-01T12:23:54.796Z"
   },
   {
    "duration": 29,
    "start_time": "2022-07-01T12:23:54.808Z"
   },
   {
    "duration": 11,
    "start_time": "2022-07-01T12:23:54.839Z"
   },
   {
    "duration": 13,
    "start_time": "2022-07-01T12:23:54.854Z"
   },
   {
    "duration": 8,
    "start_time": "2022-07-01T12:23:54.868Z"
   },
   {
    "duration": 14,
    "start_time": "2022-07-01T12:23:54.878Z"
   },
   {
    "duration": 11,
    "start_time": "2022-07-01T12:23:54.894Z"
   },
   {
    "duration": 28,
    "start_time": "2022-07-01T12:23:54.906Z"
   },
   {
    "duration": 11,
    "start_time": "2022-07-01T12:23:54.937Z"
   },
   {
    "duration": 6,
    "start_time": "2022-07-01T12:23:54.950Z"
   },
   {
    "duration": 19,
    "start_time": "2022-07-01T12:23:54.958Z"
   },
   {
    "duration": 94,
    "start_time": "2022-07-01T12:23:54.979Z"
   },
   {
    "duration": 0,
    "start_time": "2022-07-01T12:23:55.075Z"
   },
   {
    "duration": 0,
    "start_time": "2022-07-01T12:23:55.076Z"
   },
   {
    "duration": 0,
    "start_time": "2022-07-01T12:23:55.077Z"
   },
   {
    "duration": 0,
    "start_time": "2022-07-01T12:23:55.079Z"
   },
   {
    "duration": 0,
    "start_time": "2022-07-01T12:23:55.080Z"
   },
   {
    "duration": 0,
    "start_time": "2022-07-01T12:23:55.081Z"
   },
   {
    "duration": 0,
    "start_time": "2022-07-01T12:23:55.082Z"
   },
   {
    "duration": 0,
    "start_time": "2022-07-01T12:23:55.083Z"
   },
   {
    "duration": 0,
    "start_time": "2022-07-01T12:23:55.083Z"
   },
   {
    "duration": 0,
    "start_time": "2022-07-01T12:23:55.084Z"
   },
   {
    "duration": 0,
    "start_time": "2022-07-01T12:23:55.086Z"
   },
   {
    "duration": 0,
    "start_time": "2022-07-01T12:23:55.087Z"
   },
   {
    "duration": 0,
    "start_time": "2022-07-01T12:23:55.088Z"
   },
   {
    "duration": 0,
    "start_time": "2022-07-01T12:23:55.089Z"
   },
   {
    "duration": 0,
    "start_time": "2022-07-01T12:23:55.090Z"
   },
   {
    "duration": 0,
    "start_time": "2022-07-01T12:23:55.091Z"
   },
   {
    "duration": 0,
    "start_time": "2022-07-01T12:23:55.092Z"
   },
   {
    "duration": 0,
    "start_time": "2022-07-01T12:23:55.093Z"
   },
   {
    "duration": 0,
    "start_time": "2022-07-01T12:23:55.094Z"
   },
   {
    "duration": 0,
    "start_time": "2022-07-01T12:23:55.095Z"
   },
   {
    "duration": 0,
    "start_time": "2022-07-01T12:23:55.096Z"
   },
   {
    "duration": 0,
    "start_time": "2022-07-01T12:23:55.128Z"
   },
   {
    "duration": 0,
    "start_time": "2022-07-01T12:23:55.129Z"
   },
   {
    "duration": 0,
    "start_time": "2022-07-01T12:23:55.130Z"
   },
   {
    "duration": 0,
    "start_time": "2022-07-01T12:23:55.130Z"
   },
   {
    "duration": 0,
    "start_time": "2022-07-01T12:23:55.133Z"
   },
   {
    "duration": 0,
    "start_time": "2022-07-01T12:23:55.133Z"
   },
   {
    "duration": 0,
    "start_time": "2022-07-01T12:23:55.134Z"
   },
   {
    "duration": 0,
    "start_time": "2022-07-01T12:23:55.135Z"
   },
   {
    "duration": 0,
    "start_time": "2022-07-01T12:23:55.135Z"
   },
   {
    "duration": 0,
    "start_time": "2022-07-01T12:23:55.136Z"
   },
   {
    "duration": 0,
    "start_time": "2022-07-01T12:23:55.137Z"
   },
   {
    "duration": 0,
    "start_time": "2022-07-01T12:23:55.138Z"
   },
   {
    "duration": 1,
    "start_time": "2022-07-01T12:23:55.140Z"
   },
   {
    "duration": 0,
    "start_time": "2022-07-01T12:23:55.141Z"
   },
   {
    "duration": 0,
    "start_time": "2022-07-01T12:23:55.142Z"
   },
   {
    "duration": 0,
    "start_time": "2022-07-01T12:23:55.143Z"
   },
   {
    "duration": 0,
    "start_time": "2022-07-01T12:23:55.144Z"
   },
   {
    "duration": 0,
    "start_time": "2022-07-01T12:23:55.145Z"
   },
   {
    "duration": 0,
    "start_time": "2022-07-01T12:23:55.147Z"
   },
   {
    "duration": 19,
    "start_time": "2022-07-01T12:24:10.200Z"
   },
   {
    "duration": 28,
    "start_time": "2022-07-01T12:24:14.326Z"
   },
   {
    "duration": 5,
    "start_time": "2022-07-01T12:24:14.355Z"
   },
   {
    "duration": 22,
    "start_time": "2022-07-01T12:24:14.362Z"
   },
   {
    "duration": 6,
    "start_time": "2022-07-01T12:24:14.386Z"
   },
   {
    "duration": 47,
    "start_time": "2022-07-01T12:24:14.394Z"
   },
   {
    "duration": 4,
    "start_time": "2022-07-01T12:24:14.443Z"
   },
   {
    "duration": 16,
    "start_time": "2022-07-01T12:24:14.449Z"
   },
   {
    "duration": 16,
    "start_time": "2022-07-01T12:24:14.467Z"
   },
   {
    "duration": 17,
    "start_time": "2022-07-01T12:24:14.484Z"
   },
   {
    "duration": 176,
    "start_time": "2022-07-01T12:24:14.503Z"
   },
   {
    "duration": 334,
    "start_time": "2022-07-01T12:24:14.681Z"
   },
   {
    "duration": 28,
    "start_time": "2022-07-01T12:24:15.017Z"
   },
   {
    "duration": 22,
    "start_time": "2022-07-01T12:24:15.047Z"
   },
   {
    "duration": 436,
    "start_time": "2022-07-01T12:24:15.071Z"
   },
   {
    "duration": 13,
    "start_time": "2022-07-01T12:24:15.509Z"
   },
   {
    "duration": 5,
    "start_time": "2022-07-01T12:24:15.524Z"
   },
   {
    "duration": 811,
    "start_time": "2022-07-01T12:24:15.530Z"
   },
   {
    "duration": 13,
    "start_time": "2022-07-01T12:24:16.343Z"
   },
   {
    "duration": 1307,
    "start_time": "2022-07-01T12:24:16.358Z"
   },
   {
    "duration": 257,
    "start_time": "2022-07-01T12:24:17.667Z"
   },
   {
    "duration": 260,
    "start_time": "2022-07-01T12:24:17.927Z"
   },
   {
    "duration": 293,
    "start_time": "2022-07-01T12:24:18.189Z"
   },
   {
    "duration": 173,
    "start_time": "2022-07-01T12:24:18.483Z"
   },
   {
    "duration": 283,
    "start_time": "2022-07-01T12:24:18.657Z"
   },
   {
    "duration": 9,
    "start_time": "2022-07-01T12:24:18.941Z"
   },
   {
    "duration": 441,
    "start_time": "2022-07-01T12:24:18.951Z"
   },
   {
    "duration": 8,
    "start_time": "2022-07-01T12:24:19.393Z"
   },
   {
    "duration": 62,
    "start_time": "2022-07-01T12:24:19.404Z"
   },
   {
    "duration": 10,
    "start_time": "2022-07-01T12:24:19.468Z"
   },
   {
    "duration": 45,
    "start_time": "2022-07-01T12:24:19.480Z"
   },
   {
    "duration": 232,
    "start_time": "2022-07-01T12:24:19.528Z"
   },
   {
    "duration": 82,
    "start_time": "2022-07-01T12:24:19.762Z"
   },
   {
    "duration": 397,
    "start_time": "2022-07-01T12:24:19.846Z"
   },
   {
    "duration": 31,
    "start_time": "2022-07-01T12:24:20.246Z"
   },
   {
    "duration": 287,
    "start_time": "2022-07-01T12:24:20.279Z"
   },
   {
    "duration": 476,
    "start_time": "2022-07-01T12:24:20.568Z"
   },
   {
    "duration": 280,
    "start_time": "2022-07-01T12:24:21.046Z"
   },
   {
    "duration": 14,
    "start_time": "2022-07-01T12:24:21.331Z"
   },
   {
    "duration": 13,
    "start_time": "2022-07-01T12:24:21.346Z"
   },
   {
    "duration": 7,
    "start_time": "2022-07-01T12:24:21.361Z"
   },
   {
    "duration": 8,
    "start_time": "2022-07-01T12:24:21.369Z"
   },
   {
    "duration": 1156,
    "start_time": "2022-09-03T15:28:35.034Z"
   },
   {
    "duration": 24,
    "start_time": "2022-09-03T15:28:36.192Z"
   },
   {
    "duration": 19,
    "start_time": "2022-09-03T15:28:36.220Z"
   },
   {
    "duration": 13,
    "start_time": "2022-09-03T15:28:36.241Z"
   },
   {
    "duration": 10,
    "start_time": "2022-09-03T15:28:36.255Z"
   },
   {
    "duration": 227,
    "start_time": "2022-09-03T15:28:36.266Z"
   },
   {
    "duration": 31,
    "start_time": "2022-09-03T15:28:36.494Z"
   },
   {
    "duration": 9,
    "start_time": "2022-09-03T15:28:36.527Z"
   },
   {
    "duration": 11,
    "start_time": "2022-09-03T15:28:36.537Z"
   },
   {
    "duration": 9,
    "start_time": "2022-09-03T15:28:36.550Z"
   },
   {
    "duration": 5,
    "start_time": "2022-09-03T15:28:36.561Z"
   },
   {
    "duration": 13,
    "start_time": "2022-09-03T15:28:36.568Z"
   },
   {
    "duration": 8,
    "start_time": "2022-09-03T15:28:36.583Z"
   },
   {
    "duration": 28,
    "start_time": "2022-09-03T15:28:36.593Z"
   },
   {
    "duration": 7,
    "start_time": "2022-09-03T15:28:36.623Z"
   },
   {
    "duration": 12,
    "start_time": "2022-09-03T15:28:36.631Z"
   },
   {
    "duration": 7,
    "start_time": "2022-09-03T15:28:36.644Z"
   },
   {
    "duration": 5,
    "start_time": "2022-09-03T15:28:36.652Z"
   },
   {
    "duration": 6,
    "start_time": "2022-09-03T15:28:36.658Z"
   },
   {
    "duration": 282,
    "start_time": "2022-09-03T15:28:36.665Z"
   },
   {
    "duration": 236,
    "start_time": "2022-09-03T15:28:36.948Z"
   },
   {
    "duration": 167,
    "start_time": "2022-09-03T15:28:37.186Z"
   },
   {
    "duration": 206,
    "start_time": "2022-09-03T15:28:37.354Z"
   },
   {
    "duration": 164,
    "start_time": "2022-09-03T15:28:37.562Z"
   },
   {
    "duration": 284,
    "start_time": "2022-09-03T15:28:37.728Z"
   },
   {
    "duration": 12,
    "start_time": "2022-09-03T15:28:38.013Z"
   },
   {
    "duration": 118,
    "start_time": "2022-09-03T15:28:38.026Z"
   },
   {
    "duration": 4,
    "start_time": "2022-09-03T15:28:38.147Z"
   },
   {
    "duration": 109,
    "start_time": "2022-09-03T15:28:38.152Z"
   },
   {
    "duration": 126,
    "start_time": "2022-09-03T15:28:38.262Z"
   },
   {
    "duration": 16,
    "start_time": "2022-09-03T15:28:38.408Z"
   },
   {
    "duration": 132,
    "start_time": "2022-09-03T15:28:38.426Z"
   },
   {
    "duration": 7,
    "start_time": "2022-09-03T15:28:38.559Z"
   },
   {
    "duration": 20,
    "start_time": "2022-09-03T15:28:38.567Z"
   },
   {
    "duration": 66,
    "start_time": "2022-09-03T15:28:38.588Z"
   },
   {
    "duration": 10,
    "start_time": "2022-09-03T15:28:38.655Z"
   },
   {
    "duration": 12,
    "start_time": "2022-09-03T15:28:38.666Z"
   },
   {
    "duration": 30,
    "start_time": "2022-09-03T15:28:38.679Z"
   },
   {
    "duration": 29,
    "start_time": "2022-09-03T15:28:38.717Z"
   },
   {
    "duration": 12,
    "start_time": "2022-09-03T15:28:38.748Z"
   },
   {
    "duration": 1100,
    "start_time": "2022-09-03T16:12:36.248Z"
   },
   {
    "duration": 10,
    "start_time": "2022-09-03T16:12:37.350Z"
   },
   {
    "duration": 9,
    "start_time": "2022-09-03T16:12:37.362Z"
   },
   {
    "duration": 12,
    "start_time": "2022-09-03T16:12:37.372Z"
   },
   {
    "duration": 11,
    "start_time": "2022-09-03T16:12:37.387Z"
   },
   {
    "duration": 72,
    "start_time": "2022-09-03T16:12:37.399Z"
   },
   {
    "duration": 7,
    "start_time": "2022-09-03T16:12:37.473Z"
   },
   {
    "duration": 15,
    "start_time": "2022-09-03T16:12:37.482Z"
   },
   {
    "duration": 16,
    "start_time": "2022-09-03T16:12:37.498Z"
   },
   {
    "duration": 12,
    "start_time": "2022-09-03T16:12:37.515Z"
   },
   {
    "duration": 5,
    "start_time": "2022-09-03T16:12:37.529Z"
   },
   {
    "duration": 13,
    "start_time": "2022-09-03T16:12:37.535Z"
   },
   {
    "duration": 9,
    "start_time": "2022-09-03T16:12:37.549Z"
   },
   {
    "duration": 14,
    "start_time": "2022-09-03T16:12:37.561Z"
   },
   {
    "duration": 3,
    "start_time": "2022-09-03T16:12:37.598Z"
   },
   {
    "duration": 13,
    "start_time": "2022-09-03T16:12:37.602Z"
   },
   {
    "duration": 5,
    "start_time": "2022-09-03T16:12:37.616Z"
   },
   {
    "duration": 4,
    "start_time": "2022-09-03T16:12:37.623Z"
   },
   {
    "duration": 6,
    "start_time": "2022-09-03T16:12:37.629Z"
   },
   {
    "duration": 285,
    "start_time": "2022-09-03T16:12:37.636Z"
   },
   {
    "duration": 238,
    "start_time": "2022-09-03T16:12:37.923Z"
   },
   {
    "duration": 163,
    "start_time": "2022-09-03T16:12:38.163Z"
   },
   {
    "duration": 239,
    "start_time": "2022-09-03T16:12:38.327Z"
   },
   {
    "duration": 155,
    "start_time": "2022-09-03T16:12:38.567Z"
   },
   {
    "duration": 259,
    "start_time": "2022-09-03T16:12:38.724Z"
   },
   {
    "duration": 19,
    "start_time": "2022-09-03T16:12:38.984Z"
   },
   {
    "duration": 114,
    "start_time": "2022-09-03T16:12:39.005Z"
   },
   {
    "duration": 4,
    "start_time": "2022-09-03T16:12:39.121Z"
   },
   {
    "duration": 115,
    "start_time": "2022-09-03T16:12:39.126Z"
   },
   {
    "duration": 114,
    "start_time": "2022-09-03T16:12:39.242Z"
   },
   {
    "duration": 4,
    "start_time": "2022-09-03T16:12:39.358Z"
   },
   {
    "duration": 122,
    "start_time": "2022-09-03T16:12:39.363Z"
   },
   {
    "duration": 12,
    "start_time": "2022-09-03T16:12:39.486Z"
   },
   {
    "duration": 22,
    "start_time": "2022-09-03T16:12:39.500Z"
   },
   {
    "duration": 79,
    "start_time": "2022-09-03T16:12:39.524Z"
   },
   {
    "duration": 9,
    "start_time": "2022-09-03T16:12:39.605Z"
   },
   {
    "duration": 6,
    "start_time": "2022-09-03T16:12:39.616Z"
   },
   {
    "duration": 8,
    "start_time": "2022-09-03T16:12:39.624Z"
   },
   {
    "duration": 18,
    "start_time": "2022-09-03T16:12:39.634Z"
   },
   {
    "duration": 13,
    "start_time": "2022-09-03T16:12:39.654Z"
   },
   {
    "duration": 1483,
    "start_time": "2022-09-09T10:28:53.119Z"
   },
   {
    "duration": 14,
    "start_time": "2022-09-09T10:28:54.604Z"
   },
   {
    "duration": 17,
    "start_time": "2022-09-09T10:28:54.619Z"
   },
   {
    "duration": 4,
    "start_time": "2022-09-09T10:28:54.638Z"
   },
   {
    "duration": 33,
    "start_time": "2022-09-09T10:28:54.643Z"
   },
   {
    "duration": 8,
    "start_time": "2022-09-09T10:28:54.677Z"
   },
   {
    "duration": 6,
    "start_time": "2022-09-09T10:28:54.686Z"
   },
   {
    "duration": 18,
    "start_time": "2022-09-09T10:28:54.694Z"
   },
   {
    "duration": 19,
    "start_time": "2022-09-09T10:28:54.713Z"
   },
   {
    "duration": 16,
    "start_time": "2022-09-09T10:28:54.755Z"
   },
   {
    "duration": 7,
    "start_time": "2022-09-09T10:28:54.773Z"
   },
   {
    "duration": 7,
    "start_time": "2022-09-09T10:28:54.782Z"
   },
   {
    "duration": 9,
    "start_time": "2022-09-09T10:28:54.790Z"
   },
   {
    "duration": 15,
    "start_time": "2022-09-09T10:28:54.800Z"
   },
   {
    "duration": 9,
    "start_time": "2022-09-09T10:28:54.817Z"
   },
   {
    "duration": 30,
    "start_time": "2022-09-09T10:28:54.827Z"
   },
   {
    "duration": 212,
    "start_time": "2022-09-09T10:28:54.859Z"
   },
   {
    "duration": 15,
    "start_time": "2022-09-09T10:28:55.073Z"
   },
   {
    "duration": 4,
    "start_time": "2022-09-09T10:28:55.089Z"
   },
   {
    "duration": 11,
    "start_time": "2022-09-09T10:28:55.094Z"
   },
   {
    "duration": 134,
    "start_time": "2022-09-09T10:28:55.106Z"
   },
   {
    "duration": 13,
    "start_time": "2022-09-09T10:28:55.242Z"
   },
   {
    "duration": 13,
    "start_time": "2022-09-09T10:28:55.257Z"
   },
   {
    "duration": 681,
    "start_time": "2022-09-09T10:28:55.272Z"
   },
   {
    "duration": 22,
    "start_time": "2022-09-09T10:28:55.955Z"
   },
   {
    "duration": 5,
    "start_time": "2022-09-09T10:28:55.979Z"
   },
   {
    "duration": 6,
    "start_time": "2022-09-09T10:28:55.986Z"
   },
   {
    "duration": 183,
    "start_time": "2022-09-09T10:28:55.995Z"
   },
   {
    "duration": 8,
    "start_time": "2022-09-09T10:28:56.180Z"
   },
   {
    "duration": 5,
    "start_time": "2022-09-09T10:28:56.189Z"
   },
   {
    "duration": 17,
    "start_time": "2022-09-09T10:28:56.195Z"
   },
   {
    "duration": 422,
    "start_time": "2022-09-09T10:28:56.213Z"
   },
   {
    "duration": 7,
    "start_time": "2022-09-09T10:28:56.637Z"
   },
   {
    "duration": 481,
    "start_time": "2022-09-09T10:28:56.655Z"
   },
   {
    "duration": 21,
    "start_time": "2022-09-09T10:28:57.137Z"
   },
   {
    "duration": 21,
    "start_time": "2022-09-09T10:28:57.159Z"
   },
   {
    "duration": 10,
    "start_time": "2022-09-09T10:28:57.182Z"
   },
   {
    "duration": 10,
    "start_time": "2022-09-09T10:28:57.193Z"
   },
   {
    "duration": 338,
    "start_time": "2022-09-09T10:28:57.204Z"
   },
   {
    "duration": 2123,
    "start_time": "2022-09-09T10:28:57.544Z"
   },
   {
    "duration": 17,
    "start_time": "2022-09-09T10:28:59.669Z"
   },
   {
    "duration": 11,
    "start_time": "2022-09-09T10:28:59.688Z"
   },
   {
    "duration": 10,
    "start_time": "2022-09-09T10:28:59.700Z"
   },
   {
    "duration": 1149,
    "start_time": "2022-09-09T10:28:59.711Z"
   },
   {
    "duration": 19,
    "start_time": "2022-09-09T10:29:00.862Z"
   },
   {
    "duration": 8,
    "start_time": "2022-09-09T10:29:00.883Z"
   },
   {
    "duration": 11,
    "start_time": "2022-09-09T10:29:00.892Z"
   },
   {
    "duration": 15,
    "start_time": "2022-09-09T10:29:00.904Z"
   },
   {
    "duration": 14,
    "start_time": "2022-09-09T10:29:00.920Z"
   },
   {
    "duration": 13,
    "start_time": "2022-09-09T10:29:00.954Z"
   },
   {
    "duration": 1281,
    "start_time": "2022-09-09T10:29:00.969Z"
   },
   {
    "duration": 17,
    "start_time": "2022-09-09T10:29:02.252Z"
   },
   {
    "duration": 9,
    "start_time": "2022-09-09T10:29:02.270Z"
   },
   {
    "duration": 11,
    "start_time": "2022-09-09T10:29:02.281Z"
   },
   {
    "duration": 13,
    "start_time": "2022-09-09T10:29:02.294Z"
   },
   {
    "duration": 14,
    "start_time": "2022-09-09T10:29:02.309Z"
   },
   {
    "duration": 10,
    "start_time": "2022-09-09T10:29:02.355Z"
   },
   {
    "duration": 2411,
    "start_time": "2022-09-09T10:29:02.366Z"
   },
   {
    "duration": 1709,
    "start_time": "2022-10-13T15:18:43.607Z"
   },
   {
    "duration": 69,
    "start_time": "2022-10-13T15:18:45.319Z"
   },
   {
    "duration": 17,
    "start_time": "2022-10-13T15:18:45.389Z"
   },
   {
    "duration": 24,
    "start_time": "2022-10-13T15:18:45.408Z"
   },
   {
    "duration": 47,
    "start_time": "2022-10-13T15:18:45.433Z"
   },
   {
    "duration": 571,
    "start_time": "2022-10-13T15:18:45.483Z"
   },
   {
    "duration": 18,
    "start_time": "2022-10-13T15:18:46.056Z"
   },
   {
    "duration": 1154,
    "start_time": "2022-10-13T15:18:46.076Z"
   },
   {
    "duration": 2068,
    "start_time": "2022-10-13T15:18:47.233Z"
   },
   {
    "duration": 1695,
    "start_time": "2022-10-13T15:18:49.304Z"
   },
   {
    "duration": 5,
    "start_time": "2022-10-13T15:18:51.001Z"
   },
   {
    "duration": 19,
    "start_time": "2022-10-13T15:18:51.008Z"
   },
   {
    "duration": 12,
    "start_time": "2022-10-13T15:18:51.029Z"
   },
   {
    "duration": 111,
    "start_time": "2022-10-13T15:18:51.043Z"
   },
   {
    "duration": 515,
    "start_time": "2022-10-13T15:18:51.156Z"
   },
   {
    "duration": 5,
    "start_time": "2022-10-13T15:18:51.674Z"
   },
   {
    "duration": 36,
    "start_time": "2022-10-13T15:18:51.682Z"
   },
   {
    "duration": 9,
    "start_time": "2022-10-13T15:18:51.720Z"
   },
   {
    "duration": 901,
    "start_time": "2022-10-13T15:18:51.732Z"
   },
   {
    "duration": 1220,
    "start_time": "2022-10-13T15:18:52.635Z"
   },
   {
    "duration": 2853,
    "start_time": "2022-10-13T15:18:53.856Z"
   },
   {
    "duration": 118,
    "start_time": "2022-10-13T15:18:56.711Z"
   },
   {
    "duration": 9,
    "start_time": "2022-10-14T07:15:56.255Z"
   },
   {
    "duration": 1762,
    "start_time": "2022-10-14T07:16:02.044Z"
   },
   {
    "duration": 309,
    "start_time": "2022-10-14T07:16:03.808Z"
   },
   {
    "duration": 18,
    "start_time": "2022-10-14T07:16:04.119Z"
   },
   {
    "duration": 14,
    "start_time": "2022-10-14T07:16:04.139Z"
   },
   {
    "duration": 48,
    "start_time": "2022-10-14T07:16:04.155Z"
   },
   {
    "duration": 570,
    "start_time": "2022-10-14T07:16:04.205Z"
   },
   {
    "duration": 23,
    "start_time": "2022-10-14T07:16:04.777Z"
   },
   {
    "duration": 1173,
    "start_time": "2022-10-14T07:16:04.802Z"
   },
   {
    "duration": 2128,
    "start_time": "2022-10-14T07:16:05.977Z"
   },
   {
    "duration": 1738,
    "start_time": "2022-10-14T07:16:08.108Z"
   },
   {
    "duration": 6,
    "start_time": "2022-10-14T07:16:09.848Z"
   },
   {
    "duration": 12,
    "start_time": "2022-10-14T07:16:09.856Z"
   },
   {
    "duration": 27,
    "start_time": "2022-10-14T07:16:09.870Z"
   },
   {
    "duration": 91,
    "start_time": "2022-10-14T07:16:09.899Z"
   },
   {
    "duration": 473,
    "start_time": "2022-10-14T07:16:09.993Z"
   },
   {
    "duration": 4,
    "start_time": "2022-10-14T07:16:10.468Z"
   },
   {
    "duration": 22,
    "start_time": "2022-10-14T07:16:10.474Z"
   },
   {
    "duration": 5,
    "start_time": "2022-10-14T07:16:10.498Z"
   },
   {
    "duration": 13,
    "start_time": "2022-10-14T07:16:10.505Z"
   },
   {
    "duration": 977,
    "start_time": "2022-10-14T07:16:10.520Z"
   },
   {
    "duration": 1200,
    "start_time": "2022-10-14T07:16:11.499Z"
   },
   {
    "duration": 3059,
    "start_time": "2022-10-14T07:16:12.701Z"
   },
   {
    "duration": 134,
    "start_time": "2022-10-14T07:16:15.761Z"
   },
   {
    "duration": 1244,
    "start_time": "2022-10-14T07:16:45.156Z"
   },
   {
    "duration": 4,
    "start_time": "2022-10-14T07:17:23.876Z"
   },
   {
    "duration": 131,
    "start_time": "2022-10-14T07:17:49.456Z"
   },
   {
    "duration": 6,
    "start_time": "2022-10-14T07:18:07.801Z"
   },
   {
    "duration": 11,
    "start_time": "2022-10-14T07:18:13.566Z"
   },
   {
    "duration": 1749,
    "start_time": "2022-10-14T07:23:17.352Z"
   },
   {
    "duration": 110,
    "start_time": "2022-10-14T07:23:19.103Z"
   },
   {
    "duration": 18,
    "start_time": "2022-10-14T07:23:19.215Z"
   },
   {
    "duration": 17,
    "start_time": "2022-10-14T07:23:19.234Z"
   },
   {
    "duration": 72,
    "start_time": "2022-10-14T07:23:19.254Z"
   },
   {
    "duration": 610,
    "start_time": "2022-10-14T07:23:19.328Z"
   },
   {
    "duration": 18,
    "start_time": "2022-10-14T07:23:19.941Z"
   },
   {
    "duration": 1263,
    "start_time": "2022-10-14T07:23:19.961Z"
   },
   {
    "duration": 2283,
    "start_time": "2022-10-14T07:23:21.226Z"
   },
   {
    "duration": 1732,
    "start_time": "2022-10-14T07:23:23.511Z"
   },
   {
    "duration": 5,
    "start_time": "2022-10-14T07:23:25.245Z"
   },
   {
    "duration": 27,
    "start_time": "2022-10-14T07:23:25.251Z"
   },
   {
    "duration": 40,
    "start_time": "2022-10-14T07:23:25.280Z"
   },
   {
    "duration": 173,
    "start_time": "2022-10-14T07:23:25.324Z"
   },
   {
    "duration": 575,
    "start_time": "2022-10-14T07:23:25.500Z"
   },
   {
    "duration": 3,
    "start_time": "2022-10-14T07:23:26.077Z"
   },
   {
    "duration": 32,
    "start_time": "2022-10-14T07:23:26.082Z"
   },
   {
    "duration": 12,
    "start_time": "2022-10-14T07:23:26.116Z"
   },
   {
    "duration": 34,
    "start_time": "2022-10-14T07:23:26.130Z"
   },
   {
    "duration": 17,
    "start_time": "2022-10-14T07:23:26.166Z"
   },
   {
    "duration": 938,
    "start_time": "2022-10-14T07:23:26.184Z"
   },
   {
    "duration": 1475,
    "start_time": "2022-10-14T07:23:27.124Z"
   },
   {
    "duration": 3297,
    "start_time": "2022-10-14T07:23:28.601Z"
   },
   {
    "duration": 184,
    "start_time": "2022-10-14T07:23:31.900Z"
   }
  ],
  "kernelspec": {
   "display_name": "Python 3 (ipykernel)",
   "language": "python",
   "name": "python3"
  },
  "language_info": {
   "codemirror_mode": {
    "name": "ipython",
    "version": 3
   },
   "file_extension": ".py",
   "mimetype": "text/x-python",
   "name": "python",
   "nbconvert_exporter": "python",
   "pygments_lexer": "ipython3",
   "version": "3.9.12"
  },
  "toc": {
   "base_numbering": 1,
   "nav_menu": {},
   "number_sections": true,
   "sideBar": true,
   "skip_h1_title": true,
   "title_cell": "Содержание",
   "title_sidebar": "Contents",
   "toc_cell": true,
   "toc_position": {},
   "toc_section_display": true,
   "toc_window_display": false
  }
 },
 "nbformat": 4,
 "nbformat_minor": 4
}
